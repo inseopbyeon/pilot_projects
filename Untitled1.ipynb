{
 "cells": [
  {
   "cell_type": "code",
   "execution_count": null,
   "metadata": {
    "scrolled": false,
    "slideshow": {
     "slide_type": "-"
    }
   },
   "outputs": [],
   "source": [
    "import math\n",
    "math.pi"
   ]
  },
  {
   "cell_type": "code",
   "execution_count": 2,
   "metadata": {
    "scrolled": false,
    "slideshow": {
     "slide_type": "-"
    }
   },
   "outputs": [
    {
     "name": "stdout",
     "output_type": "stream",
     "text": [
      "1 33\n"
     ]
    }
   ],
   "source": [
    "print(100 % 3, 100 // 3)"
   ]
  },
  {
   "cell_type": "code",
   "execution_count": null,
   "metadata": {
    "collapsed": true,
    "slideshow": {
     "slide_type": "-"
    }
   },
   "outputs": [],
   "source": [
    "import r"
   ]
  },
  {
   "cell_type": "code",
   "execution_count": null,
   "metadata": {
    "collapsed": true,
    "slideshow": {
     "slide_type": "-"
    }
   },
   "outputs": [],
   "source": [
    "pypi"
   ]
  },
  {
   "cell_type": "code",
   "execution_count": null,
   "metadata": {
    "collapsed": true,
    "slideshow": {
     "slide_type": "-"
    }
   },
   "outputs": [],
   "source": [
    "ls > test.txt"
   ]
  },
  {
   "cell_type": "code",
   "execution_count": null,
   "metadata": {
    "collapsed": true,
    "slideshow": {
     "slide_type": "-"
    }
   },
   "outputs": [],
   "source": [
    "ls "
   ]
  },
  {
   "cell_type": "code",
   "execution_count": null,
   "metadata": {
    "collapsed": true,
    "slideshow": {
     "slide_type": "-"
    }
   },
   "outputs": [],
   "source": [
    "dict1={'english':1,'math':22,'science':333}\n",
    "dict1.pop('english')\n",
    "dict1.get('english','null')\n",
    "\n"
   ]
  },
  {
   "cell_type": "code",
   "execution_count": null,
   "metadata": {
    "collapsed": true
   },
   "outputs": [],
   "source": [
    "dict1.popitem()"
   ]
  },
  {
   "cell_type": "code",
   "execution_count": null,
   "metadata": {
    "collapsed": true
   },
   "outputs": [],
   "source": [
    "dict1.items()"
   ]
  },
  {
   "cell_type": "code",
   "execution_count": null,
   "metadata": {
    "collapsed": true
   },
   "outputs": [],
   "source": [
    "dict1"
   ]
  },
  {
   "cell_type": "code",
   "execution_count": null,
   "metadata": {
    "collapsed": true
   },
   "outputs": [],
   "source": [
    "dict1.keys()"
   ]
  },
  {
   "cell_type": "code",
   "execution_count": null,
   "metadata": {
    "collapsed": true
   },
   "outputs": [],
   "source": [
    "dict1.values()"
   ]
  },
  {
   "cell_type": "code",
   "execution_count": null,
   "metadata": {
    "collapsed": true
   },
   "outputs": [],
   "source": [
    "dict1.popitem()"
   ]
  },
  {
   "cell_type": "code",
   "execution_count": null,
   "metadata": {
    "collapsed": true
   },
   "outputs": [],
   "source": [
    "dict1.pop('a')"
   ]
  },
  {
   "cell_type": "markdown",
   "metadata": {},
   "source": [
    "dict1"
   ]
  },
  {
   "cell_type": "code",
   "execution_count": null,
   "metadata": {
    "collapsed": true
   },
   "outputs": [],
   "source": [
    "infos = {'name':'Guido', 'country':'Netherland'}\n",
    "\"Hi, {name}. You are from {country}\".format(**infos)"
   ]
  },
  {
   "cell_type": "code",
   "execution_count": null,
   "metadata": {
    "collapsed": true
   },
   "outputs": [],
   "source": [
    "principle=[1,22,333,4444,55555]\n",
    "principle.pop(-2)\n",
    "principle"
   ]
  },
  {
   "cell_type": "code",
   "execution_count": null,
   "metadata": {
    "collapsed": true
   },
   "outputs": [],
   "source": [
    "infos = {'name':'Guido', 'country':'Netherland'}\n",
    "\"Hi, {name}. You are from {country}\".format(**infos)"
   ]
  },
  {
   "cell_type": "markdown",
   "metadata": {},
   "source": [
    "Use \n",
    "```\n",
    "git status\n",
    "git add\n",
    "git commit\n",
    "```\n",
    "to list all new or modified files that haven't yet been commited."
   ]
  },
  {
   "cell_type": "markdown",
   "metadata": {},
   "source": [
    "\n",
    "**This site was built _using_ [GitHUb Pages](https://www.danawa.com/).**"
   ]
  },
  {
   "cell_type": "markdown",
   "metadata": {},
   "source": [
    "- George Washington\n",
    "- John Adams\n",
    "- Thomas Jefferson\n"
   ]
  },
  {
   "cell_type": "markdown",
   "metadata": {},
   "source": [
    "1. James Madison\n",
    "2. James Monroe\n",
    "3. John Quincy Adams"
   ]
  },
  {
   "cell_type": "markdown",
   "metadata": {},
   "source": [
    "## Hello there, Mr.!\n",
    "### Hi, what's good?"
   ]
  },
  {
   "cell_type": "markdown",
   "metadata": {},
   "source": [
    "안녕하신가\n",
    "자네"
   ]
  },
  {
   "cell_type": "markdown",
   "metadata": {},
   "source": [
    "-       Finish my changes\n",
    "- [ ] (Optional) Push my commits to GitHub"
   ]
  },
  {
   "cell_type": "markdown",
   "metadata": {},
   "source": [
    "1. First list item\n",
    "   - First nested list item\n",
    "     - Second nested list item"
   ]
  },
  {
   "cell_type": "markdown",
   "metadata": {},
   "source": [
    "- 안녕하신가"
   ]
  },
  {
   "cell_type": "code",
   "execution_count": null,
   "metadata": {
    "collapsed": true
   },
   "outputs": [],
   "source": [
    "def test1():\n",
    "    name=\"Daniel\"\n",
    "    state=\"hella busy\"\n",
    "    return \"{} is {} now!\".format(name, state)"
   ]
  },
  {
   "cell_type": "code",
   "execution_count": null,
   "metadata": {
    "collapsed": true
   },
   "outputs": [],
   "source": [
    "test1()"
   ]
  },
  {
   "cell_type": "code",
   "execution_count": null,
   "metadata": {
    "collapsed": true
   },
   "outputs": [],
   "source": [
    "def print_hello(name):\n",
    "    name = \"hello, {}.\".format(name)"
   ]
  },
  {
   "cell_type": "code",
   "execution_count": null,
   "metadata": {
    "collapsed": true
   },
   "outputs": [],
   "source": [
    "print_hello(\"Stan Lee\")"
   ]
  },
  {
   "cell_type": "code",
   "execution_count": null,
   "metadata": {
    "collapsed": true
   },
   "outputs": [],
   "source": [
    "def special_hello():\n",
    "    hello = \"hello\"\n",
    "    language = \"python\"\n",
    "    return \"{} {}!\".format(hello, language)"
   ]
  },
  {
   "cell_type": "code",
   "execution_count": null,
   "metadata": {
    "collapsed": true
   },
   "outputs": [],
   "source": [
    "case1 = special_hello()\n",
    "case2 = print_hello(\"Stan Lee\")\n",
    "print(case1, case2)"
   ]
  },
  {
   "cell_type": "code",
   "execution_count": null,
   "metadata": {
    "collapsed": true
   },
   "outputs": [],
   "source": [
    "def multiple_return(num1):\n",
    "    result = num1 * 3\n",
    "    return result, num1, num1+1"
   ]
  },
  {
   "cell_type": "code",
   "execution_count": null,
   "metadata": {
    "collapsed": true
   },
   "outputs": [],
   "source": [
    "multiple_return(100)"
   ]
  },
  {
   "cell_type": "code",
   "execution_count": null,
   "metadata": {
    "collapsed": true
   },
   "outputs": [],
   "source": [
    "y,x,z=multiple_return(2)"
   ]
  },
  {
   "cell_type": "code",
   "execution_count": null,
   "metadata": {
    "collapsed": true
   },
   "outputs": [],
   "source": [
    "print(y,x,z)"
   ]
  },
  {
   "cell_type": "code",
   "execution_count": null,
   "metadata": {
    "collapsed": true
   },
   "outputs": [],
   "source": [
    "def awe_sum(num1,num2):\n",
    "    if type(num1) != int:\n",
    "        return \"TypeError: You must set num1 to integer.\"\n",
    "    elif num1 < 1:\n",
    "        return \"AnotherCustomError: num1 can't be less than 1.\"\n",
    "    elif num1%3==0:\n",
    "        return \"CustomError: num1 can't be times of 3.\"\n",
    "    else:\n",
    "        result = num1 + num2\n",
    "    \n",
    "    return result"
   ]
  },
  {
   "cell_type": "code",
   "execution_count": null,
   "metadata": {
    "collapsed": true
   },
   "outputs": [],
   "source": [
    "awe_sum(3,5)"
   ]
  },
  {
   "cell_type": "code",
   "execution_count": null,
   "metadata": {
    "collapsed": true
   },
   "outputs": [],
   "source": [
    "awe_sum(5,10)"
   ]
  },
  {
   "cell_type": "code",
   "execution_count": null,
   "metadata": {
    "collapsed": true
   },
   "outputs": [],
   "source": [
    "type(1.5)"
   ]
  },
  {
   "cell_type": "code",
   "execution_count": null,
   "metadata": {
    "collapsed": true
   },
   "outputs": [],
   "source": [
    "type(1.5)==float"
   ]
  },
  {
   "cell_type": "code",
   "execution_count": null,
   "metadata": {
    "collapsed": true
   },
   "outputs": [],
   "source": [
    "def get_contact(name,status='Fool'):\n",
    "    return \"Hi, {}. But you are {}.\".format(name, status)"
   ]
  },
  {
   "cell_type": "code",
   "execution_count": null,
   "metadata": {
    "collapsed": true
   },
   "outputs": [],
   "source": [
    "get_contact(\"Mighty\")"
   ]
  },
  {
   "cell_type": "code",
   "execution_count": null,
   "metadata": {
    "collapsed": true
   },
   "outputs": [],
   "source": [
    "get_contact(\"Mighty\",\"Generous\")"
   ]
  },
  {
   "cell_type": "code",
   "execution_count": null,
   "metadata": {
    "collapsed": true
   },
   "outputs": [],
   "source": [
    "print(\"FAst\",'campus')"
   ]
  },
  {
   "cell_type": "code",
   "execution_count": null,
   "metadata": {
    "collapsed": true
   },
   "outputs": [],
   "source": [
    "print(\"FAst\",'campus',sep=\" roots up for \", end='\\n\\n\\n\\n')"
   ]
  },
  {
   "cell_type": "code",
   "execution_count": null,
   "metadata": {
    "collapsed": true
   },
   "outputs": [],
   "source": [
    "print(\"fast\")\n",
    "print(\"campus\")"
   ]
  },
  {
   "cell_type": "code",
   "execution_count": null,
   "metadata": {
    "collapsed": true
   },
   "outputs": [],
   "source": [
    "def msum(*cat):\n",
    "    result=0\n",
    "    for item in cat:\n",
    "        result +=item\n",
    "    return result\n",
    "    "
   ]
  },
  {
   "cell_type": "code",
   "execution_count": null,
   "metadata": {
    "collapsed": true
   },
   "outputs": [],
   "source": [
    "def personal_info(action, **kwargs):\n",
    "    my_precious = []\n",
    "    if action == 'add':\n",
    "        my_precious.append(kwargs)\n",
    "        \n",
    "    return my_precious"
   ]
  },
  {
   "cell_type": "code",
   "execution_count": null,
   "metadata": {
    "collapsed": true
   },
   "outputs": [],
   "source": [
    "dictione=dict(holeinthewall=999,cleanbill=888,opentutorials=555)\n",
    "\n",
    "\n",
    "\"I'd like to check this out whether we have {holeinthewall}, {cleanbill} and {opentutorials}.\".format(**dictione)"
   ]
  },
  {
   "cell_type": "code",
   "execution_count": null,
   "metadata": {
    "collapsed": true
   },
   "outputs": [],
   "source": [
    "def test(**dictione):\n",
    "    for k,v in dictione.items():\n",
    "        print(\"{1}:{0}\".format(k,v))"
   ]
  },
  {
   "cell_type": "code",
   "execution_count": null,
   "metadata": {
    "collapsed": true
   },
   "outputs": [],
   "source": [
    "test(a_list=333,b_list=444,c_list=555)"
   ]
  },
  {
   "cell_type": "code",
   "execution_count": null,
   "metadata": {
    "collapsed": true
   },
   "outputs": [],
   "source": [
    "def task(*list):\n",
    "    print(\"What I want to check is {}, {} and {}.\".format(*list))"
   ]
  },
  {
   "cell_type": "code",
   "execution_count": null,
   "metadata": {
    "collapsed": true
   },
   "outputs": [],
   "source": [
    "def personal_info(action, *args):\n",
    "    my_precious = []\n",
    "    if action == 'add':\n",
    "        my_precious.append(args)\n",
    "        \n",
    "    return my_precious[0]"
   ]
  },
  {
   "cell_type": "code",
   "execution_count": null,
   "metadata": {
    "collapsed": true
   },
   "outputs": [],
   "source": [
    "trial=('fast','campus','quick','school')\n",
    "personal_info('add',*trial)"
   ]
  },
  {
   "cell_type": "code",
   "execution_count": null,
   "metadata": {
    "collapsed": true
   },
   "outputs": [],
   "source": [
    "def test_args_kwargs(arg1, arg2, arg3):\n",
    "    print(\"arg1:\", arg1)\n",
    "    print(\"arg2:\", arg2)\n",
    "    print(\"arg3:\", arg3)\n",
    "    "
   ]
  },
  {
   "cell_type": "code",
   "execution_count": null,
   "metadata": {
    "collapsed": true
   },
   "outputs": [],
   "source": [
    "(3,4)*3"
   ]
  },
  {
   "cell_type": "code",
   "execution_count": null,
   "metadata": {
    "collapsed": true
   },
   "outputs": [],
   "source": [
    "tuple1=(1,2,3,4,5)\n",
    "tuple1[1]"
   ]
  },
  {
   "cell_type": "code",
   "execution_count": null,
   "metadata": {
    "collapsed": true
   },
   "outputs": [],
   "source": [
    "def test_args_kwargs(**kwargs):\n",
    "    #for k,v in kwargs.items():\n",
    "    #    print(\"{}: {}\".format(k,v))\n",
    "    return \"{nationality}, {country} and {hometown} are all in one basket.\".format(**kwargs)\n",
    "    "
   ]
  },
  {
   "cell_type": "code",
   "execution_count": null,
   "metadata": {
    "collapsed": true
   },
   "outputs": [],
   "source": [
    "\n",
    "test={\"nationality\":\"Korea\",\"country\":\"home\",\"hometown\":20}\n",
    "test_args_kwargs(**test)"
   ]
  },
  {
   "cell_type": "code",
   "execution_count": null,
   "metadata": {
    "collapsed": true
   },
   "outputs": [],
   "source": [
    "kgs=dict(apple=3, banana=5, mango=10)\n",
    "kgs[]'apple')\n",
    "\n",
    "#test_Margs_kwargs(**kgs)"
   ]
  },
  {
   "cell_type": "code",
   "execution_count": null,
   "metadata": {
    "collapsed": true
   },
   "outputs": [],
   "source": [
    "def decoration(function):\n",
    "    def wrapper(*args,**kwargs):\n",
    "        print(\"@This place looks familiar. I think I've been here before.\")\n",
    "        result=function(*args,*kwargs)\n",
    "        print(\"@I think I can be there by two-thirty.\")\n",
    "        return result\n",
    "    return wrapper\n",
    "\n",
    "def decoration2(function):\n",
    "    def wrapper(*args,**kwargs):\n",
    "        print(\"@Let there be a spot!\")\n",
    "        end_result=function(*args,**kwargs)\n",
    "        print(\"@Don't tell me I got to wait!\")\n",
    "        return end_result\n",
    "    return wrapper\n",
    "\n",
    "@decoration2\n",
    "@decoration\n",
    "def test(*a):\n",
    "    for item in a:\n",
    "        print(\"please, let there be a/an {}.\".format(item))\n",
    "    \n",
    "    return \"I love fruits in season!\" \n",
    "    "
   ]
  },
  {
   "cell_type": "code",
   "execution_count": null,
   "metadata": {
    "collapsed": true
   },
   "outputs": [],
   "source": [
    "test('banana','orange','grape')"
   ]
  },
  {
   "cell_type": "code",
   "execution_count": null,
   "metadata": {
    "collapsed": true
   },
   "outputs": [],
   "source": [
    "def three_powered(x):\n",
    "    result=x**3\n",
    "    return result"
   ]
  },
  {
   "cell_type": "code",
   "execution_count": null,
   "metadata": {
    "collapsed": true
   },
   "outputs": [],
   "source": [
    "three_powered(12)"
   ]
  },
  {
   "cell_type": "code",
   "execution_count": null,
   "metadata": {
    "collapsed": true
   },
   "outputs": [],
   "source": [
    "(lambda a:three_powered(a))(12)"
   ]
  },
  {
   "cell_type": "code",
   "execution_count": null,
   "metadata": {
    "collapsed": true
   },
   "outputs": [],
   "source": [
    "(lambda a:a**3)(12)"
   ]
  },
  {
   "cell_type": "code",
   "execution_count": null,
   "metadata": {
    "collapsed": true
   },
   "outputs": [],
   "source": [
    "def makeitnfolded(num):\n",
    "    print(3*num)\n",
    "\n",
    "def practice(x):\n",
    "    result=makeitnfolded(x)\n",
    "    return \"Hello\"\n",
    "\n",
    "practice(10)\n"
   ]
  },
  {
   "cell_type": "code",
   "execution_count": null,
   "metadata": {
    "collapsed": true
   },
   "outputs": [],
   "source": [
    "playlist=[1,3,20,26,33,57,94,1034]"
   ]
  },
  {
   "cell_type": "code",
   "execution_count": null,
   "metadata": {
    "collapsed": true
   },
   "outputs": [],
   "source": [
    "recycle_bin = [\n",
    "1, 2, \"Fastcampus\", ['dog', 'cat', 'pig'], 5, 4, 5.6, False,\"패스트캠퍼스\", 100, 3.14, 2.71828, {'name':'Kim'}, True,]"
   ]
  },
  {
   "cell_type": "code",
   "execution_count": null,
   "metadata": {
    "collapsed": true
   },
   "outputs": [],
   "source": [
    "list(filter(lambda a: isinstance(a,(int,float)) and not isinstance(a,bool), recycle_bin))"
   ]
  },
  {
   "cell_type": "code",
   "execution_count": null,
   "metadata": {
    "collapsed": true
   },
   "outputs": [],
   "source": [
    "from functools import reduce\n",
    "reduce(lambda a,b:a +b ,map(lambda a:a**2, filter(lambda a: isinstance(a,int) and not isinstance(a,bool), recycle_bin)))"
   ]
  },
  {
   "cell_type": "code",
   "execution_count": null,
   "metadata": {
    "collapsed": true
   },
   "outputs": [],
   "source": [
    "# Orders 관련 문제풀이\n",
    "\n",
    "orders = []"
   ]
  },
  {
   "cell_type": "code",
   "execution_count": null,
   "metadata": {
    "collapsed": true
   },
   "outputs": [],
   "source": [
    "orders.append((181121001,2,2400))\n",
    "orders.append((181121002,12,9800))\n",
    "orders.append((181121003,5,124800))\n",
    "orders.append((181121004,10,76000))\n",
    "orders.append((181121005,24,2810))\n",
    "\n",
    "orders"
   ]
  },
  {
   "cell_type": "code",
   "execution_count": null,
   "metadata": {
    "collapsed": true
   },
   "outputs": [],
   "source": [
    "orders[0][1]"
   ]
  },
  {
   "cell_type": "code",
   "execution_count": 45,
   "metadata": {
    "collapsed": true
   },
   "outputs": [],
   "source": [
    "def decoration(function):\n",
    "\n",
    "    def wrapper2(function):\n",
    "        print(\"@Somethn's set about!\")\n",
    "        result=wrapper1(*args,**kwargs)\n",
    "        print(\"@Keep the ball rolling!\")\n",
    "           \n",
    "        def wrapper1(*args,**kwargs):\n",
    "            print(\"@innermost?Wait'n see!\")\n",
    "            result=function(*args,**kwargs)\n",
    "            print(\"@innermost?Wait'n see!\")\n",
    "            return result\n",
    "        \n",
    "        return wrapper1\n",
    "    \n",
    "    return wrapper2\n",
    "\n",
    "@decoration\n",
    "def test(str):\n",
    "    print(\"Welcome aboard, {}!\".format(str))\n",
    "    return str"
   ]
  },
  {
   "cell_type": "code",
   "execution_count": 1,
   "metadata": {
    "collapsed": true
   },
   "outputs": [
    {
     "ename": "NameError",
     "evalue": "name 'test' is not defined",
     "output_type": "error",
     "traceback": [
      "\u001b[1;31m---------------------------------------------------------------------------\u001b[0m",
      "\u001b[1;31mNameError\u001b[0m                                 Traceback (most recent call last)",
      "\u001b[1;32m<ipython-input-1-8b6e6fe241a3>\u001b[0m in \u001b[0;36m<module>\u001b[1;34m\u001b[0m\n\u001b[1;32m----> 1\u001b[1;33m \u001b[0mtest\u001b[0m\u001b[1;33m(\u001b[0m\u001b[1;34m\"Leonard\"\u001b[0m\u001b[1;33m)\u001b[0m\u001b[1;33m\u001b[0m\u001b[1;33m\u001b[0m\u001b[0m\n\u001b[0m",
      "\u001b[1;31mNameError\u001b[0m: name 'test' is not defined"
     ]
    }
   ],
   "source": [
    "test(\"Leonard\")"
   ]
  },
  {
   "cell_type": "code",
   "execution_count": 27,
   "metadata": {
    "collapsed": true
   },
   "outputs": [],
   "source": [
    "def decoration2(function2):\n",
    "    def wrapper(*args,**kwargs):\n",
    "        print(\"@This part has been finally attached.\")\n",
    "        result=function2(*args,**kwargs)\n",
    "        print(\"@This part has wrapped the whole gist.\")\n",
    "        return result\n",
    "    return wrapper\n",
    "\n",
    "def decoration1(function1):\n",
    "    def wrapper(*args,**kwargs):\n",
    "        print(\"@This part has been attached.\")\n",
    "        #result=function1(*args,**kwargs) \n",
    "        print(\"@This part has wrapped the gist.\")\n",
    "        return function1(*args,**kwargs)\n",
    "    return wrapper\n",
    "\n",
    "@decoration2\n",
    "@decoration1\n",
    "def test(input):\n",
    "    print(\"It's the gist of %s!\" % (input))\n",
    "    return \"something\""
   ]
  },
  {
   "cell_type": "code",
   "execution_count": 29,
   "metadata": {
    "collapsed": true
   },
   "outputs": [
    {
     "name": "stdout",
     "output_type": "stream",
     "text": [
      "@This part has been finally attached.\n",
      "@This part has been attached.\n",
      "@This part has wrapped the gist.\n",
      "It's the gist of google!\n",
      "@This part has wrapped the whole gist.\n"
     ]
    },
    {
     "data": {
      "text/plain": [
       "'something'"
      ]
     },
     "execution_count": 29,
     "metadata": {},
     "output_type": "execute_result"
    }
   ],
   "source": [
    "test(\"google\")"
   ]
  },
  {
   "cell_type": "code",
   "execution_count": 1,
   "metadata": {
    "collapsed": true
   },
   "outputs": [
    {
     "name": "stdout",
     "output_type": "stream",
     "text": [
      "hello\n"
     ]
    }
   ],
   "source": [
    "def test():\n",
    "    print(\"hello\")\n",
    "\n",
    "def result():\n",
    "    return test()\n",
    "\n",
    "result()"
   ]
  },
  {
   "cell_type": "code",
   "execution_count": 1,
   "metadata": {
    "collapsed": true
   },
   "outputs": [
    {
     "data": {
      "text/plain": [
       "'no'"
      ]
     },
     "execution_count": 1,
     "metadata": {},
     "output_type": "execute_result"
    }
   ],
   "source": [
    "'python'[-1:-3:-1]"
   ]
  },
  {
   "cell_type": "code",
   "execution_count": 9,
   "metadata": {
    "collapsed": true
   },
   "outputs": [
    {
     "data": {
      "text/plain": [
       "'ua'"
      ]
     },
     "execution_count": 9,
     "metadata": {},
     "output_type": "execute_result"
    }
   ],
   "source": [
    "list_a=[1,2,3,10,99,1000]\n",
    "list_a[-1]\n",
    "'beautiful'[3:1:-1]"
   ]
  },
  {
   "cell_type": "code",
   "execution_count": 14,
   "metadata": {
    "collapsed": true
   },
   "outputs": [
    {
     "name": "stdout",
     "output_type": "stream",
     "text": [
      "1\n",
      "even\n",
      "multiples of 3\n",
      "even\n",
      "5\n",
      "even\n",
      "7\n",
      "even\n",
      "multiples of 3\n",
      "even\n"
     ]
    }
   ],
   "source": [
    "for i in range(1,10+1): \n",
    "    print(\"even\") if i%2==0 else print(\"multiples of 3\") if i%3==0 else print(i)"
   ]
  },
  {
   "cell_type": "code",
   "execution_count": 19,
   "metadata": {
    "collapsed": true
   },
   "outputs": [
    {
     "data": {
      "text/plain": [
       "{'aaa': 1331, 'bbb': 2197, 'ccc': 3375}"
      ]
     },
     "execution_count": 19,
     "metadata": {},
     "output_type": "execute_result"
    }
   ],
   "source": [
    "dict1={'a':11,'b':13,'c':15}\n",
    "dict2={}\n",
    "for k,v in dict1.items():\n",
    "    dict2[k*3]=v**3\n",
    "dict2"
   ]
  },
  {
   "cell_type": "code",
   "execution_count": 1,
   "metadata": {
    "collapsed": true
   },
   "outputs": [
    {
     "data": {
      "text/plain": [
       "{'aaa': 1331, 'bbb': 2197, 'ccc': 3375}"
      ]
     },
     "execution_count": 1,
     "metadata": {},
     "output_type": "execute_result"
    }
   ],
   "source": [
    "\n",
    "dict1={'a':11,'b':13,'c':15}\n",
    "dict2={k*3:v**3 for k,v in dict1.items()}\n",
    "dict2\n"
   ]
  },
  {
   "cell_type": "code",
   "execution_count": 4,
   "metadata": {
    "collapsed": true
   },
   "outputs": [],
   "source": [
    "from selenium import webdriver\n",
    "import requests\n",
    "from bs4 import BeautifulSoup\n",
    "import time"
   ]
  },
  {
   "cell_type": "code",
   "execution_count": 5,
   "metadata": {
    "collapsed": true
   },
   "outputs": [],
   "source": [
    "url = \"https://www.theguardian.com/uk/technology\"\n",
    "response = requests.get(url)"
   ]
  },
  {
   "cell_type": "markdown",
   "metadata": {},
   "source": [
    "ch_driver = webdriver.Chrome('C://Python37//chromedriver')"
   ]
  },
  {
   "cell_type": "markdown",
   "metadata": {},
   "source": [
    "ch_driver.get('https://www.seoul.go.kr/')"
   ]
  },
  {
   "cell_type": "code",
   "execution_count": 6,
   "metadata": {
    "collapsed": true
   },
   "outputs": [],
   "source": [
    "html = response.text"
   ]
  },
  {
   "cell_type": "code",
   "execution_count": 7,
   "metadata": {
    "collapsed": true
   },
   "outputs": [],
   "source": [
    "soup = BeautifulSoup(html, 'html.parser')"
   ]
  },
  {
   "cell_type": "code",
   "execution_count": 66,
   "metadata": {
    "collapsed": true
   },
   "outputs": [],
   "source": [
    "ul = soup.find('ul',attrs={'class':'headline-list'})"
   ]
  },
  {
   "cell_type": "code",
   "execution_count": 73,
   "metadata": {
    "collapsed": true
   },
   "outputs": [
    {
     "name": "stdout",
     "output_type": "stream",
     "text": [
      "  Visionary tunnel or over-hyped hole? Elon Musk's design unveiled in LA  #https://www.theguardian.com/technology/2018/dec/18/elon-musk-boring-company-tunnel-party-tonight-los-angeles\n",
      "  'Killer robots': AI experts call for boycott over lab at South Korea university  #https://www.theguardian.com/technology/2018/apr/05/killer-robots-south-korea-university-boycott-artifical-intelligence-hanwha\n",
      "  Self-driving car drove me from California to New York, claims ex-Uber engineer  #https://www.theguardian.com/technology/2018/dec/18/controversial-engineer-i-travelled-over-3000-miles-in-a-self-driving-car\n",
      "  How to protect your digital privacy from new Christmas presents  #https://www.theguardian.com/technology/shortcuts/2018/dec/18/how-to-protect-your-digital-privacy-from-new-christmas-presents\n",
      "  Instagram: from Facebook's 'best hope' to Russian propaganda campaign tool  #https://www.theguardian.com/technology/2018/dec/18/instagram-facebook-russian-propaganda-ira\n",
      "  Amazon faces boycott ahead of holidays as public discontent grows  #https://www.theguardian.com/technology/2018/dec/17/amazon-boycott-customers-holiday-shopping\n",
      "  'It's time for significant changes': civil rights groups call for Facebook leaders to step down  #https://www.theguardian.com/technology/2018/dec/17/facebook-civil-rights-groups-letter-step-down\n",
      "  'They don't care': Facebook factchecking in disarray as journalists push to cut ties  #https://www.theguardian.com/technology/2018/dec/13/they-dont-care-facebook-fact-checking-in-disarray-as-journalists-push-to-cut-ties\n",
      "  Amazon hit with major data breach days before Black Friday  #https://www.theguardian.com/technology/2018/nov/21/amazon-hit-with-major-data-breach-days-before-black-friday\n",
      "  After a year from hell, Facebook parties like it's 2017  #https://www.theguardian.com/technology/2018/dec/17/facebook-christmas-party-celebration\n"
     ]
    }
   ],
   "source": [
    "lis=ul.find_all('li')\n",
    "lis[0].a.attrs['href']\n",
    "lis[0].a.text\n",
    "\n",
    "result=[]\n",
    "for li in lis:\n",
    "    news_title = li.a.text\n",
    "    news_link = li.a.attrs['href']\n",
    "    print(news_title, news_link, sep=\" #\")"
   ]
  },
  {
   "cell_type": "code",
   "execution_count": 74,
   "metadata": {
    "collapsed": true
   },
   "outputs": [
    {
     "data": {
      "text/plain": [
       "\"Visionary tunnel or over-hyped hole? Elon Musk's design unveiled in LA\""
      ]
     },
     "execution_count": 74,
     "metadata": {},
     "output_type": "execute_result"
    }
   ],
   "source": [
    "lis = ul.find_all('li')\n",
    "news_title = lis[0].a.text.strip()\n",
    "news_title"
   ]
  },
  {
   "cell_type": "code",
   "execution_count": 77,
   "metadata": {
    "collapsed": true
   },
   "outputs": [],
   "source": [
    "import requests\n",
    "from bs4 import BeautifulSoup"
   ]
  },
  {
   "cell_type": "code",
   "execution_count": 82,
   "metadata": {
    "collapsed": true
   },
   "outputs": [
    {
     "data": {
      "text/plain": [
       "'<!doctype html>\\n\\n\\n\\n\\n\\n\\n\\n\\n\\n\\n\\n\\n\\n\\n\\n\\n<html lang=\"ko\">\\n<head>\\n<meta charset=\"utf-8\">\\n<meta name=\"Referrer\" content=\"origin\">\\n<meta http-equiv=\"Content-Script-Type\" content=\"text/javascript\">\\n<meta http-equiv=\"Content-Style-Type\" content=\"text/css\">\\n<meta http-equiv=\"X-UA-Compatible\" content=\"IE=edge\">\\n<meta name=\"viewport\" content=\"width=1100\">\\n<meta name=\"apple-mobile-web-app-title\" content=\"NAVER\" />\\n<meta name=\"robots\" content=\"index,nofollow\"/>\\n<meta name=\"description\" content=\"네이버 메인에서 다양한 정보와 유용한 컨텐츠를 만나 보세요\"/>\\n<meta property=\"og:title\" content=\"네이버\">\\n<meta property=\"og:url\" content=\"https://www.naver.com/\">\\n<meta property=\"og:image\" content=\"https://s.pstatic.net/static/www/mobile/edit/2016/0705/mobile_212852414260.png\">\\n<meta property=\"og:description\" content=\"네이버 메인에서 다양한 정보와 유용한 컨텐츠를 만나 보세요\"/>\\n<meta name=\"twitter:card\" content=\"summary\">\\n<meta name=\"twitter:title\" content=\"\">\\n<meta name=\"twitter:url\" content=\"https://www.naver.com/\">\\n<meta name=\"twitter:image\" content=\"https://s.pstatic.net/static/www/mobile/edit/2016/0705/mobile_212852414260.png\">\\n<meta name=\"twitter:description\" content=\"네이버 메인에서 다양한 정보와 유용한 컨텐츠를 만나 보세요\"/>\\n\\n\\n<link rel=\"shortcut icon\" type=\"image/x-icon\" href=\"/favicon.ico\" />\\n\\n<link rel=\"stylesheet\" type=\"text/css\" href=\"https://pm.pstatic.net/css/main_v181114.css\"/> \\n<link rel=\"stylesheet\" type=\"text/css\" href=\"https://pm.pstatic.net/css/webfont_v170623.css\"/>\\n<link rel=\"stylesheet\" type=\"text/css\" href=\"https://ssl.pstatic.net/sstatic/search/pc/css/api_atcmp_181122.css\"/>\\n\\n\\n<script type=\"text/javascript\" src=\"https://pm.pstatic.net/js/c/nlog_v181107.js\"></script>\\n\\n<script type=\"text/javascript\" src=\"https://ssl.pstatic.net/tveta/libs/assets/js/common/min/probe.min.js\"></script>\\n<script type=\"text/javascript\">\\nvar nsc = \"navertop.v3\";\\ndocument.domain = \"naver.com\";\\nvar jindoAll = \"\";\\nvar iframeLazyLoad = false;\\nif (!!!window.console) {window.console={};window.console[\"log\"]=function(){}}\\nvar isLogin = false; \\nfunction refreshLcs(etc) {etc = etc ? etc : {};if(document.cookie.indexOf(\"nrefreshx=1\") != -1) {etc[\"mrf\"]=\"1\";} else {etc[\"pan\"]=\"tec\";}return etc;}\\n\\n</script>\\n<title>NAVER</title>\\n</head>\\n\\n\\n\\n\\n\\n\\n\\n\\n\\n\\n\\n\\n\\n\\n\\n\\n\\n\\n\\n<style>\\n\\t#_nx_kbd .setkorhelp a { display:none; }\\n</style>\\n<body class=\\'\\'>\\n\\t<!-- 스킵 내비게이션 -->\\n\\t<div class=\"u_skip\">\\n\\t\\t<a href=\"#news_cast\" onclick=\"document.getElementById(\\'news_cast2\\').tabIndex = -1;document.getElementById(\\'news_cast2\\').focus();return false;\"><span>연합뉴스 바로가기</span></a>\\n\\t\\t<a href=\"#themecast\" onclick=\"document.getElementById(\\'themecast\\').tabIndex = -1;document.getElementById(\\'themecast\\').focus();return false;\"><span>주제별캐스트 바로가기</span></a>\\n\\t\\t<a href=\"#time_square\" onclick=\"document.getElementById(\\'time_square\\').tabIndex = -1;document.getElementById(\\'time_square\\').focus();return false;\"><span>타임스퀘어 바로가기</span></a>\\n\\t\\t<a href=\"#shp_cst\" onclick=\"document.getElementById(\\'shp_cst\\').tabIndex = -1;document.getElementById(\\'shp_cst\\').focus();return false;\"><span>쇼핑캐스트 바로가기</span></a>\\n\\t\\t<a href=\"#account\" onclick=\"document.getElementById(\\'account\\').tabIndex = -1;document.getElementById(\\'account\\').focus();return false;\"><span>로그인 바로가기</span></a>\\n\\t</div>\\n\\t<!-- //스킵 내비게이션 -->\\n\\t<div id=\"PM_ID_ct\" class=\"wrap\" >\\n\\t\\t<!-- 헤더 -->\\n<div class=\"header\" role=\"banner\">\\n\\t\\n\\n\\n\\n\\n\\n\\n<div class=\"special_bg\">\\n<div class=\"area_flex\">\\n<div class=\"area_logo\">\\n<h1>\\n<a data-clk=\"top.logo\" href=\"/\"><span class=\"naver_logo\">네이버</span></a>\\n</h1>\\n</div>\\n<div class=\"area_links\">\\n<a data-clk=\"top.mkhome\" href=\"http://help.naver.com/support/alias/contents2/naverhome/naverhome_1.naver\" class=\"al_favorite\">네이버를 시작페이지로<span class=\"al_ico_link\"></span></a>\\n<span class=\"al_bar\"></span>\\n<a data-clk=\"top.jrnaver\" href=\"http://jr.naver.com\" class=\"al_jr\"><span class=\"blind\">쥬니어네이버</span><span class=\"al_ico\"></span></a>\\n<a data-clk=\"top.happybean\" href=\"http://happybean.naver.com/main/SectionMain.nhn\" class=\"al_happybean\"><span class=\"blind\">해피빈</span><span class=\"al_ico\"></span></a>\\n</div>\\n<div id=\"search\" class=\"search\">\\n<!--자동완성 입력창-->\\n\\n<form id=\"sform\" name=\"sform\" action=\"https://search.naver.com/search.naver\" method=\"get\">\\n\\n\\t<fieldset>\\n   \\t\\t<legend class=\"blind\">검색</legend>\\n        <input type=\"hidden\" id=\"sm\" name=\"sm\" value=\"top_hty\" />\\n        <input type=\"hidden\" id=\"fbm\" name=\"fbm\" value=\"0\" />\\n        <input type=\"hidden\" id=\"acr\" name=\"acr\" value=\"\" disabled=\"disabled\" />\\n        <input type=\"hidden\" id=\"acq\" name=\"acq\" value=\"\" disabled=\"disabled\" />\\n        <input type=\"hidden\" id=\"qdt\" name=\"qdt\" value=\"\" disabled=\"disabled\" />\\n        <input type=\"hidden\" id=\"ie\" name=\"ie\" value=\"utf8\" />\\n        <input type=\"hidden\" id=\"acir\" name=\"acir\" value=\"\" disabled=\"disabled\" />\\n        <input type=\"hidden\" id=\"os\" name=\"os\" value=\"\" disabled=\"disabled\" />\\n        <input type=\"hidden\" id=\"bid\" name=\"bid\" value=\"\" disabled=\"disabled\" />\\n        <input type=\"hidden\" id=\"pkid\" name=\"pkid\" value=\"\" disabled=\"disabled\" />\\n        <input type=\"hidden\" id=\"eid\" name=\"eid\" value=\"\" disabled=\"disabled\" />\\n        <input type=\"hidden\" id=\"mra\" name=\"mra\" value=\"\" disabled=\"disabled\" />\\n        <span class=\"green_window\">\\n            <input id=\"query\" name=\"query\" type=\"text\" title=\"검색어 입력\" maxlength=\"255\" class=\"input_text\" tabindex=\"1\" accesskey=\"s\" style=\"ime-mode:active;\" autocomplete=\"off\" onclick=\"document.getElementById(\\'fbm\\').value=1;\" value=\"\" />\\n        </span>\\n        <div id=\"nautocomplete\" class=\"autocomplete\">\\n            <!-- 자동완성 열린 경우 fold 클래스 추가, 딤드인 경우 dim 추가 -->\\n            <a href=\"javascript:;\" role=\"button\" tabindex=\"2\" class=\"btn_arw _btn_arw fold\"><span class=\"blind _text\">자동완성 펼치기</span><span class=\"ico_arr\"></span></a>\\n        </div>\\n        <button id=\"search_btn\" type=\"submit\" title=\"검색\" tabindex=\"3\" class=\"sch_smit\" onmouseover=\"this.className=\\'sch_smit over\\'\" onmousedown=\"this.className=\\'sch_smit down\\'\" onmouseout=\"this.className=\\'sch_smit\\'\" onclick=\"clickcr(this,\\'sch.action\\',\\'\\',\\'\\',event);\"><span class=\"blind\">검색</span><span class=\"ico_search_submit\"></span></button>\\n    </fieldset>\\n</form>\\n<!--자동완성 입력창-->\\n<!--한글입력기 -->\\n<a href=\"javascript:;\" id=\"ke_kbd_btn\" role=\"button\" class=\"btn_keyboard\" onclick=\"nx_ime_load(this)\" data-clk=\"sch.ime\"><span class=\"blind\">한글 입력기</span><span class=\"ico_keyboard\"></span></a>\\n<style type=\"text/css\" id=\"_nx_kbd_style\"></style>\\n<div id=\"_nx_kbd\" style=\"display:none;\"></div>\\n<!--한글입력기 -->\\n<!--자동완성 레이어 -->\\n<div id=\"autoFrame\" class=\"reatcmp\" style=\"background-color:rgb(255, 255, 255);display:none;\">\\n    <div class=\"api_atcmp_wrap _atcmp\" style=\"display:none;\">\\n        <div class=\"words _words\">\\n            <div class=\"_atcmp_result_wrap\">\\n                <ul class=\"_resultBox\"></ul>\\n                <ul class=\"_resultBox\"></ul>\\n                <ul class=\"_resultBox\"></ul>\\n                <ul class=\"_resultBox\"></ul>\\n            </div>\\n            <!-- 우측 정답형 영역 -->\\n            <div class=\"add_group _atcmp_answer_wrap\"></div>\\n        </div>\\n        <!-- 컨텍스트 자동완성 플러스 -->\\n        <!-- [AU] _plus -->\\n        <div class=\"atcmp_plus _plus\">\\n            <span class=\"desc\">\\n                <span class=\"plus_txt _plusTxt\">시간대와 관심사에 맞춘 <em class=\\'txt\\'>컨텍스트 자동완성</em></span>\\n                <a onclick=\"__atcmpCR(event, this, \\'plus.help\\', \\'\\',\\'\\',\\'\\');\" href=\"https://help.naver.com/support/contents/contents.nhn?serviceNo=606&categoryNo=16658\" target=\"_blank\" class=\"spat ico_info _plusHelp\"><span class=\"blind\">도움말 보기</span></a>\\n            </span>\\n            <!-- [AU] _plus_btn -->\\n            <span class=\"switch _plus_btn\">\\n                <a href=\"#\" class=\"btn_turnon active\" onclick=\"__atcmpCR(event, this, \\'plus.use\\', \\'\\',\\'\\',\\'\\');\">ON<span class=\"blind\">선택됨</span></a>\\n                <a href=\"#\" class=\"btn_turnoff\" onclick=\"__atcmpCR(event, this, \\'plus.unuse\\', \\'\\',\\'\\',\\'\\');\">OFF</a>\\n            </span>\\n            <div class=\"layer_plus _plusAlert\">\\n                <strong class=\"tit\">컨텍스트 자동완성</strong>\\n                <div class=\"_logout\" style=\"display:block;\">\\n                    <p class=\"dsc\"><em class=\"txt\">동일한 시간대/연령/남녀별</em> 사용자 그룹의<br>관심사에 맞춰 자동완성을 제공합니다.</p>\\n                    <div class=\"btn_area\">\\n                        <a onclick=\"__atcmpCR(event, this, \\'plus.login\\', \\'\\',\\'\\',\\'\\');\" href=\"https://nid.naver.com/nidlogin.login\" class=\"btn btn_login\">로그인</a>\\n                        <a target=\"_blank\" onclick=\"__atcmpCR(event, this, \\'plus.detail\\', \\'\\',\\'\\',\\'\\');\" href=\"https://help.naver.com/support/alias/search/word/word_16.naver\" class=\"btn btn_view\">자세히</a>\\n                    </div>\\n                </div>\\n                <div class=\"_login\" style=\"display:none;\">\\n                    <p class=\"dsc\">ON/OFF설정은<br>해당 기기(브라우저)에 저장됩니다.</p>\\n                    <div class=\"btn_area\">\\n                        <a target=\"_blank\" onclick=\"__atcmpCR(event, this, \\'plus.detail\\', \\'\\',\\'\\',\\'\\');\" href=\"https://help.naver.com/support/contents/contents.nhn?serviceNo=606&categoryNo=16659\" class=\"btn btn_view\">자세히</a>\\n                    </div>\\n                </div>\\n                <button type=\"button\" class=\"btn_close _close\" onclick=\"__atcmpCR(event, this, \\'plus.close\\', \\'\\',\\'\\',\\'\\');\"><i class=\"spat ico_close\">컨텍스트 자동완성 레이어 닫기</i></button>\\n            </div>\\n        </div>\\n        <!-- //컨텍스트 자동완성 플러스 -->\\n        <p class=\"func _atcmpBtnGroup\"><span class=\"fl\"><a class=\"_help\" onclick=\"__atcmpCR(event, this, \\'help\\', \\'\\',\\'\\',\\'\\');\" href=\"https://help.naver.com/support/service/main.nhn?serviceNo=606&categoryNo=1987\" target=\"_blank\">도움말</a><span class=\"atcmp_bar\"></span><a onclick=\"__atcmpCR(event, this, \\'report\\', \\'\\',\\'\\',\\'\\');\" href=\"https://help.naver.com/support/contents/contents.nhn?serviceNo=605&categoryNo=18215\" target=\"_blank\">신고</a></span><span><em><a class=\"hisoff\" href=\"javascript:;\">검색어저장 켜기</a><span class=\"atcmp_bar\"></span></em><a class=\"funoff\" href=\"javascript:;\">자동완성 끄기</a></span></p>\\n        <span class=\"atcmp_helper _help_tooltip1\">기능을 다시 켤 때는 <em class=\"ico_search spat\">자동완성 펼치기</em>을 클릭하세요</span>\\n    </div>\\n    <div class=\"api_atcmp_wrap _atcmpIng\" style=\"display:none;\">\\n        <div class=\"words\"><p class=\"info_words\">현재 자동완성 기능을 사용하고 계십니다.</p></div>\\n        <p class=\"func _atcmpBtnGroup\"><span class=\"fl\"><a class=\"_help\" onclick=\"__atcmpCR(event, this, \\'help\\', \\'\\',\\'\\',\\'\\');\" href=\"https://help.naver.com/support/service/main.nhn?serviceNo=606&categoryNo=1987\" target=\"_blank\">도움말</a><span class=\"atcmp_bar\"></span><a onclick=\"__atcmpCR(event, this, \\'report\\', \\'\\',\\'\\',\\'\\');\" href=\"https://help.naver.com/support/contents/contents.nhn?serviceNo=605&categoryNo=18215\" target=\"_blank\">신고</a></span><span><em><a class=\"hisoff\" href=\"javascript:;\">검색어저장 켜기</a><span class=\"atcmp_bar\"></span></em><a class=\"funoff\" href=\"javascript:;\">자동완성 끄기</a></span></p>\\n        <span class=\"atcmp_helper _help_tooltip2\">기능을 다시 켤 때는 <em class=\"ico_search spat\">자동완성 펼치기</em>을 클릭하세요</span>\\n    </div>\\n    <div class=\"api_atcmp_wrap _atcmpStart\" style=\"display:none;\">\\n        <div class=\"words\"><p class=\"info_words\">자동완성 기능이 활성화되었습니다.</p></div>\\n        <p class=\"func _atcmpBtnGroup\"><span class=\"fl\"><a class=\"_help\" onclick=\"__atcmpCR(event, this, \\'help\\', \\'\\',\\'\\',\\'\\');\" href=\"https://help.naver.com/support/service/main.nhn?serviceNo=606&categoryNo=1987\" target=\"_blank\">도움말</a><span class=\"atcmp_bar\"></span><a onclick=\"__atcmpCR(event, this, \\'report\\', \\'\\',\\'\\',\\'\\');\" href=\"https://help.naver.com/support/contents/contents.nhn?serviceNo=605&categoryNo=18215\" target=\"_blank\">신고</a></span><span><em><a class=\"hisoff\" href=\"javascript:;\">검색어저장 켜기</a><span class=\"atcmp_bar\"></span></em><a class=\"funoff\" href=\"javascript:;\">자동완성 끄기</a></span></p>\\n        <span class=\"atcmp_helper _help_tooltip3\">기능을 다시 켤 때는 <em class=\"ico_search spat\">자동완성 펼치기</em>을 클릭하세요</span>\\n    </div>\\n    <div class=\"api_atcmp_wrap _atcmpOff\" style=\"display:none;\">\\n        <div class=\"words\"><p class=\"info_words\">자동완성 기능이 꺼져 있습니다.</p></div>\\n        <p class=\"func _atcmpBtnGroup\"><span class=\"fl\"><a class=\"_help\" onclick=\"__atcmpCR(event, this, \\'help\\', \\'\\',\\'\\',\\'\\');\" href=\"https://help.naver.com/support/service/main.nhn?serviceNo=606&categoryNo=1987\" target=\"_blank\">도움말</a><span class=\"atcmp_bar\"></span><a onclick=\"__atcmpCR(event, this, \\'report\\', \\'\\',\\'\\',\\'\\');\" href=\"https://help.naver.com/support/contents/contents.nhn?serviceNo=605&categoryNo=18215\" target=\"_blank\">신고</a></span><span><em><a class=\"hisoff\" href=\"javascript:;\">검색어저장 켜기</a><span class=\"atcmp_bar\"></span></em><a class=\"funoff\" href=\"javascript:;\">자동완성 켜기</a></span></p>\\n    </div>\\n    <!-- 최근검색어 & 내검색어 -->\\n    <div class=\"api_atcmp_wrap _keywords\" style=\"display:none;\">\\n        <div class=\"my_words\">\\n            <div class=\"lst_tab\">\\n                <ul><li class=\"on _recentTab\"><a href=\"javascript:;\">최근검색어</a></li><li class=\"_myTab\"><a href=\"javascript:;\">내 검색어</a></li></ul>\\n            </div>\\n            <div class=\"words _recent\">\\n                <ul><li data-rank=\"@rank@\"><a class=\"t@my@ _star _myBtn\" title=\"내 검색어 등록\" href=\"javascript:;\"><em class=\"spat\">내 검색어 등록</em></a><a href=\"javascript:;\" class=\"keyword\">@txt@</a><em class=\"keyword_date\">@date@.</em><a href=\"javascript:;\" class=\"btn_delete spat _del\" title=\"검색어삭제\">삭제</a><span style=\"display:none\">@in_txt@</span></li></ul>\\n                <div class=\"info_words _recentNone\" style=\"display:none\">최근검색어 내역이 없습니다.</div>\\n                <p class=\"info_words _offMsg\" style=\"display:none\">검색어 저장 기능이 꺼져 있습니다.</p>\\n            </div>\\n            <div class=\"words _my\" style=\"display:none\">\\n                <ul><li data-rank=\"@rank@\"><a class=\"ton _star _myBtn\" title=\"내 검색어 해제\" href=\"javascript:;\"><em class=\"spat\">내 검색어 해제</em></a><a href=\"javascript:;\" class=\"keyword\">@txt@</a></li></ul>\\n                <div class=\"info_words _myNone\" style=\"display:none\">설정된 내 검색어가 없습니다.<br />최근검색어에서 <span class=\"star spat\">내 검색어 등록</span>를 선택하여 자주 찾는 검색어를<br />내 검색어로 저장해 보세요.</div>\\n                <p class=\"info_words _offMsg\" style=\"display:none\">검색어 저장 기능이 꺼져 있습니다.</p>\\n            </div>\\n            <p class=\"noti _noti\" style=\"display:none\"><em class=\"ico_noti spat\"><span class=\"blind\">알림</span></em>공용 PC에서는 개인정보 보호를 위하여 반드시 로그아웃을 해 주세요.</p>\\n            <p class=\"func _recentBtnGroup\"><span class=\"fl\"><a class=\"_delMode\" href=\"javascript:;\">기록 삭제</a></span><span><a class=\"_keywordOff\" href=\"javascript:;\">검색어저장 끄기</a><span class=\"atcmp_bar\"></span><a class=\"_acOff\" href=\"javascript:;\">자동완성 끄기</a></span></p>\\n            <p class=\"func _recentDelBtnGroup\" style=\"display:none\"><span class=\"fl\"><a class=\"_delAll\" href=\"javascript:;\" title=\"최근 검색어 기록을 모두 삭제합니다.\">기록 전체 삭제</a></span><span><a class=\"_delDone\" href=\"javascript:;\">완료</a></span></p>\\n            <p class=\"func _myBtnGroup\" style=\"display:none\"><span class=\"fl\"><a class=\"_delAll\" href=\"javascript:;\" title=\"설정된 내 검색어를 모두 삭제합니다.\">기록 전체 삭제</a></span><span><a class=\"_keywordOff\" href=\"javascript:;\">검색어저장 끄기</a><span class=\"atcmp_bar\"></span><a class=\"_acOff\" href=\"javascript:;\">자동완성 끄기</a></span></p>\\n            <span class=\"atcmp_helper _help2\">기능을 다시 켤 때는 <em class=\"ico_search spat\">자동완성 펼치기</em>을 클릭하세요</span>\\n            <div class=\"ly_noti _maxLayer\" style=\"display:none\">\\n                <span class=\"mask\"></span>\\n                <p><span class=\"ico_alert spat\"></span>내 검색어는 <em>최대 10</em>개 까지 저장할 수 있습니다.<br />추가하시려면 기존 내 검색어를 지워주세요. <a href=\"javascript:;\" class=\"btn_close _close\"><i class=\"spat ico_close\">닫기</i></a></p>\\n            </div>\\n        </div>\\n    </div>\\n    <!-- 자동완성 안내문구 (선거) -->\\n    <div class=\"api_atcmp_wrap _alert\" style=\"display:none;\">\\n        <div class=\"api_atcmp_alert\">\\n            <span class=\"ico_alert spat\"></span>\\n            <p class=\"dsc_txt\"><em class=\"_passage\"></em><br>\\n                <a class=\"_link\" target=\"_blank\" href=\"\" onclick=\"clickcr(this,\\'sug.vote\\',\\'\\',\\'\\',event);\">자세히보기</a></p>\\n        </div>\\n    </div>\\n    <!-- //자동완성 안내문구 (선거) -->\\n    <!-- [D] IE 계열, wmode=\"window\" flash와 겹치지 않기 위함 -->\\n    <iframe vspace=\"0\" hspace=\"0\" border=\"0\" style=\"display:none;display:block\\\\9;display:block\\\\0/;position:absolute;left:0;top:0;width:100%;height:100%;z-index:-1;\" title=\"빈 프레임\"></iframe>\\n</div>\\t\\t\\t\\n<!--자동완성 레이어 -->\\n\\n<!--자동완성 템플릿 추가-->\\n<!-- 신규 공통 템플릿 -->\\n<script type=\"text/template\" id=\"_atcmp_answer_0\">\\n    <div class=\"add_opt _item\" data-sm=\"@2@\" data-keyword=\"@1@\" data-template_id=\"@0@\" data-acir=\"@rank@\" data-os=\"@8@\" data-bid=\"@9@\" data-eid=\"@3@\" data-pkid=\"@10@\" data-mra=\"@11@\" >\\n        <a href=\"#\" class=\"opt_dsc\">\\n            <span class=\"dsc_thmb\" style=\"@style7@\">@image7@</span>\\n            <span class=\"dsc_group\">\\n                <span class=\"dsc_cate\">@6@</span>\\n                <strong class=\"dsc_word\">@1@</strong>\\n                <span class=\"dsc_sub\" style=\"@style12@\">@12@</span>\\n            </span>\\n        </a>\\n    </div>\\n</script>\\n<!-- 로또당첨번호 -->\\n<script type=\"text/template\" id=\"_atcmp_answer_3\">\\n    <div class=\"add_opt _item\" data-sm=\"@2@\" data-keyword=\"@1@\" data-template_id=\"@0@\" data-acir=\"@rank@\">\\n        <a href=\"javascript:;\" class=\"opt_lotto\">\\n            <span class=\"lotto_num_area\">\\n                <span class=\"spat lotto_num lotto_num@6@\">@6@</span><span class=\"spat lotto_num lotto_num@7@\">@7@</span><span class=\"spat lotto_num lotto_num@8@\">@8@</span><span class=\"spat lotto_num lotto_num@9@\">@9@</span><span class=\"spat lotto_num lotto_num@10@\">@10@</span><span class=\"spat lotto_num lotto_num@11@\">@11@</span><span class=\"spat lotto_bonus\">+</span><span class=\"spat lotto_num lotto_num@12@\">@12@</span>\\n            </span>\\n            <span class=\"lotto_sub\">@5@회차<em class=\"lotto_date\">(@13@.)</em></span>\\n        </a>\\n    </div>\\n</script>\\n<!-- 환율:엔화환율 -->\\n<script type=\"text/template\" id=\"_atcmp_answer_9\">\\n    <div class=\"add_opt _item\" data-sm=\"@2@\" data-keyword=\"@1@\" data-template_id=\"@0@\" data-acir=\"@rank@\">\\n        <a href=\"javascript:;\" class=\"opt_exchange opt_exchange_@11@\">\\n            <span class=\"opt_nation\">\\n                <img src=\"https://ssl.pstatic.net/sstatic/keypage/lifesrch/exchange/ico_@12@1.gif\" alt=\"\" />\\n                @14@<span class=\"tx_nation\">@money@</span>\\n            </span>\\n            <span class=\"opt_amount\">\\n                <span class=\"amount\"><strong>@6@</strong>원</span><span class=\"changes\"><i class=\"bullet\">@10@</i> @8@ (@9@%)<span class=\"opt_time\"><time datetime=\"@fulldate@\">@7@</time></span></span>\\n            </span>\\n        </a>\\n    </div>\\n</script>\\n<!-- 해외날씨 : 파리날씨 -->\\n<script type=\"text/template\" id=\"_atcmp_answer_10\">\\n    <div class=\"add_opt _item\" data-sm=\"@2@\" data-keyword=\"@1@\" data-template_id=\"@0@\" data-acir=\"@rank@\">\\n        <a href=\"javascript:;\" class=\"opt_weather\">\\n            <span class=\"opt_weather_thmb\">\\n                <img src=\"https://ssl.pstatic.net/sstatic/search/pc/img/wt_@6@.png\" width=\"56\" height=\"56\" alt=\"@7@\">\\n            </span>\\n            <span class=\"opt_weather_group\">\\n                <span class=\"opt_weather_state\">@7@</span>\\n                <span class=\"opt_weather_state\">기온 <em class=\"opt_deg\">@8@</em><span class=\"opt_unit\">℃</span></span>\\n                <span class=\"opt_weather_state\">@9@ <em>@10@</em><span class=\"opt_unit\">@11@</span></span>\\n\\t\\t\\t\\t<span class=\"opt_weather_state\"><span class=\"opt_time\"><time datetime=\"@fulldate@\">@5@</time></span></span>\\n            </span>\\n        </a>\\n    </div>\\n</script>\\n<!-- 국내날씨 : 서울날씨 -->\\n<script type=\"text/template\" id=\"_atcmp_answer_11\">\\n    <div class=\"add_opt _item\" data-sm=\"@2@\" data-keyword=\"@1@\" data-template_id=\"@0@\" data-acir=\"@rank@\">\\n        <a href=\"javascript:;\" class=\"opt_weather\">\\n            <span class=\"opt_weather_thmb\">\\n                <img src=\"https://ssl.pstatic.net/sstatic/search/pc/img/wt_@6@.png\" width=\"56\" height=\"56\" alt=\"@7@\">\\n            </span>\\n            <span class=\"opt_weather_group\">\\n                <span class=\"opt_weather_state\">@7@</span>\\n                <span class=\"opt_weather_state\">기온 <em class=\"opt_deg\">@8@</em><span class=\"opt_unit\">℃</span></span>\\n                <span class=\"opt_weather_state\">@9@ <em>@10@</em><span class=\"opt_unit\">@11@</span></span>\\n\\t\\t\\t\\t<span class=\"opt_weather_state\"><span class=\"opt_time\"><time datetime=\"@fulldate@\">@5@</time></span></span>\\n            </span>\\n        </a>\\n    </div>\\n</script>\\n<!-- 바로가기 -->\\n<script type=\"text/template\" id=\"_atcmp_answer_17\">\\n    <div class=\"add_opt _item\" data-sm=\"@2@\" data-keyword=\"@1@\" data-template_id=\"@0@\" data-acir=\"@rank@\">\\n        <a href=\"@5@\" target=\"_blank\" class=\"opt_shortcut\">\\n            <span class=\"opt_url\">@display_link@</span>\\n            <span class=\"opt_txt\">사이트로 바로 이동</span>\\n        </a>\\n    </div>\\n</script>\\n<!-- 해외날씨 : 국내날씨 형태로 제공하기 위한 새로운 템플릿(10번으로 ID변경됨) -->\\n<script type=\"text/template\" id=\"_atcmp_answer_20\"></script>\\n<!-- 문맥검색 -->\\n<script type=\"text/template\" id=\"_atcmp_intend\">\\n    <div class=\"add_opt type_context _item\" data-sm=\"asct\" data-keyword=\"@transquery@\" data-acir=\"@rank@\">\\n        <a href=\"#\" class=\"opt_context\">\\n            <span class=\"opt_tit\"><strong>@query@</strong></span>\\n            <span class=\"opt_sub\">@intend@</span>\\n        </a>\\n    </div>\\n</script>\\n<!-- 결과 키워드 템플릿 (좌측 결과목록 템플릿:정답형 템플릿 아님) -->\\n<script type=\"text/template\" id=\"_atcmp_result_item_tpl\">\\n    <li class=\"_item @url_class@\" data-acr=\"@rank@\">\\n        <a href=\"#\" class=\"atcmp_keyword\" onclick=\"return false;\" title=\"\"><span class=\"atcmp_keyword_txt\">@txt@<span class=\"spat ic_expand\"></span></span></a>\\n        <a href=\"@url@\" target=\"_blank\" class=\"mquick\">바로이동</a>\\n        <span style=\"display:none\">@in_txt@</span>\\n    </li>\\n</script>\\n<!-- 일반 자동완성 하이라이팅 템플릿 -->\\n<script type=\"text/template\" id=\"_atcmp_keyword_highlight_tpl\">\\n    @mismatch_before@<strong>@match@</strong>@mismatch_after@\\n</script>\\n<!-- 부분 자동완성 하이라이팅 템플릿 -->\\n<script type=\"text/template\" id=\"_atcmp_keyword_partial_match_highlight_tpl\">\\n    @mismatch_before@<strong>@match@</strong>@mismatch_after@\\n</script>\\n<!--자동완성 템플릿 추가-->\\n</div>\\n<!-- EMPTY --></div>\\n</div>\\n\\n\\t<div class=\"section_navbar\">\\n\\t\\t<div class=\"area_navigation\" role=\"navigation\">\\n\\t\\t\\t<ul class=\"an_l\">\\n\\t\\t\\t\\t<li class=\"an_item\">\\n\\t\\t\\t\\t\\t<a href=\"http://mail.naver.com/\" class=\"an_a mn_mail\" data-clk=\"svc.mail\">\\n\\t\\t\\t\\t\\t\\t<span class=\"an_icon\"></span><span class=\"an_txt\">메일</span>\\n\\t\\t\\t\\t\\t</a>\\n\\t\\t\\t\\t</li>\\n\\t\\t\\t\\t<li class=\"an_item\">\\n\\t\\t\\t\\t\\t<a href=\"http://section.cafe.naver.com/\" class=\"an_a mn_cafe\" data-clk=\"svc.cafe\">\\n\\t\\t\\t\\t\\t\\t<span class=\"an_icon\"></span><span class=\"an_txt\">카페</span>\\n\\t\\t\\t\\t\\t</a>\\n\\t\\t\\t\\t</li>\\n\\t\\t\\t\\t<li class=\"an_item\">\\n\\t\\t\\t\\t\\t<a href=\"http://section.blog.naver.com/\" class=\"an_a mn_blog\" data-clk=\"svc.blog\">\\n\\t\\t\\t\\t\\t\\t<span class=\"an_icon\"></span><span class=\"an_txt\">블로그</span>\\n\\t\\t\\t\\t\\t</a>\\n\\t\\t\\t\\t</li>\\n\\t\\t\\t\\t<li class=\"an_item\">\\n\\t\\t\\t\\t\\t<a href=\"http://kin.naver.com/\" class=\"an_a mn_kin\" data-clk=\"svc.kin\">\\n\\t\\t\\t\\t\\t\\t<span class=\"an_icon\"></span><span class=\"an_txt\">지식인</span>\\n\\t\\t\\t\\t\\t</a>\\n\\t\\t\\t\\t</li>\\n\\t\\t\\t\\t<li class=\"an_item\">\\n\\t\\t\\t\\t\\t<a href=\"http://shopping2.naver.com/\" class=\"an_a mn_shopping\" data-clk=\"svc.shopping\">\\n\\t\\t\\t\\t\\t\\t<span class=\"an_icon\"></span><span class=\"an_txt\">쇼핑</span>\\n\\t\\t\\t\\t\\t</a>\\n\\t\\t\\t\\t</li>\\n\\t\\t\\t\\t<li class=\"an_item\">\\n\\t\\t\\t\\t\\t<a href=\"http://pay.naver.com/\" class=\"an_a mn_checkout\" data-clk=\"svc.pay\">\\n\\t\\t\\t\\t\\t\\t<span class=\"an_icon\"></span><span class=\"an_txt\">네이버페이</span>\\n\\t\\t\\t\\t\\t</a>\\n\\t\\t\\t\\t</li>\\n\\t\\t\\t\\t<li class=\"an_item\">\\n\\t\\t\\t\\t\\t<a href=\"http://tv.naver.com/\" class=\"an_a mn_tvcast\" data-clk=\"svc.tvcast\">\\n\\t\\t\\t\\t\\t\\t<span class=\"an_icon\"></span><span class=\"an_txt\">네이버TV</span>\\n\\t\\t\\t\\t\\t</a>\\n\\t\\t\\t\\t</li>\\t\\n\\t\\t\\t</ul>\\n\\t\\t\\t<ul id=\"PM_ID_serviceNavi\"  class=\"an_l\">\\n\\t\\t\\t\\t<li class=\"an_item\"><a href=\"http://dic.naver.com/\" class=\"an_a mn_dic\" data-clk=\"svc.dic\"><span class=\"an_icon\"></span><span class=\"an_txt\">사전</span></a></li>\\n<li class=\"an_item\"><a href=\"http://news.naver.com/\" class=\"an_a mn_news\" data-clk=\"svc.news\"><span class=\"an_icon\"></span><span class=\"an_txt\">뉴스</span></a></li>\\n<li class=\"an_item\"><a href=\"http://finance.naver.com/\" class=\"an_a mn_stock\" data-clk=\"svc.stock\"><span class=\"an_icon\"></span><span class=\"an_txt\">증권(금융)</span></a></li>\\n<li class=\"an_item\"><a href=\"http://land.naver.com/\" class=\"an_a mn_land\" data-clk=\"svc.land\"><span class=\"an_icon\"></span><span class=\"an_txt\">부동산</span></a></li>\\n<li class=\"an_item\"><a href=\"https://map.naver.com/\" class=\"an_a mn_map\" data-clk=\"svc.map\"><span class=\"an_icon\"></span><span class=\"an_txt\">지도</span></a></li>\\n<li class=\"an_item\"><a href=\"http://movie.naver.com/\" class=\"an_a mn_movie\" data-clk=\"svc.movie\"><span class=\"an_icon\"></span><span class=\"an_txt\">영화</span></a></li>\\n<li class=\"an_item\"><a href=\"http://music.naver.com\" class=\"an_a mn_music\" data-clk=\"svc.music\"><span class=\"an_icon\"></span><span class=\"an_txt\">뮤직</span></a></li>\\n<li class=\"an_item\"><a href=\"http://book.naver.com/\" class=\"an_a mn_book\" data-clk=\"svc.book\"><span class=\"an_icon\"></span><span class=\"an_txt\">책</span></a></li>\\n<li class=\"an_item\"><a href=\"http://comic.naver.com/\" class=\"an_a mn_comic\" data-clk=\"svc.webtoon\"><span class=\"an_icon\"></span><span class=\"an_txt\">만화 / 웹툰</span></a></li>\\n\\n\\t\\t\\t</ul>\\n\\t\\t\\t<ul id=\"PM_ID_serviceNaviEmpty\" class=\"an_l an_custom\" style=\"display:none\">\\n\\t\\t\\t\\t<li class=\"an_item an_pointer\"><span class=\"an_empty\"></span></li>\\n\\t\\t\\t\\t<li class=\"an_item\"><span class=\"an_empty\"></span></li>\\n\\t\\t\\t\\t<li class=\"an_item\"><span class=\"an_empty\"></span></li>\\n\\t\\t\\t\\t<li class=\"an_item\"><span class=\"an_empty\"></span></li>\\n\\t\\t\\t\\t<li class=\"an_item\"><span class=\"an_empty\"></span></li>\\n\\t\\t\\t</ul>\\n\\t\\t\\t<div class=\"an_bar\"></div>\\n\\t\\t\\t<a href=\"#\" id=\"PM_ID_btnServiceMore\" role=\"button\" class=\"PM_CL_btnServiceMore an_btn_more\" data-clk=\"svc.more\"><span class=\"an_mtxt\"><span class=\"blind\">더보기</span></span><span class=\"ico_an_more\"></span></a>\\n\\t\\t</div>\\n\\t\\t<div class=\"area_hotkeyword PM_CL_realtimeKeyword_base\">\\n\\t\\t\\t<div class=\"ah_roll PM_CL_realtimeKeyword_rolling_base\" aria-hidden=\"false\">\\n<h3 class=\"blind\">급상승 검색어 검색어</h3>\\n<div class=\"ah_roll_area PM_CL_realtimeKeyword_rolling\">\\n<ul class=\"ah_l\">\\n<li class=\"ah_item\">\\n<a href=\"#\" class=\"ah_a\" data-clk=\"lve.keyword\">\\n<span class=\"ah_r\">1</span>\\n<span class=\"ah_k\">변수미</span>\\n</a>\\n</li>\\n<li class=\"ah_item\">\\n<a href=\"#\" class=\"ah_a\" data-clk=\"lve.keyword\">\\n<span class=\"ah_r\">2</span>\\n<span class=\"ah_k\">이용대</span>\\n</a>\\n</li>\\n<li class=\"ah_item\">\\n<a href=\"#\" class=\"ah_a\" data-clk=\"lve.keyword\">\\n<span class=\"ah_r\">3</span>\\n<span class=\"ah_k\">원준</span>\\n</a>\\n</li>\\n<li class=\"ah_item\">\\n<a href=\"#\" class=\"ah_a\" data-clk=\"lve.keyword\">\\n<span class=\"ah_r\">4</span>\\n<span class=\"ah_k\">권광진</span>\\n</a>\\n</li>\\n<li class=\"ah_item\">\\n<a href=\"#\" class=\"ah_a\" data-clk=\"lve.keyword\">\\n<span class=\"ah_r\">5</span>\\n<span class=\"ah_k\">강릉펜션사고</span>\\n</a>\\n</li>\\n<li class=\"ah_item\">\\n<a href=\"#\" class=\"ah_a\" data-clk=\"lve.keyword\">\\n<span class=\"ah_r\">6</span>\\n<span class=\"ah_k\">택시파업</span>\\n</a>\\n</li>\\n<li class=\"ah_item\">\\n<a href=\"#\" class=\"ah_a\" data-clk=\"lve.keyword\">\\n<span class=\"ah_r\">7</span>\\n<span class=\"ah_k\">3기 신도시 발표</span>\\n</a>\\n</li>\\n<li class=\"ah_item\">\\n<a href=\"#\" class=\"ah_a\" data-clk=\"lve.keyword\">\\n<span class=\"ah_r\">8</span>\\n<span class=\"ah_k\">남양주 왕숙</span>\\n</a>\\n</li>\\n<li class=\"ah_item\">\\n<a href=\"#\" class=\"ah_a\" data-clk=\"lve.keyword\">\\n<span class=\"ah_r\">9</span>\\n<span class=\"ah_k\">일산화탄소 경보기</span>\\n</a>\\n</li>\\n<li class=\"ah_item\">\\n<a href=\"#\" class=\"ah_a\" data-clk=\"lve.keyword\">\\n<span class=\"ah_r\">10</span>\\n<span class=\"ah_k\">이택근</span>\\n</a>\\n</li>\\n<li class=\"ah_item\">\\n<a href=\"#\" class=\"ah_a\" data-clk=\"lve.keyword\">\\n<span class=\"ah_r\">11</span>\\n<span class=\"ah_k\">엔플라잉 권광진</span>\\n</a>\\n</li>\\n<li class=\"ah_item\">\\n<a href=\"#\" class=\"ah_a\" data-clk=\"lve.keyword\">\\n<span class=\"ah_r\">12</span>\\n<span class=\"ah_k\">하남 교산</span>\\n</a>\\n</li>\\n<li class=\"ah_item\">\\n<a href=\"#\" class=\"ah_a\" data-clk=\"lve.keyword\">\\n<span class=\"ah_r\">13</span>\\n<span class=\"ah_k\">낸시랭</span>\\n</a>\\n</li>\\n<li class=\"ah_item\">\\n<a href=\"#\" class=\"ah_a\" data-clk=\"lve.keyword\">\\n<span class=\"ah_r\">14</span>\\n<span class=\"ah_k\">문우람</span>\\n</a>\\n</li>\\n<li class=\"ah_item\">\\n<a href=\"#\" class=\"ah_a\" data-clk=\"lve.keyword\">\\n<span class=\"ah_r\">15</span>\\n<span class=\"ah_k\">왕진진</span>\\n</a>\\n</li>\\n<li class=\"ah_item\">\\n<a href=\"#\" class=\"ah_a\" data-clk=\"lve.keyword\">\\n<span class=\"ah_r\">16</span>\\n<span class=\"ah_k\">계춘할망</span>\\n</a>\\n</li>\\n<li class=\"ah_item\">\\n<a href=\"#\" class=\"ah_a\" data-clk=\"lve.keyword\">\\n<span class=\"ah_r\">17</span>\\n<span class=\"ah_k\">계양신도시</span>\\n</a>\\n</li>\\n<li class=\"ah_item\">\\n<a href=\"#\" class=\"ah_a\" data-clk=\"lve.keyword\">\\n<span class=\"ah_r\">18</span>\\n<span class=\"ah_k\">2기 신도시</span>\\n</a>\\n</li>\\n<li class=\"ah_item\">\\n<a href=\"#\" class=\"ah_a\" data-clk=\"lve.keyword\">\\n<span class=\"ah_r\">19</span>\\n<span class=\"ah_k\">영화 아쿠아맨</span>\\n</a>\\n</li>\\n<li class=\"ah_item\">\\n<a href=\"#\" class=\"ah_a\" data-clk=\"lve.keyword\">\\n<span class=\"ah_r\">20</span>\\n<span class=\"ah_k\">배그 점검</span>\\n</a>\\n</li>\\n</ul>\\n</div>\\n</div>\\n\\t\\t\\t<span class=\"ah_ico_open\"></span>\\n\\t\\t\\t<div class=\"ah_list PM_CL_realtimeKeyword_list_base\" aria-hidden=\"true\">\\n<h3 class=\"ah_ltit\">급상승 검색어</h3>\\n<a href=\"http://datalab.naver.com/keyword/realtimeList.naver?where=main\" class=\"ah_ha\" data-clk=\"lve.rankhistory\"><span class=\"ah_ico_datalab\">DataLab.</span>급상승 트래킹<span class=\"ah_ico_hlink\"></span></a>\\n<div class=\"ah_tab\">\\n<a href=\"#\" role=\"tab\" class=\"ah_tab_btn ah_tab_on\" data-tab=\"1to10\" data-clk=\"lve.tab1\">1~10위</a>\\n<a href=\"#\" role=\"tab\" class=\"ah_tab_btn\" data-tab=\"11to20\" data-clk=\"lve.tab2\">11~20위</a>\\n</div>\\n<h4 class=\"blind PM_CL_realtimeKeyword_sublist_heading\">급상승 검색어 1~10위</h4>\\n<ul class=\"ah_l\" data-list=\"1to10\">\\n<li class=\"ah_item\" data-order=\"1\">\\n<a href=\"http://search.naver.com/search.naver?where=nexearch&query=%EB%B3%80%EC%88%98%EB%AF%B8&sm=top_lve&ie=utf8\" class=\"ah_a\" data-ssl=\"https://search.naver.com/search.naver?where=nexearch&query=%EB%B3%80%EC%88%98%EB%AF%B8&sm=top_lve&ie=utf8\" data-clk=\"lve.keyword\">\\n<span class=\"ah_r\">1</span>\\n<span class=\"ah_k\">변수미</span>\\n</a>\\n<a href=\"http://datalab.naver.com/keyword/realtimeDetail.naver?datetime=2018-12-19T17:24:00&query=%EB%B3%80%EC%88%98%EB%AF%B8&where=main\" class=\"ah_da\" data-clk=\"lve.kwdhistory\">\\n<span class=\"blind\">데이터랩 그래프 보기</span>\\n<span class=\"ah_ico_datagraph\"></span>\\n</a>\\n</li>\\n<li class=\"ah_item\" data-order=\"2\">\\n<a href=\"http://search.naver.com/search.naver?where=nexearch&query=%EC%9D%B4%EC%9A%A9%EB%8C%80&sm=top_lve&ie=utf8\" class=\"ah_a\" data-ssl=\"https://search.naver.com/search.naver?where=nexearch&query=%EC%9D%B4%EC%9A%A9%EB%8C%80&sm=top_lve&ie=utf8\" data-clk=\"lve.keyword\">\\n<span class=\"ah_r\">2</span>\\n<span class=\"ah_k\">이용대</span>\\n</a>\\n<a href=\"http://datalab.naver.com/keyword/realtimeDetail.naver?datetime=2018-12-19T17:24:00&query=%EC%9D%B4%EC%9A%A9%EB%8C%80&where=main\" class=\"ah_da\" data-clk=\"lve.kwdhistory\">\\n<span class=\"blind\">데이터랩 그래프 보기</span>\\n<span class=\"ah_ico_datagraph\"></span>\\n</a>\\n</li>\\n<li class=\"ah_item\" data-order=\"3\">\\n<a href=\"http://search.naver.com/search.naver?where=nexearch&query=%EC%9B%90%EC%A4%80&sm=top_lve&ie=utf8\" class=\"ah_a\" data-ssl=\"https://search.naver.com/search.naver?where=nexearch&query=%EC%9B%90%EC%A4%80&sm=top_lve&ie=utf8\" data-clk=\"lve.keyword\">\\n<span class=\"ah_r\">3</span>\\n<span class=\"ah_k\">원준</span>\\n</a>\\n<a href=\"http://datalab.naver.com/keyword/realtimeDetail.naver?datetime=2018-12-19T17:24:00&query=%EC%9B%90%EC%A4%80&where=main\" class=\"ah_da\" data-clk=\"lve.kwdhistory\">\\n<span class=\"blind\">데이터랩 그래프 보기</span>\\n<span class=\"ah_ico_datagraph\"></span>\\n</a>\\n</li>\\n<li class=\"ah_item\" data-order=\"4\">\\n<a href=\"http://search.naver.com/search.naver?where=nexearch&query=%EA%B6%8C%EA%B4%91%EC%A7%84&sm=top_lve&ie=utf8\" class=\"ah_a\" data-ssl=\"https://search.naver.com/search.naver?where=nexearch&query=%EA%B6%8C%EA%B4%91%EC%A7%84&sm=top_lve&ie=utf8\" data-clk=\"lve.keyword\">\\n<span class=\"ah_r\">4</span>\\n<span class=\"ah_k\">권광진</span>\\n</a>\\n<a href=\"http://datalab.naver.com/keyword/realtimeDetail.naver?datetime=2018-12-19T17:24:00&query=%EA%B6%8C%EA%B4%91%EC%A7%84&where=main\" class=\"ah_da\" data-clk=\"lve.kwdhistory\">\\n<span class=\"blind\">데이터랩 그래프 보기</span>\\n<span class=\"ah_ico_datagraph\"></span>\\n</a>\\n</li>\\n<li class=\"ah_item\" data-order=\"5\">\\n<a href=\"http://search.naver.com/search.naver?where=nexearch&query=%EA%B0%95%EB%A6%89%ED%8E%9C%EC%85%98%EC%82%AC%EA%B3%A0&sm=top_lve&ie=utf8\" class=\"ah_a\" data-ssl=\"https://search.naver.com/search.naver?where=nexearch&query=%EA%B0%95%EB%A6%89%ED%8E%9C%EC%85%98%EC%82%AC%EA%B3%A0&sm=top_lve&ie=utf8\" data-clk=\"lve.keyword\">\\n<span class=\"ah_r\">5</span>\\n<span class=\"ah_k\">강릉펜션사고</span>\\n</a>\\n<a href=\"http://datalab.naver.com/keyword/realtimeDetail.naver?datetime=2018-12-19T17:24:00&query=%EA%B0%95%EB%A6%89%ED%8E%9C%EC%85%98%EC%82%AC%EA%B3%A0&where=main\" class=\"ah_da\" data-clk=\"lve.kwdhistory\">\\n<span class=\"blind\">데이터랩 그래프 보기</span>\\n<span class=\"ah_ico_datagraph\"></span>\\n</a>\\n</li>\\n<li class=\"ah_item\" data-order=\"6\">\\n<a href=\"http://search.naver.com/search.naver?where=nexearch&query=%ED%83%9D%EC%8B%9C%ED%8C%8C%EC%97%85&sm=top_lve&ie=utf8\" class=\"ah_a\" data-ssl=\"https://search.naver.com/search.naver?where=nexearch&query=%ED%83%9D%EC%8B%9C%ED%8C%8C%EC%97%85&sm=top_lve&ie=utf8\" data-clk=\"lve.keyword\">\\n<span class=\"ah_r\">6</span>\\n<span class=\"ah_k\">택시파업</span>\\n</a>\\n<a href=\"http://datalab.naver.com/keyword/realtimeDetail.naver?datetime=2018-12-19T17:24:00&query=%ED%83%9D%EC%8B%9C%ED%8C%8C%EC%97%85&where=main\" class=\"ah_da\" data-clk=\"lve.kwdhistory\">\\n<span class=\"blind\">데이터랩 그래프 보기</span>\\n<span class=\"ah_ico_datagraph\"></span>\\n</a>\\n</li>\\n<li class=\"ah_item\" data-order=\"7\">\\n<a href=\"http://search.naver.com/search.naver?where=nexearch&query=3%EA%B8%B0+%EC%8B%A0%EB%8F%84%EC%8B%9C+%EB%B0%9C%ED%91%9C&sm=top_lve&ie=utf8\" class=\"ah_a\" data-ssl=\"https://search.naver.com/search.naver?where=nexearch&query=3%EA%B8%B0+%EC%8B%A0%EB%8F%84%EC%8B%9C+%EB%B0%9C%ED%91%9C&sm=top_lve&ie=utf8\" data-clk=\"lve.keyword\">\\n<span class=\"ah_r\">7</span>\\n<span class=\"ah_k\">3기 신도시 발표</span>\\n</a>\\n<a href=\"http://datalab.naver.com/keyword/realtimeDetail.naver?datetime=2018-12-19T17:24:00&query=3%EA%B8%B0+%EC%8B%A0%EB%8F%84%EC%8B%9C+%EB%B0%9C%ED%91%9C&where=main\" class=\"ah_da\" data-clk=\"lve.kwdhistory\">\\n<span class=\"blind\">데이터랩 그래프 보기</span>\\n<span class=\"ah_ico_datagraph\"></span>\\n</a>\\n</li>\\n<li class=\"ah_item\" data-order=\"8\">\\n<a href=\"http://search.naver.com/search.naver?where=nexearch&query=%EB%82%A8%EC%96%91%EC%A3%BC+%EC%99%95%EC%88%99&sm=top_lve&ie=utf8\" class=\"ah_a\" data-ssl=\"https://search.naver.com/search.naver?where=nexearch&query=%EB%82%A8%EC%96%91%EC%A3%BC+%EC%99%95%EC%88%99&sm=top_lve&ie=utf8\" data-clk=\"lve.keyword\">\\n<span class=\"ah_r\">8</span>\\n<span class=\"ah_k\">남양주 왕숙</span>\\n</a>\\n<a href=\"http://datalab.naver.com/keyword/realtimeDetail.naver?datetime=2018-12-19T17:24:00&query=%EB%82%A8%EC%96%91%EC%A3%BC+%EC%99%95%EC%88%99&where=main\" class=\"ah_da\" data-clk=\"lve.kwdhistory\">\\n<span class=\"blind\">데이터랩 그래프 보기</span>\\n<span class=\"ah_ico_datagraph\"></span>\\n</a>\\n</li>\\n<li class=\"ah_item\" data-order=\"9\">\\n<a href=\"http://search.naver.com/search.naver?where=nexearch&query=%EC%9D%BC%EC%82%B0%ED%99%94%ED%83%84%EC%86%8C+%EA%B2%BD%EB%B3%B4%EA%B8%B0&sm=top_lve&ie=utf8\" class=\"ah_a\" data-ssl=\"https://search.naver.com/search.naver?where=nexearch&query=%EC%9D%BC%EC%82%B0%ED%99%94%ED%83%84%EC%86%8C+%EA%B2%BD%EB%B3%B4%EA%B8%B0&sm=top_lve&ie=utf8\" data-clk=\"lve.keyword\">\\n<span class=\"ah_r\">9</span>\\n<span class=\"ah_k\">일산화탄소 경보기</span>\\n</a>\\n<a href=\"http://datalab.naver.com/keyword/realtimeDetail.naver?datetime=2018-12-19T17:24:00&query=%EC%9D%BC%EC%82%B0%ED%99%94%ED%83%84%EC%86%8C+%EA%B2%BD%EB%B3%B4%EA%B8%B0&where=main\" class=\"ah_da\" data-clk=\"lve.kwdhistory\">\\n<span class=\"blind\">데이터랩 그래프 보기</span>\\n<span class=\"ah_ico_datagraph\"></span>\\n</a>\\n</li>\\n<li class=\"ah_item\" data-order=\"10\">\\n<a href=\"http://search.naver.com/search.naver?where=nexearch&query=%EC%9D%B4%ED%83%9D%EA%B7%BC&sm=top_lve&ie=utf8\" class=\"ah_a\" data-ssl=\"https://search.naver.com/search.naver?where=nexearch&query=%EC%9D%B4%ED%83%9D%EA%B7%BC&sm=top_lve&ie=utf8\" data-clk=\"lve.keyword\">\\n<span class=\"ah_r\">10</span>\\n<span class=\"ah_k\">이택근</span>\\n</a>\\n<a href=\"http://datalab.naver.com/keyword/realtimeDetail.naver?datetime=2018-12-19T17:24:00&query=%EC%9D%B4%ED%83%9D%EA%B7%BC&where=main\" class=\"ah_da\" data-clk=\"lve.kwdhistory\">\\n<span class=\"blind\">데이터랩 그래프 보기</span>\\n<span class=\"ah_ico_datagraph\"></span>\\n</a>\\n</li>\\n</ul>\\n<ul class=\"ah_l\" style=\"display:none;\" data-list=\"11to20\">\\n<li class=\"ah_item\" data-order=\"11\">\\n<a href=\"http://search.naver.com/search.naver?where=nexearch&query=%EC%97%94%ED%94%8C%EB%9D%BC%EC%9E%89+%EA%B6%8C%EA%B4%91%EC%A7%84&sm=top_lve&ie=utf8\" class=\"ah_a\" data-ssl=\"https://search.naver.com/search.naver?where=nexearch&query=%EC%97%94%ED%94%8C%EB%9D%BC%EC%9E%89+%EA%B6%8C%EA%B4%91%EC%A7%84&sm=top_lve&ie=utf8\" data-clk=\"lve.keyword\">\\n<span class=\"ah_r\">11</span>\\n<span class=\"ah_k\">엔플라잉 권광진</span>\\n</a>\\n<a href=\"http://datalab.naver.com/keyword/realtimeDetail.naver?datetime=2018-12-19T17:24:00&query=%EC%97%94%ED%94%8C%EB%9D%BC%EC%9E%89+%EA%B6%8C%EA%B4%91%EC%A7%84&where=main\" class=\"ah_da\" data-clk=\"lve.kwdhistory\">\\n<span class=\"blind\">데이터랩 그래프 보기</span>\\n<span class=\"ah_ico_datagraph\"></span>\\n</a>\\n</li>\\n<li class=\"ah_item\" data-order=\"12\">\\n<a href=\"http://search.naver.com/search.naver?where=nexearch&query=%ED%95%98%EB%82%A8+%EA%B5%90%EC%82%B0&sm=top_lve&ie=utf8\" class=\"ah_a\" data-ssl=\"https://search.naver.com/search.naver?where=nexearch&query=%ED%95%98%EB%82%A8+%EA%B5%90%EC%82%B0&sm=top_lve&ie=utf8\" data-clk=\"lve.keyword\">\\n<span class=\"ah_r\">12</span>\\n<span class=\"ah_k\">하남 교산</span>\\n</a>\\n<a href=\"http://datalab.naver.com/keyword/realtimeDetail.naver?datetime=2018-12-19T17:24:00&query=%ED%95%98%EB%82%A8+%EA%B5%90%EC%82%B0&where=main\" class=\"ah_da\" data-clk=\"lve.kwdhistory\">\\n<span class=\"blind\">데이터랩 그래프 보기</span>\\n<span class=\"ah_ico_datagraph\"></span>\\n</a>\\n</li>\\n<li class=\"ah_item\" data-order=\"13\">\\n<a href=\"http://search.naver.com/search.naver?where=nexearch&query=%EB%82%B8%EC%8B%9C%EB%9E%AD&sm=top_lve&ie=utf8\" class=\"ah_a\" data-ssl=\"https://search.naver.com/search.naver?where=nexearch&query=%EB%82%B8%EC%8B%9C%EB%9E%AD&sm=top_lve&ie=utf8\" data-clk=\"lve.keyword\">\\n<span class=\"ah_r\">13</span>\\n<span class=\"ah_k\">낸시랭</span>\\n</a>\\n<a href=\"http://datalab.naver.com/keyword/realtimeDetail.naver?datetime=2018-12-19T17:24:00&query=%EB%82%B8%EC%8B%9C%EB%9E%AD&where=main\" class=\"ah_da\" data-clk=\"lve.kwdhistory\">\\n<span class=\"blind\">데이터랩 그래프 보기</span>\\n<span class=\"ah_ico_datagraph\"></span>\\n</a>\\n</li>\\n<li class=\"ah_item\" data-order=\"14\">\\n<a href=\"http://search.naver.com/search.naver?where=nexearch&query=%EB%AC%B8%EC%9A%B0%EB%9E%8C&sm=top_lve&ie=utf8\" class=\"ah_a\" data-ssl=\"https://search.naver.com/search.naver?where=nexearch&query=%EB%AC%B8%EC%9A%B0%EB%9E%8C&sm=top_lve&ie=utf8\" data-clk=\"lve.keyword\">\\n<span class=\"ah_r\">14</span>\\n<span class=\"ah_k\">문우람</span>\\n</a>\\n<a href=\"http://datalab.naver.com/keyword/realtimeDetail.naver?datetime=2018-12-19T17:24:00&query=%EB%AC%B8%EC%9A%B0%EB%9E%8C&where=main\" class=\"ah_da\" data-clk=\"lve.kwdhistory\">\\n<span class=\"blind\">데이터랩 그래프 보기</span>\\n<span class=\"ah_ico_datagraph\"></span>\\n</a>\\n</li>\\n<li class=\"ah_item\" data-order=\"15\">\\n<a href=\"http://search.naver.com/search.naver?where=nexearch&query=%EC%99%95%EC%A7%84%EC%A7%84&sm=top_lve&ie=utf8\" class=\"ah_a\" data-ssl=\"https://search.naver.com/search.naver?where=nexearch&query=%EC%99%95%EC%A7%84%EC%A7%84&sm=top_lve&ie=utf8\" data-clk=\"lve.keyword\">\\n<span class=\"ah_r\">15</span>\\n<span class=\"ah_k\">왕진진</span>\\n</a>\\n<a href=\"http://datalab.naver.com/keyword/realtimeDetail.naver?datetime=2018-12-19T17:24:00&query=%EC%99%95%EC%A7%84%EC%A7%84&where=main\" class=\"ah_da\" data-clk=\"lve.kwdhistory\">\\n<span class=\"blind\">데이터랩 그래프 보기</span>\\n<span class=\"ah_ico_datagraph\"></span>\\n</a>\\n</li>\\n<li class=\"ah_item\" data-order=\"16\">\\n<a href=\"http://search.naver.com/search.naver?where=nexearch&query=%EA%B3%84%EC%B6%98%ED%95%A0%EB%A7%9D&sm=top_lve&ie=utf8\" class=\"ah_a\" data-ssl=\"https://search.naver.com/search.naver?where=nexearch&query=%EA%B3%84%EC%B6%98%ED%95%A0%EB%A7%9D&sm=top_lve&ie=utf8\" data-clk=\"lve.keyword\">\\n<span class=\"ah_r\">16</span>\\n<span class=\"ah_k\">계춘할망</span>\\n</a>\\n<a href=\"http://datalab.naver.com/keyword/realtimeDetail.naver?datetime=2018-12-19T17:24:00&query=%EA%B3%84%EC%B6%98%ED%95%A0%EB%A7%9D&where=main\" class=\"ah_da\" data-clk=\"lve.kwdhistory\">\\n<span class=\"blind\">데이터랩 그래프 보기</span>\\n<span class=\"ah_ico_datagraph\"></span>\\n</a>\\n</li>\\n<li class=\"ah_item\" data-order=\"17\">\\n<a href=\"http://search.naver.com/search.naver?where=nexearch&query=%EA%B3%84%EC%96%91%EC%8B%A0%EB%8F%84%EC%8B%9C&sm=top_lve&ie=utf8\" class=\"ah_a\" data-ssl=\"https://search.naver.com/search.naver?where=nexearch&query=%EA%B3%84%EC%96%91%EC%8B%A0%EB%8F%84%EC%8B%9C&sm=top_lve&ie=utf8\" data-clk=\"lve.keyword\">\\n<span class=\"ah_r\">17</span>\\n<span class=\"ah_k\">계양신도시</span>\\n</a>\\n<a href=\"http://datalab.naver.com/keyword/realtimeDetail.naver?datetime=2018-12-19T17:24:00&query=%EA%B3%84%EC%96%91%EC%8B%A0%EB%8F%84%EC%8B%9C&where=main\" class=\"ah_da\" data-clk=\"lve.kwdhistory\">\\n<span class=\"blind\">데이터랩 그래프 보기</span>\\n<span class=\"ah_ico_datagraph\"></span>\\n</a>\\n</li>\\n<li class=\"ah_item\" data-order=\"18\">\\n<a href=\"http://search.naver.com/search.naver?where=nexearch&query=2%EA%B8%B0+%EC%8B%A0%EB%8F%84%EC%8B%9C&sm=top_lve&ie=utf8\" class=\"ah_a\" data-ssl=\"https://search.naver.com/search.naver?where=nexearch&query=2%EA%B8%B0+%EC%8B%A0%EB%8F%84%EC%8B%9C&sm=top_lve&ie=utf8\" data-clk=\"lve.keyword\">\\n<span class=\"ah_r\">18</span>\\n<span class=\"ah_k\">2기 신도시</span>\\n</a>\\n<a href=\"http://datalab.naver.com/keyword/realtimeDetail.naver?datetime=2018-12-19T17:24:00&query=2%EA%B8%B0+%EC%8B%A0%EB%8F%84%EC%8B%9C&where=main\" class=\"ah_da\" data-clk=\"lve.kwdhistory\">\\n<span class=\"blind\">데이터랩 그래프 보기</span>\\n<span class=\"ah_ico_datagraph\"></span>\\n</a>\\n</li>\\n<li class=\"ah_item\" data-order=\"19\">\\n<a href=\"http://search.naver.com/search.naver?where=nexearch&query=%EC%98%81%ED%99%94+%EC%95%84%EC%BF%A0%EC%95%84%EB%A7%A8&sm=top_lve&ie=utf8\" class=\"ah_a\" data-ssl=\"https://search.naver.com/search.naver?where=nexearch&query=%EC%98%81%ED%99%94+%EC%95%84%EC%BF%A0%EC%95%84%EB%A7%A8&sm=top_lve&ie=utf8\" data-clk=\"lve.keyword\">\\n<span class=\"ah_r\">19</span>\\n<span class=\"ah_k\">영화 아쿠아맨</span>\\n</a>\\n<a href=\"http://datalab.naver.com/keyword/realtimeDetail.naver?datetime=2018-12-19T17:24:00&query=%EC%98%81%ED%99%94+%EC%95%84%EC%BF%A0%EC%95%84%EB%A7%A8&where=main\" class=\"ah_da\" data-clk=\"lve.kwdhistory\">\\n<span class=\"blind\">데이터랩 그래프 보기</span>\\n<span class=\"ah_ico_datagraph\"></span>\\n</a>\\n</li>\\n<li class=\"ah_item\" data-order=\"20\">\\n<a href=\"http://search.naver.com/search.naver?where=nexearch&query=%EB%B0%B0%EA%B7%B8+%EC%A0%90%EA%B2%80&sm=top_lve&ie=utf8\" class=\"ah_a\" data-ssl=\"https://search.naver.com/search.naver?where=nexearch&query=%EB%B0%B0%EA%B7%B8+%EC%A0%90%EA%B2%80&sm=top_lve&ie=utf8\" data-clk=\"lve.keyword\">\\n<span class=\"ah_r\">20</span>\\n<span class=\"ah_k\">배그 점검</span>\\n</a>\\n<a href=\"http://datalab.naver.com/keyword/realtimeDetail.naver?datetime=2018-12-19T17:24:00&query=%EB%B0%B0%EA%B7%B8+%EC%A0%90%EA%B2%80&where=main\" class=\"ah_da\" data-clk=\"lve.kwdhistory\">\\n<span class=\"blind\">데이터랩 그래프 보기</span>\\n<span class=\"ah_ico_datagraph\"></span>\\n</a>\\n</li>\\n</ul>\\n<p class=\"ah_time\" data-time=\"20181219172400\">2018.12.19. 17:24:00 기준 <a href=\"http://help.naver.com/support/alias/search/word/word_5.naver\" data-ssl=\"https://help.naver.com/support/alias/search/word/word_5.naver\" class=\"ah_btn_help\" data-clk=\"lve.help\"><span class=\"ah_ico_help\"></span><span class=\"blind\">도움말</span></a></p>\\n</div>\\n\\t\\t</div>\\n\\t</div>\\n\\n</div>\\n<!-- //헤더 -->\\n<div style=\"position:relative;width:1080px;margin:0 auto;z-index:11\">\\n\\t<div id=\"da_top\"></div>\\n\\t<div id=\"da_brand\"></div>\\n\\t<div id=\"da_stake\"></div>\\n\\t<div id=\"da_expwide\"></div>\\n</div>\\n\\n\\n\\t\\t<div class=\"container\" role=\"main\">\\n\\t\\t\\t<div class=\"column_left\">\\n\\t<!-- AD TOP -->\\n\\t<div id=\"veta_top\">\\n\\t\\t<iframe id=\"da_iframe_time\" name=\"da_iframe_time\" src=\"https://nv.veta.naver.com/fxshow?su=SU10079&amp;nrefreshx=0\" data-veta-preview=\"main_time\" title=\"광고\" width=\"740\" height=\"120\" marginheight=\"0\" marginwidth=\"0\" scrolling=\"no\" frameborder=\"0\"></iframe>\\n\\t\\t<div class=\"veta_bdt\"></div><div class=\"veta_bdr\"></div><div class=\"veta_bdb\"></div><div class=\"veta_bdl\"></div>\\n\\t</div>\\n\\t<!-- //AD TOP -->\\n\\n\\t<!-- 뉴스캐스트 -->\\n    \\n    \\n\\n    \\n\\n    \\n\\n    \\n    \\t\\n    <div id=\"news_cast\" class=\"section_newscast\">\\n        <div class=\"area_newstop\">\\n            <div class=\"cast_flash\">\\n                <h3 class=\"cf_tit\">\\n                    <a href=\"http://news.naver.com/main/list.nhn?mode=LPOD&amp;mid=sec&amp;sid1=001&amp;sid2=140&amp;oid=001&amp;isYeonhapFlash=Y\" data-clk=\"ncy.newsflash\"class=\"cf_ta\">연합뉴스<span class=\"cf_ico_link\"></span></a>\\n                </h3>\\n                <div class=\"cast_atc _PM_newsstand_rolling\">\\n                    <ol class=\"ca_l\">\\n\\t\\t\\t\\t\\t\\t<li class=\"ca_item\"><a href=\"http://news.naver.com/main/list.nhn?mode=LPOD&mid=sec&sid1=001&sid2=140&oid=001&isYeonhapFlash=Y&aid=0010535613\" class=\"ca_a\" data-clk=\"ncy.quickarticle\">[3기 신도시] \"호재? 악재?\" 후보지 주민들 엇갈린 반응</a></li>\\n<li class=\"ca_item\"><a href=\"http://news.naver.com/main/list.nhn?mode=LPOD&mid=sec&sid1=001&sid2=140&oid=001&isYeonhapFlash=Y&aid=0010535723\" class=\"ca_a\" data-clk=\"ncy.quickarticle\">경찰 \"펜션사고 고3생 사망 원인은 일산화탄소 중독\"</a></li>\\n<li class=\"ca_item\"><a href=\"http://news.naver.com/main/list.nhn?mode=LPOD&mid=sec&sid1=001&sid2=140&oid=001&isYeonhapFlash=Y&aid=0010535907\" class=\"ca_a\" data-clk=\"ncy.quickarticle\">靑 \\'김태우 검찰 고발\\' 강경 대응…폭로전 새 국면으로</a></li>\\n<li class=\"ca_item\"><a href=\"http://news.naver.com/main/list.nhn?mode=LPOD&mid=sec&sid1=001&sid2=140&oid=001&isYeonhapFlash=Y&aid=0010535678\" class=\"ca_a\" data-clk=\"ncy.quickarticle\">상벌위 출석 이택근 \"폭력은 정당화 못 해…미안하다\"</a></li>\\n<li class=\"ca_item\"><a href=\"http://news.naver.com/main/list.nhn?mode=LPOD&mid=sec&sid1=001&sid2=140&oid=001&isYeonhapFlash=Y&aid=0010535901\" class=\"ca_a\" data-clk=\"ncy.quickarticle\">비건 \"인도적지원 영향없도록 美국민 北여행 금지 재검토\"</a></li>\\n<li class=\"ca_item\"><a href=\"http://news.naver.com/main/list.nhn?mode=LPOD&mid=sec&sid1=001&sid2=140&oid=001&isYeonhapFlash=Y&aid=0010535238\" class=\"ca_a\" data-clk=\"ncy.quickarticle\">내일 \\'카풀 반대\\' 택시업계 대규모 집회…\"국회 포위 시도\"</a></li>\\n<li class=\"ca_item\"><a href=\"http://news.naver.com/main/list.nhn?mode=LPOD&mid=sec&sid1=001&sid2=140&oid=001&isYeonhapFlash=Y&aid=0010535698\" class=\"ca_a\" data-clk=\"ncy.quickarticle\">만 13세도 형사처벌…촉법소년 기준 낮춘다</a></li>\\n<li class=\"ca_item\"><a href=\"http://news.naver.com/main/list.nhn?mode=LPOD&mid=sec&sid1=001&sid2=140&oid=001&isYeonhapFlash=Y&aid=0010535691\" class=\"ca_a\" data-clk=\"ncy.quickarticle\">\"\\'발사르탄\\' 함유 고혈압약, 추가 발암 가능성 매우 낮다\"</a></li>\\n<li class=\"ca_item\"><a href=\"http://news.naver.com/main/list.nhn?mode=LPOD&mid=sec&sid1=001&sid2=140&oid=001&isYeonhapFlash=Y&aid=0010535777\" class=\"ca_a\" data-clk=\"ncy.quickarticle\">음주운전 교통사망사고 황민, 1심 판결 불복해 항소</a></li>\\n<li class=\"ca_item\"><a href=\"http://news.naver.com/main/list.nhn?mode=LPOD&mid=sec&sid1=001&sid2=140&oid=001&isYeonhapFlash=Y&aid=0010535614\" class=\"ca_a\" data-clk=\"ncy.quickarticle\">지드래곤, \\'USB 음반\\' 논란에 저작권료 아직 못 받아</a></li>\\n                    </ol>\\n                </div>\\n            </div>\\n            <ul class=\"cast_link\">\\n\\t\\t\\t\\t<li class=\"cl_item\">\\n<a href=\"http://news.naver.com/\" class=\"cl_a cl_news\" data-clk=\"ncy.newshome\">\\n네이버뉴스</a>\\n</li>\\n<li class=\"cl_item\">\\n<a href=\"http://entertain.naver.com/home\" class=\"cl_a cl_ent\" data-clk=\"ncy.entertainment\">\\n연예</a>\\n</li>\\n<li class=\"cl_item\">\\n<a href=\"http://sports.news.naver.com/\" class=\"cl_a cl_sports\" data-clk=\"ncy.sports\">\\n스포츠</a>\\n</li>\\n<li class=\"cl_item\">\\n<a href=\"http://news.naver.com/main/main.nhn?mode=LSD&mid=shm&sid1=101\" class=\"cl_a cl_finance\" data-clk=\"ncy.economy\">\\n경제</a>\\n</li>\\n            </ul>\\n        </div>\\n        <div class=\"area_newsstand\">\\n            <div class=\"an_menulist\">\\n\\t\\t\\t\\t<h3 class=\"an_tit\">\\n\\t\\t\\t\\t\\t<a href=\"http://newsstand.naver.com/\" class=\"an_ta\" target=\"_blank\" data-clk=\"nsd.title\">뉴스스탠드<span class=\"an_ico_link\"></span></a>\\n\\t\\t\\t\\t</h3>\\n                <div class=\"an_menulist_section1\">\\n                    <div class=\"an_sort\" role=\"tablist\">\\n                        <a class=\"as_btn_press _PM_newsstand_total_type is_selected\" href=\"#\" role=\"tab\" aria-selected=\"true\" data-clk=\"nsd.all\">전체 언론사</a>\\n                        <span class=\"as_bar\" role=\"presentation\"></span>\\n                        <a class=\"as_btn_my _PM_newsstand_my_type\" href=\"#\" role=\"tab\" aria-selected=\"false\" data-clk=\"nsd.my\">MY 뉴스</a>\\n                    </div>\\n                </div>\\n                <div class=\"an_menulist_section2\">\\n                    <div class=\"an_sort2\" role=\"tablist\">\\n                        <a class=\"as2_btn _PM_newsstand_thumb_type is_selected\" href=\"#\" role=\"tab\" aria-selected=\"true\" data-clk=\"nsd.pressview\"><i class=\"as2_btn_ico ico_image\"></i><span class=\"blind\">이미지형</span></a>\\n                        <a class=\"as2_btn _PM_newsstand_list_type\" href=\"#\" role=\"tab\" aria-selected=\"false\" data-clk=\"nsd.articleview\"><i class=\"as2_btn_ico ico_list\"></i><span class=\"blind\">리스트형</span></a>\\n                        <a class=\"as2_btn\" href=\"http://newsstand.naver.com/config.html\" data-clk=\"nsd.set\" target=\"_blank\"><i class=\"as2_btn_ico ico_setting\"></i><span class=\"blind\">설정</span></a>\\n                    </div>\\n                    <ul class=\"an_paging\">\\n                        <li class=\"ap_list\"><a class=\"ap_btn _PM_newsstand_prev\" href=\"#\" data-clk=\"nsd.prev\"><i class=\"ap_btn_ico ico_left\"></i><span class=\"blind\">이전 페이지</span></a></li>\\n                        <li class=\"ap_list\"><a class=\"ap_btn _PM_newsstand_next\" href=\"#\" data-clk=\"nsd.next\"><i class=\"ap_btn_ico ico_right\"></i><span class=\"blind\">다음 페이지</span></a></li>\\n                    </ul>\\n                </div>\\n            </div>\\n            <div class=\"an_panel_image _PM_newsstand_thumb\" role=\"tabpanel\" >\\n                <div class=\"api_list_wrap\">\\n                    <h3><span class=\"blind\">언론사 목록</span></h3>\\n                    <div class=\"flick-view\">\\n                        <div class=\"flick-container\">\\n                            <div class=\"flick-panel\">\\n                                <ul class=\"api_list\">\\n\\t\\t\\t\\t\\t\\t\\t\\t\\t\\n \\t\\t\\t\\t\\t\\t\\t\\t\\t\\t\\n<li id=\"NS_139\" class=\"api_item\" data-pid=\"139\">\\n<a class=\"api_link\" href=\"http://newsstand.naver.com/?list=ct1&pcode=139\" aria-haspopup=\"true\" target=\"_blank\">\\n<img src=\"https://s.pstatic.net/static/newsstand/up/2017/0424/nsd151840663.png\" height=\"24\" alt=\"스포탈코리아\" class=\"api_logo\">\\n</a>\\n<div class=\"api_popup_btn_set\" role=\"alertdialog\">\\n<div class=\"api_pbs_inner\">\\n<a href=\"#\" class=\"api_pbs_btn _PM_newsstand_subscribe\" role=\"button\" data-pid=\"139\" data-clk=\"nsd_all*p.sub\">구독</a>\\n<a href=\"#\" class=\"api_pbs_btn _PM_newsstand_unsubscribe\" role=\"button\" data-pid=\"139\" data-clk=\"nsd_all*p.sub\" style=\"display:none\">해지</a>\\n<a href=\"http://newsstand.naver.com/?list=ct1&pcode=139\" class=\"api_pbs_btn api_pbs_lb\" role=\"button\" target=\"_blank\" data-all-clk=\"nsd_all*p.logo\" data-my-clk=\"nsd_myn*p.logo\">기사보기</a>\\n</div>\\n</div>\\n</li>\\n<li id=\"NS_031\" class=\"api_item\" data-pid=\"031\">\\n<a class=\"api_link\" href=\"http://newsstand.naver.com/?list=ct1&pcode=031\" aria-haspopup=\"true\" target=\"_blank\">\\n<img src=\"https://s.pstatic.net/static/newsstand/up/2017/0424/nsd153955864.png\" height=\"24\" alt=\"아이뉴스24\" class=\"api_logo\">\\n</a>\\n<div class=\"api_popup_btn_set\" role=\"alertdialog\">\\n<div class=\"api_pbs_inner\">\\n<a href=\"#\" class=\"api_pbs_btn _PM_newsstand_subscribe\" role=\"button\" data-pid=\"031\" data-clk=\"nsd_all*p.sub\">구독</a>\\n<a href=\"#\" class=\"api_pbs_btn _PM_newsstand_unsubscribe\" role=\"button\" data-pid=\"031\" data-clk=\"nsd_all*p.sub\" style=\"display:none\">해지</a>\\n<a href=\"http://newsstand.naver.com/?list=ct1&pcode=031\" class=\"api_pbs_btn api_pbs_lb\" role=\"button\" target=\"_blank\" data-all-clk=\"nsd_all*p.logo\" data-my-clk=\"nsd_myn*p.logo\">기사보기</a>\\n</div>\\n</div>\\n</li>\\n<li id=\"NS_422\" class=\"api_item\" data-pid=\"422\">\\n<a class=\"api_link\" href=\"http://newsstand.naver.com/?list=ct1&pcode=422\" aria-haspopup=\"true\" target=\"_blank\">\\n<img src=\"https://s.pstatic.net/static/newsstand/up/2017/0424/nsd154219877.png\" height=\"24\" alt=\"연합뉴스TV\" class=\"api_logo\">\\n</a>\\n<div class=\"api_popup_btn_set\" role=\"alertdialog\">\\n<div class=\"api_pbs_inner\">\\n<a href=\"#\" class=\"api_pbs_btn _PM_newsstand_subscribe\" role=\"button\" data-pid=\"422\" data-clk=\"nsd_all*p.sub\">구독</a>\\n<a href=\"#\" class=\"api_pbs_btn _PM_newsstand_unsubscribe\" role=\"button\" data-pid=\"422\" data-clk=\"nsd_all*p.sub\" style=\"display:none\">해지</a>\\n<a href=\"http://newsstand.naver.com/?list=ct1&pcode=422\" class=\"api_pbs_btn api_pbs_lb\" role=\"button\" target=\"_blank\" data-all-clk=\"nsd_all*p.logo\" data-my-clk=\"nsd_myn*p.logo\">기사보기</a>\\n</div>\\n</div>\\n</li>\\n<li id=\"NS_076\" class=\"api_item\" data-pid=\"076\">\\n<a class=\"api_link\" href=\"http://newsstand.naver.com/?list=ct1&pcode=076\" aria-haspopup=\"true\" target=\"_blank\">\\n<img src=\"https://s.pstatic.net/static/newsstand/up/2017/0424/nsd183553864.png\" height=\"24\" alt=\"스포츠조선\" class=\"api_logo\">\\n</a>\\n<div class=\"api_popup_btn_set\" role=\"alertdialog\">\\n<div class=\"api_pbs_inner\">\\n<a href=\"#\" class=\"api_pbs_btn _PM_newsstand_subscribe\" role=\"button\" data-pid=\"076\" data-clk=\"nsd_all*p.sub\">구독</a>\\n<a href=\"#\" class=\"api_pbs_btn _PM_newsstand_unsubscribe\" role=\"button\" data-pid=\"076\" data-clk=\"nsd_all*p.sub\" style=\"display:none\">해지</a>\\n<a href=\"http://newsstand.naver.com/?list=ct1&pcode=076\" class=\"api_pbs_btn api_pbs_lb\" role=\"button\" target=\"_blank\" data-all-clk=\"nsd_all*p.logo\" data-my-clk=\"nsd_myn*p.logo\">기사보기</a>\\n</div>\\n</div>\\n</li>\\n<li id=\"NS_044\" class=\"api_item\" data-pid=\"044\">\\n<a class=\"api_link\" href=\"http://newsstand.naver.com/?list=ct1&pcode=044\" aria-haspopup=\"true\" target=\"_blank\">\\n<img src=\"https://s.pstatic.net/static/newsstand/up/2017/0424/nsd17341942.png\" height=\"24\" alt=\"코리아헤럴드\" class=\"api_logo\">\\n</a>\\n<div class=\"api_popup_btn_set\" role=\"alertdialog\">\\n<div class=\"api_pbs_inner\">\\n<a href=\"#\" class=\"api_pbs_btn _PM_newsstand_subscribe\" role=\"button\" data-pid=\"044\" data-clk=\"nsd_all*p.sub\">구독</a>\\n<a href=\"#\" class=\"api_pbs_btn _PM_newsstand_unsubscribe\" role=\"button\" data-pid=\"044\" data-clk=\"nsd_all*p.sub\" style=\"display:none\">해지</a>\\n<a href=\"http://newsstand.naver.com/?list=ct1&pcode=044\" class=\"api_pbs_btn api_pbs_lb\" role=\"button\" target=\"_blank\" data-all-clk=\"nsd_all*p.logo\" data-my-clk=\"nsd_myn*p.logo\">기사보기</a>\\n</div>\\n</div>\\n</li>\\n<li id=\"NS_056\" class=\"api_item\" data-pid=\"056\">\\n<a class=\"api_link\" href=\"http://newsstand.naver.com/?list=ct1&pcode=056\" aria-haspopup=\"true\" target=\"_blank\">\\n<img src=\"https://s.pstatic.net/static/newsstand/up/2017/0424/nsd173124306.png\" height=\"24\" alt=\"KBS\" class=\"api_logo\">\\n</a>\\n<div class=\"api_popup_btn_set\" role=\"alertdialog\">\\n<div class=\"api_pbs_inner\">\\n<a href=\"#\" class=\"api_pbs_btn _PM_newsstand_subscribe\" role=\"button\" data-pid=\"056\" data-clk=\"nsd_all*p.sub\">구독</a>\\n<a href=\"#\" class=\"api_pbs_btn _PM_newsstand_unsubscribe\" role=\"button\" data-pid=\"056\" data-clk=\"nsd_all*p.sub\" style=\"display:none\">해지</a>\\n<a href=\"http://newsstand.naver.com/?list=ct1&pcode=056\" class=\"api_pbs_btn api_pbs_lb\" role=\"button\" target=\"_blank\" data-all-clk=\"nsd_all*p.logo\" data-my-clk=\"nsd_myn*p.logo\">기사보기</a>\\n</div>\\n</div>\\n</li>\\n<li id=\"NS_215\" class=\"api_item\" data-pid=\"215\">\\n<a class=\"api_link\" href=\"http://newsstand.naver.com/?list=ct1&pcode=215\" aria-haspopup=\"true\" target=\"_blank\">\\n<img src=\"https://s.pstatic.net/static/newsstand/up/2017/0424/nsd172755139.png\" height=\"24\" alt=\"한국경제TV\" class=\"api_logo\">\\n</a>\\n<div class=\"api_popup_btn_set\" role=\"alertdialog\">\\n<div class=\"api_pbs_inner\">\\n<a href=\"#\" class=\"api_pbs_btn _PM_newsstand_subscribe\" role=\"button\" data-pid=\"215\" data-clk=\"nsd_all*p.sub\">구독</a>\\n<a href=\"#\" class=\"api_pbs_btn _PM_newsstand_unsubscribe\" role=\"button\" data-pid=\"215\" data-clk=\"nsd_all*p.sub\" style=\"display:none\">해지</a>\\n<a href=\"http://newsstand.naver.com/?list=ct1&pcode=215\" class=\"api_pbs_btn api_pbs_lb\" role=\"button\" target=\"_blank\" data-all-clk=\"nsd_all*p.logo\" data-my-clk=\"nsd_myn*p.logo\">기사보기</a>\\n</div>\\n</div>\\n</li>\\n<li id=\"NS_327\" class=\"api_item\" data-pid=\"327\">\\n<a class=\"api_link\" href=\"http://newsstand.naver.com/?list=ct1&pcode=327\" aria-haspopup=\"true\" target=\"_blank\">\\n<img src=\"https://s.pstatic.net/static/newsstand/up/2017/0424/nsd144037935.png\" height=\"24\" alt=\"뉴데일리\" class=\"api_logo\">\\n</a>\\n<div class=\"api_popup_btn_set\" role=\"alertdialog\">\\n<div class=\"api_pbs_inner\">\\n<a href=\"#\" class=\"api_pbs_btn _PM_newsstand_subscribe\" role=\"button\" data-pid=\"327\" data-clk=\"nsd_all*p.sub\">구독</a>\\n<a href=\"#\" class=\"api_pbs_btn _PM_newsstand_unsubscribe\" role=\"button\" data-pid=\"327\" data-clk=\"nsd_all*p.sub\" style=\"display:none\">해지</a>\\n<a href=\"http://newsstand.naver.com/?list=ct1&pcode=327\" class=\"api_pbs_btn api_pbs_lb\" role=\"button\" target=\"_blank\" data-all-clk=\"nsd_all*p.logo\" data-my-clk=\"nsd_myn*p.logo\">기사보기</a>\\n</div>\\n</div>\\n</li>\\n<li id=\"NS_028\" class=\"api_item\" data-pid=\"028\">\\n<a class=\"api_link\" href=\"http://newsstand.naver.com/?list=ct1&pcode=028\" aria-haspopup=\"true\" target=\"_blank\">\\n<img src=\"https://s.pstatic.net/static/newsstand/up/2017/0424/nsd17263596.png\" height=\"24\" alt=\"한겨레\" class=\"api_logo\">\\n</a>\\n<div class=\"api_popup_btn_set\" role=\"alertdialog\">\\n<div class=\"api_pbs_inner\">\\n<a href=\"#\" class=\"api_pbs_btn _PM_newsstand_subscribe\" role=\"button\" data-pid=\"028\" data-clk=\"nsd_all*p.sub\">구독</a>\\n<a href=\"#\" class=\"api_pbs_btn _PM_newsstand_unsubscribe\" role=\"button\" data-pid=\"028\" data-clk=\"nsd_all*p.sub\" style=\"display:none\">해지</a>\\n<a href=\"http://newsstand.naver.com/?list=ct1&pcode=028\" class=\"api_pbs_btn api_pbs_lb\" role=\"button\" target=\"_blank\" data-all-clk=\"nsd_all*p.logo\" data-my-clk=\"nsd_myn*p.logo\">기사보기</a>\\n</div>\\n</div>\\n</li>\\n<li id=\"NS_005\" class=\"api_item\" data-pid=\"005\">\\n<a class=\"api_link\" href=\"http://newsstand.naver.com/?list=ct1&pcode=005\" aria-haspopup=\"true\" target=\"_blank\">\\n<img src=\"https://s.pstatic.net/static/newsstand/up/2017/0424/nsd1438916.png\" height=\"24\" alt=\"국민일보\" class=\"api_logo\">\\n</a>\\n<div class=\"api_popup_btn_set\" role=\"alertdialog\">\\n<div class=\"api_pbs_inner\">\\n<a href=\"#\" class=\"api_pbs_btn _PM_newsstand_subscribe\" role=\"button\" data-pid=\"005\" data-clk=\"nsd_all*p.sub\">구독</a>\\n<a href=\"#\" class=\"api_pbs_btn _PM_newsstand_unsubscribe\" role=\"button\" data-pid=\"005\" data-clk=\"nsd_all*p.sub\" style=\"display:none\">해지</a>\\n<a href=\"http://newsstand.naver.com/?list=ct1&pcode=005\" class=\"api_pbs_btn api_pbs_lb\" role=\"button\" target=\"_blank\" data-all-clk=\"nsd_all*p.logo\" data-my-clk=\"nsd_myn*p.logo\">기사보기</a>\\n</div>\\n</div>\\n</li>\\n<li id=\"NS_314\" class=\"api_item\" data-pid=\"314\">\\n<a class=\"api_link\" href=\"http://newsstand.naver.com/?list=ct1&pcode=314\" aria-haspopup=\"true\" target=\"_blank\">\\n<img src=\"https://s.pstatic.net/static/newsstand/up/2017/0424/nsd145951763.png\" height=\"24\" alt=\"스포츠동아\" class=\"api_logo\">\\n</a>\\n<div class=\"api_popup_btn_set\" role=\"alertdialog\">\\n<div class=\"api_pbs_inner\">\\n<a href=\"#\" class=\"api_pbs_btn _PM_newsstand_subscribe\" role=\"button\" data-pid=\"314\" data-clk=\"nsd_all*p.sub\">구독</a>\\n<a href=\"#\" class=\"api_pbs_btn _PM_newsstand_unsubscribe\" role=\"button\" data-pid=\"314\" data-clk=\"nsd_all*p.sub\" style=\"display:none\">해지</a>\\n<a href=\"http://newsstand.naver.com/?list=ct1&pcode=314\" class=\"api_pbs_btn api_pbs_lb\" role=\"button\" target=\"_blank\" data-all-clk=\"nsd_all*p.logo\" data-my-clk=\"nsd_myn*p.logo\">기사보기</a>\\n</div>\\n</div>\\n</li>\\n<li id=\"NS_018\" class=\"api_item\" data-pid=\"018\">\\n<a class=\"api_link\" href=\"http://newsstand.naver.com/?list=ct1&pcode=018\" aria-haspopup=\"true\" target=\"_blank\">\\n<img src=\"https://s.pstatic.net/static/newsstand/up/2017/0424/nsd154426359.png\" height=\"24\" alt=\"이데일리\" class=\"api_logo\">\\n</a>\\n<div class=\"api_popup_btn_set\" role=\"alertdialog\">\\n<div class=\"api_pbs_inner\">\\n<a href=\"#\" class=\"api_pbs_btn _PM_newsstand_subscribe\" role=\"button\" data-pid=\"018\" data-clk=\"nsd_all*p.sub\">구독</a>\\n<a href=\"#\" class=\"api_pbs_btn _PM_newsstand_unsubscribe\" role=\"button\" data-pid=\"018\" data-clk=\"nsd_all*p.sub\" style=\"display:none\">해지</a>\\n<a href=\"http://newsstand.naver.com/?list=ct1&pcode=018\" class=\"api_pbs_btn api_pbs_lb\" role=\"button\" target=\"_blank\" data-all-clk=\"nsd_all*p.logo\" data-my-clk=\"nsd_myn*p.logo\">기사보기</a>\\n</div>\\n</div>\\n</li>\\n<li id=\"NS_951\" class=\"api_item\" data-pid=\"951\">\\n<a class=\"api_link\" href=\"http://newsstand.naver.com/?list=ct7&pcode=951\" aria-haspopup=\"true\" target=\"_blank\">\\n<img src=\"https://s.pstatic.net/static/newsstand/up/2017/1122/nsd113546163.png\" height=\"24\" alt=\"포브스코리아\" class=\"api_logo\">\\n</a>\\n<div class=\"api_popup_btn_set\" role=\"alertdialog\">\\n<div class=\"api_pbs_inner\">\\n<a href=\"#\" class=\"api_pbs_btn _PM_newsstand_subscribe\" role=\"button\" data-pid=\"951\" data-clk=\"nsd_all*p.sub\">구독</a>\\n<a href=\"#\" class=\"api_pbs_btn _PM_newsstand_unsubscribe\" role=\"button\" data-pid=\"951\" data-clk=\"nsd_all*p.sub\" style=\"display:none\">해지</a>\\n<a href=\"http://newsstand.naver.com/?list=ct7&pcode=951\" class=\"api_pbs_btn api_pbs_lb\" role=\"button\" target=\"_blank\" data-all-clk=\"nsd_all*p.logo\" data-my-clk=\"nsd_myn*p.logo\">기사보기</a>\\n</div>\\n</div>\\n</li>\\n<li id=\"NS_982\" class=\"api_item\" data-pid=\"982\">\\n<a class=\"api_link\" href=\"http://newsstand.naver.com/?list=ct7&pcode=982\" aria-haspopup=\"true\" target=\"_blank\">\\n<img src=\"https://s.pstatic.net/static/newsstand/up/2018/0226/nsd13574834.png\" height=\"24\" alt=\"이코노미조선\" class=\"api_logo\">\\n</a>\\n<div class=\"api_popup_btn_set\" role=\"alertdialog\">\\n<div class=\"api_pbs_inner\">\\n<a href=\"#\" class=\"api_pbs_btn _PM_newsstand_subscribe\" role=\"button\" data-pid=\"982\" data-clk=\"nsd_all*p.sub\">구독</a>\\n<a href=\"#\" class=\"api_pbs_btn _PM_newsstand_unsubscribe\" role=\"button\" data-pid=\"982\" data-clk=\"nsd_all*p.sub\" style=\"display:none\">해지</a>\\n<a href=\"http://newsstand.naver.com/?list=ct7&pcode=982\" class=\"api_pbs_btn api_pbs_lb\" role=\"button\" target=\"_blank\" data-all-clk=\"nsd_all*p.logo\" data-my-clk=\"nsd_myn*p.logo\">기사보기</a>\\n</div>\\n</div>\\n</li>\\n<li id=\"NS_363\" class=\"api_item\" data-pid=\"363\">\\n<a class=\"api_link\" href=\"http://newsstand.naver.com/?list=ct7&pcode=363\" aria-haspopup=\"true\" target=\"_blank\">\\n<img src=\"https://s.pstatic.net/static/newsstand/up/2017/0424/nsd143721586.png\" height=\"24\" alt=\"과학동아\" class=\"api_logo\">\\n</a>\\n<div class=\"api_popup_btn_set\" role=\"alertdialog\">\\n<div class=\"api_pbs_inner\">\\n<a href=\"#\" class=\"api_pbs_btn _PM_newsstand_subscribe\" role=\"button\" data-pid=\"363\" data-clk=\"nsd_all*p.sub\">구독</a>\\n<a href=\"#\" class=\"api_pbs_btn _PM_newsstand_unsubscribe\" role=\"button\" data-pid=\"363\" data-clk=\"nsd_all*p.sub\" style=\"display:none\">해지</a>\\n<a href=\"http://newsstand.naver.com/?list=ct7&pcode=363\" class=\"api_pbs_btn api_pbs_lb\" role=\"button\" target=\"_blank\" data-all-clk=\"nsd_all*p.logo\" data-my-clk=\"nsd_myn*p.logo\">기사보기</a>\\n</div>\\n</div>\\n</li>\\n<li id=\"NS_964\" class=\"api_item\" data-pid=\"964\">\\n<a class=\"api_link\" href=\"http://newsstand.naver.com/?list=ct2&pcode=964\" aria-haspopup=\"true\" target=\"_blank\">\\n<img src=\"https://s.pstatic.net/static/newsstand/up/2017/1201/nsd16174237.png\" height=\"24\" alt=\"이뉴스투데이\" class=\"api_logo\">\\n</a>\\n<div class=\"api_popup_btn_set\" role=\"alertdialog\">\\n<div class=\"api_pbs_inner\">\\n<a href=\"#\" class=\"api_pbs_btn _PM_newsstand_subscribe\" role=\"button\" data-pid=\"964\" data-clk=\"nsd_all*p.sub\">구독</a>\\n<a href=\"#\" class=\"api_pbs_btn _PM_newsstand_unsubscribe\" role=\"button\" data-pid=\"964\" data-clk=\"nsd_all*p.sub\" style=\"display:none\">해지</a>\\n<a href=\"http://newsstand.naver.com/?list=ct2&pcode=964\" class=\"api_pbs_btn api_pbs_lb\" role=\"button\" target=\"_blank\" data-all-clk=\"nsd_all*p.logo\" data-my-clk=\"nsd_myn*p.logo\">기사보기</a>\\n</div>\\n</div>\\n</li>\\n<li id=\"NS_477\" class=\"api_item\" data-pid=\"477\">\\n<a class=\"api_link\" href=\"http://newsstand.naver.com/?list=ct6&pcode=477\" aria-haspopup=\"true\" target=\"_blank\">\\n<img src=\"https://s.pstatic.net/static/newsstand/up/2017/1221/nsd134325318.png\" height=\"24\" alt=\"스포티비뉴스\" class=\"api_logo\">\\n</a>\\n<div class=\"api_popup_btn_set\" role=\"alertdialog\">\\n<div class=\"api_pbs_inner\">\\n<a href=\"#\" class=\"api_pbs_btn _PM_newsstand_subscribe\" role=\"button\" data-pid=\"477\" data-clk=\"nsd_all*p.sub\">구독</a>\\n<a href=\"#\" class=\"api_pbs_btn _PM_newsstand_unsubscribe\" role=\"button\" data-pid=\"477\" data-clk=\"nsd_all*p.sub\" style=\"display:none\">해지</a>\\n<a href=\"http://newsstand.naver.com/?list=ct6&pcode=477\" class=\"api_pbs_btn api_pbs_lb\" role=\"button\" target=\"_blank\" data-all-clk=\"nsd_all*p.logo\" data-my-clk=\"nsd_myn*p.logo\">기사보기</a>\\n</div>\\n</div>\\n</li>\\n<li id=\"NS_913\" class=\"api_item\" data-pid=\"913\">\\n<a class=\"api_link\" href=\"http://newsstand.naver.com/?list=ct2&pcode=913\" aria-haspopup=\"true\" target=\"_blank\">\\n<img src=\"https://s.pstatic.net/static/newsstand/up/2017/0424/nsd14431117.png\" height=\"24\" alt=\"뉴스토마토\" class=\"api_logo\">\\n</a>\\n<div class=\"api_popup_btn_set\" role=\"alertdialog\">\\n<div class=\"api_pbs_inner\">\\n<a href=\"#\" class=\"api_pbs_btn _PM_newsstand_subscribe\" role=\"button\" data-pid=\"913\" data-clk=\"nsd_all*p.sub\">구독</a>\\n<a href=\"#\" class=\"api_pbs_btn _PM_newsstand_unsubscribe\" role=\"button\" data-pid=\"913\" data-clk=\"nsd_all*p.sub\" style=\"display:none\">해지</a>\\n<a href=\"http://newsstand.naver.com/?list=ct2&pcode=913\" class=\"api_pbs_btn api_pbs_lb\" role=\"button\" target=\"_blank\" data-all-clk=\"nsd_all*p.logo\" data-my-clk=\"nsd_myn*p.logo\">기사보기</a>\\n</div>\\n</div>\\n</li>\\n\\n\\t\\t\\t\\t\\t\\t\\t\\t\\t\\n                                </ul>\\n                            </div>\\n                        </div>\\n                    </div>\\n                    <i class=\"api_list_border_right\" role=\"presentation\" aria-hidden=\"true\"></i>\\n                    <i class=\"api_list_border_horizontal1\" role=\"presentation\" aria-hidden=\"true\"></i>\\n                    <i class=\"api_list_border_horizontal2\" role=\"presentation\" aria-hidden=\"true\"></i>\\n                </div>\\n            </div>\\n            <div class=\"an_panel_list _PM_newsstand_list\" role=\"tabpanel\" aria-hidden=\"false\" style=\"display:none;\"  >\\n                <div class=\"apl_category_wrap\">\\n                    <h3><span class=\"blind\">언론사 목록</span></h3>\\n                    <ul class=\"aplc_list\" data-tab=\"total\">\\n                        <li class=\"aplc_item\"><a class=\"aplc_link is_selected\" href=\"#\" data-category=\"ct2\" data-clk=\"nsd_all.daei\"><span class=\"aplc_name\">종합/경제</span><span class=\"aplc_paging\"></span></a></li>\\n                        <li class=\"aplc_item\"><a class=\"aplc_link\" href=\"#\" data-category=\"ct3\" data-clk=\"nsd_all.dtvcom\"><span class=\"aplc_name\">방송/통신</span><span class=\"aplc_paging\"></span></a></li>\\n                        <li class=\"aplc_item\"><a class=\"aplc_link\" href=\"#\" data-category=\"ct4\" data-clk=\"nsd_all.dit\"><span class=\"aplc_name\">IT</span><span class=\"aplc_paging\"></span></a></li>\\n                        <li class=\"aplc_item\"><a class=\"aplc_link\" href=\"#\" data-category=\"ct5\" data-clk=\"nsd_all.deng\"><span class=\"aplc_name\">영자지</span><span class=\"aplc_paging\"></span></a></li>\\n                        <li class=\"aplc_item\"><a class=\"aplc_link\" href=\"#\" data-category=\"ct6\" data-clk=\"nsd_all.dsporent\"><span class=\"aplc_name\">스포츠/연예</span><span class=\"aplc_paging\"></span></a></li>\\n                        <li class=\"aplc_item\"><a class=\"aplc_link\" href=\"#\" data-category=\"ct7\" data-clk=\"nsd_all.dmagtec\"><span class=\"aplc_name\">매거진/전문지</span><span class=\"aplc_paging\"></span></a></li>\\n                        <li class=\"aplc_item\"><a class=\"aplc_link\" href=\"#\" data-category=\"ct8\" data-clk=\"nsd_all.dloc\"><span class=\"aplc_name\">지역</span><span class=\"aplc_paging\"></span></a></li>\\n                    </ul>\\n\\t\\t\\t\\t\\t<ul class=\"aplc_list\" data-tab=\"my\" style=\"display:none;\">\\n\\t\\t\\t\\t\\t\\t<!-- nvpaperlist:empty -->\\n\\t\\t\\t\\t\\t</ul>\\n                </div>\\n                <div class=\"flick-view\">\\n                    <div class=\"flick-container\">\\n                        <div class=\"flick-panel\">\\n                            \\n\\t\\t\\t\\t\\t\\t\\t\\n                        </div>\\n                    </div>\\n                </div>\\n            </div>\\n            <div class=\"an_panel_list _PM_newsstand_info\" role=\"tabpanel\" aria-hidden=\"false\" style=\"display:none;\">\\n                <div class=\"flick-view\">\\n                    <div class=\"flick-container\">\\n                        <div class=\"flick-panel\">\\n                            <div class=\"an_nopress_view\">\\n                                <div class=\"anv_wrap\">\\n                                    <em class=\"anv_tit\">설정한 언론사가 없습니다.</em><p class=\"anv_text\">언론사 구독 설정에서 MY언론사를 추가하면</p><p class=\"anv_text\">설정한 언론사의 기사들을 네이버 홈에서 바로 보실 수 있습니다.</p>\\n                                \\t<a class=\"anv_btn\" href=\"http://newsstand.naver.com/config.html\" role=\"button\" data-clk=\"nsd_myn*a.thum\" target=\"_blank\">언론사 추가</a>\\n                            \\t</div>\\n                        \\t</div>\\n                        </div>\\n                    </div>\\n                </div>\\n            </div>\\n\\t\\t\\t<div class=\"PM_CL_newsstand_layer\">\\n\\t\\t\\t</div>\\n        </div>\\n    </div>\\n\\t<!-- //뉴스캐스트 -->\\n</div>\\n\\n\\t\\t\\t<div class=\"column_right\">\\n\\t<!-- 로그인 -->\\n\\t\\n\\t\\t\\n\\n\\n\\n\\n\\n\\t\\n\\n\\n<div id=\"account\" class=\"section_login\">\\n\\t<h2 class=\"blind\">Sign in</h2>\\n\\t<div class=\"lg_global\">\\n\\t\\t<p class=\"lg_global_text\">Connect with people</p>\\n\\t\\t<a class=\"lg_global_btn\" href=\"https://nid.naver.com/nidlogin.login?mode=form&url=https%3A%2F%2Fwww.naver.com\" role=\"button\"  data-clk=\"log_off.login\">\\n\\t\\t\\t<i class=\"ico_global_login lang_en_v1\"><span class=\"blind\">NAVER Sign in</span></i>\\n\\t\\t</a>\\n\\t\\t<div class=\"lg_links\">\\n\\t\\t\\t<a href=\"https://nid.naver.com/nidregister.form?url=https%3A%2F%2Fwww.naver.com\" class=\"lg_link_join\" data-clk=\"log_off.registration\">Sign up</a>\\n\\t\\t\\t<span class=\"lg_link_find\">Forgot <a href=\"https://nid.naver.com/user/help.nhn?todo=idinquiry\" class=\"lg_find_text_en\" data-clk=\"log_off.searchid\">Username</a> or <a href=\"https://nid.naver.com/nidreminder.form\" class=\"lg_find_text_en\" data-clk=\"log_off.searchpass\">Password?</a></span>\\n\\t\\t</div>\\n\\t</div>\\n</div>\\n\\n\\n\\t\\n\\t<!-- //로그인 -->\\n\\t<div id=\"ad_branding_hide\"></div>\\n\\t<!-- 타임스퀘어 -->\\n\\t<div class=\"_PM_timesquare_wrapper\" id=\"time_square\">\\n\\t\\t<div class=\"section_timesquare _PM_timesquare_base\" data-code=\"weather\" data-monitor-weather=\"20181219171738\">\\n<h2 class=\"blind\">타임스퀘어</h2>\\n<div class=\"area_header\">\\n<div class=\"header_info _PM_timesquare_info\">\\n<a href=\"https://calendar.naver.com\" data-clk=\"squ.date\" class=\"hi_date\"><span class=\"hi_dnum\">12.19.</span><span class=\"hi_day\">(수)</span></a><i class=\"hi_slash\" aria-hidden=\"true\" role=\"presentation\">|</i>\\n\\n<a href=\"#\" data-clk=\"squ_wea.set\" class=\"hi_tit _PM_timesquare_weather_loc\">서울시 다동<i class=\"ico_btn_arrow\" aria-hidden=\"true\"></i></a>\\n</div>\\n<div class=\"header_paging _PM_timesquare_navi\">\\n</div>\\n<div class=\"header_btns\">\\n<a data-clk=\"squ.pre\" class=\"header_btn_prev _PM_timesquare_prev\" href=\"#\"><i class=\"ico_btn_prev\" aria-hidden=\"true\"></i><span class=\"blind\">앞의 목록으로 이동</span></a>\\n<a data-clk=\"squ.next\" class=\"header_btn_next _PM_timesquare_next\" href=\"#\"><i class=\"ico_btn_next\" aria-hidden=\"true\"></i><span class=\"blind\">뒤의 목록으로 이동</span></a>\\n</div>\\n</div>\\n<div class=\"area_ct\">\\n<div class=\"flick-view\">\\n<div class=\"flick-container\">\\n<div class=\"flick-panel _PM_timesquare_list\" data-code=\"weather\">\\n<div class=\"type_weather\">\\n<a data-clk=\"squ_wea.con\" href=\"http://weather.naver.com/rgn/townWetr.nhn?naverRgnCd=09140102\" class=\"info_layer\">\\n<div class=\"thumb_lg ico_w02\"><span class=\"blind\">날씨 맑음</span></div>\\n<div class=\"info_temp\">\\n<div class=\"temp_current\" aria-label=\"현재기온\"><span class=\"tc_text\">7</span>°C</div>\\n<span class=\"temp_lowest\" aria-label=\"최저기온\"><span class=\"tl_text\">1</span>°<i class=\"tl_slash\" aria-hidden=\"true\">/</i></span>\\n<span class=\"temp_highest\" aria-label=\"최고기온\"><span class=\"th_text\">7</span>°</span>\\n</div>\\n<div class=\"info_text\">\\n<p class=\"text_current\">어제와 같아요</p>\\n<p class=\"text_fine_dust\">미세먼지 <span class=\"text_fd_average\">보통</span></p>\\n</div>\\n</a>\\n<div class=\"info_breaking\">\\n<a data-clk=\"squ_wea.tit\" href=\"http://weather.naver.com/\"><em class=\"ib_wt\">날씨</em></a>\\n<a data-clk=\"squ_wea.news\" href=\"https://search.naver.com/search.naver?where=nexearch&query=%EC%A0%84%EA%B5%AD%EB%82%A0%EC%94%A8&sm=top_clk.weather\"><span class=\"ib_text\">실시간 기상 정보 확인하기</span></a><i class=\"ib_vertical\" aria-hidden=\"true\">|</i><a data-clk=\"squ_wea.news\" href=\"https://search.naver.com/search.naver?where=nexearch&sm=top_hty&fbm=1&ie=utf8&query=%EC%A3%BC%EA%B0%84+%EC%98%88%EB%B3%B4\"><span class=\"ib_date\">주간예보</span></a>\\n</div>\\n</div>\\n</div>\\n</div>\\n</div>\\n</div>\\n</div>\\n\\n\\t\\n\\t</div>\\n\\t<!-- //타임스퀘어 -->\\n\\n\\t<!-- 광고 -->\\n\\t<div id=\"veta_branding\">\\n\\t<iframe id=\"da_iframe_rolling\" name=\"da_iframe_rolling\" src=\"https://nv.veta.naver.com/fxshow?su=SU10078&amp;nrefreshx=0\" data-veta-preview=\"main_rolling\" title=\"광고\" width=\"332\" height=\"150\" marginheight=\"0\" marginwidth=\"0\" scrolling=\"no\" frameborder=\"0\"></iframe>\\n\\t\\t<div class=\"veta_bdt\"></div><div class=\"veta_bdr\"></div><div class=\"veta_bdb\"></div><div class=\"veta_bdl\"></div>\\n\\t</div>\\n\\t<!-- //광고 -->\\n</div>\\n\\n\\t\\t\\t<!-- EMPTY -->\\n\\t\\t\\t<div class=\"column_bottom\">\\n\\t<!-- 주제형캐스트 -->\\n\\t<div id=\"themecast\" class=\"section_themecast\">\\n\\t\\t<h2 class=\"blind\">주제형 캐스트</h2>\\n\\t\\t<div id=\"PM_ID_themecastNavi\" class=\"themecast_category\">\\n\\t\\t\\t<div class=\"area_category\">\\n\\t\\t\\t\\t<h3 class=\"blind\">관심 주제 선택</h3>\\n\\t\\t\\t\\t<div class=\"ac_scroll\" role=\"tablist\">\\n\\t\\t\\t\\t\\t<div class=\"scroll-area\" role=\"presentation\">\\n\\t\\t\\t\\t\\t\\t<!-- style=\"width:xxxxPX\" -->\\n\\t\\t\\t\\t\\t\\t<div id=\"PM_ID_themelist\" class=\"rolling-container\" role=\"presentation\" style=\"width:587;overflow:hidden;\">\\n\\t\\t\\t\\t\\t\\t\\t<ul style=\"width:2000px\">\\n\\t\\t\\t\\t\\t\\t\\t\\t<li class=\"rolling-panel\" role=\"presentation\">\\n\\t<a href=\"#LIVINGHOME\" role=\"tab\" aria-selected=\"false\" data-id=\"LIVINGHOME\" data-nclick=\"lif\" data-clk=\"tct.lif\" class=\"PM_CL_themeItem ac_a tcc_livinghome\">리빙</a>\\n</li><li class=\"rolling-panel\" role=\"presentation\">\\n\\t<a href=\"#LIVING\" role=\"tab\" aria-selected=\"false\" data-id=\"LIVING\" data-nclick=\"fod\" data-clk=\"tct.fod\" class=\"PM_CL_themeItem ac_a tcc_living\">푸드</a>\\n</li><li class=\"rolling-panel\" role=\"presentation\">\\n\\t<a href=\"#SPORTS\" role=\"tab\" aria-selected=\"false\" data-id=\"SPORTS\" data-nclick=\"spo\" data-clk=\"tct.spo\" class=\"PM_CL_themeItem ac_a tcc_sports\">스포츠</a>\\n</li><li class=\"rolling-panel\" role=\"presentation\">\\n\\t<a href=\"#CARGAME\" role=\"tab\" aria-selected=\"false\" data-id=\"CARGAME\" data-nclick=\"aut\" data-clk=\"tct.aut\" class=\"PM_CL_themeItem ac_a tcc_cargame\">자동차</a>\\n</li><li class=\"rolling-panel\" role=\"presentation\">\\n\\t<a href=\"#BEAUTY\" role=\"tab\" aria-selected=\"false\" data-id=\"BEAUTY\" data-nclick=\"bty\" data-clk=\"tct.bty\" class=\"PM_CL_themeItem ac_a tcc_beauty\">패션뷰티</a>\\n</li><li class=\"rolling-panel\" role=\"presentation\">\\n\\t<a href=\"#MOMKIDS\" role=\"tab\" aria-selected=\"false\" data-id=\"MOMKIDS\" data-nclick=\"mom\" data-clk=\"tct.mom\" class=\"PM_CL_themeItem ac_a tcc_momkids\">부모i</a>\\n</li><li class=\"rolling-panel\" role=\"presentation\">\\n\\t<a href=\"#HEALTH\" role=\"tab\" aria-selected=\"false\" data-id=\"HEALTH\" data-nclick=\"hea\" data-clk=\"tct.hea\" class=\"PM_CL_themeItem ac_a tcc_health\">건강</a>\\n</li><li class=\"rolling-panel\" role=\"presentation\">\\n\\t<a href=\"#BBOOM\" role=\"tab\" aria-selected=\"false\" data-id=\"BBOOM\" data-nclick=\"web\" data-clk=\"tct.web\" class=\"PM_CL_themeItem ac_a tcc_bboom\">웹툰</a>\\n</li><li class=\"rolling-panel\" role=\"presentation\">\\n\\t<a href=\"#GAMEAPP\" role=\"tab\" aria-selected=\"false\" data-id=\"GAMEAPP\" data-nclick=\"gam\" data-clk=\"tct.gam\" class=\"PM_CL_themeItem ac_a tcc_gameapp\">게임</a>\\n</li><li class=\"rolling-panel\" role=\"presentation\">\\n\\t<a href=\"#VIDEO\" role=\"tab\" aria-selected=\"false\" data-id=\"VIDEO\" data-nclick=\"tvc\" data-clk=\"tct.tvc\" class=\"PM_CL_themeItem ac_a tcc_video\">TV연예</a>\\n</li><li class=\"rolling-panel\" role=\"presentation\">\\n\\t<a href=\"#MUSIC\" role=\"tab\" aria-selected=\"false\" data-id=\"MUSIC\" data-nclick=\"muc\" data-clk=\"tct.muc\" class=\"PM_CL_themeItem ac_a tcc_music\">뮤직</a>\\n</li><li class=\"rolling-panel\" role=\"presentation\">\\n\\t<a href=\"#MOVIE\" role=\"tab\" aria-selected=\"false\" data-id=\"MOVIE\" data-nclick=\"mov\" data-clk=\"tct.mov\" class=\"PM_CL_themeItem ac_a tcc_movie\">영화</a>\\n</li><li class=\"rolling-panel\" role=\"presentation\">\\n\\t<a href=\"#CULTURE\" role=\"tab\" aria-selected=\"false\" data-id=\"CULTURE\" data-nclick=\"bok\" data-clk=\"tct.bok\" class=\"PM_CL_themeItem ac_a tcc_culture\">책문화</a>\\n</li><li class=\"rolling-panel\" role=\"presentation\">\\n\\t<a href=\"#WITH\" role=\"tab\" aria-selected=\"false\" data-id=\"WITH\" data-nclick=\"pub\" data-clk=\"tct.pub\" class=\"PM_CL_themeItem ac_a tcc_with\">함께N</a>\\n</li><li class=\"rolling-panel\" role=\"presentation\">\\n\\t<a href=\"#TRAVEL\" role=\"tab\" aria-selected=\"false\" data-id=\"TRAVEL\" data-nclick=\"tra\" data-clk=\"tct.tra\" class=\"PM_CL_themeItem ac_a tcc_travel\">여행+</a>\\n</li><li class=\"rolling-panel\" role=\"presentation\">\\n\\t<a href=\"#DESIGN\" role=\"tab\" aria-selected=\"false\" data-id=\"DESIGN\" data-nclick=\"des\" data-clk=\"tct.des\" class=\"PM_CL_themeItem ac_a tcc_design\">디자인</a>\\n</li><li class=\"rolling-panel\" role=\"presentation\">\\n\\t<a href=\"#FINANCE\" role=\"tab\" aria-selected=\"false\" data-id=\"FINANCE\" data-nclick=\"fin\" data-clk=\"tct.fin\" class=\"PM_CL_themeItem ac_a tcc_finance\">경제M</a>\\n</li><li class=\"rolling-panel\" role=\"presentation\">\\n\\t<a href=\"#JOB\" role=\"tab\" aria-selected=\"false\" data-id=\"JOB\" data-nclick=\"job\" data-clk=\"tct.job\" class=\"PM_CL_themeItem ac_a tcc_job\">JOB&</a>\\n</li><li class=\"rolling-panel\" role=\"presentation\">\\n\\t<a href=\"#SCIENCE\" role=\"tab\" aria-selected=\"false\" data-id=\"SCIENCE\" data-nclick=\"sci\" data-clk=\"tct.sci\" class=\"PM_CL_themeItem ac_a tcc_science\">과학</a>\\n</li><li class=\"rolling-panel\" role=\"presentation\">\\n\\t<a href=\"#CHINA\" role=\"tab\" aria-selected=\"false\" data-id=\"CHINA\" data-nclick=\"chn\" data-clk=\"tct.chn\" class=\"PM_CL_themeItem ac_a tcc_china\">중국</a>\\n</li><li class=\"rolling-panel\" role=\"presentation\">\\n\\t<a href=\"#BUSINESS\" role=\"tab\" aria-selected=\"false\" data-id=\"BUSINESS\" data-nclick=\"bsn\" data-clk=\"tct.bsn\" class=\"PM_CL_themeItem ac_a tcc_business\">비즈니스</a>\\n</li><li class=\"rolling-panel\" role=\"presentation\">\\n\\t<a href=\"#FARM\" role=\"tab\" aria-selected=\"false\" data-id=\"FARM\" data-nclick=\"far\" data-clk=\"tct.far\" class=\"PM_CL_themeItem ac_a tcc_farm\">FARM</a>\\n</li><li class=\"rolling-panel\" role=\"presentation\">\\n\\t<a href=\"#SCHOOL\" role=\"tab\" aria-selected=\"false\" data-id=\"SCHOOL\" data-nclick=\"scl\" data-clk=\"tct.scl\" class=\"PM_CL_themeItem ac_a tcc_school\">스쿨잼</a>\\n</li><li class=\"rolling-panel\" role=\"presentation\">\\n\\t<a href=\"#SHOW\" role=\"tab\" aria-selected=\"false\" data-id=\"SHOW\" data-nclick=\"sow\" data-clk=\"tct.sow\" class=\"PM_CL_themeItem ac_a tcc_show\">공연전시</a>\\n</li><li class=\"rolling-panel\" role=\"presentation\">\\n\\t<a href=\"#LAW\" role=\"tab\" aria-selected=\"false\" data-id=\"LAW\" data-nclick=\"law\" data-clk=\"tct.law\" class=\"PM_CL_themeItem ac_a tcc_law\">법률</a>\\n</li><li class=\"rolling-panel\" role=\"presentation\">\\n\\t<a href=\"#ANIMAL\" role=\"tab\" aria-selected=\"false\" data-id=\"ANIMAL\" data-nclick=\"ani\" data-clk=\"tct.ani\" class=\"PM_CL_themeItem ac_a tcc_animal\">동물공감</a>\\n</li><li class=\"rolling-panel\" role=\"presentation\">\\n\\t<a href=\"#WEDDING\" role=\"tab\" aria-selected=\"false\" data-id=\"WEDDING\" data-nclick=\"wed\" data-clk=\"tct.wed\" class=\"PM_CL_themeItem ac_a tcc_wedding\">연애·결혼</a>\\n</li><li class=\"rolling-panel\" role=\"presentation\">\\n\\t<a href=\"#ITTECH\" role=\"tab\" aria-selected=\"true\" data-id=\"ITTECH\" data-nclick=\"tec\" data-clk=\"tct.tec\" class=\"PM_CL_themeItem ac_a tcc_ittech\">테크</a>\\n</li><li class=\"rolling-panel\" role=\"presentation\">\\n\\t<a href=\"#EMOTION\" role=\"tab\" aria-selected=\"false\" data-id=\"EMOTION\" data-nclick=\"emo\" data-clk=\"tct.emo\" class=\"PM_CL_themeItem ac_a tcc_emotion\">감성충전</a>\\n</li>\\n\\t\\t\\t\\t\\t\\t\\t</ul>\\n\\t\\t\\t\\t\\t\\t</div>\\n\\t\\t\\t\\t\\t</div>\\n\\t\\t\\t\\t</div>\\n\\t\\t\\t</div>\\n\\t\\t\\t<div class=\"area_catebtns\">\\n\\t\\t\\t\\t<a href=\"#\" class=\"ac_btn_prev PM_CL_btnThemePrev\" data-clk=\"tct.prev\" role=\"button\"><span class=\"blind\">이전 주제</span><span class=\"ac_bicon\"></span></a>\\n\\t\\t\\t\\t<a href=\"#\" class=\"ac_btn_next PM_CL_btnThemeNext\" data-clk=\"tct.next\" role=\"button\"><span class=\"blind\">다음 주제</span><span class=\"ac_bicon\"></span></a>\\n\\t\\t\\t\\t<a href=\"#\" class=\"ac_btn_cate PM_CL_btnThemeEdit\" data-clk=\"tct.menu\" role=\"button\"><span class=\"blind\">전체 주제 열기</span><span class=\"ac_bicon\"></span></a>\\n\\t\\t\\t\\t<div id=\"PM_ID_themeNaviLeft\" class=\"ac_bgl\" style=\"display:none\"></div>\\n\\t\\t\\t\\t<div id=\"PM_ID_themeNaviRight\" class=\"ac_bgr\" style=\"display:none\"></div>\\n\\t\\t\\t</div>\\n\\t\\t</div>\\n\\t\\t<div id=\"PM_ID_themeEdit\" class=\"area_themesetting\" aria-hidden=\"true\">\\n\\t<h3 class=\"blind\">관심 주제 설정</h3>\\n\\t<script id=\"PM_ID_themeEditItem\" type=\"text/template\">\\n\\t\\t<li class=\"at_item PM_CL_themeEditItem\" data-clk=\"tca*l.{=nclick}\">\\n\\t\\t\\t<div class=\"at_iw\" role=\"checkbox\" aria-checked=\"{if subscribed}true{/if}\" >\\n\\t\\t\\t\\t<span class=\"at_iradio\">\\n\\t\\t\\t\\t\\t<span data-id=\"{=code}\" class=\"PM_CL_themeItemCheck radio-mark{if subscribed} radio-checked{/if}\"></span>\\n\\t\\t\\t\\t\\t<input type=\"checkbox\" id=\"config_tcc_{=css}\" class=\"at_ipt\">\\n\\t\\t\\t\\t</span>\\n\\t\\t\\t\\t<label for=\"config_tcc_{=css}\">{=name}</label>\\n\\t\\t\\t</div>\\n\\t\\t</li>\\n\\t</script>\\n\\t<script id=\"PM_ID_themeSelectItem\" type=\"text/template\">\\n\\t\\t<li class=\"at_item\" role=\"presentation\" data-clk=\"tca.{=nclick}\"{if subscribed} data-nclick=\"{=nclick}\"{/if}>\\n\\t\\t\\t<a href=\"#{=code}\" data-id=\"{=code}\" role=\"tab\" aria-selected=\"{if subscribed}true{else}false{/if}\" class=\"PM_CL_themeItemSelect at_a tcc_{=css}\">\\n\\t\\t\\t\\t<span class=\"at_icon\"></span>{=name}\\n\\t\\t\\t\\t{if isNewPanel }<span class=\"at_ico_new\">NEW</span>{/if}\\n\\t\\t\\t</a>\\n\\t\\t</li>\\n\\t</script>\\n\\t<script id=\"PM_ID_themeNaviItem\" type=\"text/template\">\\n\\t\\t<li class=\"rolling-panel\" role=\"presentation\">\\n\\t\\t\\t<span href=\"#{=code}\" data-id=\"{=code}\" role=\"tab\" aria-selected=\"false\" class=\"ac_a tcc_{=css}\">{=name}</span>\\n\\t\\t</li>\\t\\n\\t</script>\\n\\t<script id=\"PM_ID_themeNaviEmptyItem\" type=\"text/template\">\\n\\t\\t<li class=\"rolling-panel{if first} ac_pointer {/if}\" role=\"presentation\">\\n\\t\\t\\t<span class=\"ac_empty\"></span>\\n\\t\\t</li>\\n\\t</script>\\n\\t<script id=\"PM_ID_themeSubscribePopup\" type=\"text/template\">\\n\\t\\t<div class=\"area_alert_confirm\" style=\"top:{=top}px;left:{=left}px\">\\n\\t\\t\\t<div class=\"aa_wrap\">\\n\\t\\t\\t\\t<p class=\"aa_txt\"><strong class=\"aa_st tcc_{=css}\">\\'{=name}\\'</strong>를 관심주제로 <br>설정하시겠습니까?</p>\\n\\t\\t\\t\\t<div class=\"aa_btns\">\\n\\t\\t\\t\\t\\t<a href=\"#\" data-id=\"{=code}\" data-nclick=\"{=nclick}\" role=\"button\" class=\"PM_CL_themeAddOk aa_btn_confirm\" data-clk=\"tca.likeok\">확인</a>\\n\\t\\t\\t\\t\\t<a href=\"#\" role=\"button\" class=\"PM_CL_themeAddCancel aa_btn_cancel\" data-clk=\"tca.likecancel\">취소</a>\\n\\t\\t\\t\\t</div>\\n\\t\\t\\t</div>\\n\\t\\t</div>\\n\\t</script>\\n\\t<script id=\"PM_ID_themeImportPopup\" type=\"text/template\">\\n\\t\\t<div class=\"area_alert_confirm\">\\n\\t\\t\\t<div class=\"aa_wrap\">\\n\\t\\t\\t<p class=\"aa_txt\"><strong class=\"aa_st\">모바일에서 설정한 주제</strong>를 <br>가져오시겠습니까?</p>\\n\\t\\t\\t<div class=\"aa_btns\">\\n\\t\\t\\t\\t<a href=\"#\" role=\"button\" class=\"PM_CL_themeImportOk aa_btn_confirm\" data-clk=\"tca.mobileok\">확인</a>\\n\\t\\t\\t\\t<a href=\"#\" role=\"button\" class=\"PM_CL_themeImportCancel aa_btn_cancel\" data-clk=\"tca.mobilecancel\">취소</a>\\n\\t\\t\\t\\t</div>\\n\\t\\t\\t</div>\\n\\t\\t</div>\\t\\n\\t</script>\\n\\t<ul id=\"PM_ID_themeEditItemList\" class=\"at_all\" role=\"tablist\">\\n\\t</ul>\\n\\t<a href=\"#\" class=\"at_btn_close PM_CL_btnThemeEdit\" role=\"button\" data-clk=\"tca.close\"><span class=\"blind\">전체 주제 목록 닫기</span><span class=\"at_bicon\"></span></a>\\n\\t<div id=\"PM_ID_btnBoxShortcut\" class=\"at_btns\">\\n\\t\\t<a href=\"#\" class=\"at_btn_setting PM_CL_btnThemeEditShow\" role=\"button\" data-clk=\"tca.like\"><span class=\"at_bicon\"></span>관심주제 설정</a>\\n\\t\\t<span class=\"at_bar\"></span>\\n<a href=\"#\" data-login-url=\"https://nid.naver.com/nidlogin.login?url=http%3A%2F%2Fwww.naver.com\" class=\"at_btn_import PM_CL_btnThemeImport\" role=\"button\" data-clk=\"tca.mobile\"><span class=\"at_bicon\"></span>모바일 관심 주제 가져오기</a>\\n\\n<span class=\"at_import_login PM_CL_importMessage2\" style=\"display:none\">\\n\\t<span href=\"https://nid.naver.com/nidlogin.login?url=http%3A%2F%2Fwww.naver.com\" class=\"at_lt\" data-clk=\"tca.tip\">\\n\\t\\t<strong class=\"at_ls\">로그인</strong>후 사용 가능합니다\\n\\t</span>\\n</span>\\n\\n\\n\\t</div>\\t\\n\\t<div id=\"PM_ID_btnBoxEdit\" v class=\"at_btns\" style=\"display:none\">\\n\\t\\t<a href=\"#\" class=\"at_btn_cancel PM_CL_btnThemeEditCancel\" role=\"button\" data-clk=\"tca*l.cancel\">취소</a>\\n\\t\\t<a href=\"#\" class=\"at_btn_confirm PM_CL_btnThemeEditOk\" role=\"button\" data-clk=\"tca*l.ok\">확인</a>\\n\\t\\t<a href=\"#\" class=\"at_btn_reset PM_CL_btnThemeEditInit\" role=\"button\" data-clk=\"tca*l.reset\"><span class=\"at_bicon\"></span>초기화</a>\\n\\t\\t<a href=\"#\" class=\"at_btn_all PM_CL_btnThemeSelectAll\" role=\"button\" data-clk=\"\">전체선택</a>\\t\\t\\n\\t\\t<span class=\"at_bar\"></span>\\n<a href=\"#\" data-login-url=\"https://nid.naver.com/nidlogin.login?url=http%3A%2F%2Fwww.naver.com\" class=\"at_btn_import PM_CL_btnThemeImport\" role=\"button\" data-clk=\"tca.mobile\"><span class=\"at_bicon\"></span>모바일 관심 주제 가져오기</a>\\n\\n<span class=\"at_import_login PM_CL_importMessage2\" style=\"display:none\">\\n\\t<span href=\"https://nid.naver.com/nidlogin.login?url=http%3A%2F%2Fwww.naver.com\" class=\"at_lt\" data-clk=\"tca.tip\">\\n\\t\\t<strong class=\"at_ls\">로그인</strong>후 사용 가능합니다\\n\\t</span>\\n</span>\\n\\n\\n\\t</div>\\n</div>\\n\\n\\t\\t<div id=\"PM_ID_themecastBody\" class=\"themecast_flick\">\\n\\t\\t\\t<div class=\"flick-container\">\\n\\t\\t\\t\\t<div class=\"flick-panel\">\\n\\t\\t\\t\\t\\t<div class=\"area_themecast id_ittech\">\\n\\n<!--EMPTY-->\\n<ul class=\"themecast_list\">\\n<li class=\"tl_title\" data-seq=\"56875\">\\n<div class=\"tt_mw\">\\n<img src=\"https://s.pstatic.net/static/www/mobile/edit/2017/0919/mobile_162350203660.jpg\" width=\"166\" height=\"185\" alt=\"\" class=\"tt_m\">\\n</div>\\n<h3 class=\"tt_tit\">테크</h3>\\n<div class=\"tt_bar\"></div>\\n<a href=\"http://blog.naver.com/tech-plus\" class=\"tt_d\" data-clk=\"tcc_tec.link\" data-gdid=\"UAT_1756313\">상상, <br/> 그 이상의 <br/>테크 스토리</a>\\n<a href=\"http://blog.naver.com/tech-plus\" class=\"tt_o\">(주)테크플러스</a>\\n</li><li class=\"tl_default\"\\ndata-seq=\"249999\"\\ndata-title=\"&#39;내 정보 보호&#39;를 위해 알아두면 쓸데 있는 홈페이지 8개\"\\ndata-expsStartYmdt=\"2018-12-19 16:00\"\\ndata-expsEndYmdt=\"2018-12-22 23:59\"\\ndata-fixedSeq=\"0\"\\ndata-fixedExpsStartYmdt=\"\"\\ndata-fixedExpsEndYmdt=\"\">\\n<a href=\"https://post.naver.com/viewer/postView.nhn?volumeNo=17338623&memberNo=25598567&searchKeyword=%EB%B3%B4%EC%95%88%EC%88%98%EC%B9%99&searchRank=1\" class=\"td_a\" data-clk=\"tcc_tec.contents\" data-gdid=\"UAT_3540653\">\\n<span class=\"td_mw\">\\n<img src=\"https://s.pstatic.net/static/www/mobile/edit/2018/1218/cropImg_166x108_145588185932372079.jpeg\" width=\"166\" height=\"108\" alt=\"\" class=\"td_m\">\\n<span class=\"td_bd\"></span>\\n</span>\\n<span class=\"td_tw\">\\n<span class=\"td_t\">&#39;내 정보 보호&#39;를 위해 알아두면 쓸데 있는 홈페이지 8개</span>\\n</span>\\n</a>\\n<span class=\"td_ow\">\\n<span class=\"td_o\">생활보안</span>\\n</span>\\n</li>\\n<li class=\"tl_default\"\\ndata-seq=\"249997\"\\ndata-title=\"일본 작은 기업에서 만든 가면을 찾는 이유\"\\ndata-expsStartYmdt=\"2018-12-19 14:00\"\\ndata-expsEndYmdt=\"2018-12-22 23:59\"\\ndata-fixedSeq=\"0\"\\ndata-fixedExpsStartYmdt=\"\"\\ndata-fixedExpsEndYmdt=\"\">\\n<a href=\"https://blog.naver.com/PostView.nhn?blogId=tech-plus&logNo=221408557860&proxyReferer=&proxyReferer=https%3A%2F%2Fblog.naver.com%2FPostView.nhn%3FblogId%3Dtech-plus%26logNo%3D221408557860%26redirect%3DDlog%26widgetTypeCall%3Dtrue%26directAccess%3Dfalse\" class=\"td_a\" data-clk=\"tcc_tec.contents\" data-gdid=\"UAT_3540648\">\\n<span class=\"td_mw\">\\n<img src=\"https://s.pstatic.net/static/www/mobile/edit/2018/1218/cropImg_166x108_145588123862483007.jpeg\" width=\"166\" height=\"108\" alt=\"\" class=\"td_m\">\\n<span class=\"td_bd\"></span>\\n</span>\\n<span class=\"td_tw\">\\n<span class=\"td_t\">일본 작은 기업에서 만든 가면을 찾는 이유</span>\\n</span>\\n</a>\\n<span class=\"td_ow\">\\n<span class=\"td_o\">에디터 초이스</span>\\n</span>\\n</li>\\n<li class=\"tl_default\"\\ndata-seq=\"250144\"\\ndata-title=\"서울교대 구구박사님이 알려주는 ‘알라딘의 마술램프’ 게임 만들기\"\\ndata-expsStartYmdt=\"2018-12-19 12:00\"\\ndata-expsEndYmdt=\"2018-12-22 23:59\"\\ndata-fixedSeq=\"0\"\\ndata-fixedExpsStartYmdt=\"\"\\ndata-fixedExpsEndYmdt=\"\">\\n<a href=\"https://tv.naver.com/v/4814432\" class=\"td_a\" data-clk=\"tcc_tec.contents\" data-gdid=\"UAT_3542225\">\\n<span class=\"td_mw\">\\n<img src=\"https://s.pstatic.net/static/www/mobile/edit/2018/1219/cropImg_166x108_145647467347959873.jpeg\" width=\"166\" height=\"108\" alt=\"\" class=\"td_m\">\\n<span class=\"td_bd\"></span>\\n<span class=\"td_ico_video\"><span class=\"blind\">ë\\x8f\\x99ì\\x98\\x81ì\\x83\\x81</span><span class=\"td_bg\"></span><span class=\"td_icon\"></span></span>\\n</span>\\n<span class=\"td_tw\">\\n<span class=\"td_t\">서울교대 구구박사님이 알려주는 ‘알라딘의 마술램프’ 게임 만들기</span>\\n</span>\\n</a>\\n<span class=\"td_ow\">\\n<span class=\"td_o\">우리 아이 SW 사고력 키우기</span>\\n</span>\\n</li>\\n<li class=\"tl_default\"\\ndata-seq=\"249993\"\\ndata-title=\"탈옥 아이폰을 위한 앱스토어, 시디아 폐쇄하는 까닭은?\"\\ndata-expsStartYmdt=\"2018-12-19 10:00\"\\ndata-expsEndYmdt=\"2018-12-22 23:59\"\\ndata-fixedSeq=\"0\"\\ndata-fixedExpsStartYmdt=\"\"\\ndata-fixedExpsEndYmdt=\"\">\\n<a href=\"https://blog.naver.com/PostView.nhn?blogId=tech-plus&logNo=221421573645&categoryNo=37&proxyReferer=&proxyReferer=https%3A%2F%2Fblog.naver.com%2FPostView.nhn%3FblogId%3Dtech-plus%26logNo%3D221421573645%26categoryNo%3D37%26parentCategoryNo%3D0%26viewDate%3D%26currentPage%3D1%26postListTopCurrentPage%3D1%26from%3DpostView%26userTopListOpen%3Dtrue%26userTopListCount%3D5%26userTopListManageOpen%3Dfalse%26userTopListCurrentPage%3D1\" class=\"td_a\" data-clk=\"tcc_tec.contents\" data-gdid=\"UAT_3540642\">\\n<span class=\"td_mw\">\\n<img src=\"https://s.pstatic.net/static/www/mobile/edit/2018/1218/cropImg_166x108_145587680475465219.jpeg\" width=\"166\" height=\"108\" alt=\"\" class=\"td_m\">\\n<span class=\"td_bd\"></span>\\n</span>\\n<span class=\"td_tw\">\\n<span class=\"td_t\">탈옥 아이폰을 위한 앱스토어, 시디아 폐쇄하는 까닭은?</span>\\n</span>\\n</a>\\n<span class=\"td_ow\">\\n<span class=\"td_o\">디바이스 탐구생활</span>\\n</span>\\n</li><script id=\"p_main_ittech_00_script\" type=\"text/template\" data-veta-type=\"empty\">\\n(function() {\\n    var isUnderIE9 = AgentDetect.IS_IE && AgentDetect.searchBrowserVersion() < 9.0;\\n\\n    if (isUnderIE9 === true) {\\n        String.prototype.trim = function () {\\n            return this.replace(/^[\\\\s\\\\uFEFF\\\\xA0]+|[\\\\s\\\\uFEFF\\\\xA0]+$/g, \"\");\\n        };\\n    }\\n\\tvar naver_corp_da = window.naver_corp_da || {};\\n\\tvar da_dom_id = \\'p_main_ittech_00\\'.trim();\\n\\tvar uId = (da_dom_id.length > 0) ? da_dom_id : (typeof nbp_ad !== \\'undefined\\') ? nbp_ad.mobilenetwork.ad_div_id : \\'adw_da\\';\\n\\tvar tarEl = NBP_CORP.$(uId);\\n\\t\\n\\tvar util = naver_corp_da.Util ? new naver_corp_da.Util() : new NBP_CORP.Nimp();\\n\\n\\tif(tarEl) {\\n\\t\\t/* ActiveView */\\n\\t\\tvar ac_end_date = \"20301231235959\";\\n\\t\\tvar ad_end_date = \"20301231235959\";\\n\\n\\t\\tvar scroll_target = (typeof da_scroll_target !== \\'undefined\\') ? da_scroll_target.targetEl : window;\\n\\t\\tvar orientation_change_time = 500;\\n\\n\\t\\tvar callback = function () {\\n\\t\\t\\tvar url = \"https://nv.veta.naver.com/fxview?eu=EU10030105&calp=-&oj=uJs%2BAKvop%2BnVom0XabBE8wjI1SIH75V%2BZBsSQPAgicg&ac=7560751&src=3184385&evtcd=C1073&x_ti=944&tb=ITTECH_1&oid=&sid1=&sid2=&rk=d5f5c0aaa8c0feb5f411d742a0603188&eltts=3WJGzyd6vMEXAbVlQUc%2FWw%3D%3D&brs=Y&&eid=V900&x_ev=\";\\n\\t\\t\\tvar x_ev = \\'\\';\\n\\t\\t\\ttry {\\n\\t\\t\\t\\tvar target = NBP_CORP.$(uId);\\n\\t\\t\\t\\tx_ev = (target) ? ((parseInt(target.getBoundingClientRect().height || target.offsetHeight, 10) === 0) ? \\'000\\' : \\'111\\') : \\'000\\';\\n\\t\\t\\t} catch(e) {\\n\\t\\t\\t\\tx_ev = \\'000\\';\\n\\t\\t\\t} finally {\\n\\t\\t\\t\\turl += x_ev;\\n\\t\\t\\t\\tutil.log(url);\\n\\t\\t\\t}\\n\\t\\t};\\n\\n\\t\\tvar callbackForInValid = function () {};\\n\\n\\t\\tnaver_corp_da.activeViews[uId] = naver_corp_da.activeViews[uId] || null;\\n\\n\\t\\tif(naver_corp_da.activeViews[uId]) {\\n\\t\\t\\tnaver_corp_da.activeViews[uId].clearActiveView();\\n\\t\\t\\tnaver_corp_da.activeViews[uId] = null;\\n\\t\\t} \\n\\n\\t\\tnaver_corp_da.activeViews[uId] = new naver_corp_da.ActiveView({\\n\\t\\t\\tadDivId : uId,\\n\\t\\t\\tacEndDate : ac_end_date,\\n\\t\\t\\tadEndDate : ad_end_date,\\n\\t\\t\\tscrollTarget : scroll_target,\\n\\t\\t\\tactiveViewTime : 1000,\\n\\t\\t\\tactiveViewPercentage : 0.5,\\n\\t\\t\\torientationChangeTime : orientation_change_time,\\n\\t\\t\\tcallback : callback,\\n\\t\\t\\tcallbackForInValid : callbackForInValid\\n\\t\\t});\\n\\n\\t\\tnaver_corp_da.activeViews[uId].checkActiveView();\\n\\t}\\n})();\\n</script><li class=\"tl_default\"\\ndata-seq=\"249990\"\\ndata-title=\"한국암웨이의 디지털 혁신을 이끌 한혜진 CIO 인터뷰\"\\ndata-expsStartYmdt=\"2018-12-19 08:00\"\\ndata-expsEndYmdt=\"2018-12-22 23:59\"\\ndata-fixedSeq=\"0\"\\ndata-fixedExpsStartYmdt=\"\"\\ndata-fixedExpsEndYmdt=\"\">\\n<a href=\"https://post.naver.com/viewer/postView.nhn?volumeNo=17353571&memberNo=28406107\" class=\"td_a\" data-clk=\"tcc_tec.contents\" data-gdid=\"UAT_3540639\">\\n<span class=\"td_mw\">\\n<img src=\"https://s.pstatic.net/static/www/mobile/edit/2018/1218/cropImg_166x108_145587540999080182.jpeg\" width=\"166\" height=\"108\" alt=\"\" class=\"td_m\">\\n<span class=\"td_bd\"></span>\\n</span>\\n<span class=\"td_tw\">\\n<span class=\"td_t\">한국암웨이의 디지털 혁신을 이끌 한혜진 CIO 인터뷰</span>\\n</span>\\n</a>\\n<span class=\"td_ow\">\\n<span class=\"td_o\">에디터 초이스</span>\\n</span>\\n</li>\\n<li class=\"tl_default\"\\ndata-seq=\"249992\"\\ndata-title=\"아직도 공인인증서 쓰나요? 다양해진 \\'인증 방식\\'\"\\ndata-expsStartYmdt=\"2018-12-19 06:00\"\\ndata-expsEndYmdt=\"2018-12-22 23:59\"\\ndata-fixedSeq=\"0\"\\ndata-fixedExpsStartYmdt=\"\"\\ndata-fixedExpsEndYmdt=\"\">\\n<a href=\"https://blog.naver.com/PostView.nhn?blogId=tech-plus&logNo=221419218911&proxyReferer=&proxyReferer=https%3A%2F%2Fblog.naver.com%2FPostView.nhn%3FblogId%3Dtech-plus%26logNo%3D221419218911%26redirect%3DDlog%26widgetTypeCall%3Dtrue%26directAccess%3Dfalse\" class=\"td_a\" data-clk=\"tcc_tec.contents\" data-gdid=\"UAT_3540641\">\\n<span class=\"td_mw\">\\n<img src=\"https://s.pstatic.net/static/www/mobile/edit/2018/1218/cropImg_166x108_145587610921664178.jpeg\" width=\"166\" height=\"108\" alt=\"\" class=\"td_m\">\\n<span class=\"td_bd\"></span>\\n</span>\\n<span class=\"td_tw\">\\n<span class=\"td_t\">아직도 공인인증서 쓰나요? 다양해진 \\'인증 방식\\'</span>\\n</span>\\n</a>\\n<span class=\"td_ow\">\\n<span class=\"td_o\">에디터 초이스</span>\\n</span>\\n</li>\\n<li class=\"tl_default\"\\ndata-seq=\"249504\"\\ndata-title=\"국산 소셜 VR 미디어 플랫폼, 세계의 주목을 받다\"\\ndata-expsStartYmdt=\"2018-12-18 20:00\"\\ndata-expsEndYmdt=\"2018-12-21 23:59\"\\ndata-fixedSeq=\"0\"\\ndata-fixedExpsStartYmdt=\"\"\\ndata-fixedExpsEndYmdt=\"\">\\n<a href=\"https://news.naver.com/main/read.nhn?mode=LSD&mid=sec&sid1=105&oid=030&aid=0002768315&rc=N\" class=\"td_a\" data-clk=\"tcc_tec.contents\" data-gdid=\"UAT_3534492\">\\n<span class=\"td_mw\">\\n<img src=\"https://s.pstatic.net/static/www/mobile/edit/2018/1217/cropImg_166x108_145495105970926347.jpeg\" width=\"166\" height=\"108\" alt=\"\" class=\"td_m\">\\n<span class=\"td_bd\"></span>\\n</span>\\n<span class=\"td_tw\">\\n<span class=\"td_t\">국산 소셜 VR 미디어 플랫폼, 세계의 주목을 받다</span>\\n</span>\\n</a>\\n<span class=\"td_ow\">\\n<span class=\"td_o\">에디터 초이스</span>\\n</span>\\n</li>\\n<li class=\"tl_default\"\\ndata-seq=\"249502\"\\ndata-title=\"재즈음악으로 내 오디오 한 번 체크해볼까?\"\\ndata-expsStartYmdt=\"2018-12-18 18:00\"\\ndata-expsEndYmdt=\"2018-12-21 23:59\"\\ndata-fixedSeq=\"0\"\\ndata-fixedExpsStartYmdt=\"\"\\ndata-fixedExpsEndYmdt=\"\">\\n<a href=\"https://post.naver.com/viewer/postView.nhn?volumeNo=17235981&memberNo=8871375\" class=\"td_a\" data-clk=\"tcc_tec.contents\" data-gdid=\"UAT_3534475\">\\n<span class=\"td_mw\">\\n<img src=\"https://s.pstatic.net/static/www/m/guide/dummy_1X1.jpg\" data-src=\"https://s.pstatic.net/static/www/mobile/edit/2018/1217/cropImg_166x108_145495031572427677.jpeg\" width=\"166\" height=\"108\" alt=\"\" class=\"td_m\">\\n<span class=\"td_bd\"></span>\\n</span>\\n<span class=\"td_tw\">\\n<span class=\"td_t\">재즈음악으로 내 오디오 한 번 체크해볼까?</span>\\n</span>\\n</a>\\n<span class=\"td_ow\">\\n<span class=\"td_o\">기획 : 음향기기</span>\\n</span>\\n</li>\\n<li class=\"tl_default\"\\ndata-seq=\"249500\"\\ndata-title=\"진짜 시계바늘이 있는 스마트워치, LG Watch W7\"\\ndata-expsStartYmdt=\"2018-12-18 16:00\"\\ndata-expsEndYmdt=\"2018-12-21 23:59\"\\ndata-fixedSeq=\"0\"\\ndata-fixedExpsStartYmdt=\"\"\\ndata-fixedExpsEndYmdt=\"\">\\n<a href=\"https://post.naver.com/viewer/postView.nhn?volumeNo=17349230&memberNo=15000041\" class=\"td_a\" data-clk=\"tcc_tec.contents\" data-gdid=\"UAT_3534460\">\\n<span class=\"td_mw\">\\n<img src=\"https://s.pstatic.net/static/www/m/guide/dummy_1X1.jpg\" data-src=\"https://s.pstatic.net/static/www/mobile/edit/2018/1217/cropImg_166x108_145494733658578313.png\" width=\"166\" height=\"108\" alt=\"\" class=\"td_m\">\\n<span class=\"td_bd\"></span>\\n</span>\\n<span class=\"td_tw\">\\n<span class=\"td_t\">진짜 시계바늘이 있는 스마트워치, LG Watch W7</span>\\n</span>\\n</a>\\n<span class=\"td_ow\">\\n<span class=\"td_o\">디바이스 탐구생활</span>\\n</span>\\n</li>\\n<li class=\"tl_default\"\\ndata-seq=\"249501\"\\ndata-title=\"인도 배낭여행 떠난 대학생이 촛불로 켜는 램프 만든 이유?\"\\ndata-expsStartYmdt=\"2018-12-18 14:00\"\\ndata-expsEndYmdt=\"2018-12-21 23:59\"\\ndata-fixedSeq=\"0\"\\ndata-fixedExpsStartYmdt=\"\"\\ndata-fixedExpsEndYmdt=\"\">\\n<a href=\"https://post.naver.com/viewer/postView.nhn?volumeNo=17210525&memberNo=6457418&searchKeyword=%EC%8A%A4%ED%83%80%ED%8A%B8%EC%97%85&searchRank=13\" class=\"td_a\" data-clk=\"tcc_tec.contents\" data-gdid=\"UAT_3534462\">\\n<span class=\"td_mw\">\\n<img src=\"https://s.pstatic.net/static/www/m/guide/dummy_1X1.jpg\" data-src=\"https://s.pstatic.net/static/www/mobile/edit/2018/1217/cropImg_166x108_145494829749804310.jpeg\" width=\"166\" height=\"108\" alt=\"\" class=\"td_m\">\\n<span class=\"td_bd\"></span>\\n</span>\\n<span class=\"td_tw\">\\n<span class=\"td_t\">인도 배낭여행 떠난 대학생이 촛불로 켜는 램프 만든 이유?</span>\\n</span>\\n</a>\\n<span class=\"td_ow\">\\n<span class=\"td_o\">스타트업 라운지</span>\\n</span>\\n</li>\\n<li class=\"tl_default\"\\ndata-seq=\"249503\"\\ndata-title=\"&lsquo;인류 최초&rsquo; 달 뒷면 탐사, 中 탐사선 \\'창어 4호\\'가 한다\"\\ndata-expsStartYmdt=\"2018-12-18 12:00\"\\ndata-expsEndYmdt=\"2018-12-21 23:59\"\\ndata-fixedSeq=\"0\"\\ndata-fixedExpsStartYmdt=\"\"\\ndata-fixedExpsEndYmdt=\"\">\\n<a href=\"https://blog.naver.com/PostView.nhn?blogId=tech-plus&logNo=221420735239&proxyReferer=&proxyReferer=https%3A%2F%2Fblog.naver.com%2FPostView.nhn%3FblogId%3Dtech-plus%26logNo%3D221420735239%26redirect%3DDlog%26widgetTypeCall%3Dtrue%26directAccess%3Dfalse\" class=\"td_a\" data-clk=\"tcc_tec.contents\" data-gdid=\"UAT_3534476\">\\n<span class=\"td_mw\">\\n<img src=\"https://s.pstatic.net/static/www/m/guide/dummy_1X1.jpg\" data-src=\"https://s.pstatic.net/static/www/mobile/edit/2018/1217/cropImg_166x108_145495068288866885.jpeg\" width=\"166\" height=\"108\" alt=\"\" class=\"td_m\">\\n<span class=\"td_bd\"></span>\\n</span>\\n<span class=\"td_tw\">\\n<span class=\"td_t\">&lsquo;인류 최초&rsquo; 달 뒷면 탐사, 中 탐사선 \\'창어 4호\\'가 한다</span>\\n</span>\\n</a>\\n<span class=\"td_ow\">\\n<span class=\"td_o\">에디터 초이스</span>\\n</span>\\n</li>\\n<li class=\"tl_default\"\\ndata-seq=\"249498\"\\ndata-title=\"애플 아이폰 7종, 중국서 판매 금지?\"\\ndata-expsStartYmdt=\"2018-12-18 10:00\"\\ndata-expsEndYmdt=\"2018-12-21 23:59\"\\ndata-fixedSeq=\"0\"\\ndata-fixedExpsStartYmdt=\"\"\\ndata-fixedExpsEndYmdt=\"\">\\n<a href=\"https://blog.naver.com/PostView.nhn?blogId=nexte12345&logNo=221420697850&proxyReferer=&proxyReferer=https%3A%2F%2Fblog.naver.com%2FPostView.nhn%3FblogId%3Dnexte12345%26logNo%3D221420697850%26redirect%3DDlog%26widgetTypeCall%3Dtrue%26directAccess%3Dfalse\" class=\"td_a\" data-clk=\"tcc_tec.contents\" data-gdid=\"UAT_3534451\">\\n<span class=\"td_mw\">\\n<img src=\"https://s.pstatic.net/static/www/m/guide/dummy_1X1.jpg\" data-src=\"https://s.pstatic.net/static/www/mobile/edit/2018/1217/cropImg_166x108_145494853230942285.jpeg\" width=\"166\" height=\"108\" alt=\"\" class=\"td_m\">\\n<span class=\"td_bd\"></span>\\n</span>\\n<span class=\"td_tw\">\\n<span class=\"td_t\">애플 아이폰 7종, 중국서 판매 금지?</span>\\n</span>\\n</a>\\n<span class=\"td_ow\">\\n<span class=\"td_o\">디바이스 탐구생활</span>\\n</span>\\n</li>\\n<li class=\"tl_default\"\\ndata-seq=\"249567\"\\ndata-title=\"설마 이런 제품을?&hellip;잡스도 숨기고 싶은 애플의 실패작\"\\ndata-expsStartYmdt=\"2018-12-18 08:00\"\\ndata-expsEndYmdt=\"2018-12-21 23:59\"\\ndata-fixedSeq=\"0\"\\ndata-fixedExpsStartYmdt=\"\"\\ndata-fixedExpsEndYmdt=\"\">\\n<a href=\"https://blog.naver.com/PostView.nhn?blogId=tech-plus&logNo=221420878974&proxyReferer=&proxyReferer=https%3A%2F%2Fblog.naver.com%2FPostView.nhn%3FblogId%3Dtech-plus%26logNo%3D221420878974%26redirect%3DDlog%26widgetTypeCall%3Dtrue%26directAccess%3Dfalse\" class=\"td_a\" data-clk=\"tcc_tec.contents\" data-gdid=\"UAT_3535029\">\\n<span class=\"td_mw\">\\n<img src=\"https://s.pstatic.net/static/www/m/guide/dummy_1X1.jpg\" data-src=\"https://s.pstatic.net/static/www/mobile/edit/2018/1217/cropImg_166x108_145498957863086593.jpeg\" width=\"166\" height=\"108\" alt=\"\" class=\"td_m\">\\n<span class=\"td_bd\"></span>\\n</span>\\n<span class=\"td_tw\">\\n<span class=\"td_t\">설마 이런 제품을?&hellip;잡스도 숨기고 싶은 애플의 실패작</span>\\n</span>\\n</a>\\n<span class=\"td_ow\">\\n<span class=\"td_o\">IT 흑역사 백역사</span>\\n</span>\\n</li>\\n<li class=\"tl_default\"\\ndata-seq=\"249497\"\\ndata-title=\"하나의 인터넷케이블로 두개의 인터넷케이블 만들기\"\\ndata-expsStartYmdt=\"2018-12-18 06:00\"\\ndata-expsEndYmdt=\"2018-12-21 23:59\"\\ndata-fixedSeq=\"0\"\\ndata-fixedExpsStartYmdt=\"\"\\ndata-fixedExpsEndYmdt=\"\">\\n<a href=\"https://tv.naver.com/v/4660807\" class=\"td_a\" data-clk=\"tcc_tec.contents\" data-gdid=\"UAT_3534450\">\\n<span class=\"td_mw\">\\n<img src=\"https://s.pstatic.net/static/www/m/guide/dummy_1X1.jpg\" data-src=\"https://s.pstatic.net/static/www/mobile/edit/2018/1217/cropImg_166x108_145494777382174960.jpeg\" width=\"166\" height=\"108\" alt=\"\" class=\"td_m\">\\n<span class=\"td_bd\"></span>\\n<span class=\"td_ico_video\"><span class=\"blind\">ë\\x8f\\x99ì\\x98\\x81ì\\x83\\x81</span><span class=\"td_bg\"></span><span class=\"td_icon\"></span></span>\\n</span>\\n<span class=\"td_tw\">\\n<span class=\"td_t\">하나의 인터넷케이블로 두개의 인터넷케이블 만들기</span>\\n</span>\\n</a>\\n<span class=\"td_ow\">\\n<span class=\"td_o\">동영상으로 보는 IT 이야기</span>\\n</span>\\n</li>\\n<li class=\"tl_default\"\\ndata-seq=\"248693\"\\ndata-title=\"미래 PC를 위해 던진 한 수, 스냅드래곤 8cx\"\\ndata-expsStartYmdt=\"2018-12-17 20:00\"\\ndata-expsEndYmdt=\"2018-12-20 23:59\"\\ndata-fixedSeq=\"0\"\\ndata-fixedExpsStartYmdt=\"\"\\ndata-fixedExpsEndYmdt=\"\">\\n<a href=\"https://post.naver.com/viewer/postView.nhn?volumeNo=17310038&memberNo=1254\" class=\"td_a\" data-clk=\"tcc_tec.contents\" data-gdid=\"UAT_3528592\">\\n<span class=\"td_mw\">\\n<img src=\"https://s.pstatic.net/static/www/m/guide/dummy_1X1.jpg\" data-src=\"https://s.pstatic.net/static/www/mobile/edit/2018/1214/cropImg_166x108_145238543803285308.jpeg\" width=\"166\" height=\"108\" alt=\"\" class=\"td_m\">\\n<span class=\"td_bd\"></span>\\n</span>\\n<span class=\"td_tw\">\\n<span class=\"td_t\">미래 PC를 위해 던진 한 수, 스냅드래곤 8cx</span>\\n</span>\\n</a>\\n<span class=\"td_ow\">\\n<span class=\"td_o\">에디터 초이스</span>\\n</span>\\n</li>\\n</ul>\\n</div>\\n\\t\\t\\t\\t</div>\\n\\t\\t\\t</div>\\n\\t\\t</div>\\n\\t</div>\\n\\t<!-- //주제형캐스트 -->\\n\\t<div id=\"shp_cst\" class=\"section_shoppingcast\">\\n\\t\\t<iframe src=\"https://castbox.shopping.naver.com/shopbox/main.nhn?\" id=\"cnsv_shbx\" title=\"쇼핑캐스트\" marginheight=\"0\" marginwidth=\"0\" scrolling=\"no\" frameborder=\"0\" width=\"330\" height=\"882\">쇼핑캐스트 : <a href=\"https://castbox.shopping.naver.com/shopbox/main.nhn?\">https://castbox.shopping.naver.com/shopbox/main.nhn?</a></iframe>\\n\\t</div>\\n</div>\\n\\n<div class=\"column_banner\">\\n\\t<div class=\"section_btmbn\">\\n\\t\\t<ul class=\"btmbanner_list\">\\n\\t\\t\\t\\n<li class=\"bl_item\">\\n<a data-clk=\"mcb.left\" href=\"https://www.edwith.org/boost-course/intro\" class=\"bl_a\" target=\"_blank\">\\n<div class=\"bl_mw\">\\n<img src=\"https://s.pstatic.net/static/www/mobile/edit/2018/1214/mobile_1053202513.png\" width=\"166\" height=\"88\" alt=\"커넥트재단 코딩 노하우 총집합! 현직 개발자들과 함께 만든 부스트코스\" title=\"커넥트재단 코딩 노하우 총집합! 현직 개발자들과 함께 만든 부스트코스\" class=\"bl_m\">\\n<span class=\"bl_bd\"></span>\\n</div>\\n<div class=\"bl_tw\">\\n<span class=\"bl_s\">커넥트재단</span>\\n<strong class=\"bl_t\">코딩 노하우 총집합!</strong>\\n<span class=\"bl_d\">현직 개발자들과 함께 만든<br/>부스트코스</span>\\n</div>\\n</a>\\n</li>\\n\\n\\t\\t\\t\\n<li class=\"bl_item\">\\n<a data-clk=\"mcb.right\" href=\"https://happybean.naver.com/flower/flowerHome.nhn#tab=brand\" class=\"bl_a\" target=\"_blank\">\\n<div class=\"bl_mw\">\\n<img src=\"https://s.pstatic.net/static/www/mobile/edit/2018/1217/mobile_15520792288.jpg\" width=\"166\" height=\"88\" alt=\"해피빈 공감가게 스토어찜 이벤트 지금 공감가게를 &#39;찜&#39;하면 할인쿠폰을 드립니다!\" title=\"해피빈 공감가게 스토어찜 이벤트 지금 공감가게를 &#39;찜&#39;하면 할인쿠폰을 드립니다!\" class=\"bl_m\">\\n<span class=\"bl_bd\"></span>\\n</div>\\n<div class=\"bl_tw\">\\n<span class=\"bl_s\">해피빈 공감가게</span>\\n<strong class=\"bl_t\">스토어찜 이벤트</strong>\\n<span class=\"bl_d\">지금 공감가게를 &#39;찜&#39;하면<br/>할인쿠폰을 드립니다!</span>\\n</div>\\n</a>\\n</li>\\n\\n\\t\\t</ul>\\n\\t</div>\\n\\n\\t<div class=\"section_rbn\">\\n\\n\\t\\t<!-- 광고 -->\\n\\t\\t<div id=\"veta_time2\">\\n\\t\\t\\t<iframe id=\"da_iframe_below\" name=\"da_iframe_below\" src=\"https://nv.veta.naver.com/fxshow?su=SU10082&amp;nrefreshx=0\" data-veta-preview=\"main_below\" width=\"332\" height=\"130\" marginheight=\"0\" marginwidth=\"0\" scrolling=\"no\" frameborder=\"0\" align=\"center\" title=\"광고\"></iframe>\\n\\t\\t\\t<div class=\"veta_bdt\"></div><div class=\"veta_bdr\"></div><div class=\"veta_bdb\"></div><div class=\"veta_bdl\"></div>\\n\\t\\t</div>\\n\\t\\t<!-- //광고 -->\\n\\n\\t</div>\\n</div>\\n\\n\\t\\t</div>\\n\\t\\t<div class=\"section_footer\" role=\"contentinfo\">\\n\\t<div class=\"notice\">\\n\\t\\t<div class=\"area_notice\">\\n\\t\\t\\t<h3 class=\"an_tit\"><a href=\"//www.naver.com/NOTICE\" class=\"an_ta\" data-clk=\"ntc.notice\">공지사항</a></h3>\\n\\t\\t\\t\\n<a data-clk=\"ntc.notice\" href=\"https://www.naver.com/NOTICE/read/1100001014/10000000000030663533\" class=\"an_a\" >새로운 네이버 모바일에 따른 변화에 대해 안내 드립니다.</a>\\n\\t\\t</div>\\n\\t\\t<div class=\"area_services\">\\n\\t\\t\\t<a href=\"more.html\" class=\"as_a\" data-clk=\"ntc.svcmap\">서비스 전체보기<span class=\"as_ico_all\"></span></a>\\n\\t\\t</div>\\n\\t</div>\\n\\n\\n\\t<div class=\"aside\">\\n\\t\\t<div class=\"area_flower\">\\n\\t\\t\\t<div class=\"af_tw\">\\n\\t\\t\\t\\t<h3 class=\"af_tit\">프로젝트 꽃</h3>\\n\\t\\t\\t\\t<a href=\"https://search.naver.com/search.naver?where=nexearch&sm=top_hty&fbm=1&ie=utf8&query=%ED%94%84%EB%A1%9C%EC%A0%9D%ED%8A%B8%EA%BD%83\" data-clk=\"prj.link\" class=\"af_a\">바로가기</a>\\n\\t\\t\\t</div>\\n\\t\\t\\t<div class=\"af_mw\">\\n\\t\\t\\t\\t<a href=\"https://search.naver.com/search.naver?where=nexearch&sm=top_hty&fbm=1&ie=utf8&query=%ED%94%84%EB%A1%9C%EC%A0%9D%ED%8A%B8%EA%BD%83\" data-clk=\"prj.link\"class=\"af_qr\"><span class=\"blind\">프로젝트 꽃</span></a>\\n\\t\\t\\t</div>\\n\\t\\t</div>\\n\\t\\t<div class=\"area_newmain\">\\n<div class=\"an_tw\">\\n<h3 class=\"an_tit\">새로운<br>네이버모바일</h3>\\n<a href=\"https://alpha.naver.com/experiment/newnaverapp/beta\" data-clk=\"new.main\" class=\"an_a\">다운로드 안내</a>\\n</div>\\n<div class=\"an_mw\">\\n<a href=\"https://alpha.naver.com/experiment/newnaverapp/beta\" data-clk=\"new.main\" class=\"an_qr\"><span class=\"blind\">새로운 네이버 모바일</span></a>\\n</div>\\n</div>\\n\\t\\t<div class=\"area_user\">\\n\\t\\t\\t<div class=\"au_wrap\">\\n\\t\\t\\t\\t<h3 class=\"au_tit\">Creators</h3>\\n\\t\\t\\t\\t<ul class=\"au_l\">\\n\\t\\t\\t\\t\\t<li class=\"au_item\"><a href=\"http://www.navercorp.com/ko/service/creators.nhn\" data-clk=\"crt.creator\" class=\"au_a\">크리에이터</a></li>\\n\\t\\t\\t\\t\\t<li class=\"au_item\"><span class=\"au_bar\"></span><a href=\"http://www.navercorp.com/ko/service/business.nhn\" data-clk=\"crt.smbusiness\" class=\"au_a\">스몰비즈니스</a></li>\\n\\t\\t\\t\\t</ul>\\n\\t\\t\\t</div>\\n\\t\\t\\t<div class=\"au_wrap\">\\n\\t\\t\\t\\t<h3 class=\"au_tit\">Partners</h3>\\n\\t\\t\\t\\t<ul class=\"au_l\">\\n\\t\\t\\t\\t\\t<li class=\"au_item\"><a href=\"http://business.naver.com/guide.html\" data-clk=\"ptn.guide\" class=\"au_a\">비즈니스 파트너 안내</a></li>\\n\\t\\t\\t\\t\\t<li class=\"au_item\"><span class=\"au_bar\"></span><a href=\"http://business.naver.com/service.html\" data-clk=\"ptn.service\" class=\"au_a\">비즈니스 · 광고</a></li>\\n\\t\\t\\t\\t\\t<li class=\"au_item\"><span class=\"au_bar\"></span><a href=\"https://sell.storefarm.naver.com/#/home/about\" data-clk=\"ptn.store\"class=\"au_a\">스토어 개설</a></li>\\n\\t\\t\\t\\t\\t<li class=\"au_item\"><span class=\"au_bar\"></span><a href=\"https://smartplace.naver.com/\" data-clk=\"ptn.place\"class=\"au_a\">지역업체 등록</a></li>\\n\\t\\t\\t\\t</ul>\\n\\t\\t\\t</div>\\n\\t\\t\\t<div class=\"au_wrap\">\\n\\t\\t\\t\\t<h3 class=\"au_tit\">Developers</h3>\\n\\t\\t\\t\\t<ul class=\"au_l\">\\n\\t\\t\\t\\t\\t<li class=\"au_item\"><a href=\"http://developers.naver.com\" data-clk=\"dvl.center\" class=\"au_a au_sa\">네이버 개발자센터</a></li>\\n\\t\\t\\t\\t\\t<li class=\"au_item\"><span class=\"au_bar\"></span><a href=\"https://developers.naver.com/docs/common/openapiguide/#/apilist.md/\" data-clk=\"dvl.openapi\" class=\"au_a\">오픈 API</a></li>\\n\\t\\t\\t\\t\\t<li class=\"au_item\"><span class=\"au_bar\"></span><a href=\"http://naver.github.io/\" data-clk=\"dvl.opensource\" class=\"au_a\">오픈소스</a></li>\\n\\t\\t\\t\\t\\t<li class=\"au_item\"><span class=\"au_bar\"></span><a href=\"http://d2.naver.com/\" data-clk=\"dvl.d2\" class=\"au_a\">네이버 D2</a></li>\\n\\t\\t\\t\\t\\t<li class=\"au_item\"><span class=\"au_bar\"></span><a href=\"http://www.naverlabs.com/\" data-clk=\"dvl.labs\" class=\"au_a\">네이버 랩스</a></li>\\n\\t\\t\\t\\t</ul>\\n\\t\\t\\t</div>\\n\\t\\t</div>\\n\\t</div>\\n\\n\\t<div class=\"footer\">\\n\\t\\t<div class=\"area_terms\">\\n\\t\\t\\t<h3 class=\"blind\">네이버 정책 및 약관</h3>\\n\\t\\t\\t<ul class=\"at_l\">\\n\\t\\t\\t\\t<li class=\"at_item\"><a href=\"http://www.navercorp.com/\" class=\"at_a\" data-clk=\"plc.intronhn\">회사소개</a></li>\\n\\t\\t\\t\\t<li class=\"at_item\"><span class=\"at_bar\"></span><a href=\"http://recruit.navercorp.com/naver/recruitMain\" class=\"at_a\" data-clk=\"plc.recruit\">인재채용</a></li>\\n\\t\\t\\t\\t<li class=\"at_item\"><span class=\"at_bar\"></span><a href=\"https://www.navercorp.com/ko/company/proposalGuide.nhn\" class=\"at_a\" data-clk=\"plc.contact\">제휴제안</a></li>\\n\\t\\t\\t\\t<li class=\"at_item\"><span class=\"at_bar\"></span><a href=\"/policy/service.html\" class=\"at_a\" data-clk=\"plc.service\">이용약관</a></li>\\n\\t\\t\\t\\t<li class=\"at_item\"><span class=\"at_bar\"></span><a href=\"/policy/privacy.html\" class=\"at_a\" data-clk=\"plc.privacy\"><strong class=\"at_st\">개인정보처리방침</strong></a></li>\\n\\t\\t\\t\\t<li class=\"at_item\"><span class=\"at_bar\"></span><a href=\"/policy/youthpolicy.html\" class=\"at_a\" data-clk=\"plc.youth\">청소년보호정책</a></li>\\n\\t\\t\\t\\t<li class=\"at_item\"><span class=\"at_bar\"></span><a href=\"/policy/spamcheck.html\" class=\"at_a\" data-clk=\"plc.policy\">네이버 정책</a></li>\\n\\t\\t\\t\\t<li class=\"at_item\"><span class=\"at_bar\"></span><a href=\"https://help.naver.com/\" class=\"at_a\" data-clk=\"plc.helpcenter\">고객센터</a></li>\\n\\t\\t\\t</ul>\\n\\t\\t\\t<address class=\"at_cr\">ⓒ <a href=\"http://www.navercorp.com/\" target=\"_blank\" class=\"at_ca\" data-clk=\"plc.nhn\">NAVER Corp.</a></address>\\n\\t\\t</div>\\n\\t</div>\\n</div>\\n\\n\\t</div>\\n\\t\\n\\t<script src=\"https://pm.pstatic.net/js/c/jindo_v180212.js\"></script>\\n\\t\\n\\t\\n\\t<script>\\n\\t\\tvar svr = \"<!--aweb202.ntop-->\";\\n\\t\\tvar svt = \"20181219172407\";\\n\\t\\tvar aPanelListAll;\\n\\t\\t\\n\\t\\tvar nmainJS = [\"https://pm.pstatic.net/js/c/nmain_v181128.js\"];\\n\\t\\t\\n\\t\\tvar sThemecastAdScriptUrl = \\'https://ssl.pstatic.net/tveta/libs/assets/js/pc/main/min/pc.veta.core.min.js?20180330\\';\\n\\t\\tnmainJS.push(sThemecastAdScriptUrl);\\n\\n\\t\\tfunction loadJS() {\\n\\n\\t\\t\\t\\n\\t\\t\\t\\tsetTimeout(function() { lcs_do(refreshLcs()); }, 0);\\n\\t\\t\\t\\n\\n\\t\\t\\tjindo.LazyLoading.load(nmainJS, function(){\\n\\n\\t\\t\\t\\ttry { naver.main.nelo.setEnable(true); } catch(e) { };\\n\\n\\t\\t\\t\\tif ( svr === \"<!--cweb301.ntop-->\" ) {\\n\\t\\t\\t\\t\\tJEagleEyeClient.setEnable(true);\\n\\t\\t\\t\\t}\\n\\n\\t\\t\\t\\tif(typeof initPage != \\'undefined\\') {\\n    \\t\\t\\t\\tinitPage();\\n\\t\\t\\t\\t}\\t\\n\\n\\t\\t\\t\\ttry {\\n\\t\\t\\t\\t\\taPanelListAll = [{\"adMap\":null,\"code\":\"LIVINGHOME\",\"name\":\"리빙\",\"css\":\"livinghome\",\"nclick\":\"lif\",\"openDate\":null},{\"adMap\":null,\"code\":\"LIVING\",\"name\":\"푸드\",\"css\":\"living\",\"nclick\":\"fod\",\"openDate\":null},{\"adMap\":null,\"code\":\"SPORTS\",\"name\":\"스포츠\",\"css\":\"sports\",\"nclick\":\"spo\",\"openDate\":null},{\"adMap\":null,\"code\":\"CARGAME\",\"name\":\"자동차\",\"css\":\"cargame\",\"nclick\":\"aut\",\"openDate\":null},{\"adMap\":null,\"code\":\"BEAUTY\",\"name\":\"패션뷰티\",\"css\":\"beauty\",\"nclick\":\"bty\",\"openDate\":null},{\"adMap\":null,\"code\":\"MOMKIDS\",\"name\":\"부모i\",\"css\":\"momkids\",\"nclick\":\"mom\",\"openDate\":null},{\"adMap\":null,\"code\":\"HEALTH\",\"name\":\"건강\",\"css\":\"health\",\"nclick\":\"hea\",\"openDate\":null},{\"adMap\":null,\"code\":\"BBOOM\",\"name\":\"웹툰\",\"css\":\"bboom\",\"nclick\":\"web\",\"openDate\":null},{\"adMap\":null,\"code\":\"GAMEAPP\",\"name\":\"게임\",\"css\":\"gameapp\",\"nclick\":\"gam\",\"openDate\":null},{\"adMap\":null,\"code\":\"VIDEO\",\"name\":\"TV연예\",\"css\":\"video\",\"nclick\":\"tvc\",\"openDate\":null},{\"adMap\":null,\"code\":\"MUSIC\",\"name\":\"뮤직\",\"css\":\"music\",\"nclick\":\"muc\",\"openDate\":null},{\"adMap\":{\"id\":\"p_main_movie_00\",\"adPath\":\"%2Ffxshow%3Fsu%3DSU10199%26da_dom_id%3Dp_main_movie_00%26tb%3DMOVIE_1\"},\"code\":\"MOVIE\",\"name\":\"영화\",\"css\":\"movie\",\"nclick\":\"mov\",\"openDate\":null},{\"adMap\":null,\"code\":\"CULTURE\",\"name\":\"책문화\",\"css\":\"culture\",\"nclick\":\"bok\",\"openDate\":null},{\"adMap\":null,\"code\":\"WITH\",\"name\":\"함께N\",\"css\":\"with\",\"nclick\":\"pub\",\"openDate\":null},{\"adMap\":{\"id\":\"p_main_travel_00\",\"adPath\":\"%2Ffxshow%3Fsu%3DSU10198%26da_dom_id%3Dp_main_travel_00%26tb%3DTRAVEL_1\"},\"code\":\"TRAVEL\",\"name\":\"여행+\",\"css\":\"travel\",\"nclick\":\"tra\",\"openDate\":null},{\"adMap\":null,\"code\":\"DESIGN\",\"name\":\"디자인\",\"css\":\"design\",\"nclick\":\"des\",\"openDate\":null},{\"adMap\":null,\"code\":\"FINANCE\",\"name\":\"경제M\",\"css\":\"finance\",\"nclick\":\"fin\",\"openDate\":null},{\"adMap\":{\"id\":\"p_main_job_00\",\"adPath\":\"%2Ffxshow%3Fsu%3DSU10200%26da_dom_id%3Dp_main_job_00%26tb%3DJOB_1\"},\"code\":\"JOB\",\"name\":\"JOB&\",\"css\":\"job\",\"nclick\":\"job\",\"openDate\":null},{\"adMap\":null,\"code\":\"SCIENCE\",\"name\":\"과학\",\"css\":\"science\",\"nclick\":\"sci\",\"openDate\":null},{\"adMap\":null,\"code\":\"CHINA\",\"name\":\"중국\",\"css\":\"china\",\"nclick\":\"chn\",\"openDate\":null},{\"adMap\":{\"id\":\"p_main_business_00\",\"adPath\":\"%2Ffxshow%3Fsu%3DSU10204%26da_dom_id%3Dp_main_business_00%26tb%3DBUSINESS_1\"},\"code\":\"BUSINESS\",\"name\":\"비즈니스\",\"css\":\"business\",\"nclick\":\"bsn\",\"openDate\":null},{\"adMap\":null,\"code\":\"FARM\",\"name\":\"FARM\",\"css\":\"farm\",\"nclick\":\"far\",\"openDate\":null},{\"adMap\":{\"id\":\"p_main_school_01\",\"adPath\":\"%2Ffxshow%3Fsu%3DSU10210%26da_dom_id%3Dp_main_school_01%26tb%3DSCHOOL_1\"},\"code\":\"SCHOOL\",\"name\":\"스쿨잼\",\"css\":\"school\",\"nclick\":\"scl\",\"openDate\":null},{\"adMap\":null,\"code\":\"SHOW\",\"name\":\"공연전시\",\"css\":\"show\",\"nclick\":\"sow\",\"openDate\":\"20170622\"},{\"adMap\":null,\"code\":\"LAW\",\"name\":\"법률\",\"css\":\"law\",\"nclick\":\"law\",\"openDate\":\"20170803\"},{\"adMap\":null,\"code\":\"ANIMAL\",\"name\":\"동물공감\",\"css\":\"animal\",\"nclick\":\"ani\",\"openDate\":\"20170824\"},{\"adMap\":null,\"code\":\"WEDDING\",\"name\":\"연애·결혼\",\"css\":\"wedding\",\"nclick\":\"wed\",\"openDate\":\"20170831\"},{\"adMap\":null,\"code\":\"ITTECH\",\"name\":\"테크\",\"css\":\"ittech\",\"nclick\":\"tec\",\"openDate\":\"20170921\"},{\"adMap\":null,\"code\":\"EMOTION\",\"name\":\"감성충전\",\"css\":\"emotion\",\"nclick\":\"emo\",\"openDate\":\"20180322\"}]; \\n\\t\\t\\t\\t} catch(e) {\\n\\t\\t\\t\\t\\tJEagleEyeClient.sendError(\"invalid panel.json\");\\n\\t\\t\\t\\t}\\n\\t\\t\\t\\tnaver.main.PageRefresh.init();\\n\\n\\t\\t\\t\\tnaver.main.Panel.init(aPanelListAll);\\n\\n\\t\\t\\t\\tnaver.main.Log.init();\\n\\n\\t\\t\\t\\tnaver.main.ServiceNavi.init();\\n\\t\\t\\t\\tnaver.main.ThemecastNavi.init({\\n\\t\\t\\t\\t\\tbFlick: false,\\n\\t\\t\\t\\t\\tsAdList: \\'{\"header\":{\"msg\":\"success\",\"code\":0},\"body\":{\"adScriptList\":[{\"adScriptPCMain1\":{\"http\":\"https://ssl.pstatic.net/tveta/libs/assets/js/pc/main/min/pc.veta.core.min.js?20180330\",\"https\":\"https://ssl.pstatic.net/tveta/libs/assets/js/pc/main/min/pc.veta.core.min.js?20180330\"}}],\"adList\":[{\"menu\":\"ANIMAL\",\"childMenu\":\"\",\"adType\":\"singleDom\",\"multiDomAdUrl\":\"\",\"multiDomUnit\":\"\",\"infoList\":[{\"adposId\":\"1000124\",\"singleDomAdUrl\":\"https://nv.veta.naver.com/fxshow\",\"param\":{\"da_dom_id\":\"p_main_animal_00\",\"tb\":\"ANIMAL_1\",\"unit\":\"SU10261\",\"calp\":\"-\"},\"type\":{\"position\":\"rel\",\"positionIndex\":0,\"subject\":\"contents\"},\"dom\":null}]},{\"menu\":\"BEAUTY\",\"childMenu\":\"\",\"adType\":\"singleDom\",\"multiDomAdUrl\":\"\",\"multiDomUnit\":\"\",\"infoList\":[{\"adposId\":\"1000106\",\"singleDomAdUrl\":\"http://nv.veta.naver.com/fxshow\",\"param\":{\"da_dom_id\":\"p_main_beauty_00\",\"tb\":\"BEAUTY_1\",\"unit\":\"SU10249\",\"calp\":\"-\"},\"type\":{\"position\":\"rel\",\"positionIndex\":0,\"subject\":\"contents\"},\"dom\":null}]},{\"menu\":\"BUSINESS\",\"childMenu\":\"\",\"adType\":\"singleDom\",\"multiDomAdUrl\":\"\",\"multiDomUnit\":\"\",\"infoList\":[{\"adposId\":\"1000084\",\"singleDomAdUrl\":\"http://nv.veta.naver.com/fxshow\",\"param\":{\"da_dom_id\":\"p_main_business_00\",\"tb\":\"BUSINESS_1\",\"unit\":\"SU10204\",\"calp\":\"-\"},\"type\":{\"position\":\"rel\",\"positionIndex\":0,\"subject\":\"contents\"},\"dom\":null}]},{\"menu\":\"CARGAME\",\"childMenu\":\"\",\"adType\":\"singleDom\",\"multiDomAdUrl\":\"\",\"multiDomUnit\":\"\",\"infoList\":[{\"adposId\":\"1000102\",\"singleDomAdUrl\":\"http://nv.veta.naver.com/fxshow\",\"param\":{\"da_dom_id\":\"p_main_cargame_00\",\"tb\":\"CARGAME_1\",\"unit\":\"SU10253\",\"calp\":\"-\"},\"type\":{\"position\":\"rel\",\"positionIndex\":0,\"subject\":\"contents\"},\"dom\":null}]},{\"menu\":\"CHINA\",\"childMenu\":\"\",\"adType\":\"singleDom\",\"multiDomAdUrl\":\"\",\"multiDomUnit\":\"\",\"infoList\":[{\"adposId\":\"1000107\",\"singleDomAdUrl\":\"http://nv.veta.naver.com/fxshow\",\"param\":{\"da_dom_id\":\"p_main_china_00\",\"tb\":\"CHINA_1\",\"unit\":\"SU10206\",\"calp\":\"-\"},\"type\":{\"position\":\"rel\",\"positionIndex\":0,\"subject\":\"contents\"},\"dom\":null}]},{\"menu\":\"DESIGN\",\"childMenu\":\"\",\"adType\":\"singleDom\",\"multiDomAdUrl\":\"\",\"multiDomUnit\":\"\",\"infoList\":[{\"adposId\":\"1000090\",\"singleDomAdUrl\":\"http://nv.veta.naver.com/fxshow\",\"param\":{\"da_dom_id\":\"p_main_design_00\",\"tb\":\"DESIGN_1\",\"unit\":\"SU10205\",\"calp\":\"-\"},\"type\":{\"position\":\"rel\",\"positionIndex\":0,\"subject\":\"contents\"},\"dom\":null}]},{\"menu\":\"FARM\",\"childMenu\":\"\",\"adType\":\"singleDom\",\"multiDomAdUrl\":\"\",\"multiDomUnit\":\"\",\"infoList\":[{\"adposId\":\"1000101\",\"singleDomAdUrl\":\"http://nv.veta.naver.com/fxshow\",\"param\":{\"da_dom_id\":\"p_main_farm_00\",\"tb\":\"FARM_1\",\"unit\":\"SU10207\",\"calp\":\"-\"},\"type\":{\"position\":\"rel\",\"positionIndex\":0,\"subject\":\"contents\"},\"dom\":null}]},{\"menu\":\"FINANCE\",\"childMenu\":\"\",\"adType\":\"singleDom\",\"multiDomAdUrl\":\"\",\"multiDomUnit\":\"\",\"infoList\":[{\"adposId\":\"1000105\",\"singleDomAdUrl\":\"http://nv.veta.naver.com/fxshow\",\"param\":{\"da_dom_id\":\"p_main_finance_00\",\"tb\":\"FINANCE_1\",\"unit\":\"SU10250\",\"calp\":\"-\"},\"type\":{\"position\":\"rel\",\"positionIndex\":0,\"subject\":\"contents\"},\"dom\":null}]},{\"menu\":\"ITTECH\",\"childMenu\":\"\",\"adType\":\"singleDom\",\"multiDomAdUrl\":\"\",\"multiDomUnit\":\"\",\"infoList\":[{\"adposId\":\"1000113\",\"singleDomAdUrl\":\"https://nv.veta.naver.com/fxshow\",\"param\":{\"da_dom_id\":\"p_main_ittech_00\",\"tb\":\"ITTECH_1\",\"unit\":\"SU10260\",\"calp\":\"-\"},\"type\":{\"position\":\"rel\",\"positionIndex\":0,\"subject\":\"contents\"},\"dom\":null}]},{\"menu\":\"JOB\",\"childMenu\":\"\",\"adType\":\"singleDom\",\"multiDomAdUrl\":\"\",\"multiDomUnit\":\"\",\"infoList\":[{\"adposId\":\"1000088\",\"singleDomAdUrl\":\"http://nv.veta.naver.com/fxshow\",\"param\":{\"da_dom_id\":\"p_main_job_00\",\"tb\":\"JOB_1\",\"unit\":\"SU10200\",\"calp\":\"-\"},\"type\":{\"position\":\"rel\",\"positionIndex\":0,\"subject\":\"contents\"},\"dom\":null}]},{\"menu\":\"LAW\",\"childMenu\":\"\",\"adType\":\"singleDom\",\"multiDomAdUrl\":\"\",\"multiDomUnit\":\"\",\"infoList\":[{\"adposId\":\"1000100\",\"singleDomAdUrl\":\"http://nv.veta.naver.com/fxshow\",\"param\":{\"da_dom_id\":\"p_main_law_00\",\"tb\":\"LAW_1\",\"unit\":\"SU10255\",\"calp\":\"-\"},\"type\":{\"position\":\"rel\",\"positionIndex\":0,\"subject\":\"contents\"},\"dom\":null}]},{\"menu\":\"LIVING\",\"childMenu\":\"\",\"adType\":\"singleDom\",\"multiDomAdUrl\":\"\",\"multiDomUnit\":\"\",\"infoList\":[{\"adposId\":\"1000104\",\"singleDomAdUrl\":\"http://nv.veta.naver.com/fxshow\",\"param\":{\"da_dom_id\":\"p_main_living_00\",\"tb\":\"LIVING_1\",\"unit\":\"SU10251\",\"calp\":\"-\"},\"type\":{\"position\":\"rel\",\"positionIndex\":0,\"subject\":\"contents\"},\"dom\":null}]},{\"menu\":\"LIVINGHOME\",\"childMenu\":\"\",\"adType\":\"singleDom\",\"multiDomAdUrl\":\"\",\"multiDomUnit\":\"\",\"infoList\":[{\"adposId\":\"1000103\",\"singleDomAdUrl\":\"http://nv.veta.naver.com/fxshow\",\"param\":{\"da_dom_id\":\"p_main_livinghome_00\",\"tb\":\"LIVINGHOME_1\",\"unit\":\"SU10252\",\"calp\":\"-\"},\"type\":{\"position\":\"rel\",\"positionIndex\":0,\"subject\":\"contents\"},\"dom\":null}]},{\"menu\":\"MOMKIDS\",\"childMenu\":\"\",\"adType\":\"singleDom\",\"multiDomAdUrl\":\"\",\"multiDomUnit\":\"\",\"infoList\":[{\"adposId\":\"1000089\",\"singleDomAdUrl\":\"http://nv.veta.naver.com/fxshow\",\"param\":{\"da_dom_id\":\"p_main_momkids_00\",\"tb\":\"MOMKIDS_1\",\"unit\":\"SU10226\",\"calp\":\"-\"},\"type\":{\"position\":\"rel\",\"positionIndex\":0,\"subject\":\"contents\"},\"dom\":null}]},{\"menu\":\"MOVIE\",\"childMenu\":\"\",\"adType\":\"singleDom\",\"multiDomAdUrl\":\"\",\"multiDomUnit\":\"\",\"infoList\":[{\"adposId\":\"1000087\",\"singleDomAdUrl\":\"http://nv.veta.naver.com/fxshow\",\"param\":{\"da_dom_id\":\"p_main_movie_00\",\"tb\":\"MOVIE_1\",\"unit\":\"SU10199\",\"calp\":\"-\"},\"type\":{\"position\":\"rel\",\"positionIndex\":0,\"subject\":\"contents\"},\"dom\":null}]},{\"menu\":\"SCHOOL\",\"childMenu\":\"\",\"adType\":\"singleDom\",\"multiDomAdUrl\":\"\",\"multiDomUnit\":\"\",\"infoList\":[{\"adposId\":\"1000085\",\"singleDomAdUrl\":\"http://nv.veta.naver.com/fxshow\",\"param\":{\"da_dom_id\":\"p_main_school_01\",\"tb\":\"SCHOOL_1\",\"unit\":\"SU10210\",\"calp\":\"-\"},\"type\":{\"position\":\"rel\",\"positionIndex\":0,\"subject\":\"contents\"},\"dom\":null}]},{\"menu\":\"SHOW\",\"childMenu\":\"\",\"adType\":\"singleDom\",\"multiDomAdUrl\":\"\",\"multiDomUnit\":\"\",\"infoList\":[{\"adposId\":\"1000112\",\"singleDomAdUrl\":\"https://nv.veta.naver.com/fxshow\",\"param\":{\"da_dom_id\":\"p_main_show_00\",\"tb\":\"SHOW_1\",\"unit\":\"SU10262\",\"calp\":\"-\"},\"type\":{\"position\":\"rel\",\"positionIndex\":0,\"subject\":\"contents\"},\"dom\":null}]},{\"menu\":\"TRAVEL\",\"childMenu\":\"\",\"adType\":\"singleDom\",\"multiDomAdUrl\":\"\",\"multiDomUnit\":\"\",\"infoList\":[{\"adposId\":\"1000086\",\"singleDomAdUrl\":\"http://nv.veta.naver.com/fxshow\",\"param\":{\"da_dom_id\":\"p_main_travel_00\",\"tb\":\"TRAVEL_1\",\"unit\":\"SU10198\",\"calp\":\"-\"},\"type\":{\"position\":\"rel\",\"positionIndex\":0,\"subject\":\"contents\"},\"dom\":null}]},{\"menu\":\"WEDDING\",\"childMenu\":\"\",\"adType\":\"singleDom\",\"multiDomAdUrl\":\"\",\"multiDomUnit\":\"\",\"infoList\":[{\"adposId\":\"1000128\",\"singleDomAdUrl\":\"https://nv.veta.naver.com/fxshow\",\"param\":{\"da_dom_id\":\"p_main_wedding_00\",\"tb\":\"WEDDING_1\",\"unit\":\"SU10263\",\"calp\":\"-\"},\"type\":{\"position\":\"rel\",\"positionIndex\":0,\"subject\":\"contents\"},\"dom\":null}]}]}}\\'\\n\\t\\t\\t\\t});\\n\\t\\t\\t\\tnaver.main.CenterBanner.init();\\n\\t\\t\\t\\tnewSmartSearch();\\n\\t\\n\\t\\t\\t\\tnew naver.main.Newsstand({\\n\\t\\t\\t\\t\\trcode : \"09140102\",\\n        \\t\\t    newspaperURL : \"newspaper.naver.com\",\\n            \\t\\tnewsStandURL : \"newsstand.naver.com\",\\n\\t\\t            userInfoURL : \"userinfo.www.naver.com\",\\n    \\t\\t        newsCastInfo : \"\",\\n        \\t\\t    newsStandInfo : \"\",\\n            \\t\\theadlineList : {\"pid\" : [\"002\",\"003\",\"005\",\"006\",\"008\",\"009\",\"011\",\"013\",\"014\",\"016\",\"018\",\"020\",\"021\",\"022\",\"023\",\"024\",\"025\",\"028\",\"029\",\"030\",\"031\",\"032\",\"038\",\"042\",\"044\",\"047\",\"050\",\"052\",\"055\",\"056\",\"057\",\"073\",\"075\",\"076\",\"079\",\"081\",\"082\",\"083\",\"087\",\"088\",\"089\",\"092\",\"108\",\"109\",\"117\",\"120\",\"122\",\"123\",\"135\",\"138\",\"139\",\"140\",\"143\",\"144\",\"213\",\"214\",\"215\",\"241\",\"243\",\"277\",\"293\",\"296\",\"301\",\"308\",\"310\",\"311\",\"312\",\"314\",\"326\",\"327\",\"328\",\"329\",\"330\",\"331\",\"332\",\"333\",\"334\",\"335\",\"336\",\"337\",\"338\",\"339\",\"340\",\"344\",\"345\",\"346\",\"354\",\"355\",\"356\",\"361\",\"362\",\"363\",\"364\",\"366\",\"368\",\"374\",\"376\",\"384\",\"385\",\"386\",\"387\",\"389\",\"390\",\"391\",\"396\",\"404\",\"410\",\"416\",\"417\",\"421\",\"422\",\"440\",\"447\",\"477\",\"529\",\"536\",\"539\",\"901\",\"902\",\"903\",\"904\",\"905\",\"906\",\"907\",\"908\",\"909\",\"910\",\"911\",\"912\",\"913\",\"914\",\"915\",\"916\",\"917\",\"920\",\"921\",\"922\",\"923\",\"924\",\"925\",\"926\",\"927\",\"928\",\"930\",\"932\",\"933\",\"934\",\"935\",\"936\",\"937\",\"938\",\"939\",\"940\",\"941\",\"942\",\"943\",\"944\",\"945\",\"946\",\"947\",\"948\",\"949\",\"950\",\"951\",\"952\",\"953\",\"954\",\"955\",\"956\",\"957\",\"958\",\"959\",\"960\",\"961\",\"962\",\"963\",\"964\",\"965\",\"966\",\"967\",\"968\",\"969\",\"970\",\"971\",\"972\",\"973\",\"974\",\"975\",\"976\",\"977\",\"978\",\"979\",\"980\",\"981\",\"982\",\"983\",\"984\",\"985\",\"986\",\"987\",\"988\",\"989\",\"990\",\"991\",\"993\"], \"amigo\" : [], \"invalid\" : [\"015\",\"388\"]},\\n\\t\\t\\t\\t\\tpressCategory : {\"ct1\":[{\"pid\":\"032\",\"name\":\"경향신문\",\"img\":\"https://s.pstatic.net/static/newsstand/up/2017/0424/nsd14372435.png\",\"cate\":\"ct2\",\"amigo\":\"N\",\"viewer\":\"Y\",\"today\":\"N\",\"local\":null},{\"pid\":\"005\",\"name\":\"국민일보\",\"img\":\"https://s.pstatic.net/static/newsstand/up/2017/0424/nsd1438916.png\",\"cate\":\"ct2\",\"amigo\":\"N\",\"viewer\":\"Y\",\"today\":\"N\",\"local\":null},{\"pid\":\"079\",\"name\":\"노컷뉴스\",\"img\":\"https://s.pstatic.net/static/newsstand/up/2017/0424/nsd143958887.png\",\"cate\":\"ct2\",\"amigo\":\"N\",\"viewer\":\"Y\",\"today\":\"N\",\"local\":null},{\"pid\":\"327\",\"name\":\"뉴데일리\",\"img\":\"https://s.pstatic.net/static/newsstand/up/2017/0424/nsd144037935.png\",\"cate\":\"ct2\",\"amigo\":\"N\",\"viewer\":\"Y\",\"today\":\"N\",\"local\":null},{\"pid\":\"930\",\"name\":\"뉴스타파\",\"img\":\"https://s.pstatic.net/static/newsstand/up/2017/0424/nsd144152433.png\",\"cate\":\"ct2\",\"amigo\":\"N\",\"viewer\":\"Y\",\"today\":\"N\",\"local\":null},{\"pid\":\"003\",\"name\":\"뉴시스\",\"img\":\"https://s.pstatic.net/static/newsstand/up/2017/0424/nsd14449981.png\",\"cate\":\"ct3\",\"amigo\":\"N\",\"viewer\":\"Y\",\"today\":\"N\",\"local\":null},{\"pid\":\"368\",\"name\":\"데일리안\",\"img\":\"https://s.pstatic.net/static/newsstand/up/2017/0424/nsd14463367.png\",\"cate\":\"ct2\",\"amigo\":\"N\",\"viewer\":\"Y\",\"today\":\"N\",\"local\":null},{\"pid\":\"020\",\"name\":\"동아일보\",\"img\":\"https://s.pstatic.net/static/newsstand/up/2017/0424/nsd14479875.png\",\"cate\":\"ct2\",\"amigo\":\"N\",\"viewer\":\"Y\",\"today\":\"N\",\"local\":null},{\"pid\":\"029\",\"name\":\"디지털타임스\",\"img\":\"https://s.pstatic.net/static/newsstand/up/2018/0719/nsd162516824.png\",\"cate\":\"ct4\",\"amigo\":\"N\",\"viewer\":\"Y\",\"today\":\"N\",\"local\":null},{\"pid\":\"117\",\"name\":\"마이데일리\",\"img\":\"https://s.pstatic.net/static/newsstand/up/2017/0424/nsd144944309.png\",\"cate\":\"ct6\",\"amigo\":\"N\",\"viewer\":\"Y\",\"today\":\"N\",\"local\":null},{\"pid\":\"009\",\"name\":\"매일경제\",\"img\":\"https://s.pstatic.net/static/newsstand/up/2017/0424/nsd145032565.png\",\"cate\":\"ct2\",\"amigo\":\"N\",\"viewer\":\"Y\",\"today\":\"N\",\"local\":null},{\"pid\":\"008\",\"name\":\"머니투데이\",\"img\":\"https://s.pstatic.net/static/newsstand/up/2017/0424/nsd145214517.png\",\"cate\":\"ct2\",\"amigo\":\"N\",\"viewer\":\"Y\",\"today\":\"N\",\"local\":null},{\"pid\":\"021\",\"name\":\"문화일보\",\"img\":\"https://s.pstatic.net/static/newsstand/up/2017/0424/nsd19245981.png\",\"cate\":\"ct2\",\"amigo\":\"N\",\"viewer\":\"Y\",\"today\":\"N\",\"local\":null},{\"pid\":\"006\",\"name\":\"미디어오늘\",\"img\":\"https://s.pstatic.net/static/newsstand/up/2017/0424/nsd145346617.png\",\"cate\":\"ct2\",\"amigo\":\"N\",\"viewer\":\"Y\",\"today\":\"N\",\"local\":null},{\"pid\":\"293\",\"name\":\"블로터\",\"img\":\"https://s.pstatic.net/static/newsstand/up/2018/0316/nsd175350622.png\",\"cate\":\"ct4\",\"amigo\":\"N\",\"viewer\":\"Y\",\"today\":\"N\",\"local\":null},{\"pid\":\"011\",\"name\":\"서울경제\",\"img\":\"https://s.pstatic.net/static/newsstand/up/2017/0424/nsd145718601.png\",\"cate\":\"ct2\",\"amigo\":\"N\",\"viewer\":\"Y\",\"today\":\"N\",\"local\":null},{\"pid\":\"081\",\"name\":\"서울신문\",\"img\":\"https://s.pstatic.net/static/newsstand/up/2017/0424/nsd145738195.png\",\"cate\":\"ct2\",\"amigo\":\"N\",\"viewer\":\"Y\",\"today\":\"N\",\"local\":null},{\"pid\":\"022\",\"name\":\"세계일보\",\"img\":\"https://s.pstatic.net/static/newsstand/up/2017/0424/nsd145813557.png\",\"cate\":\"ct2\",\"amigo\":\"N\",\"viewer\":\"Y\",\"today\":\"N\",\"local\":null},{\"pid\":\"314\",\"name\":\"스포츠동아\",\"img\":\"https://s.pstatic.net/static/newsstand/up/2017/0424/nsd145951763.png\",\"cate\":\"ct6\",\"amigo\":\"N\",\"viewer\":\"Y\",\"today\":\"N\",\"local\":null},{\"pid\":\"073\",\"name\":\"스포츠서울\",\"img\":\"https://s.pstatic.net/static/newsstand/up/2017/0424/nsd15042554.png\",\"cate\":\"ct6\",\"amigo\":\"N\",\"viewer\":\"Y\",\"today\":\"N\",\"local\":null},{\"pid\":\"076\",\"name\":\"스포츠조선\",\"img\":\"https://s.pstatic.net/static/newsstand/up/2017/0424/nsd183553864.png\",\"cate\":\"ct6\",\"amigo\":\"N\",\"viewer\":\"Y\",\"today\":\"N\",\"local\":null},{\"pid\":\"139\",\"name\":\"스포탈코리아\",\"img\":\"https://s.pstatic.net/static/newsstand/up/2017/0424/nsd151840663.png\",\"cate\":\"ct6\",\"amigo\":\"N\",\"viewer\":\"Y\",\"today\":\"N\",\"local\":null},{\"pid\":\"308\",\"name\":\"시사인\",\"img\":\"https://s.pstatic.net/static/newsstand/up/2017/0424/nsd151929775.png\",\"cate\":\"ct7\",\"amigo\":\"N\",\"viewer\":\"Y\",\"today\":\"N\",\"local\":null},{\"pid\":\"277\",\"name\":\"아시아경제\",\"img\":\"https://s.pstatic.net/static/newsstand/up/2017/0424/nsd153432228.png\",\"cate\":\"ct2\",\"amigo\":\"N\",\"viewer\":\"Y\",\"today\":\"N\",\"local\":null},{\"pid\":\"031\",\"name\":\"아이뉴스24\",\"img\":\"https://s.pstatic.net/static/newsstand/up/2017/0424/nsd153955864.png\",\"cate\":\"ct4\",\"amigo\":\"N\",\"viewer\":\"Y\",\"today\":\"N\",\"local\":null},{\"pid\":\"422\",\"name\":\"연합뉴스TV\",\"img\":\"https://s.pstatic.net/static/newsstand/up/2017/0424/nsd154219877.png\",\"cate\":\"ct3\",\"amigo\":\"N\",\"viewer\":\"Y\",\"today\":\"N\",\"local\":null},{\"pid\":\"047\",\"name\":\"오마이뉴스\",\"img\":\"https://s.pstatic.net/static/newsstand/up/2017/0424/nsd154314463.png\",\"cate\":\"ct2\",\"amigo\":\"N\",\"viewer\":\"Y\",\"today\":\"N\",\"local\":null},{\"pid\":\"018\",\"name\":\"이데일리\",\"img\":\"https://s.pstatic.net/static/newsstand/up/2017/0424/nsd154426359.png\",\"cate\":\"ct2\",\"amigo\":\"N\",\"viewer\":\"Y\",\"today\":\"N\",\"local\":null},{\"pid\":\"241\",\"name\":\"일간스포츠\",\"img\":\"https://s.pstatic.net/static/newsstand/up/2017/0424/nsd154619739.png\",\"cate\":\"ct6\",\"amigo\":\"N\",\"viewer\":\"Y\",\"today\":\"N\",\"local\":null},{\"pid\":\"030\",\"name\":\"전자신문\",\"img\":\"https://s.pstatic.net/static/newsstand/up/2017/0424/nsd162528724.png\",\"cate\":\"ct4\",\"amigo\":\"N\",\"viewer\":\"Y\",\"today\":\"N\",\"local\":null},{\"pid\":\"366\",\"name\":\"조선비즈\",\"img\":\"https://s.pstatic.net/static/newsstand/up/2017/0424/nsd162659528.png\",\"cate\":\"ct2\",\"amigo\":\"N\",\"viewer\":\"Y\",\"today\":\"N\",\"local\":null},{\"pid\":\"023\",\"name\":\"조선일보\",\"img\":\"https://s.pstatic.net/static/newsstand/up/2017/0424/nsd162718792.png\",\"cate\":\"ct2\",\"amigo\":\"N\",\"viewer\":\"Y\",\"today\":\"N\",\"local\":null},{\"pid\":\"330\",\"name\":\"중앙데일리\",\"img\":\"https://s.pstatic.net/static/newsstand/up/2018/0626/nsd103519292.png\",\"cate\":\"ct5\",\"amigo\":\"N\",\"viewer\":\"Y\",\"today\":\"N\",\"local\":null},{\"pid\":\"025\",\"name\":\"중앙일보\",\"img\":\"https://s.pstatic.net/static/newsstand/up/2018/0807/nsd1484475.png\",\"cate\":\"ct2\",\"amigo\":\"N\",\"viewer\":\"Y\",\"today\":\"N\",\"local\":null},{\"pid\":\"092\",\"name\":\"지디넷코리아\",\"img\":\"https://s.pstatic.net/static/newsstand/up/2017/0424/nsd16425834.png\",\"cate\":\"ct4\",\"amigo\":\"N\",\"viewer\":\"Y\",\"today\":\"N\",\"local\":null},{\"pid\":\"376\",\"name\":\"지지통신\",\"img\":\"https://s.pstatic.net/static/newsstand/up/2017/0424/nsd16432873.png\",\"cate\":\"ct3\",\"amigo\":\"N\",\"viewer\":\"Y\",\"today\":\"N\",\"local\":null},{\"pid\":\"044\",\"name\":\"코리아헤럴드\",\"img\":\"https://s.pstatic.net/static/newsstand/up/2017/0424/nsd17341942.png\",\"cate\":\"ct5\",\"amigo\":\"N\",\"viewer\":\"Y\",\"today\":\"N\",\"local\":null},{\"pid\":\"014\",\"name\":\"파이낸셜뉴스\",\"img\":\"https://s.pstatic.net/static/newsstand/up/2017/0424/nsd172557496.png\",\"cate\":\"ct2\",\"amigo\":\"N\",\"viewer\":\"Y\",\"today\":\"N\",\"local\":null},{\"pid\":\"002\",\"name\":\"프레시안\",\"img\":\"https://s.pstatic.net/static/newsstand/up/2017/0424/nsd172615885.png\",\"cate\":\"ct2\",\"amigo\":\"N\",\"viewer\":\"Y\",\"today\":\"N\",\"local\":null},{\"pid\":\"028\",\"name\":\"한겨레\",\"img\":\"https://s.pstatic.net/static/newsstand/up/2017/0424/nsd17263596.png\",\"cate\":\"ct2\",\"amigo\":\"N\",\"viewer\":\"Y\",\"today\":\"N\",\"local\":null},{\"pid\":\"015\",\"name\":\"한국경제\",\"img\":\"https://s.pstatic.net/static/newsstand/up/2017/0424/nsd172736175.png\",\"cate\":\"ct2\",\"amigo\":\"N\",\"viewer\":\"N\",\"today\":\"N\",\"local\":null},{\"pid\":\"215\",\"name\":\"한국경제TV\",\"img\":\"https://s.pstatic.net/static/newsstand/up/2017/0424/nsd172755139.png\",\"cate\":\"ct3\",\"amigo\":\"N\",\"viewer\":\"Y\",\"today\":\"N\",\"local\":null},{\"pid\":\"038\",\"name\":\"한국일보\",\"img\":\"https://s.pstatic.net/static/newsstand/up/2017/0424/nsd172837200.png\",\"cate\":\"ct2\",\"amigo\":\"N\",\"viewer\":\"Y\",\"today\":\"N\",\"local\":null},{\"pid\":\"016\",\"name\":\"헤럴드경제\",\"img\":\"https://s.pstatic.net/static/newsstand/up/2017/0424/nsd172855569.png\",\"cate\":\"ct2\",\"amigo\":\"N\",\"viewer\":\"Y\",\"today\":\"N\",\"local\":null},{\"pid\":\"904\",\"name\":\"JTBC\",\"img\":\"https://s.pstatic.net/static/newsstand/up/2017/0424/nsd173111263.png\",\"cate\":\"ct3\",\"amigo\":\"N\",\"viewer\":\"Y\",\"today\":\"N\",\"local\":null},{\"pid\":\"056\",\"name\":\"KBS\",\"img\":\"https://s.pstatic.net/static/newsstand/up/2017/0424/nsd173124306.png\",\"cate\":\"ct3\",\"amigo\":\"N\",\"viewer\":\"Y\",\"today\":\"N\",\"local\":null},{\"pid\":\"326\",\"name\":\"KBS World\",\"img\":\"https://s.pstatic.net/static/newsstand/up/2017/0424/nsd173138949.png\",\"cate\":\"ct5\",\"amigo\":\"N\",\"viewer\":\"Y\",\"today\":\"N\",\"local\":null},{\"pid\":\"214\",\"name\":\"MBC\",\"img\":\"https://s.pstatic.net/static/newsstand/up/2017/0424/nsd17324940.png\",\"cate\":\"ct3\",\"amigo\":\"N\",\"viewer\":\"Y\",\"today\":\"N\",\"local\":null},{\"pid\":\"057\",\"name\":\"MBN\",\"img\":\"https://s.pstatic.net/static/newsstand/up/2017/0424/nsd173223533.png\",\"cate\":\"ct3\",\"amigo\":\"N\",\"viewer\":\"Y\",\"today\":\"N\",\"local\":null},{\"pid\":\"109\",\"name\":\"OSEN\",\"img\":\"https://s.pstatic.net/static/newsstand/up/2017/0424/nsd17338859.png\",\"cate\":\"ct6\",\"amigo\":\"N\",\"viewer\":\"Y\",\"today\":\"N\",\"local\":null},{\"pid\":\"055\",\"name\":\"SBS\",\"img\":\"https://s.pstatic.net/static/newsstand/up/2017/0424/nsd173335676.png\",\"cate\":\"ct3\",\"amigo\":\"N\",\"viewer\":\"Y\",\"today\":\"N\",\"local\":null},{\"pid\":\"052\",\"name\":\"YTN\",\"img\":\"https://s.pstatic.net/static/newsstand/up/2017/0424/nsd173559874.png\",\"cate\":\"ct3\",\"amigo\":\"N\",\"viewer\":\"Y\",\"today\":\"N\",\"local\":null}],\"ct2\":[{\"pid\":\"960\",\"name\":\"건설경제신문\",\"img\":\"https://s.pstatic.net/static/newsstand/up/2017/1201/nsd161545206.png\",\"cate\":\"ct2\",\"amigo\":\"N\",\"viewer\":\"Y\",\"today\":\"N\",\"local\":null},{\"pid\":\"032\",\"name\":\"경향신문\",\"img\":\"https://s.pstatic.net/static/newsstand/up/2017/0424/nsd14372435.png\",\"cate\":\"ct2\",\"amigo\":\"N\",\"viewer\":\"Y\",\"today\":\"N\",\"local\":null},{\"pid\":\"005\",\"name\":\"국민일보\",\"img\":\"https://s.pstatic.net/static/newsstand/up/2017/0424/nsd1438916.png\",\"cate\":\"ct2\",\"amigo\":\"N\",\"viewer\":\"Y\",\"today\":\"N\",\"local\":null},{\"pid\":\"944\",\"name\":\"나우뉴스\",\"img\":\"https://s.pstatic.net/static/newsstand/up/2017/0424/nsd14392079.png\",\"cate\":\"ct2\",\"amigo\":\"N\",\"viewer\":\"Y\",\"today\":\"N\",\"local\":null},{\"pid\":\"079\",\"name\":\"노컷뉴스\",\"img\":\"https://s.pstatic.net/static/newsstand/up/2017/0424/nsd143958887.png\",\"cate\":\"ct2\",\"amigo\":\"N\",\"viewer\":\"Y\",\"today\":\"N\",\"local\":null},{\"pid\":\"327\",\"name\":\"뉴데일리\",\"img\":\"https://s.pstatic.net/static/newsstand/up/2017/0424/nsd144037935.png\",\"cate\":\"ct2\",\"amigo\":\"N\",\"viewer\":\"Y\",\"today\":\"N\",\"local\":null},{\"pid\":\"930\",\"name\":\"뉴스타파\",\"img\":\"https://s.pstatic.net/static/newsstand/up/2017/0424/nsd144152433.png\",\"cate\":\"ct2\",\"amigo\":\"N\",\"viewer\":\"Y\",\"today\":\"N\",\"local\":null},{\"pid\":\"913\",\"name\":\"뉴스토마토\",\"img\":\"https://s.pstatic.net/static/newsstand/up/2017/0424/nsd14431117.png\",\"cate\":\"ct2\",\"amigo\":\"N\",\"viewer\":\"Y\",\"today\":\"N\",\"local\":null},{\"pid\":\"914\",\"name\":\"뉴스핌\",\"img\":\"https://s.pstatic.net/static/newsstand/up/2017/0613/nsd173430698.png\",\"cate\":\"ct2\",\"amigo\":\"N\",\"viewer\":\"Y\",\"today\":\"N\",\"local\":null},{\"pid\":\"536\",\"name\":\"더팩트\",\"img\":\"https://s.pstatic.net/static/newsstand/up/2017/0424/nsd144543120.png\",\"cate\":\"ct2\",\"amigo\":\"N\",\"viewer\":\"Y\",\"today\":\"N\",\"local\":null},{\"pid\":\"368\",\"name\":\"데일리안\",\"img\":\"https://s.pstatic.net/static/newsstand/up/2017/0424/nsd14463367.png\",\"cate\":\"ct2\",\"amigo\":\"N\",\"viewer\":\"Y\",\"today\":\"N\",\"local\":null},{\"pid\":\"020\",\"name\":\"동아일보\",\"img\":\"https://s.pstatic.net/static/newsstand/up/2017/0424/nsd14479875.png\",\"cate\":\"ct2\",\"amigo\":\"N\",\"viewer\":\"Y\",\"today\":\"N\",\"local\":null},{\"pid\":\"009\",\"name\":\"매일경제\",\"img\":\"https://s.pstatic.net/static/newsstand/up/2017/0424/nsd145032565.png\",\"cate\":\"ct2\",\"amigo\":\"N\",\"viewer\":\"Y\",\"today\":\"N\",\"local\":null},{\"pid\":\"969\",\"name\":\"매일노동뉴스\",\"img\":\"https://s.pstatic.net/static/newsstand/up/2017/1201/nsd161443290.png\",\"cate\":\"ct2\",\"amigo\":\"N\",\"viewer\":\"Y\",\"today\":\"N\",\"local\":null},{\"pid\":\"417\",\"name\":\"머니에스\",\"img\":\"https://s.pstatic.net/static/newsstand/up/2017/0424/nsd145150694.png\",\"cate\":\"ct2\",\"amigo\":\"N\",\"viewer\":\"Y\",\"today\":\"N\",\"local\":null},{\"pid\":\"008\",\"name\":\"머니투데이\",\"img\":\"https://s.pstatic.net/static/newsstand/up/2017/0424/nsd145214517.png\",\"cate\":\"ct2\",\"amigo\":\"N\",\"viewer\":\"Y\",\"today\":\"N\",\"local\":null},{\"pid\":\"961\",\"name\":\"메트로신문\",\"img\":\"https://s.pstatic.net/static/newsstand/up/2017/1201/nsd161618979.png\",\"cate\":\"ct2\",\"amigo\":\"N\",\"viewer\":\"Y\",\"today\":\"N\",\"local\":null},{\"pid\":\"021\",\"name\":\"문화일보\",\"img\":\"https://s.pstatic.net/static/newsstand/up/2017/0424/nsd19245981.png\",\"cate\":\"ct2\",\"amigo\":\"N\",\"viewer\":\"Y\",\"today\":\"N\",\"local\":null},{\"pid\":\"006\",\"name\":\"미디어오늘\",\"img\":\"https://s.pstatic.net/static/newsstand/up/2017/0424/nsd145346617.png\",\"cate\":\"ct2\",\"amigo\":\"N\",\"viewer\":\"Y\",\"today\":\"N\",\"local\":null},{\"pid\":\"985\",\"name\":\"미주중앙일보\",\"img\":\"https://s.pstatic.net/static/newsstand/up/2018/0406/nsd201556421.png\",\"cate\":\"ct2\",\"amigo\":\"N\",\"viewer\":\"Y\",\"today\":\"N\",\"local\":null},{\"pid\":\"939\",\"name\":\"브릿지경제\",\"img\":\"https://s.pstatic.net/static/newsstand/up/2017/0424/nsd145512265.png\",\"cate\":\"ct2\",\"amigo\":\"N\",\"viewer\":\"Y\",\"today\":\"N\",\"local\":null},{\"pid\":\"943\",\"name\":\"비즈니스워치\",\"img\":\"https://s.pstatic.net/static/newsstand/up/2017/1102/nsd155540688.png\",\"cate\":\"ct2\",\"amigo\":\"N\",\"viewer\":\"Y\",\"today\":\"N\",\"local\":null},{\"pid\":\"942\",\"name\":\"비즈니스포스트\",\"img\":\"https://s.pstatic.net/static/newsstand/up/2017/0424/nsd145630550.png\",\"cate\":\"ct2\",\"amigo\":\"N\",\"viewer\":\"Y\",\"today\":\"N\",\"local\":null},{\"pid\":\"973\",\"name\":\"비즈한국\",\"img\":\"https://s.pstatic.net/static/newsstand/up/2017/1209/nsd14224593.png\",\"cate\":\"ct2\",\"amigo\":\"N\",\"viewer\":\"Y\",\"today\":\"N\",\"local\":null},{\"pid\":\"011\",\"name\":\"서울경제\",\"img\":\"https://s.pstatic.net/static/newsstand/up/2017/0424/nsd145718601.png\",\"cate\":\"ct2\",\"amigo\":\"N\",\"viewer\":\"Y\",\"today\":\"N\",\"local\":null},{\"pid\":\"081\",\"name\":\"서울신문\",\"img\":\"https://s.pstatic.net/static/newsstand/up/2017/0424/nsd145738195.png\",\"cate\":\"ct2\",\"amigo\":\"N\",\"viewer\":\"Y\",\"today\":\"N\",\"local\":null},{\"pid\":\"022\",\"name\":\"세계일보\",\"img\":\"https://s.pstatic.net/static/newsstand/up/2017/0424/nsd145813557.png\",\"cate\":\"ct2\",\"amigo\":\"N\",\"viewer\":\"Y\",\"today\":\"N\",\"local\":null},{\"pid\":\"970\",\"name\":\"소비자가만드는신문\",\"img\":\"https://s.pstatic.net/static/newsstand/up/2018/1016/nsd1687672.png\",\"cate\":\"ct2\",\"amigo\":\"N\",\"viewer\":\"Y\",\"today\":\"N\",\"local\":null},{\"pid\":\"957\",\"name\":\"시사위크\",\"img\":\"https://s.pstatic.net/static/newsstand/up/2017/1127/nsd8401364.png\",\"cate\":\"ct2\",\"amigo\":\"N\",\"viewer\":\"Y\",\"today\":\"N\",\"local\":null},{\"pid\":\"975\",\"name\":\"시사저널이코노미\",\"img\":\"https://s.pstatic.net/static/newsstand/up/2017/1209/nsd1413096.png\",\"cate\":\"ct2\",\"amigo\":\"N\",\"viewer\":\"Y\",\"today\":\"N\",\"local\":null},{\"pid\":\"277\",\"name\":\"아시아경제\",\"img\":\"https://s.pstatic.net/static/newsstand/up/2017/0424/nsd153432228.png\",\"cate\":\"ct2\",\"amigo\":\"N\",\"viewer\":\"Y\",\"today\":\"N\",\"local\":null},{\"pid\":\"920\",\"name\":\"아시아투데이\",\"img\":\"https://s.pstatic.net/static/newsstand/up/2017/0424/nsd153458161.png\",\"cate\":\"ct2\",\"amigo\":\"N\",\"viewer\":\"Y\",\"today\":\"N\",\"local\":null},{\"pid\":\"921\",\"name\":\"아주경제\",\"img\":\"https://s.pstatic.net/static/newsstand/up/2018/0611/nsd111954432.png\",\"cate\":\"ct2\",\"amigo\":\"N\",\"viewer\":\"Y\",\"today\":\"N\",\"local\":null},{\"pid\":\"963\",\"name\":\"에너지경제\",\"img\":\"https://s.pstatic.net/static/newsstand/up/2018/0118/nsd105113618.png\",\"cate\":\"ct2\",\"amigo\":\"N\",\"viewer\":\"Y\",\"today\":\"N\",\"local\":null},{\"pid\":\"013\",\"name\":\"연합인포맥스\",\"img\":\"https://s.pstatic.net/static/newsstand/up/2017/0424/nsd154238686.png\",\"cate\":\"ct2\",\"amigo\":\"N\",\"viewer\":\"Y\",\"today\":\"N\",\"local\":null},{\"pid\":\"047\",\"name\":\"오마이뉴스\",\"img\":\"https://s.pstatic.net/static/newsstand/up/2017/0424/nsd154314463.png\",\"cate\":\"ct2\",\"amigo\":\"N\",\"viewer\":\"Y\",\"today\":\"N\",\"local\":null},{\"pid\":\"539\",\"name\":\"위키트리\",\"img\":\"https://s.pstatic.net/static/newsstand/up/2017/0424/nsd15444343.png\",\"cate\":\"ct2\",\"amigo\":\"N\",\"viewer\":\"Y\",\"today\":\"N\",\"local\":null},{\"pid\":\"964\",\"name\":\"이뉴스투데이\",\"img\":\"https://s.pstatic.net/static/newsstand/up/2017/1201/nsd16174237.png\",\"cate\":\"ct2\",\"amigo\":\"N\",\"viewer\":\"Y\",\"today\":\"N\",\"local\":null},{\"pid\":\"018\",\"name\":\"이데일리\",\"img\":\"https://s.pstatic.net/static/newsstand/up/2017/0424/nsd154426359.png\",\"cate\":\"ct2\",\"amigo\":\"N\",\"viewer\":\"Y\",\"today\":\"N\",\"local\":null},{\"pid\":\"243\",\"name\":\"이코노미스트\",\"img\":\"https://s.pstatic.net/static/newsstand/up/2017/0424/nsd15444742.png\",\"cate\":\"ct2\",\"amigo\":\"N\",\"viewer\":\"Y\",\"today\":\"N\",\"local\":null},{\"pid\":\"922\",\"name\":\"이투데이\",\"img\":\"https://s.pstatic.net/static/newsstand/up/2018/1016/nsd16842870.png\",\"cate\":\"ct2\",\"amigo\":\"N\",\"viewer\":\"Y\",\"today\":\"N\",\"local\":null},{\"pid\":\"923\",\"name\":\"인민망\",\"img\":\"https://s.pstatic.net/static/newsstand/up/2017/0424/nsd154522345.png\",\"cate\":\"ct2\",\"amigo\":\"N\",\"viewer\":\"Y\",\"today\":\"N\",\"local\":null},{\"pid\":\"971\",\"name\":\"일요시사\",\"img\":\"https://s.pstatic.net/static/newsstand/up/2017/1205/nsd95610984.png\",\"cate\":\"ct2\",\"amigo\":\"N\",\"viewer\":\"Y\",\"today\":\"N\",\"local\":null},{\"pid\":\"925\",\"name\":\"일요신문\",\"img\":\"https://s.pstatic.net/static/newsstand/up/2017/0424/nsd192546763.png\",\"cate\":\"ct2\",\"amigo\":\"N\",\"viewer\":\"Y\",\"today\":\"N\",\"local\":null},{\"pid\":\"366\",\"name\":\"조선비즈\",\"img\":\"https://s.pstatic.net/static/newsstand/up/2017/0424/nsd162659528.png\",\"cate\":\"ct2\",\"amigo\":\"N\",\"viewer\":\"Y\",\"today\":\"N\",\"local\":null},{\"pid\":\"023\",\"name\":\"조선일보\",\"img\":\"https://s.pstatic.net/static/newsstand/up/2017/0424/nsd162718792.png\",\"cate\":\"ct2\",\"amigo\":\"N\",\"viewer\":\"Y\",\"today\":\"N\",\"local\":null},{\"pid\":\"123\",\"name\":\"조세일보\",\"img\":\"https://s.pstatic.net/static/newsstand/up/2017/0424/nsd162739461.png\",\"cate\":\"ct2\",\"amigo\":\"N\",\"viewer\":\"Y\",\"today\":\"N\",\"local\":null},{\"pid\":\"025\",\"name\":\"중앙일보\",\"img\":\"https://s.pstatic.net/static/newsstand/up/2018/0807/nsd1484475.png\",\"cate\":\"ct2\",\"amigo\":\"N\",\"viewer\":\"Y\",\"today\":\"N\",\"local\":null},{\"pid\":\"941\",\"name\":\"초이스경제\",\"img\":\"https://s.pstatic.net/static/newsstand/up/2017/0424/nsd164431529.png\",\"cate\":\"ct2\",\"amigo\":\"N\",\"viewer\":\"Y\",\"today\":\"N\",\"local\":null},{\"pid\":\"143\",\"name\":\"쿠키뉴스\",\"img\":\"https://s.pstatic.net/static/newsstand/up/2017/0424/nsd172415111.png\",\"cate\":\"ct2\",\"amigo\":\"N\",\"viewer\":\"Y\",\"today\":\"N\",\"local\":null},{\"pid\":\"014\",\"name\":\"파이낸셜뉴스\",\"img\":\"https://s.pstatic.net/static/newsstand/up/2017/0424/nsd172557496.png\",\"cate\":\"ct2\",\"amigo\":\"N\",\"viewer\":\"Y\",\"today\":\"N\",\"local\":null},{\"pid\":\"002\",\"name\":\"프레시안\",\"img\":\"https://s.pstatic.net/static/newsstand/up/2017/0424/nsd172615885.png\",\"cate\":\"ct2\",\"amigo\":\"N\",\"viewer\":\"Y\",\"today\":\"N\",\"local\":null},{\"pid\":\"028\",\"name\":\"한겨레\",\"img\":\"https://s.pstatic.net/static/newsstand/up/2017/0424/nsd17263596.png\",\"cate\":\"ct2\",\"amigo\":\"N\",\"viewer\":\"Y\",\"today\":\"N\",\"local\":null},{\"pid\":\"015\",\"name\":\"한국경제\",\"img\":\"https://s.pstatic.net/static/newsstand/up/2017/0424/nsd172736175.png\",\"cate\":\"ct2\",\"amigo\":\"N\",\"viewer\":\"N\",\"today\":\"N\",\"local\":null},{\"pid\":\"968\",\"name\":\"한국금융신문\",\"img\":\"https://s.pstatic.net/static/newsstand/up/2017/1201/nsd161235556.png\",\"cate\":\"ct2\",\"amigo\":\"N\",\"viewer\":\"Y\",\"today\":\"N\",\"local\":null},{\"pid\":\"038\",\"name\":\"한국일보\",\"img\":\"https://s.pstatic.net/static/newsstand/up/2017/0424/nsd172837200.png\",\"cate\":\"ct2\",\"amigo\":\"N\",\"viewer\":\"Y\",\"today\":\"N\",\"local\":null},{\"pid\":\"993\",\"name\":\"허프포스트코리아\",\"img\":\"https://s.pstatic.net/static/newsstand/up/2018/1210/nsd162234841.png\",\"cate\":\"ct2\",\"amigo\":\"N\",\"viewer\":\"Y\",\"today\":\"N\",\"local\":null},{\"pid\":\"016\",\"name\":\"헤럴드경제\",\"img\":\"https://s.pstatic.net/static/newsstand/up/2017/0424/nsd172855569.png\",\"cate\":\"ct2\",\"amigo\":\"N\",\"viewer\":\"Y\",\"today\":\"N\",\"local\":null},{\"pid\":\"974\",\"name\":\"BBS NEWS\",\"img\":\"https://s.pstatic.net/static/newsstand/up/2017/1209/nsd14324918.png\",\"cate\":\"ct2\",\"amigo\":\"N\",\"viewer\":\"Y\",\"today\":\"N\",\"local\":null},{\"pid\":\"932\",\"name\":\"CEO스코어데일리\",\"img\":\"https://s.pstatic.net/static/newsstand/up/2018/0627/nsd124328796.png\",\"cate\":\"ct2\",\"amigo\":\"N\",\"viewer\":\"Y\",\"today\":\"N\",\"local\":null},{\"pid\":\"954\",\"name\":\"CNB뉴스\",\"img\":\"https://s.pstatic.net/static/newsstand/up/2017/1122/nsd113655834.png\",\"cate\":\"ct2\",\"amigo\":\"N\",\"viewer\":\"Y\",\"today\":\"N\",\"local\":null},{\"pid\":\"120\",\"name\":\"EBN\",\"img\":\"https://s.pstatic.net/static/newsstand/up/2017/1017/nsd173540697.png\",\"cate\":\"ct2\",\"amigo\":\"N\",\"viewer\":\"Y\",\"today\":\"N\",\"local\":null},{\"pid\":\"959\",\"name\":\"M이코노미뉴스\",\"img\":\"https://s.pstatic.net/static/newsstand/up/2017/1201/nsd161518383.png\",\"cate\":\"ct2\",\"amigo\":\"N\",\"viewer\":\"Y\",\"today\":\"N\",\"local\":null},{\"pid\":\"972\",\"name\":\"PD저널\",\"img\":\"https://s.pstatic.net/static/newsstand/up/2017/1207/nsd13738461.png\",\"cate\":\"ct2\",\"amigo\":\"N\",\"viewer\":\"Y\",\"today\":\"N\",\"local\":null}],\"ct3\":[{\"pid\":\"421\",\"name\":\"뉴스1\",\"img\":\"https://s.pstatic.net/static/newsstand/up/2017/0424/nsd14405515.png\",\"cate\":\"ct3\",\"amigo\":\"N\",\"viewer\":\"Y\",\"today\":\"N\",\"local\":null},{\"pid\":\"003\",\"name\":\"뉴시스\",\"img\":\"https://s.pstatic.net/static/newsstand/up/2017/0424/nsd14449981.png\",\"cate\":\"ct3\",\"amigo\":\"N\",\"viewer\":\"Y\",\"today\":\"N\",\"local\":null},{\"pid\":\"916\",\"name\":\"머니투데이방송\",\"img\":\"https://s.pstatic.net/static/newsstand/up/2017/0424/nsd145249746.png\",\"cate\":\"ct3\",\"amigo\":\"N\",\"viewer\":\"Y\",\"today\":\"N\",\"local\":null},{\"pid\":\"934\",\"name\":\"아리랑TV\",\"img\":\"https://s.pstatic.net/static/newsstand/up/2017/0424/nsd153357809.png\",\"cate\":\"ct3\",\"amigo\":\"N\",\"viewer\":\"Y\",\"today\":\"N\",\"local\":null},{\"pid\":\"422\",\"name\":\"연합뉴스TV\",\"img\":\"https://s.pstatic.net/static/newsstand/up/2017/0424/nsd154219877.png\",\"cate\":\"ct3\",\"amigo\":\"N\",\"viewer\":\"Y\",\"today\":\"N\",\"local\":null},{\"pid\":\"376\",\"name\":\"지지통신\",\"img\":\"https://s.pstatic.net/static/newsstand/up/2017/0424/nsd16432873.png\",\"cate\":\"ct3\",\"amigo\":\"N\",\"viewer\":\"Y\",\"today\":\"N\",\"local\":null},{\"pid\":\"903\",\"name\":\"채널에이\",\"img\":\"https://s.pstatic.net/static/newsstand/up/2017/0424/nsd164352456.png\",\"cate\":\"ct3\",\"amigo\":\"N\",\"viewer\":\"Y\",\"today\":\"N\",\"local\":null},{\"pid\":\"215\",\"name\":\"한국경제TV\",\"img\":\"https://s.pstatic.net/static/newsstand/up/2017/0424/nsd172755139.png\",\"cate\":\"ct3\",\"amigo\":\"N\",\"viewer\":\"Y\",\"today\":\"N\",\"local\":null},{\"pid\":\"933\",\"name\":\"CNN\",\"img\":\"https://s.pstatic.net/static/newsstand/up/2017/0424/nsd173010586.png\",\"cate\":\"ct3\",\"amigo\":\"N\",\"viewer\":\"Y\",\"today\":\"N\",\"local\":null},{\"pid\":\"344\",\"name\":\"EBS\",\"img\":\"https://s.pstatic.net/static/newsstand/up/2017/0424/nsd173043431.png\",\"cate\":\"ct3\",\"amigo\":\"N\",\"viewer\":\"Y\",\"today\":\"N\",\"local\":null},{\"pid\":\"904\",\"name\":\"JTBC\",\"img\":\"https://s.pstatic.net/static/newsstand/up/2017/0424/nsd173111263.png\",\"cate\":\"ct3\",\"amigo\":\"N\",\"viewer\":\"Y\",\"today\":\"N\",\"local\":null},{\"pid\":\"980\",\"name\":\"KBC광주방송\",\"img\":\"https://s.pstatic.net/static/newsstand/up/2018/0126/nsd114019464.png\",\"cate\":\"ct3\",\"amigo\":\"N\",\"viewer\":\"Y\",\"today\":\"N\",\"local\":null},{\"pid\":\"056\",\"name\":\"KBS\",\"img\":\"https://s.pstatic.net/static/newsstand/up/2017/0424/nsd173124306.png\",\"cate\":\"ct3\",\"amigo\":\"N\",\"viewer\":\"Y\",\"today\":\"N\",\"local\":null},{\"pid\":\"906\",\"name\":\"KNN\",\"img\":\"https://s.pstatic.net/static/newsstand/up/2017/0424/nsd173151831.png\",\"cate\":\"ct3\",\"amigo\":\"N\",\"viewer\":\"Y\",\"today\":\"N\",\"local\":null},{\"pid\":\"214\",\"name\":\"MBC\",\"img\":\"https://s.pstatic.net/static/newsstand/up/2017/0424/nsd17324940.png\",\"cate\":\"ct3\",\"amigo\":\"N\",\"viewer\":\"Y\",\"today\":\"N\",\"local\":null},{\"pid\":\"057\",\"name\":\"MBN\",\"img\":\"https://s.pstatic.net/static/newsstand/up/2017/0424/nsd173223533.png\",\"cate\":\"ct3\",\"amigo\":\"N\",\"viewer\":\"Y\",\"today\":\"N\",\"local\":null},{\"pid\":\"340\",\"name\":\"OBS\",\"img\":\"https://s.pstatic.net/static/newsstand/up/2017/0424/nsd173252323.png\",\"cate\":\"ct3\",\"amigo\":\"N\",\"viewer\":\"Y\",\"today\":\"N\",\"local\":null},{\"pid\":\"055\",\"name\":\"SBS\",\"img\":\"https://s.pstatic.net/static/newsstand/up/2017/0424/nsd173335676.png\",\"cate\":\"ct3\",\"amigo\":\"N\",\"viewer\":\"Y\",\"today\":\"N\",\"local\":null},{\"pid\":\"374\",\"name\":\"SBSCNBC\",\"img\":\"https://s.pstatic.net/static/newsstand/up/2017/0424/nsd173348251.png\",\"cate\":\"ct3\",\"amigo\":\"N\",\"viewer\":\"Y\",\"today\":\"N\",\"local\":null},{\"pid\":\"989\",\"name\":\"TBC대구방송\",\"img\":\"https://s.pstatic.net/static/newsstand/up/2018/1004/nsd113150397.png\",\"cate\":\"ct3\",\"amigo\":\"N\",\"viewer\":\"Y\",\"today\":\"N\",\"local\":null},{\"pid\":\"902\",\"name\":\"TV조선\",\"img\":\"https://s.pstatic.net/static/newsstand/up/2018/0904/nsd153923387.png\",\"cate\":\"ct3\",\"amigo\":\"N\",\"viewer\":\"Y\",\"today\":\"N\",\"local\":null},{\"pid\":\"052\",\"name\":\"YTN\",\"img\":\"https://s.pstatic.net/static/newsstand/up/2017/0424/nsd173559874.png\",\"cate\":\"ct3\",\"amigo\":\"N\",\"viewer\":\"Y\",\"today\":\"N\",\"local\":null},{\"pid\":\"945\",\"name\":\"YTN사이언스\",\"img\":\"https://s.pstatic.net/static/newsstand/up/2017/0424/nsd173618176.png\",\"cate\":\"ct3\",\"amigo\":\"N\",\"viewer\":\"Y\",\"today\":\"N\",\"local\":null},{\"pid\":\"981\",\"name\":\"tbs교통방송\",\"img\":\"https://s.pstatic.net/static/newsstand/up/2018/0201/nsd19842442.png\",\"cate\":\"ct3\",\"amigo\":\"N\",\"viewer\":\"Y\",\"today\":\"N\",\"local\":null}],\"ct4\":[{\"pid\":\"910\",\"name\":\"넥스트데일리\",\"img\":\"https://s.pstatic.net/static/newsstand/up/2017/0424/nsd143938201.png\",\"cate\":\"ct4\",\"amigo\":\"N\",\"viewer\":\"Y\",\"today\":\"N\",\"local\":null},{\"pid\":\"138\",\"name\":\"디지털데일리\",\"img\":\"https://s.pstatic.net/static/newsstand/up/2017/0424/nsd14481127.png\",\"cate\":\"ct4\",\"amigo\":\"N\",\"viewer\":\"Y\",\"today\":\"N\",\"local\":null},{\"pid\":\"029\",\"name\":\"디지털타임스\",\"img\":\"https://s.pstatic.net/static/newsstand/up/2018/0719/nsd162516824.png\",\"cate\":\"ct4\",\"amigo\":\"N\",\"viewer\":\"Y\",\"today\":\"N\",\"local\":null},{\"pid\":\"952\",\"name\":\"보안뉴스\",\"img\":\"https://s.pstatic.net/static/newsstand/up/2017/1122/nsd113617499.png\",\"cate\":\"ct4\",\"amigo\":\"N\",\"viewer\":\"Y\",\"today\":\"N\",\"local\":null},{\"pid\":\"293\",\"name\":\"블로터\",\"img\":\"https://s.pstatic.net/static/newsstand/up/2018/0316/nsd175350622.png\",\"cate\":\"ct4\",\"amigo\":\"N\",\"viewer\":\"Y\",\"today\":\"N\",\"local\":null},{\"pid\":\"031\",\"name\":\"아이뉴스24\",\"img\":\"https://s.pstatic.net/static/newsstand/up/2017/0424/nsd153955864.png\",\"cate\":\"ct4\",\"amigo\":\"N\",\"viewer\":\"Y\",\"today\":\"N\",\"local\":null},{\"pid\":\"030\",\"name\":\"전자신문\",\"img\":\"https://s.pstatic.net/static/newsstand/up/2017/0424/nsd162528724.png\",\"cate\":\"ct4\",\"amigo\":\"N\",\"viewer\":\"Y\",\"today\":\"N\",\"local\":null},{\"pid\":\"092\",\"name\":\"지디넷코리아\",\"img\":\"https://s.pstatic.net/static/newsstand/up/2017/0424/nsd16425834.png\",\"cate\":\"ct4\",\"amigo\":\"N\",\"viewer\":\"Y\",\"today\":\"N\",\"local\":null},{\"pid\":\"953\",\"name\":\"키뉴스\",\"img\":\"https://s.pstatic.net/static/newsstand/up/2017/1122/nsd113635611.png\",\"cate\":\"ct4\",\"amigo\":\"N\",\"viewer\":\"Y\",\"today\":\"N\",\"local\":null},{\"pid\":\"977\",\"name\":\"헬로디디\",\"img\":\"https://s.pstatic.net/static/newsstand/up/2017/1214/nsd112148521.png\",\"cate\":\"ct4\",\"amigo\":\"N\",\"viewer\":\"Y\",\"today\":\"N\",\"local\":null},{\"pid\":\"917\",\"name\":\"IT조선\",\"img\":\"https://s.pstatic.net/static/newsstand/up/2017/0424/nsd173057968.png\",\"cate\":\"ct4\",\"amigo\":\"N\",\"viewer\":\"Y\",\"today\":\"N\",\"local\":null}],\"ct5\":[{\"pid\":\"330\",\"name\":\"중앙데일리\",\"img\":\"https://s.pstatic.net/static/newsstand/up/2018/0626/nsd103519292.png\",\"cate\":\"ct5\",\"amigo\":\"N\",\"viewer\":\"Y\",\"today\":\"N\",\"local\":null},{\"pid\":\"044\",\"name\":\"코리아헤럴드\",\"img\":\"https://s.pstatic.net/static/newsstand/up/2017/0424/nsd17341942.png\",\"cate\":\"ct5\",\"amigo\":\"N\",\"viewer\":\"Y\",\"today\":\"N\",\"local\":null},{\"pid\":\"326\",\"name\":\"KBS World\",\"img\":\"https://s.pstatic.net/static/newsstand/up/2017/0424/nsd173138949.png\",\"cate\":\"ct5\",\"amigo\":\"N\",\"viewer\":\"Y\",\"today\":\"N\",\"local\":null},{\"pid\":\"946\",\"name\":\"YONHAPNEWS\",\"img\":\"https://s.pstatic.net/static/newsstand/up/2017/0424/nsd173542219.png\",\"cate\":\"ct5\",\"amigo\":\"N\",\"viewer\":\"Y\",\"today\":\"N\",\"local\":null}],\"ct6\":[{\"pid\":\"447\",\"name\":\"뉴스엔\",\"img\":\"https://s.pstatic.net/static/newsstand/up/2017/0424/nsd144110729.png\",\"cate\":\"ct6\",\"amigo\":\"N\",\"viewer\":\"Y\",\"today\":\"N\",\"local\":null},{\"pid\":\"117\",\"name\":\"마이데일리\",\"img\":\"https://s.pstatic.net/static/newsstand/up/2017/0424/nsd144944309.png\",\"cate\":\"ct6\",\"amigo\":\"N\",\"viewer\":\"Y\",\"today\":\"N\",\"local\":null},{\"pid\":\"108\",\"name\":\"스타뉴스\",\"img\":\"https://s.pstatic.net/static/newsstand/up/2017/0424/nsd14592836.png\",\"cate\":\"ct6\",\"amigo\":\"N\",\"viewer\":\"Y\",\"today\":\"N\",\"local\":null},{\"pid\":\"144\",\"name\":\"스포츠경향\",\"img\":\"https://s.pstatic.net/static/newsstand/up/2017/0424/nsd14593063.png\",\"cate\":\"ct6\",\"amigo\":\"N\",\"viewer\":\"Y\",\"today\":\"N\",\"local\":null},{\"pid\":\"314\",\"name\":\"스포츠동아\",\"img\":\"https://s.pstatic.net/static/newsstand/up/2017/0424/nsd145951763.png\",\"cate\":\"ct6\",\"amigo\":\"N\",\"viewer\":\"Y\",\"today\":\"N\",\"local\":null},{\"pid\":\"073\",\"name\":\"스포츠서울\",\"img\":\"https://s.pstatic.net/static/newsstand/up/2017/0424/nsd15042554.png\",\"cate\":\"ct6\",\"amigo\":\"N\",\"viewer\":\"Y\",\"today\":\"N\",\"local\":null},{\"pid\":\"396\",\"name\":\"스포츠월드\",\"img\":\"https://s.pstatic.net/static/newsstand/up/2017/0424/nsd1521496.png\",\"cate\":\"ct6\",\"amigo\":\"N\",\"viewer\":\"Y\",\"today\":\"N\",\"local\":null},{\"pid\":\"076\",\"name\":\"스포츠조선\",\"img\":\"https://s.pstatic.net/static/newsstand/up/2017/0424/nsd183553864.png\",\"cate\":\"ct6\",\"amigo\":\"N\",\"viewer\":\"Y\",\"today\":\"N\",\"local\":null},{\"pid\":\"940\",\"name\":\"스포츠투데이\",\"img\":\"https://s.pstatic.net/static/newsstand/up/2017/0424/nsd183628961.png\",\"cate\":\"ct6\",\"amigo\":\"N\",\"viewer\":\"Y\",\"today\":\"N\",\"local\":null},{\"pid\":\"962\",\"name\":\"스포츠한국\",\"img\":\"https://s.pstatic.net/static/newsstand/up/2017/1201/nsd161647719.png\",\"cate\":\"ct6\",\"amigo\":\"N\",\"viewer\":\"Y\",\"today\":\"N\",\"local\":null},{\"pid\":\"139\",\"name\":\"스포탈코리아\",\"img\":\"https://s.pstatic.net/static/newsstand/up/2017/0424/nsd151840663.png\",\"cate\":\"ct6\",\"amigo\":\"N\",\"viewer\":\"Y\",\"today\":\"N\",\"local\":null},{\"pid\":\"477\",\"name\":\"스포티비뉴스\",\"img\":\"https://s.pstatic.net/static/newsstand/up/2017/1221/nsd134325318.png\",\"cate\":\"ct6\",\"amigo\":\"N\",\"viewer\":\"Y\",\"today\":\"N\",\"local\":null},{\"pid\":\"311\",\"name\":\"엑스포츠뉴스\",\"img\":\"https://s.pstatic.net/static/newsstand/up/2017/0424/nsd154117.png\",\"cate\":\"ct6\",\"amigo\":\"N\",\"viewer\":\"Y\",\"today\":\"N\",\"local\":null},{\"pid\":\"529\",\"name\":\"엠스플뉴스\",\"img\":\"https://s.pstatic.net/static/newsstand/up/2018/1122/nsd113027714.png\",\"cate\":\"ct6\",\"amigo\":\"N\",\"viewer\":\"Y\",\"today\":\"N\",\"local\":null},{\"pid\":\"241\",\"name\":\"일간스포츠\",\"img\":\"https://s.pstatic.net/static/newsstand/up/2017/0424/nsd154619739.png\",\"cate\":\"ct6\",\"amigo\":\"N\",\"viewer\":\"Y\",\"today\":\"N\",\"local\":null},{\"pid\":\"947\",\"name\":\"조이뉴스24\",\"img\":\"https://s.pstatic.net/static/newsstand/up/2017/0424/nsd162759461.png\",\"cate\":\"ct6\",\"amigo\":\"N\",\"viewer\":\"Y\",\"today\":\"N\",\"local\":null},{\"pid\":\"312\",\"name\":\"텐아시아\",\"img\":\"https://s.pstatic.net/static/newsstand/up/2017/0424/nsd172519405.png\",\"cate\":\"ct6\",\"amigo\":\"N\",\"viewer\":\"Y\",\"today\":\"N\",\"local\":null},{\"pid\":\"440\",\"name\":\"티브이데일리\",\"img\":\"https://s.pstatic.net/static/newsstand/up/2017/0424/nsd172538465.png\",\"cate\":\"ct6\",\"amigo\":\"N\",\"viewer\":\"Y\",\"today\":\"N\",\"local\":null},{\"pid\":\"410\",\"name\":\"MK스포츠\",\"img\":\"https://s.pstatic.net/static/newsstand/up/2017/0424/nsd173237747.png\",\"cate\":\"ct6\",\"amigo\":\"N\",\"viewer\":\"Y\",\"today\":\"N\",\"local\":null},{\"pid\":\"109\",\"name\":\"OSEN\",\"img\":\"https://s.pstatic.net/static/newsstand/up/2017/0424/nsd17338859.png\",\"cate\":\"ct6\",\"amigo\":\"N\",\"viewer\":\"Y\",\"today\":\"N\",\"local\":null},{\"pid\":\"416\",\"name\":\"SBS연예스포츠\",\"img\":\"https://s.pstatic.net/static/newsstand/up/2017/0424/nsd173430905.png\",\"cate\":\"ct6\",\"amigo\":\"N\",\"viewer\":\"Y\",\"today\":\"N\",\"local\":null},{\"pid\":\"213\",\"name\":\"TV리포트\",\"img\":\"https://s.pstatic.net/static/newsstand/up/2017/0424/nsd173446621.png\",\"cate\":\"ct6\",\"amigo\":\"N\",\"viewer\":\"Y\",\"today\":\"N\",\"local\":null},{\"pid\":\"404\",\"name\":\"enews24\",\"img\":\"https://s.pstatic.net/static/newsstand/up/2017/0424/nsd173715121.png\",\"cate\":\"ct6\",\"amigo\":\"N\",\"viewer\":\"Y\",\"today\":\"N\",\"local\":null}],\"ct7\":[{\"pid\":\"356\",\"name\":\"게임메카\",\"img\":\"https://s.pstatic.net/static/newsstand/up/2017/0424/nsd143454437.png\",\"cate\":\"ct7\",\"amigo\":\"N\",\"viewer\":\"Y\",\"today\":\"N\",\"local\":null},{\"pid\":\"363\",\"name\":\"과학동아\",\"img\":\"https://s.pstatic.net/static/newsstand/up/2017/0424/nsd143721586.png\",\"cate\":\"ct7\",\"amigo\":\"N\",\"viewer\":\"Y\",\"today\":\"N\",\"local\":null},{\"pid\":\"908\",\"name\":\"국방일보\",\"img\":\"https://s.pstatic.net/static/newsstand/up/2017/0424/nsd143827635.png\",\"cate\":\"ct7\",\"amigo\":\"N\",\"viewer\":\"Y\",\"today\":\"N\",\"local\":null},{\"pid\":\"938\",\"name\":\"그린포스트코리아\",\"img\":\"https://s.pstatic.net/static/newsstand/up/2017/1106/nsd95428551.png\",\"cate\":\"ct7\",\"amigo\":\"N\",\"viewer\":\"Y\",\"today\":\"N\",\"local\":null},{\"pid\":\"984\",\"name\":\"낚시춘추\",\"img\":\"https://s.pstatic.net/static/newsstand/up/2018/0312/nsd11361752.png\",\"cate\":\"ct7\",\"amigo\":\"N\",\"viewer\":\"Y\",\"today\":\"N\",\"local\":null},{\"pid\":\"911\",\"name\":\"농민신문\",\"img\":\"https://s.pstatic.net/static/newsstand/up/2017/0424/nsd144020188.png\",\"cate\":\"ct7\",\"amigo\":\"N\",\"viewer\":\"Y\",\"today\":\"N\",\"local\":null},{\"pid\":\"912\",\"name\":\"뉴스컬처\",\"img\":\"https://s.pstatic.net/static/newsstand/up/2018/0525/nsd141715196.png\",\"cate\":\"ct7\",\"amigo\":\"N\",\"viewer\":\"Y\",\"today\":\"N\",\"local\":null},{\"pid\":\"905\",\"name\":\"더스쿠프\",\"img\":\"https://s.pstatic.net/static/newsstand/up/2018/0626/nsd103415937.png\",\"cate\":\"ct7\",\"amigo\":\"N\",\"viewer\":\"Y\",\"today\":\"N\",\"local\":null},{\"pid\":\"991\",\"name\":\"데일리NK\",\"img\":\"https://s.pstatic.net/static/newsstand/up/2018/1008/nsd101815434.png\",\"cate\":\"ct7\",\"amigo\":\"N\",\"viewer\":\"Y\",\"today\":\"N\",\"local\":null},{\"pid\":\"042\",\"name\":\"데일리한국\",\"img\":\"https://s.pstatic.net/static/newsstand/up/2017/0424/nsd144629578.png\",\"cate\":\"ct7\",\"amigo\":\"N\",\"viewer\":\"Y\",\"today\":\"N\",\"local\":null},{\"pid\":\"955\",\"name\":\"독서신문\",\"img\":\"https://s.pstatic.net/static/newsstand/up/2017/1127/nsd93333581.png\",\"cate\":\"ct7\",\"amigo\":\"N\",\"viewer\":\"Y\",\"today\":\"N\",\"local\":null},{\"pid\":\"345\",\"name\":\"디자인정글\",\"img\":\"https://s.pstatic.net/static/newsstand/up/2017/0424/nsd144732945.png\",\"cate\":\"ct7\",\"amigo\":\"N\",\"viewer\":\"Y\",\"today\":\"N\",\"local\":null},{\"pid\":\"915\",\"name\":\"르몽드 디플로마티크\",\"img\":\"https://s.pstatic.net/static/newsstand/up/2017/0424/nsd1449112.png\",\"cate\":\"ct7\",\"amigo\":\"N\",\"viewer\":\"Y\",\"today\":\"N\",\"local\":null},{\"pid\":\"024\",\"name\":\"매경이코노미\",\"img\":\"https://s.pstatic.net/static/newsstand/up/2017/0424/nsd145011543.png\",\"cate\":\"ct7\",\"amigo\":\"N\",\"viewer\":\"Y\",\"today\":\"N\",\"local\":null},{\"pid\":\"075\",\"name\":\"맥스무비\",\"img\":\"https://s.pstatic.net/static/newsstand/up/2017/0424/nsd183033195.png\",\"cate\":\"ct7\",\"amigo\":\"N\",\"viewer\":\"Y\",\"today\":\"N\",\"local\":null},{\"pid\":\"122\",\"name\":\"법률신문\",\"img\":\"https://s.pstatic.net/static/newsstand/up/2017/0424/nsd145431309.png\",\"cate\":\"ct7\",\"amigo\":\"N\",\"viewer\":\"Y\",\"today\":\"N\",\"local\":null},{\"pid\":\"958\",\"name\":\"베리타스알파\",\"img\":\"https://s.pstatic.net/static/newsstand/up/2017/1201/nsd161315555.png\",\"cate\":\"ct7\",\"amigo\":\"N\",\"viewer\":\"Y\",\"today\":\"N\",\"local\":null},{\"pid\":\"355\",\"name\":\"사이언스타임즈\",\"img\":\"https://s.pstatic.net/static/newsstand/up/2017/0424/nsd145657590.png\",\"cate\":\"ct7\",\"amigo\":\"N\",\"viewer\":\"Y\",\"today\":\"N\",\"local\":null},{\"pid\":\"329\",\"name\":\"소년한국일보\",\"img\":\"https://s.pstatic.net/static/newsstand/up/2017/0424/nsd14583498.png\",\"cate\":\"ct7\",\"amigo\":\"N\",\"viewer\":\"Y\",\"today\":\"N\",\"local\":null},{\"pid\":\"308\",\"name\":\"시사인\",\"img\":\"https://s.pstatic.net/static/newsstand/up/2017/0424/nsd151929775.png\",\"cate\":\"ct7\",\"amigo\":\"N\",\"viewer\":\"Y\",\"today\":\"N\",\"local\":null},{\"pid\":\"135\",\"name\":\"시사저널\",\"img\":\"https://s.pstatic.net/static/newsstand/up/2017/0424/nsd153228485.png\",\"cate\":\"ct7\",\"amigo\":\"N\",\"viewer\":\"Y\",\"today\":\"N\",\"local\":null},{\"pid\":\"140\",\"name\":\"씨네21\",\"img\":\"https://s.pstatic.net/static/newsstand/up/2017/0424/nsd153251814.png\",\"cate\":\"ct7\",\"amigo\":\"N\",\"viewer\":\"Y\",\"today\":\"N\",\"local\":null},{\"pid\":\"979\",\"name\":\"약사공론\",\"img\":\"https://s.pstatic.net/static/newsstand/up/2018/0212/nsd161550299.png\",\"cate\":\"ct7\",\"amigo\":\"N\",\"viewer\":\"Y\",\"today\":\"N\",\"local\":null},{\"pid\":\"328\",\"name\":\"에이블뉴스\",\"img\":\"https://s.pstatic.net/static/newsstand/up/2017/0424/nsd154040656.png\",\"cate\":\"ct7\",\"amigo\":\"N\",\"viewer\":\"Y\",\"today\":\"N\",\"local\":null},{\"pid\":\"354\",\"name\":\"엘르\",\"img\":\"https://s.pstatic.net/static/newsstand/up/2017/0424/nsd154119884.png\",\"cate\":\"ct7\",\"amigo\":\"N\",\"viewer\":\"Y\",\"today\":\"N\",\"local\":null},{\"pid\":\"310\",\"name\":\"여성신문\",\"img\":\"https://s.pstatic.net/static/newsstand/up/2017/0424/nsd154151666.png\",\"cate\":\"ct7\",\"amigo\":\"N\",\"viewer\":\"Y\",\"today\":\"N\",\"local\":null},{\"pid\":\"950\",\"name\":\"월간중앙\",\"img\":\"https://s.pstatic.net/static/newsstand/up/2017/1122/nsd113515807.png\",\"cate\":\"ct7\",\"amigo\":\"N\",\"viewer\":\"Y\",\"today\":\"N\",\"local\":null},{\"pid\":\"988\",\"name\":\"이웃집과학자\",\"img\":\"https://s.pstatic.net/static/newsstand/up/2018/0906/nsd1125619.png\",\"cate\":\"ct7\",\"amigo\":\"N\",\"viewer\":\"Y\",\"today\":\"N\",\"local\":null},{\"pid\":\"982\",\"name\":\"이코노미조선\",\"img\":\"https://s.pstatic.net/static/newsstand/up/2018/0226/nsd13574834.png\",\"cate\":\"ct7\",\"amigo\":\"N\",\"viewer\":\"Y\",\"today\":\"N\",\"local\":null},{\"pid\":\"924\",\"name\":\"인벤\",\"img\":\"https://s.pstatic.net/static/newsstand/up/2017/0424/nsd154539705.png\",\"cate\":\"ct7\",\"amigo\":\"N\",\"viewer\":\"Y\",\"today\":\"N\",\"local\":null},{\"pid\":\"362\",\"name\":\"자동차생활\",\"img\":\"https://s.pstatic.net/static/newsstand/up/2017/0424/nsd162354371.png\",\"cate\":\"ct7\",\"amigo\":\"N\",\"viewer\":\"Y\",\"today\":\"N\",\"local\":null},{\"pid\":\"965\",\"name\":\"전기신문\",\"img\":\"https://s.pstatic.net/static/newsstand/up/2017/1201/nsd161818802.png\",\"cate\":\"ct7\",\"amigo\":\"N\",\"viewer\":\"Y\",\"today\":\"N\",\"local\":null},{\"pid\":\"966\",\"name\":\"정신의학신문\",\"img\":\"https://s.pstatic.net/static/newsstand/up/2017/1201/nsd161847464.png\",\"cate\":\"ct7\",\"amigo\":\"N\",\"viewer\":\"Y\",\"today\":\"N\",\"local\":null},{\"pid\":\"990\",\"name\":\"주간조선\",\"img\":\"https://s.pstatic.net/static/newsstand/up/2018/0913/nsd104554287.png\",\"cate\":\"ct7\",\"amigo\":\"N\",\"viewer\":\"Y\",\"today\":\"N\",\"local\":null},{\"pid\":\"361\",\"name\":\"채널예스\",\"img\":\"https://s.pstatic.net/static/newsstand/up/2017/0424/nsd164412540.png\",\"cate\":\"ct7\",\"amigo\":\"N\",\"viewer\":\"Y\",\"today\":\"N\",\"local\":null},{\"pid\":\"956\",\"name\":\"철강금속신문\",\"img\":\"https://s.pstatic.net/static/newsstand/up/2018/0406/nsd201637238.png\",\"cate\":\"ct7\",\"amigo\":\"N\",\"viewer\":\"Y\",\"today\":\"N\",\"local\":null},{\"pid\":\"928\",\"name\":\"컴퓨터월드\",\"img\":\"https://s.pstatic.net/static/newsstand/up/2017/0424/nsd17150763.png\",\"cate\":\"ct7\",\"amigo\":\"N\",\"viewer\":\"Y\",\"today\":\"N\",\"local\":null},{\"pid\":\"967\",\"name\":\"코리아쉬핑가제트\",\"img\":\"https://s.pstatic.net/static/newsstand/up/2017/1201/nsd162046351.png\",\"cate\":\"ct7\",\"amigo\":\"N\",\"viewer\":\"Y\",\"today\":\"N\",\"local\":null},{\"pid\":\"296\",\"name\":\"코메디닷컴\",\"img\":\"https://s.pstatic.net/static/newsstand/up/2017/0424/nsd172354656.png\",\"cate\":\"ct7\",\"amigo\":\"N\",\"viewer\":\"Y\",\"today\":\"N\",\"local\":null},{\"pid\":\"986\",\"name\":\"투데이신문\",\"img\":\"https://s.pstatic.net/static/newsstand/up/2018/0903/nsd92617272.png\",\"cate\":\"ct7\",\"amigo\":\"N\",\"viewer\":\"Y\",\"today\":\"N\",\"local\":null},{\"pid\":\"951\",\"name\":\"포브스코리아\",\"img\":\"https://s.pstatic.net/static/newsstand/up/2017/1122/nsd113546163.png\",\"cate\":\"ct7\",\"amigo\":\"N\",\"viewer\":\"Y\",\"today\":\"N\",\"local\":null},{\"pid\":\"948\",\"name\":\"한겨레21\",\"img\":\"https://s.pstatic.net/static/newsstand/up/2017/0424/nsd172654646.png\",\"cate\":\"ct7\",\"amigo\":\"N\",\"viewer\":\"Y\",\"today\":\"N\",\"local\":null},{\"pid\":\"050\",\"name\":\"한경비즈니스\",\"img\":\"https://s.pstatic.net/static/newsstand/up/2017/0424/nsd172712628.png\",\"cate\":\"ct7\",\"amigo\":\"N\",\"viewer\":\"Y\",\"today\":\"N\",\"local\":null},{\"pid\":\"384\",\"name\":\"한국대학신문\",\"img\":\"https://s.pstatic.net/static/newsstand/up/2017/0424/nsd172816434.png\",\"cate\":\"ct7\",\"amigo\":\"N\",\"viewer\":\"Y\",\"today\":\"N\",\"local\":null},{\"pid\":\"346\",\"name\":\"헬스조선\",\"img\":\"https://s.pstatic.net/static/newsstand/up/2017/0424/nsd172911723.png\",\"cate\":\"ct7\",\"amigo\":\"N\",\"viewer\":\"Y\",\"today\":\"N\",\"local\":null},{\"pid\":\"364\",\"name\":\"PC사랑\",\"img\":\"https://s.pstatic.net/static/newsstand/up/2017/0424/nsd173322105.png\",\"cate\":\"ct7\",\"amigo\":\"N\",\"viewer\":\"Y\",\"today\":\"N\",\"local\":null},{\"pid\":\"949\",\"name\":\"TheAsiaN\",\"img\":\"https://s.pstatic.net/static/newsstand/up/2017/0424/nsd173523100.png\",\"cate\":\"ct7\",\"amigo\":\"N\",\"viewer\":\"Y\",\"today\":\"N\",\"local\":null}],\"ct8\":[{\"pid\":\"335\",\"name\":\"강원도민일보\",\"img\":\"https://s.pstatic.net/static/newsstand/up/2017/0424/nsd14341394.png\",\"cate\":\"ct8\",\"amigo\":\"N\",\"viewer\":\"Y\",\"today\":\"N\",\"local\":[{\"name\":\"강원\",\"code\":\"01\"}]},{\"pid\":\"087\",\"name\":\"강원일보\",\"img\":\"https://s.pstatic.net/static/newsstand/up/2017/0424/nsd143434899.png\",\"cate\":\"ct8\",\"amigo\":\"N\",\"viewer\":\"Y\",\"today\":\"N\",\"local\":[{\"name\":\"강원\",\"code\":\"01\"}]},{\"pid\":\"339\",\"name\":\"경기일보\",\"img\":\"https://s.pstatic.net/static/newsstand/up/2017/0424/nsd143511509.png\",\"cate\":\"ct8\",\"amigo\":\"N\",\"viewer\":\"Y\",\"today\":\"N\",\"local\":[{\"name\":\"경기\",\"code\":\"02\"},{\"name\":\"인천\",\"code\":\"11\"}]},{\"pid\":\"333\",\"name\":\"경남신문\",\"img\":\"https://s.pstatic.net/static/newsstand/up/2017/0424/nsd143531816.png\",\"cate\":\"ct8\",\"amigo\":\"N\",\"viewer\":\"Y\",\"today\":\"N\",\"local\":[{\"name\":\"경남\",\"code\":\"03\"},{\"name\":\"부산\",\"code\":\"08\"},{\"name\":\"울산\",\"code\":\"10\"}]},{\"pid\":\"978\",\"name\":\"경북도민일보\",\"img\":\"https://s.pstatic.net/static/newsstand/up/2017/1214/nsd111929299.png\",\"cate\":\"ct8\",\"amigo\":\"N\",\"viewer\":\"Y\",\"today\":\"N\",\"local\":[{\"name\":\"경북\",\"code\":\"04\"},{\"name\":\"대구\",\"code\":\"06\"}]},{\"pid\":\"907\",\"name\":\"경북매일신문\",\"img\":\"https://s.pstatic.net/static/newsstand/up/2017/0424/nsd143555345.png\",\"cate\":\"ct8\",\"amigo\":\"N\",\"viewer\":\"Y\",\"today\":\"N\",\"local\":[{\"name\":\"경북\",\"code\":\"04\"},{\"name\":\"대구\",\"code\":\"06\"}]},{\"pid\":\"337\",\"name\":\"경북일보\",\"img\":\"https://s.pstatic.net/static/newsstand/up/2017/0424/nsd143612100.png\",\"cate\":\"ct8\",\"amigo\":\"N\",\"viewer\":\"Y\",\"today\":\"N\",\"local\":[{\"name\":\"경북\",\"code\":\"04\"},{\"name\":\"대구\",\"code\":\"06\"},{\"name\":\"울산\",\"code\":\"10\"}]},{\"pid\":\"935\",\"name\":\"경상일보\",\"img\":\"https://s.pstatic.net/static/newsstand/up/2017/0424/nsd143628241.png\",\"cate\":\"ct8\",\"amigo\":\"N\",\"viewer\":\"Y\",\"today\":\"N\",\"local\":[{\"name\":\"울산\",\"code\":\"10\"}]},{\"pid\":\"338\",\"name\":\"경인일보\",\"img\":\"https://s.pstatic.net/static/newsstand/up/2017/0424/nsd143645415.png\",\"cate\":\"ct8\",\"amigo\":\"N\",\"viewer\":\"Y\",\"today\":\"N\",\"local\":[{\"name\":\"경기\",\"code\":\"02\"},{\"name\":\"인천\",\"code\":\"11\"}]},{\"pid\":\"301\",\"name\":\"광주드림\",\"img\":\"https://s.pstatic.net/static/newsstand/up/2017/1201/nsd17629468.png\",\"cate\":\"ct8\",\"amigo\":\"N\",\"viewer\":\"Y\",\"today\":\"N\",\"local\":[{\"name\":\"광주\",\"code\":\"05\"}]},{\"pid\":\"083\",\"name\":\"광주일보\",\"img\":\"https://s.pstatic.net/static/newsstand/up/2017/0424/nsd143742681.png\",\"cate\":\"ct8\",\"amigo\":\"N\",\"viewer\":\"Y\",\"today\":\"N\",\"local\":[{\"name\":\"광주\",\"code\":\"05\"},{\"name\":\"전남\",\"code\":\"12\"}]},{\"pid\":\"332\",\"name\":\"국제신문\",\"img\":\"https://s.pstatic.net/static/newsstand/up/2017/0424/nsd143844997.png\",\"cate\":\"ct8\",\"amigo\":\"N\",\"viewer\":\"Y\",\"today\":\"N\",\"local\":[{\"name\":\"경남\",\"code\":\"03\"},{\"name\":\"부산\",\"code\":\"08\"},{\"name\":\"울산\",\"code\":\"10\"}]},{\"pid\":\"909\",\"name\":\"기호일보\",\"img\":\"https://s.pstatic.net/static/newsstand/up/2017/0424/nsd14392544.png\",\"cate\":\"ct8\",\"amigo\":\"N\",\"viewer\":\"Y\",\"today\":\"N\",\"local\":[{\"name\":\"경기\",\"code\":\"02\"},{\"name\":\"인천\",\"code\":\"11\"}]},{\"pid\":\"936\",\"name\":\"대구일보\",\"img\":\"https://s.pstatic.net/static/newsstand/up/2017/0424/nsd144433908.png\",\"cate\":\"ct8\",\"amigo\":\"N\",\"viewer\":\"Y\",\"today\":\"N\",\"local\":[{\"name\":\"경북\",\"code\":\"04\"},{\"name\":\"대구\",\"code\":\"06\"}]},{\"pid\":\"089\",\"name\":\"대전일보\",\"img\":\"https://s.pstatic.net/static/newsstand/up/2017/0424/nsd144457151.png\",\"cate\":\"ct8\",\"amigo\":\"N\",\"viewer\":\"Y\",\"today\":\"N\",\"local\":[{\"name\":\"대전\",\"code\":\"07\"},{\"name\":\"충남\",\"code\":\"15\"},{\"name\":\"충북\",\"code\":\"16\"},{\"name\":\"세종\",\"code\":\"17\"}]},{\"pid\":\"088\",\"name\":\"매일신문\",\"img\":\"https://s.pstatic.net/static/newsstand/up/2017/0424/nsd14505572.png\",\"cate\":\"ct8\",\"amigo\":\"N\",\"viewer\":\"Y\",\"today\":\"N\",\"local\":[{\"name\":\"경북\",\"code\":\"04\"},{\"name\":\"대구\",\"code\":\"06\"}]},{\"pid\":\"976\",\"name\":\"무등일보\",\"img\":\"https://s.pstatic.net/static/newsstand/up/2017/1221/nsd13422489.png\",\"cate\":\"ct8\",\"amigo\":\"N\",\"viewer\":\"Y\",\"today\":\"N\",\"local\":[{\"name\":\"광주\",\"code\":\"05\"},{\"name\":\"전남\",\"code\":\"12\"}]},{\"pid\":\"082\",\"name\":\"부산일보\",\"img\":\"https://s.pstatic.net/static/newsstand/up/2017/0424/nsd145450220.png\",\"cate\":\"ct8\",\"amigo\":\"N\",\"viewer\":\"Y\",\"today\":\"N\",\"local\":[{\"name\":\"경남\",\"code\":\"03\"},{\"name\":\"부산\",\"code\":\"08\"},{\"name\":\"울산\",\"code\":\"10\"}]},{\"pid\":\"385\",\"name\":\"영남일보\",\"img\":\"https://s.pstatic.net/static/newsstand/up/2017/0424/nsd154255890.png\",\"cate\":\"ct8\",\"amigo\":\"N\",\"viewer\":\"Y\",\"today\":\"N\",\"local\":[{\"name\":\"경북\",\"code\":\"04\"},{\"name\":\"대구\",\"code\":\"06\"}]},{\"pid\":\"386\",\"name\":\"울산매일\",\"img\":\"https://s.pstatic.net/static/newsstand/up/2017/0424/nsd154334776.png\",\"cate\":\"ct8\",\"amigo\":\"N\",\"viewer\":\"Y\",\"today\":\"N\",\"local\":[{\"name\":\"울산\",\"code\":\"10\"}]},{\"pid\":\"387\",\"name\":\"인천일보\",\"img\":\"https://s.pstatic.net/static/newsstand/up/2017/0424/nsd154558680.png\",\"cate\":\"ct8\",\"amigo\":\"N\",\"viewer\":\"Y\",\"today\":\"N\",\"local\":[{\"name\":\"경기\",\"code\":\"02\"},{\"name\":\"인천\",\"code\":\"11\"}]},{\"pid\":\"388\",\"name\":\"전남일보\",\"img\":\"https://s.pstatic.net/static/newsstand/up/2017/0424/nsd162423309.png\",\"cate\":\"ct8\",\"amigo\":\"N\",\"viewer\":\"N\",\"today\":\"N\",\"local\":[{\"name\":\"광주\",\"code\":\"05\"},{\"name\":\"전남\",\"code\":\"12\"}]},{\"pid\":\"937\",\"name\":\"전북도민일보\",\"img\":\"https://s.pstatic.net/static/newsstand/up/2017/0424/nsd16244628.png\",\"cate\":\"ct8\",\"amigo\":\"N\",\"viewer\":\"Y\",\"today\":\"N\",\"local\":[{\"name\":\"전북\",\"code\":\"13\"}]},{\"pid\":\"336\",\"name\":\"전북일보\",\"img\":\"https://s.pstatic.net/static/newsstand/up/2017/0424/nsd16256807.png\",\"cate\":\"ct8\",\"amigo\":\"N\",\"viewer\":\"Y\",\"today\":\"N\",\"local\":[{\"name\":\"전북\",\"code\":\"13\"}]},{\"pid\":\"901\",\"name\":\"제민일보\",\"img\":\"https://s.pstatic.net/static/newsstand/up/2017/0424/nsd16254923.png\",\"cate\":\"ct8\",\"amigo\":\"N\",\"viewer\":\"Y\",\"today\":\"N\",\"local\":[{\"name\":\"제주\",\"code\":\"14\"}]},{\"pid\":\"389\",\"name\":\"제주도민일보\",\"img\":\"https://s.pstatic.net/static/newsstand/up/2017/0424/nsd1626960.png\",\"cate\":\"ct8\",\"amigo\":\"N\",\"viewer\":\"Y\",\"today\":\"N\",\"local\":[{\"name\":\"제주\",\"code\":\"14\"}]},{\"pid\":\"334\",\"name\":\"제주의소리\",\"img\":\"https://s.pstatic.net/static/newsstand/up/2017/0424/nsd162631114.png\",\"cate\":\"ct8\",\"amigo\":\"N\",\"viewer\":\"Y\",\"today\":\"N\",\"local\":[{\"name\":\"제주\",\"code\":\"14\"}]},{\"pid\":\"390\",\"name\":\"중도일보\",\"img\":\"https://s.pstatic.net/static/newsstand/up/2017/0424/nsd162822857.png\",\"cate\":\"ct8\",\"amigo\":\"N\",\"viewer\":\"Y\",\"today\":\"N\",\"local\":[{\"name\":\"대전\",\"code\":\"07\"},{\"name\":\"충남\",\"code\":\"15\"}]},{\"pid\":\"983\",\"name\":\"중부매일신문\",\"img\":\"https://s.pstatic.net/static/newsstand/up/2018/0212/nsd162058391.png\",\"cate\":\"ct8\",\"amigo\":\"N\",\"viewer\":\"Y\",\"today\":\"N\",\"local\":[{\"name\":\"대전\",\"code\":\"07\"},{\"name\":\"충남\",\"code\":\"15\"},{\"name\":\"충북\",\"code\":\"16\"},{\"name\":\"세종\",\"code\":\"17\"}]},{\"pid\":\"926\",\"name\":\"중부일보\",\"img\":\"https://s.pstatic.net/static/newsstand/up/2017/0424/nsd162931439.png\",\"cate\":\"ct8\",\"amigo\":\"N\",\"viewer\":\"Y\",\"today\":\"N\",\"local\":[{\"name\":\"경기\",\"code\":\"02\"},{\"name\":\"인천\",\"code\":\"11\"}]},{\"pid\":\"927\",\"name\":\"충북일보\",\"img\":\"https://s.pstatic.net/static/newsstand/up/2017/0424/nsd164449667.png\",\"cate\":\"ct8\",\"amigo\":\"N\",\"viewer\":\"Y\",\"today\":\"N\",\"local\":[{\"name\":\"충북\",\"code\":\"16\"},{\"name\":\"세종\",\"code\":\"17\"}]},{\"pid\":\"391\",\"name\":\"충청일보\",\"img\":\"https://s.pstatic.net/static/newsstand/up/2017/0424/nsd17115481.png\",\"cate\":\"ct8\",\"amigo\":\"N\",\"viewer\":\"Y\",\"today\":\"N\",\"local\":[{\"name\":\"대전\",\"code\":\"07\"},{\"name\":\"충남\",\"code\":\"15\"},{\"name\":\"충북\",\"code\":\"16\"},{\"name\":\"세종\",\"code\":\"17\"}]},{\"pid\":\"331\",\"name\":\"충청투데이\",\"img\":\"https://s.pstatic.net/static/newsstand/up/2017/0424/nsd17133978.png\",\"cate\":\"ct8\",\"amigo\":\"N\",\"viewer\":\"Y\",\"today\":\"N\",\"local\":[{\"name\":\"대전\",\"code\":\"07\"},{\"name\":\"충남\",\"code\":\"15\"},{\"name\":\"충북\",\"code\":\"16\"},{\"name\":\"세종\",\"code\":\"17\"}]},{\"pid\":\"987\",\"name\":\"한라일보\",\"img\":\"https://s.pstatic.net/static/newsstand/up/2018/0917/nsd1045519.png\",\"cate\":\"ct8\",\"amigo\":\"N\",\"viewer\":\"Y\",\"today\":\"N\",\"local\":null}]},\\n\\t\\t\\t\\t\\tisSupportedFlicking : false\\n    \\t\\t    });\\n\\n\\t\\t\\t\\tnew naver.main.Timesquare({\\n    \\t    \\t    aOrderedPanel : [{\"code\":\"weather\",\"name\":\"날씨\"},{\"code\":\"news\",\"name\":\"뉴스\"},{\"code\":\"sports\",\"name\":\"스포츠\"},{\"code\":\"finance\",\"name\":\"금융\"},{\"code\":\"conversation\",\"name\":\"회화\"},{\"code\":\"lifetools\",\"name\":\"생활도구\"}],\\n        \\t    \\tisSupportedFlicking : false\\n\\t\\t        });\\n\\n\\t\\t\\t\\tnew naver.main.RealtimeKeyword();\\n\\t\\t\\t\\tif ( !($Agent().navigator().ie && $Agent().navigator().version <= 8) ) {\\t\\n\\t\\t\\t\\t\\tnaver_adbd.Manager().activate();\\n\\t\\t\\t\\t}\\n\\n\\t\\t\\t\\tnaver.main.SchoolFixed.init(\"(none)\");\\n\\t\\t\\t\\tnaver.main.bestseller.init();\\n\\t\\t\\t\\t\\n\\t\\t\\t\\tsetTimeout(function() {\\n\\t\\t\\t\\t\\tif (iframeLazyLoad) {\\n\\t\\t\\t\\t\\t\\t$Element(\"da_iframe_time\").attr(\"src\", urlDaIframeTime);\\n\\t\\t\\t\\t\\t\\tvar welMinime = $Element(\"minime\");\\n\\t\\t\\t\\t\\t\\tif (welMinime) {\\n\\t\\t\\t\\t\\t\\t\\twelMinime.attr(\"src\", urlMinime);\\n\\t\\t\\t\\t\\t\\t}\\n\\t\\t\\t\\t\\t\\t$Element(\"da_iframe_rolling\").attr(\"src\", urlDaIframeRolling);\\n\\t\\t\\t\\t\\t\\t$Element(\"cnsv_shbx\").attr(\"src\", urlCnsvShbx);\\n\\t\\t\\t\\t\\t\\t$Element(\"da_iframe_below\").attr(\"src\", urlDaIframeBelow);\\n\\t\\t\\t\\t\\t}\\n\\t\\t\\t\\t\\t//console.log(performance.timing.loadEventEnd - performance.timing.navigationStart);\\n\\t\\t\\t\\t}, 0);\\n\\n\\t\\t\\t});\\n\\t\\t}\\n\\n\\t\\tif (window.addEventListener) { \\n\\t\\t\\twindow.addEventListener(\"load\", function() { loadJS(); }, true);\\n\\t\\t} else if (window.attachEvent) { \\n\\t\\t\\twindow.attachEvent(\"onload\", loadJS);\\n\\t\\t} else {\\n\\t\\t\\twindow.onload = loadJS;\\n\\t\\t}\\n\\t\\t\\n\\t</script>\\n</body>\\n</html>\\n'"
      ]
     },
     "execution_count": 82,
     "metadata": {},
     "output_type": "execute_result"
    }
   ],
   "source": [
    "url='https://www.naver.com'\n",
    "response = requests.get(url)\n",
    "html = response.text\n",
    "html"
   ]
  },
  {
   "cell_type": "code",
   "execution_count": 85,
   "metadata": {
    "collapsed": true
   },
   "outputs": [],
   "source": [
    "soup = BeautifulSoup(html,'html.parser')"
   ]
  },
  {
   "cell_type": "code",
   "execution_count": 86,
   "metadata": {
    "collapsed": true
   },
   "outputs": [],
   "source": [
    "from selenium import webdriver"
   ]
  },
  {
   "cell_type": "code",
   "execution_count": 88,
   "metadata": {
    "collapsed": true
   },
   "outputs": [],
   "source": [
    "ch_driver = webdriver.Chrome()"
   ]
  },
  {
   "cell_type": "code",
   "execution_count": 1,
   "metadata": {
    "collapsed": true
   },
   "outputs": [
    {
     "ename": "NameError",
     "evalue": "name 'ch_driver' is not defined",
     "output_type": "error",
     "traceback": [
      "\u001b[1;31m---------------------------------------------------------------------------\u001b[0m",
      "\u001b[1;31mNameError\u001b[0m                                 Traceback (most recent call last)",
      "\u001b[1;32m<ipython-input-1-a0b0ae84baa2>\u001b[0m in \u001b[0;36m<module>\u001b[1;34m\u001b[0m\n\u001b[1;32m----> 1\u001b[1;33m \u001b[0mhtml\u001b[0m\u001b[1;33m=\u001b[0m\u001b[0mch_driver\u001b[0m\u001b[1;33m.\u001b[0m\u001b[0mget\u001b[0m\u001b[1;33m(\u001b[0m\u001b[1;34m'https://www.naver.com'\u001b[0m\u001b[1;33m)\u001b[0m\u001b[1;33m\u001b[0m\u001b[1;33m\u001b[0m\u001b[0m\n\u001b[0m",
      "\u001b[1;31mNameError\u001b[0m: name 'ch_driver' is not defined"
     ]
    }
   ],
   "source": [
    "html=ch_driver.get('https://www.naver.com')"
   ]
  },
  {
   "cell_type": "code",
   "execution_count": null,
   "metadata": {
    "collapsed": true
   },
   "outputs": [],
   "source": [
    "import requests\n",
    "from bs4 import BeautifulSoup"
   ]
  },
  {
   "cell_type": "code",
   "execution_count": 2,
   "metadata": {
    "collapsed": true
   },
   "outputs": [],
   "source": [
    "from selenium import webdriver\n",
    "import time"
   ]
  },
  {
   "cell_type": "code",
   "execution_count": 13,
   "metadata": {
    "collapsed": true
   },
   "outputs": [],
   "source": [
    "ch_driver=webdriver.Chrome()"
   ]
  },
  {
   "cell_type": "code",
   "execution_count": 14,
   "metadata": {
    "collapsed": true
   },
   "outputs": [],
   "source": [
    "url='http://www.naver.com'\n",
    "url2='https://www.theguardian.com/uk/technology'\n",
    "# ch_driver.implicitly_wait(6)\n",
    "ch_driver.get(url)"
   ]
  },
  {
   "cell_type": "code",
   "execution_count": 85,
   "metadata": {
    "collapsed": true
   },
   "outputs": [],
   "source": [
    "response=requests.get(url2)\n",
    "html=response.text"
   ]
  },
  {
   "cell_type": "code",
   "execution_count": 1,
   "metadata": {
    "collapsed": true
   },
   "outputs": [
    {
     "ename": "NameError",
     "evalue": "name 'BeautifulSoup' is not defined",
     "output_type": "error",
     "traceback": [
      "\u001b[1;31m---------------------------------------------------------------------------\u001b[0m",
      "\u001b[1;31mNameError\u001b[0m                                 Traceback (most recent call last)",
      "\u001b[1;32m<ipython-input-1-75f1fdca0564>\u001b[0m in \u001b[0;36m<module>\u001b[1;34m\u001b[0m\n\u001b[1;32m----> 1\u001b[1;33m \u001b[0msoup\u001b[0m\u001b[1;33m=\u001b[0m\u001b[0mBeautifulSoup\u001b[0m\u001b[1;33m(\u001b[0m\u001b[0mhtml\u001b[0m\u001b[1;33m,\u001b[0m\u001b[1;34m'html.parser'\u001b[0m\u001b[1;33m)\u001b[0m\u001b[1;33m\u001b[0m\u001b[1;33m\u001b[0m\u001b[0m\n\u001b[0m\u001b[0;32m      2\u001b[0m \u001b[0msoup\u001b[0m\u001b[1;33m\u001b[0m\u001b[1;33m\u001b[0m\u001b[0m\n\u001b[0;32m      3\u001b[0m \u001b[1;31m# first=soup.find('div',attrs={'class':'article__main'})\u001b[0m\u001b[1;33m\u001b[0m\u001b[1;33m\u001b[0m\u001b[1;33m\u001b[0m\u001b[0m\n\u001b[0;32m      4\u001b[0m \u001b[1;31m# first.find('div',attrs={'class':'article__title article-title'}).a.text\u001b[0m\u001b[1;33m\u001b[0m\u001b[1;33m\u001b[0m\u001b[1;33m\u001b[0m\u001b[0m\n\u001b[0;32m      5\u001b[0m \u001b[1;31m# soup.find('div',attrs={'class':'article__title article-title'})\u001b[0m\u001b[1;33m\u001b[0m\u001b[1;33m\u001b[0m\u001b[1;33m\u001b[0m\u001b[0m\n",
      "\u001b[1;31mNameError\u001b[0m: name 'BeautifulSoup' is not defined"
     ]
    }
   ],
   "source": [
    "soup=BeautifulSoup(html,'html.parser')\n",
    "soup\n",
    "# first=soup.find('div',attrs={'class':'article__main'})\n",
    "# first.find('div',attrs={'class':'article__title article-title'}).a.text\n",
    "# soup.find('div',attrs={'class':'article__title article-title'})\n",
    "# table.find('div',attrs={'class':'article__title article-title'})\n"
   ]
  },
  {
   "cell_type": "code",
   "execution_count": 1,
   "metadata": {
    "collapsed": true
   },
   "outputs": [],
   "source": [
    "from selenium import webdriver"
   ]
  },
  {
   "cell_type": "code",
   "execution_count": 7,
   "metadata": {
    "collapsed": true
   },
   "outputs": [],
   "source": [
    "url='https://www.scmp.com'\n",
    "ch_driver=webdriver.Chrome('chromedriver')\n",
    "ch_driver.get(url)"
   ]
  },
  {
   "cell_type": "code",
   "execution_count": 23,
   "metadata": {
    "collapsed": true
   },
   "outputs": [],
   "source": [
    "adhoc=ch_driver.find_element_by_xpath('//*[@id=\"mini-panel-top_articles_homepage_int\"]/div[1]/div[1]/div[1]/article[1]/div/h3/a')"
   ]
  },
  {
   "cell_type": "code",
   "execution_count": 28,
   "metadata": {
    "collapsed": true
   },
   "outputs": [
    {
     "ename": "SyntaxError",
     "evalue": "unexpected character after line continuation character (<ipython-input-28-7304cbe6cb2d>, line 5)",
     "output_type": "error",
     "traceback": [
      "\u001b[1;36m  File \u001b[1;32m\"<ipython-input-28-7304cbe6cb2d>\"\u001b[1;36m, line \u001b[1;32m5\u001b[0m\n\u001b[1;33m    print(link, title, synopsis, sep=\\n)\u001b[0m\n\u001b[1;37m                                        ^\u001b[0m\n\u001b[1;31mSyntaxError\u001b[0m\u001b[1;31m:\u001b[0m unexpected character after line continuation character\n"
     ]
    }
   ],
   "source": [
    "# from bs4 import BeautifulSoup\n",
    "link = adhoc.get_attribute('href')\n",
    "title = adhoc.get_attribute('text')\n",
    "synopsis = adhoc.text\n",
    "print(link, title, synopsis, sep='$')"
   ]
  },
  {
   "cell_type": "code",
   "execution_count": 1,
   "metadata": {
    "collapsed": true
   },
   "outputs": [],
   "source": [
    "import requests\n",
    "from bs4 import BeautifulSoup\n",
    "import lxml\n",
    "from selenium import webdriver\n",
    "from time import time"
   ]
  },
  {
   "cell_type": "code",
   "execution_count": 28,
   "metadata": {
    "collapsed": true
   },
   "outputs": [],
   "source": [
    "url='http://home.ebse.co.kr/teacheroliver/replay/3/list?courseId=ER2017H0OLI01ZZ&stepId=ET2017H0OLI0101'\n",
    "ch_driver = webdriver.Chrome('./chromedriver.exe')\n",
    "\n",
    "ch_driver.get(url)"
   ]
  },
  {
   "cell_type": "code",
   "execution_count": 14,
   "metadata": {
    "collapsed": true
   },
   "outputs": [],
   "source": [
    "# page = ch_driver.find_element_by_xpath('//*[@id=\"divContentBBS\"]/div[4]/span/a[3]')\n",
    "\n",
    "# page.click()\n"
   ]
  },
  {
   "cell_type": "code",
   "execution_count": 32,
   "metadata": {
    "collapsed": true
   },
   "outputs": [
    {
     "ename": "InvalidSelectorException",
     "evalue": "Message: invalid selector: Compound class names not permitted\n  (Session info: chrome=71.0.3578.98)\n  (Driver info: chromedriver=2.45.615291 (ec3682e3c9061c10f26ea9e5cdcf3c53f3f74387),platform=Windows NT 6.1.7601 SP1 x86_64)\n",
     "output_type": "error",
     "traceback": [
      "\u001b[1;31m---------------------------------------------------------------------------\u001b[0m",
      "\u001b[1;31mInvalidSelectorException\u001b[0m                  Traceback (most recent call last)",
      "\u001b[1;32m<ipython-input-32-fdad3fc3a2ff>\u001b[0m in \u001b[0;36m<module>\u001b[1;34m\u001b[0m\n\u001b[1;32m----> 1\u001b[1;33m \u001b[0mtitles\u001b[0m \u001b[1;33m=\u001b[0m \u001b[0mch_driver\u001b[0m\u001b[1;33m.\u001b[0m\u001b[0mfind_elements_by_class_name\u001b[0m\u001b[1;33m(\u001b[0m\u001b[1;34m'tit_info tbl_td'\u001b[0m\u001b[1;33m)\u001b[0m\u001b[1;33m\u001b[0m\u001b[1;33m\u001b[0m\u001b[0m\n\u001b[0m\u001b[0;32m      2\u001b[0m \u001b[0mhtml\u001b[0m \u001b[1;33m=\u001b[0m \u001b[0mtitles\u001b[0m\u001b[1;33m.\u001b[0m\u001b[0mpage_source\u001b[0m\u001b[1;33m\u001b[0m\u001b[1;33m\u001b[0m\u001b[0m\n\u001b[0;32m      3\u001b[0m \u001b[1;31m# html = ch_driver.page_source\u001b[0m\u001b[1;33m\u001b[0m\u001b[1;33m\u001b[0m\u001b[1;33m\u001b[0m\u001b[0m\n\u001b[0;32m      4\u001b[0m \u001b[1;31m# soup = BeautifulSoup(html,'lxml')\u001b[0m\u001b[1;33m\u001b[0m\u001b[1;33m\u001b[0m\u001b[1;33m\u001b[0m\u001b[0m\n",
      "\u001b[1;32mc:\\python37\\lib\\site-packages\\selenium\\webdriver\\remote\\webdriver.py\u001b[0m in \u001b[0;36mfind_elements_by_class_name\u001b[1;34m(self, name)\u001b[0m\n\u001b[0;32m    578\u001b[0m             \u001b[0melements\u001b[0m \u001b[1;33m=\u001b[0m \u001b[0mdriver\u001b[0m\u001b[1;33m.\u001b[0m\u001b[0mfind_elements_by_class_name\u001b[0m\u001b[1;33m(\u001b[0m\u001b[1;34m'foo'\u001b[0m\u001b[1;33m)\u001b[0m\u001b[1;33m\u001b[0m\u001b[1;33m\u001b[0m\u001b[0m\n\u001b[0;32m    579\u001b[0m         \"\"\"\n\u001b[1;32m--> 580\u001b[1;33m         \u001b[1;32mreturn\u001b[0m \u001b[0mself\u001b[0m\u001b[1;33m.\u001b[0m\u001b[0mfind_elements\u001b[0m\u001b[1;33m(\u001b[0m\u001b[0mby\u001b[0m\u001b[1;33m=\u001b[0m\u001b[0mBy\u001b[0m\u001b[1;33m.\u001b[0m\u001b[0mCLASS_NAME\u001b[0m\u001b[1;33m,\u001b[0m \u001b[0mvalue\u001b[0m\u001b[1;33m=\u001b[0m\u001b[0mname\u001b[0m\u001b[1;33m)\u001b[0m\u001b[1;33m\u001b[0m\u001b[1;33m\u001b[0m\u001b[0m\n\u001b[0m\u001b[0;32m    581\u001b[0m \u001b[1;33m\u001b[0m\u001b[0m\n\u001b[0;32m    582\u001b[0m     \u001b[1;32mdef\u001b[0m \u001b[0mfind_element_by_css_selector\u001b[0m\u001b[1;33m(\u001b[0m\u001b[0mself\u001b[0m\u001b[1;33m,\u001b[0m \u001b[0mcss_selector\u001b[0m\u001b[1;33m)\u001b[0m\u001b[1;33m:\u001b[0m\u001b[1;33m\u001b[0m\u001b[1;33m\u001b[0m\u001b[0m\n",
      "\u001b[1;32mc:\\python37\\lib\\site-packages\\selenium\\webdriver\\remote\\webdriver.py\u001b[0m in \u001b[0;36mfind_elements\u001b[1;34m(self, by, value)\u001b[0m\n\u001b[0;32m   1005\u001b[0m         return self.execute(Command.FIND_ELEMENTS, {\n\u001b[0;32m   1006\u001b[0m             \u001b[1;34m'using'\u001b[0m\u001b[1;33m:\u001b[0m \u001b[0mby\u001b[0m\u001b[1;33m,\u001b[0m\u001b[1;33m\u001b[0m\u001b[1;33m\u001b[0m\u001b[0m\n\u001b[1;32m-> 1007\u001b[1;33m             'value': value})['value'] or []\n\u001b[0m\u001b[0;32m   1008\u001b[0m \u001b[1;33m\u001b[0m\u001b[0m\n\u001b[0;32m   1009\u001b[0m     \u001b[1;33m@\u001b[0m\u001b[0mproperty\u001b[0m\u001b[1;33m\u001b[0m\u001b[1;33m\u001b[0m\u001b[0m\n",
      "\u001b[1;32mc:\\python37\\lib\\site-packages\\selenium\\webdriver\\remote\\webdriver.py\u001b[0m in \u001b[0;36mexecute\u001b[1;34m(self, driver_command, params)\u001b[0m\n\u001b[0;32m    319\u001b[0m         \u001b[0mresponse\u001b[0m \u001b[1;33m=\u001b[0m \u001b[0mself\u001b[0m\u001b[1;33m.\u001b[0m\u001b[0mcommand_executor\u001b[0m\u001b[1;33m.\u001b[0m\u001b[0mexecute\u001b[0m\u001b[1;33m(\u001b[0m\u001b[0mdriver_command\u001b[0m\u001b[1;33m,\u001b[0m \u001b[0mparams\u001b[0m\u001b[1;33m)\u001b[0m\u001b[1;33m\u001b[0m\u001b[1;33m\u001b[0m\u001b[0m\n\u001b[0;32m    320\u001b[0m         \u001b[1;32mif\u001b[0m \u001b[0mresponse\u001b[0m\u001b[1;33m:\u001b[0m\u001b[1;33m\u001b[0m\u001b[1;33m\u001b[0m\u001b[0m\n\u001b[1;32m--> 321\u001b[1;33m             \u001b[0mself\u001b[0m\u001b[1;33m.\u001b[0m\u001b[0merror_handler\u001b[0m\u001b[1;33m.\u001b[0m\u001b[0mcheck_response\u001b[0m\u001b[1;33m(\u001b[0m\u001b[0mresponse\u001b[0m\u001b[1;33m)\u001b[0m\u001b[1;33m\u001b[0m\u001b[1;33m\u001b[0m\u001b[0m\n\u001b[0m\u001b[0;32m    322\u001b[0m             response['value'] = self._unwrap_value(\n\u001b[0;32m    323\u001b[0m                 response.get('value', None))\n",
      "\u001b[1;32mc:\\python37\\lib\\site-packages\\selenium\\webdriver\\remote\\errorhandler.py\u001b[0m in \u001b[0;36mcheck_response\u001b[1;34m(self, response)\u001b[0m\n\u001b[0;32m    240\u001b[0m                 \u001b[0malert_text\u001b[0m \u001b[1;33m=\u001b[0m \u001b[0mvalue\u001b[0m\u001b[1;33m[\u001b[0m\u001b[1;34m'alert'\u001b[0m\u001b[1;33m]\u001b[0m\u001b[1;33m.\u001b[0m\u001b[0mget\u001b[0m\u001b[1;33m(\u001b[0m\u001b[1;34m'text'\u001b[0m\u001b[1;33m)\u001b[0m\u001b[1;33m\u001b[0m\u001b[1;33m\u001b[0m\u001b[0m\n\u001b[0;32m    241\u001b[0m             \u001b[1;32mraise\u001b[0m \u001b[0mexception_class\u001b[0m\u001b[1;33m(\u001b[0m\u001b[0mmessage\u001b[0m\u001b[1;33m,\u001b[0m \u001b[0mscreen\u001b[0m\u001b[1;33m,\u001b[0m \u001b[0mstacktrace\u001b[0m\u001b[1;33m,\u001b[0m \u001b[0malert_text\u001b[0m\u001b[1;33m)\u001b[0m\u001b[1;33m\u001b[0m\u001b[1;33m\u001b[0m\u001b[0m\n\u001b[1;32m--> 242\u001b[1;33m         \u001b[1;32mraise\u001b[0m \u001b[0mexception_class\u001b[0m\u001b[1;33m(\u001b[0m\u001b[0mmessage\u001b[0m\u001b[1;33m,\u001b[0m \u001b[0mscreen\u001b[0m\u001b[1;33m,\u001b[0m \u001b[0mstacktrace\u001b[0m\u001b[1;33m)\u001b[0m\u001b[1;33m\u001b[0m\u001b[1;33m\u001b[0m\u001b[0m\n\u001b[0m\u001b[0;32m    243\u001b[0m \u001b[1;33m\u001b[0m\u001b[0m\n\u001b[0;32m    244\u001b[0m     \u001b[1;32mdef\u001b[0m \u001b[0m_value_or_default\u001b[0m\u001b[1;33m(\u001b[0m\u001b[0mself\u001b[0m\u001b[1;33m,\u001b[0m \u001b[0mobj\u001b[0m\u001b[1;33m,\u001b[0m \u001b[0mkey\u001b[0m\u001b[1;33m,\u001b[0m \u001b[0mdefault\u001b[0m\u001b[1;33m)\u001b[0m\u001b[1;33m:\u001b[0m\u001b[1;33m\u001b[0m\u001b[1;33m\u001b[0m\u001b[0m\n",
      "\u001b[1;31mInvalidSelectorException\u001b[0m: Message: invalid selector: Compound class names not permitted\n  (Session info: chrome=71.0.3578.98)\n  (Driver info: chromedriver=2.45.615291 (ec3682e3c9061c10f26ea9e5cdcf3c53f3f74387),platform=Windows NT 6.1.7601 SP1 x86_64)\n"
     ]
    }
   ],
   "source": [
    "titles = ch_driver.find_elements_by_class_name('tit_info tbl_td')\n",
    "html = titles.page_source\n",
    "# html = ch_driver.page_source\n",
    "# soup = BeautifulSoup(html,'lxml')"
   ]
  },
  {
   "cell_type": "code",
   "execution_count": 12,
   "metadata": {
    "collapsed": true
   },
   "outputs": [
    {
     "name": "stdout",
     "output_type": "stream",
     "text": [
      "What the hell!\n",
      "the shoot\n",
      "What am I supposed to do?\n"
     ]
    },
    {
     "data": {
      "text/plain": [
       "'You got the the shoot'"
      ]
     },
     "execution_count": 12,
     "metadata": {},
     "output_type": "execute_result"
    }
   ],
   "source": [
    "def decorator(test):\n",
    "    def wrapper(*args,**kwargs):\n",
    "        print(\"What the hell!\")\n",
    "        result = test(*args,**kwargs)\n",
    "        print(\"What am I supposed to do?\")\n",
    "        return result\n",
    "    return wrapper\n",
    "    \n",
    "@decorator    \n",
    "def test(input):\n",
    "    print(input)\n",
    "    return \"You got the \"+ input\n",
    "test(\"the shoot\")"
   ]
  },
  {
   "cell_type": "code",
   "execution_count": 13,
   "metadata": {
    "collapsed": true
   },
   "outputs": [
    {
     "name": "stdout",
     "output_type": "stream",
     "text": [
      "What the hell!\n",
      "I don't do it even if my life depended on it\n",
      "What am I supposed to do?\n"
     ]
    },
    {
     "data": {
      "text/plain": [
       "\"You got the I don't do it even if my life depended on it\""
      ]
     },
     "execution_count": 13,
     "metadata": {},
     "output_type": "execute_result"
    }
   ],
   "source": [
    "test(\"I don't do it even if my life depended on it\")"
   ]
  },
  {
   "cell_type": "code",
   "execution_count": null,
   "metadata": {
    "collapsed": true
   },
   "outputs": [],
   "source": []
  }
 ],
 "metadata": {
  "kernelspec": {
   "display_name": "Python 3",
   "language": "python",
   "name": "python3"
  },
  "language_info": {
   "codemirror_mode": {
    "name": "ipython",
    "version": 3
   },
   "file_extension": ".py",
   "mimetype": "text/x-python",
   "name": "python",
   "nbconvert_exporter": "python",
   "pygments_lexer": "ipython3",
   "version": "3.7.1"
  }
 },
 "nbformat": 4,
 "nbformat_minor": 2
}
