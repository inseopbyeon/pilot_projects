{
 "cells": [
  {
   "cell_type": "code",
   "execution_count": null,
   "metadata": {
    "slideshow": {
     "slide_type": "slide"
    }
   },
   "outputs": [],
   "source": [
    "n = 3\n",
    "m = 4\n",
    "a = [[0] * m] * n\n",
    "a"
   ]
  },
  {
   "cell_type": "code",
   "execution_count": 2,
   "metadata": {
    "slideshow": {
     "slide_type": "slide"
    }
   },
   "outputs": [
    {
     "name": "stdout",
     "output_type": "stream",
     "text": [
      "[[1, 2, 3], ['a', 'b', 'c'], ['alpha', 'beta', 'delta']]\n"
     ]
    },
    {
     "data": {
      "text/plain": [
       "[[1, 2, 3], ['a', 'b', 'c'], ['alpha', 'beta', 'delta']]"
      ]
     },
     "execution_count": 2,
     "metadata": {},
     "output_type": "execute_result"
    }
   ],
   "source": [
    "matrix=[[1,2,3],[\"a\",\"b\",\"c\"],[\"alpha\",\"beta\",\"delta\"]]\n",
    "print(matrix)\n",
    "matrix[:]"
   ]
  },
  {
   "cell_type": "markdown",
   "metadata": {
    "slideshow": {
     "slide_type": "fragment"
    }
   },
   "source": [
    "~~안녕하세요~~\n",
    "- 뭘요\n",
    "  - 그냥 물어봄\n",
    "  예, 알겠습니다. 저도 그냥 물어봤습니다. \n",
    "  하하하"
   ]
  },
  {
   "cell_type": "markdown",
   "metadata": {
    "slideshow": {
     "slide_type": "fragment"
    }
   },
   "source": [
    "1. who\n",
    "1. when\n",
    "1. what\n",
    "1. why\n",
    "1. what\n",
    "   1. how"
   ]
  },
  {
   "cell_type": "markdown",
   "metadata": {
    "slideshow": {
     "slide_type": "slide"
    }
   },
   "source": [
    "* item1\n",
    "* item2\n",
    "- item3"
   ]
  },
  {
   "cell_type": "markdown",
   "metadata": {
    "slideshow": {
     "slide_type": "subslide"
    }
   },
   "source": [
    "- item1\n",
    "- item2"
   ]
  },
  {
   "cell_type": "markdown",
   "metadata": {
    "slideshow": {
     "slide_type": "notes"
    }
   },
   "source": [
    "I myself said today:\n",
    "> Know yourself!   \n",
    "> I even don't know myself!"
   ]
  },
  {
   "cell_type": "code",
   "execution_count": null,
   "metadata": {
    "slideshow": {
     "slide_type": "subslide"
    }
   },
   "outputs": [],
   "source": [
    "test={'who':'Thomas','when':'one of these days','why':'just because'}\n",
    "test"
   ]
  },
  {
   "cell_type": "code",
   "execution_count": null,
   "metadata": {},
   "outputs": [],
   "source": [
    "test.update({'when':'sometime a couple days','what':'just regular meet-up'})\n",
    "test"
   ]
  },
  {
   "cell_type": "code",
   "execution_count": null,
   "metadata": {},
   "outputs": [],
   "source": [
    "dict.update?"
   ]
  },
  {
   "cell_type": "code",
   "execution_count": null,
   "metadata": {},
   "outputs": [],
   "source": [
    "def calculator(oper,*dog):\n",
    "    if oper==\"plus\":\n",
    "        result=0\n",
    "        for item in dog:\n",
    "            result += item\n",
    "    elif oper==\"minus\":\n",
    "        result=dog[0]\n",
    "        for item in dog[1:]:\n",
    "            result -=item\n",
    "    elif oper==\"multiply\":\n",
    "        result=1\n",
    "        for item in dog:\n",
    "            result *=item\n",
    "    elif oper=='divide':\n",
    "        if dog[1]==0:\n",
    "            return \"InputError: The divisor cannot be 0.\"\n",
    "        elif len(dog)>2:\n",
    "            return \"InputError: Only a pair of arguments are available.\"\n",
    "        result1= dog[0] // dog[1]\n",
    "        result2= dog[0] % dog[1]\n",
    "        result=\"The Quotient is {}, and the Remnant is {}\".format(result1, result2)\n",
    "    return result, type(dog)"
   ]
  },
  {
   "cell_type": "code",
   "execution_count": null,
   "metadata": {},
   "outputs": [],
   "source": [
    "calculator('minus',1,2,4,5,6)"
   ]
  },
  {
   "cell_type": "code",
   "execution_count": null,
   "metadata": {},
   "outputs": [],
   "source": [
    "def test(*args):\n",
    "    for item in args:\n",
    "        print(item**3)\n",
    "\n",
    "test(2,4,8)"
   ]
  },
  {
   "cell_type": "code",
   "execution_count": null,
   "metadata": {},
   "outputs": [],
   "source": [
    "def engname(**kwargs):\n",
    "    for key, value in kwargs.items():\n",
    "        if 'ant' in kwargs.keys():\n",
    "            print(\"주인님 오셨군요. 오늘 기분이 어떤가요?\")\n",
    "        else:\n",
    "            print(\"{} is {}\".format(key,value))\n",
    "              \n",
    "engname(Myname=\"Murray\")\n",
    "engname(ant=\"Murray\")\n"
   ]
  },
  {
   "cell_type": "code",
   "execution_count": null,
   "metadata": {},
   "outputs": [],
   "source": [
    "hash('chuk')%10#hash('chuk')%8"
   ]
  },
  {
   "cell_type": "code",
   "execution_count": null,
   "metadata": {},
   "outputs": [],
   "source": [
    "hash('ja')%10#;hash('ja')%10"
   ]
  },
  {
   "cell_type": "code",
   "execution_count": null,
   "metadata": {},
   "outputs": [],
   "source": [
    "num_list=[i for i in range(1,100+1)]\n",
    "#num_list\n",
    "result_list=[ \"fizzbuzz\" if i%15 == 0 else \"fizz\" if i%3 ==0 else \"buzz\" if i%5 == 0 else i\n",
    "             for i in num_list]\n",
    "\n",
    "result_list"
   ]
  },
  {
   "cell_type": "code",
   "execution_count": null,
   "metadata": {},
   "outputs": [],
   "source": [
    "dict1={11:123,12:456}\n",
    "\n",
    "dict2={k*2:v*3 for k,v in dict1.items() if k%2 == 0};dict2"
   ]
  },
  {
   "cell_type": "code",
   "execution_count": null,
   "metadata": {},
   "outputs": [],
   "source": [
    "dict1={1:123,2:456}\n",
    "\n",
    "dict2={}\n",
    "for k,v in dict1.items():\n",
    "    dict2[k*2]=v**2\n",
    "\n",
    "dict2"
   ]
  },
  {
   "cell_type": "code",
   "execution_count": null,
   "metadata": {},
   "outputs": [],
   "source": [
    "dict3={k for k in range(1,10+1) if k%2 == 0};dict3"
   ]
  },
  {
   "cell_type": "code",
   "execution_count": null,
   "metadata": {},
   "outputs": [],
   "source": [
    "dict3={k**2 if k%5==0 else\n",
    "       k**2 if k%3==0 else \n",
    "       k**2 if k%2==0 else k\n",
    "       for k in range(1,10+1)\n",
    "      };dict3"
   ]
  },
  {
   "cell_type": "code",
   "execution_count": null,
   "metadata": {},
   "outputs": [],
   "source": [
    "sum=0\n",
    "for i in range(1,100+1):\n",
    "    sum=sum+i\n",
    "print(sum)"
   ]
  },
  {
   "cell_type": "code",
   "execution_count": null,
   "metadata": {},
   "outputs": [],
   "source": [
    "prompt='''\n",
    "1. add\n",
    "2. del\n",
    "3. list\n",
    "4. quit\n",
    "\n",
    "enter number: '''"
   ]
  },
  {
   "cell_type": "code",
   "execution_count": null,
   "metadata": {},
   "outputs": [],
   "source": [
    "for i in range(1,100+1):\n",
    "    if i % 15 == 0:\n",
    "        print(\"fizzbuzz\")\n",
    "    elif i % 3 == 0:\n",
    "        print(\"fizz\")\n",
    "    elif i % 5 == 0:\n",
    "        print(\"buzz\")\n",
    "    else:\n",
    "        print(i)"
   ]
  },
  {
   "cell_type": "code",
   "execution_count": null,
   "metadata": {},
   "outputs": [],
   "source": [
    "len_count={}\n",
    "for len_ in map(len,['apple','banana','plane']):"
   ]
  },
  {
   "cell_type": "code",
   "execution_count": null,
   "metadata": {},
   "outputs": [],
   "source": [
    "def trial(name, status='retard'):\n",
    "    print()"
   ]
  },
  {
   "cell_type": "code",
   "execution_count": null,
   "metadata": {},
   "outputs": [],
   "source": [
    "def test(*args):\n",
    "    sum=0\n",
    "    for item in args:\n",
    "        sum +=item\n",
    "    return sum\n",
    "\n",
    "args=tuple(range(1,10+1))\n",
    "test(*args)"
   ]
  },
  {
   "cell_type": "code",
   "execution_count": null,
   "metadata": {},
   "outputs": [],
   "source": [
    "sum=0\n",
    "test_list=[1,2,3,4,5,]\n"
   ]
  },
  {
   "cell_type": "code",
   "execution_count": null,
   "metadata": {},
   "outputs": [],
   "source": [
    "test_list=[1,2,3,]\n",
    "test_list.pop()\n",
    "len(test_list)"
   ]
  },
  {
   "cell_type": "code",
   "execution_count": null,
   "metadata": {},
   "outputs": [],
   "source": [
    "sentence='python'\n",
    "sentence[-1]"
   ]
  },
  {
   "cell_type": "code",
   "execution_count": null,
   "metadata": {},
   "outputs": [],
   "source": [
    "a=[1,2,3,4]\n",
    "result=0\n",
    "for num in a:\n",
    "    result += num\n",
    "print(result)"
   ]
  },
  {
   "cell_type": "code",
   "execution_count": null,
   "metadata": {},
   "outputs": [],
   "source": [
    "[num*3 for num in [1,2,3,4]]"
   ]
  },
  {
   "cell_type": "code",
   "execution_count": null,
   "metadata": {},
   "outputs": [],
   "source": [
    "[num*3 for num in a]"
   ]
  },
  {
   "cell_type": "code",
   "execution_count": null,
   "metadata": {},
   "outputs": [],
   "source": [
    "def decodeco (function):\n",
    "    def wrapper(*args,**kwargs):\n",
    "        print(\"@meh, whatevs\")\n",
    "        r=function(*args,**kwargs)\n",
    "        print(\"@don't tell me to wait!\")\n",
    "        return r\n",
    "    return wrapper\n",
    "\n",
    "@decodeco\n",
    "def test(*text):\n",
    "    for i in text:\n",
    "        print(i)\n",
    "    return 'a'\n",
    "        \n",
    "test(\"apple\",\"banana\")"
   ]
  },
  {
   "cell_type": "code",
   "execution_count": null,
   "metadata": {},
   "outputs": [],
   "source": [
    "# 데코레이터 정의\n",
    "def decoration(function):\n",
    "    def cat(*args, **kwargs):\n",
    "        print(\"@decoration Start\")\n",
    "        function(*args, **kwargs)\n",
    "        print(\"@decoration Finished\")\n",
    "        return #function(*args, **kwargs)\n",
    "    return cat\n",
    "\n",
    "\n",
    "# 쓰일 본 함수 정의\n",
    "@decoration\n",
    "def print_something(text):\n",
    "    print(\"print_something Start\")\n",
    "    print(\"{}\".format(text))\n",
    "    return 'a'\n",
    "\n",
    "print_something(\"Fastcampus\")"
   ]
  },
  {
   "cell_type": "code",
   "execution_count": null,
   "metadata": {},
   "outputs": [],
   "source": [
    "def fib_rec(num):\n",
    "    if num <= 1:\n",
    "        return num\n",
    "    else:\n",
    "        return fib_rec(num-1) + fib_rec(num-2)"
   ]
  },
  {
   "cell_type": "code",
   "execution_count": 4,
   "metadata": {},
   "outputs": [
    {
     "data": {
      "text/plain": [
       "3628800"
      ]
     },
     "execution_count": 4,
     "metadata": {},
     "output_type": "execute_result"
    }
   ],
   "source": [
    "def rec(num):\n",
    "    if num<1:\n",
    "        return 1\n",
    "    else:\n",
    "        return num*rec(num-1)\n",
    "\n",
    "rec(10)\n",
    "\n"
   ]
  },
  {
   "cell_type": "code",
   "execution_count": 6,
   "metadata": {},
   "outputs": [
    {
     "name": "stdout",
     "output_type": "stream",
     "text": [
      "3628800\n"
     ]
    }
   ],
   "source": [
    "def iter(num):\n",
    "    result=1\n",
    "    for i in range(1,num+1):\n",
    "        result *=i\n",
    "    print(result)\n",
    "\n",
    "iter(10)"
   ]
  },
  {
   "cell_type": "code",
   "execution_count": 8,
   "metadata": {},
   "outputs": [
    {
     "data": {
      "text/plain": [
       "<function __main__.<lambda>(a)>"
      ]
     },
     "execution_count": 8,
     "metadata": {},
     "output_type": "execute_result"
    }
   ],
   "source": [
    "lambda a:a+1"
   ]
  },
  {
   "cell_type": "code",
   "execution_count": 15,
   "metadata": {},
   "outputs": [
    {
     "data": {
      "text/plain": [
       "11"
      ]
     },
     "execution_count": 15,
     "metadata": {},
     "output_type": "execute_result"
    }
   ],
   "source": [
    "(lambda a:a+1)(10)"
   ]
  },
  {
   "cell_type": "code",
   "execution_count": 13,
   "metadata": {},
   "outputs": [
    {
     "data": {
      "text/plain": [
       "1000"
      ]
     },
     "execution_count": 13,
     "metadata": {},
     "output_type": "execute_result"
    }
   ],
   "source": [
    "lamb_func=lambda a:a**3\n",
    "lamb_func(10)"
   ]
  },
  {
   "cell_type": "code",
   "execution_count": 17,
   "metadata": {},
   "outputs": [
    {
     "data": {
      "text/plain": [
       "'a is ten'"
      ]
     },
     "execution_count": 17,
     "metadata": {},
     "output_type": "execute_result"
    }
   ],
   "source": [
    "(lambda a:\"a is not ten\" if a!=10 else \"a is ten\")(10)"
   ]
  },
  {
   "cell_type": "code",
   "execution_count": 21,
   "metadata": {},
   "outputs": [
    {
     "data": {
      "text/plain": [
       "[1, 2, 3, 4, 5]"
      ]
     },
     "execution_count": 21,
     "metadata": {},
     "output_type": "execute_result"
    }
   ],
   "source": [
    "some_list=[i for i in range(1,5+1)]\n",
    "some_list"
   ]
  },
  {
   "cell_type": "code",
   "execution_count": 23,
   "metadata": {},
   "outputs": [
    {
     "data": {
      "text/plain": [
       "<function __main__.<lambda>(x)>"
      ]
     },
     "execution_count": 23,
     "metadata": {},
     "output_type": "execute_result"
    }
   ],
   "source": [
    "lambda x:x+1"
   ]
  },
  {
   "cell_type": "code",
   "execution_count": 28,
   "metadata": {},
   "outputs": [
    {
     "data": {
      "text/plain": [
       "[2, 3, 4, 5, 6]"
      ]
     },
     "execution_count": 28,
     "metadata": {},
     "output_type": "execute_result"
    }
   ],
   "source": [
    "[x+1 for x in range(1,5+1)]"
   ]
  },
  {
   "cell_type": "code",
   "execution_count": 31,
   "metadata": {},
   "outputs": [
    {
     "data": {
      "text/plain": [
       "'f,a,s,t,c,a,m,p,u,s'"
      ]
     },
     "execution_count": 31,
     "metadata": {},
     "output_type": "execute_result"
    }
   ],
   "source": [
    "(lambda a:\",\".join(a))(\"fastcampus\")"
   ]
  },
  {
   "cell_type": "code",
   "execution_count": 36,
   "metadata": {},
   "outputs": [
    {
     "data": {
      "text/plain": [
       "[1, 4, 9, 16, 25]"
      ]
     },
     "execution_count": 36,
     "metadata": {},
     "output_type": "execute_result"
    }
   ],
   "source": [
    "num_list=[1,2,3,4,5]\n",
    "\n",
    "def get_sq(list):\n",
    "    squared=[]\n",
    "    for item in list:\n",
    "        squared.append(item**2)\n",
    "    return squared\n",
    "\n",
    "get_sq(num_list)"
   ]
  },
  {
   "cell_type": "code",
   "execution_count": 73,
   "metadata": {},
   "outputs": [
    {
     "data": {
      "text/plain": [
       "1"
      ]
     },
     "execution_count": 73,
     "metadata": {},
     "output_type": "execute_result"
    }
   ],
   "source": [
    "def sqnum(num):\n",
    "    return num **2\n",
    "\n",
    "next(map(sqnum, num_list))"
   ]
  },
  {
   "cell_type": "code",
   "execution_count": 74,
   "metadata": {},
   "outputs": [
    {
     "ename": "StopIteration",
     "evalue": "",
     "output_type": "error",
     "traceback": [
      "\u001b[1;31m---------------------------------------------------------------------------\u001b[0m",
      "\u001b[1;31mStopIteration\u001b[0m                             Traceback (most recent call last)",
      "\u001b[1;32m<ipython-input-74-23a20003c687>\u001b[0m in \u001b[0;36m<module>\u001b[1;34m\u001b[0m\n\u001b[1;32m----> 1\u001b[1;33m \u001b[0mnext\u001b[0m\u001b[1;33m(\u001b[0m\u001b[0mmap_object\u001b[0m\u001b[1;33m)\u001b[0m\u001b[1;33m\u001b[0m\u001b[1;33m\u001b[0m\u001b[0m\n\u001b[0m",
      "\u001b[1;31mStopIteration\u001b[0m: "
     ]
    }
   ],
   "source": [
    "next(map_object)"
   ]
  },
  {
   "cell_type": "code",
   "execution_count": 76,
   "metadata": {},
   "outputs": [
    {
     "data": {
      "text/plain": [
       "[1, 4, 9, 16, 25]"
      ]
     },
     "execution_count": 76,
     "metadata": {},
     "output_type": "execute_result"
    }
   ],
   "source": [
    "list(map(lambda a:a**2, num_list))"
   ]
  },
  {
   "cell_type": "code",
   "execution_count": 91,
   "metadata": {},
   "outputs": [],
   "source": [
    "import time\n",
    "def squared_with_sleep(x):\n",
    "    time.sleep(2)\n",
    "    return x**2\n",
    "\n",
    "m=map(squared_with_sleep,num_list)"
   ]
  },
  {
   "cell_type": "code",
   "execution_count": 89,
   "metadata": {},
   "outputs": [
    {
     "data": {
      "text/plain": [
       "4"
      ]
     },
     "execution_count": 89,
     "metadata": {},
     "output_type": "execute_result"
    }
   ],
   "source": [
    "next(m)"
   ]
  },
  {
   "cell_type": "code",
   "execution_count": 93,
   "metadata": {},
   "outputs": [
    {
     "ename": "StopIteration",
     "evalue": "",
     "output_type": "error",
     "traceback": [
      "\u001b[1;31m---------------------------------------------------------------------------\u001b[0m",
      "\u001b[1;31mStopIteration\u001b[0m                             Traceback (most recent call last)",
      "\u001b[1;32m<ipython-input-93-3d5151a3cc4f>\u001b[0m in \u001b[0;36m<module>\u001b[1;34m\u001b[0m\n\u001b[0;32m      1\u001b[0m \u001b[1;32mfor\u001b[0m \u001b[0m_\u001b[0m \u001b[1;32min\u001b[0m \u001b[0mrange\u001b[0m\u001b[1;33m(\u001b[0m\u001b[1;36m5\u001b[0m\u001b[1;33m)\u001b[0m\u001b[1;33m:\u001b[0m\u001b[1;33m\u001b[0m\u001b[1;33m\u001b[0m\u001b[0m\n\u001b[1;32m----> 2\u001b[1;33m     \u001b[0mresult\u001b[0m\u001b[1;33m=\u001b[0m\u001b[0mnext\u001b[0m\u001b[1;33m(\u001b[0m\u001b[0mm\u001b[0m\u001b[1;33m)\u001b[0m\u001b[1;33m\u001b[0m\u001b[1;33m\u001b[0m\u001b[0m\n\u001b[0m\u001b[0;32m      3\u001b[0m     \u001b[0mprint\u001b[0m\u001b[1;33m(\u001b[0m\u001b[0mresult\u001b[0m\u001b[1;33m)\u001b[0m\u001b[1;33m\u001b[0m\u001b[1;33m\u001b[0m\u001b[0m\n",
      "\u001b[1;31mStopIteration\u001b[0m: "
     ]
    }
   ],
   "source": [
    "for _ in range(5):\n",
    "    result=next(m)\n",
    "    print(result)"
   ]
  },
  {
   "cell_type": "code",
   "execution_count": 157,
   "metadata": {},
   "outputs": [
    {
     "name": "stdout",
     "output_type": "stream",
     "text": [
      "1 1\n",
      "2 2\n",
      "3 3\n"
     ]
    },
    {
     "data": {
      "text/plain": [
       "[2, 4, 6]"
      ]
     },
     "execution_count": 157,
     "metadata": {},
     "output_type": "execute_result"
    }
   ],
   "source": [
    "some_dict={1:1,2:2,3:3}\n",
    "\n",
    "for k,v in some_dict.items():\n",
    "    print(k,v)\n",
    "    \n",
    "list(map(lambda a:a[0]+a[1],some_dict.items()))"
   ]
  },
  {
   "cell_type": "code",
   "execution_count": 188,
   "metadata": {},
   "outputs": [
    {
     "name": "stdout",
     "output_type": "stream",
     "text": [
      "1 1\n",
      "2 2\n",
      "3 3\n"
     ]
    }
   ],
   "source": [
    "some_dict={1:1,2:2,3:3}\n",
    "\n",
    "for k,v in some_dict.items():\n",
    "    print(k,v)\n",
    "\n",
    "#list(map((lambda a:a[0] + a[1]), some_dict.items())) # k,v:\n",
    "m=map((lambda a:a[0] + a[1]), some_dict.items())"
   ]
  },
  {
   "cell_type": "code",
   "execution_count": 196,
   "metadata": {},
   "outputs": [],
   "source": [
    "\n",
    "m = [map((lambda a:a[0] + a[1]), some_dict.items())]"
   ]
  },
  {
   "cell_type": "code",
   "execution_count": 204,
   "metadata": {},
   "outputs": [
    {
     "data": {
      "text/plain": [
       "<filter at 0x24b548b24e0>"
      ]
     },
     "execution_count": 204,
     "metadata": {},
     "output_type": "execute_result"
    }
   ],
   "source": [
    "def even(x):\n",
    "    if x%2==0:\n",
    "        return True\n",
    "    else:\n",
    "        return False\n",
    "    \n",
    "(filter(even,range(1,20+1)))"
   ]
  },
  {
   "cell_type": "code",
   "execution_count": 205,
   "metadata": {},
   "outputs": [
    {
     "data": {
      "text/plain": [
       "[6, 12, 18]"
      ]
     },
     "execution_count": 205,
     "metadata": {},
     "output_type": "execute_result"
    }
   ],
   "source": [
    "list(filter(lambda x:x%2==0 and x%3==0, range(1,20+1)))"
   ]
  },
  {
   "cell_type": "code",
   "execution_count": 209,
   "metadata": {},
   "outputs": [
    {
     "data": {
      "text/plain": [
       "2"
      ]
     },
     "execution_count": 209,
     "metadata": {},
     "output_type": "execute_result"
    }
   ],
   "source": [
    "f=(filter(even,range(1,20+1)))\n",
    "next(f)"
   ]
  },
  {
   "cell_type": "code",
   "execution_count": 215,
   "metadata": {},
   "outputs": [
    {
     "data": {
      "text/plain": [
       "14"
      ]
     },
     "execution_count": 215,
     "metadata": {},
     "output_type": "execute_result"
    }
   ],
   "source": [
    "next(f)"
   ]
  },
  {
   "cell_type": "code",
   "execution_count": 218,
   "metadata": {},
   "outputs": [
    {
     "name": "stdout",
     "output_type": "stream",
     "text": [
      "5050\n"
     ]
    }
   ],
   "source": [
    "result=0\n",
    "for i in range(1,100+1):\n",
    "    result +=i\n",
    "print(result)"
   ]
  },
  {
   "cell_type": "code",
   "execution_count": 235,
   "metadata": {},
   "outputs": [
    {
     "name": "stdout",
     "output_type": "stream",
     "text": [
      "3628800\n"
     ]
    }
   ],
   "source": [
    "from functools import reduce\n",
    "\n",
    "\n",
    "result=1\n",
    "\n",
    "def adder(a,b):\n",
    "    print(a,b)\n",
    "    return a+b\n",
    "def multiplyer(a,b):\n",
    "    return a*b\n",
    "\n",
    "for i in range(1,10+1):\n",
    "    result=multiplyer(result,i)\n",
    "\n",
    "print(result)"
   ]
  },
  {
   "cell_type": "code",
   "execution_count": 246,
   "metadata": {},
   "outputs": [
    {
     "name": "stdout",
     "output_type": "stream",
     "text": [
      "1 2\n",
      "3 3\n",
      "6 4\n",
      "10 5\n",
      "15 6\n",
      "21 7\n",
      "28 8\n",
      "36 9\n",
      "45 10\n"
     ]
    },
    {
     "data": {
      "text/plain": [
       "55"
      ]
     },
     "execution_count": 246,
     "metadata": {},
     "output_type": "execute_result"
    }
   ],
   "source": [
    "reduce(adder,range(1,10+1))"
   ]
  },
  {
   "cell_type": "code",
   "execution_count": 247,
   "metadata": {},
   "outputs": [
    {
     "data": {
      "text/plain": [
       "55"
      ]
     },
     "execution_count": 247,
     "metadata": {},
     "output_type": "execute_result"
    }
   ],
   "source": [
    "reduce(lambda a,b:a+b, range(1,10+1))"
   ]
  },
  {
   "cell_type": "code",
   "execution_count": 1,
   "metadata": {},
   "outputs": [
    {
     "ename": "NameError",
     "evalue": "name 'reduce' is not defined",
     "output_type": "error",
     "traceback": [
      "\u001b[1;31m---------------------------------------------------------------------------\u001b[0m",
      "\u001b[1;31mNameError\u001b[0m                                 Traceback (most recent call last)",
      "\u001b[1;32m<ipython-input-1-7cb2aff8837b>\u001b[0m in \u001b[0;36m<module>\u001b[1;34m\u001b[0m\n\u001b[1;32m----> 1\u001b[1;33m \u001b[0mreduce\u001b[0m\u001b[1;33m(\u001b[0m\u001b[1;32mlambda\u001b[0m \u001b[0mb\u001b[0m\u001b[1;33m,\u001b[0m\u001b[0ma\u001b[0m\u001b[1;33m:\u001b[0m\u001b[0mb\u001b[0m\u001b[1;33m+\u001b[0m\u001b[0ma\u001b[0m\u001b[1;33m,\u001b[0m \u001b[1;34m\"fat\"\u001b[0m\u001b[1;33m)\u001b[0m\u001b[1;33m\u001b[0m\u001b[1;33m\u001b[0m\u001b[0m\n\u001b[0m",
      "\u001b[1;31mNameError\u001b[0m: name 'reduce' is not defined"
     ]
    }
   ],
   "source": [
    "reduce(lambda b,a:b+a, \"fat\")"
   ]
  },
  {
   "cell_type": "code",
   "execution_count": 3,
   "metadata": {},
   "outputs": [],
   "source": [
    "from functools import reduce"
   ]
  },
  {
   "cell_type": "code",
   "execution_count": 5,
   "metadata": {},
   "outputs": [
    {
     "data": {
      "text/plain": [
       "True"
      ]
     },
     "execution_count": 5,
     "metadata": {},
     "output_type": "execute_result"
    }
   ],
   "source": [
    "isinstance(10,int)"
   ]
  },
  {
   "cell_type": "code",
   "execution_count": 14,
   "metadata": {},
   "outputs": [
    {
     "data": {
      "text/plain": [
       "[2, 4, 6, 8, 10, 12, 14, 16, 18, 20]"
      ]
     },
     "execution_count": 14,
     "metadata": {},
     "output_type": "execute_result"
    }
   ],
   "source": [
    "teslist=[i for i in range(1,20+1) if i%2==0];teslist"
   ]
  },
  {
   "cell_type": "code",
   "execution_count": 17,
   "metadata": {},
   "outputs": [
    {
     "data": {
      "text/plain": [
       "[2, 4, 6, 'test', 10, 12, 14, 16, 18, 20]"
      ]
     },
     "execution_count": 17,
     "metadata": {},
     "output_type": "execute_result"
    }
   ],
   "source": [
    "teslist[3]='test'\n",
    "teslist"
   ]
  },
  {
   "cell_type": "code",
   "execution_count": 21,
   "metadata": {},
   "outputs": [
    {
     "data": {
      "text/plain": [
       "False"
      ]
     },
     "execution_count": 21,
     "metadata": {},
     "output_type": "execute_result"
    }
   ],
   "source": [
    "(lambda a:type(a)==int)(teslist)"
   ]
  },
  {
   "cell_type": "code",
   "execution_count": 1,
   "metadata": {},
   "outputs": [
    {
     "ename": "NameError",
     "evalue": "name 'teslist' is not defined",
     "output_type": "error",
     "traceback": [
      "\u001b[1;31m---------------------------------------------------------------------------\u001b[0m",
      "\u001b[1;31mNameError\u001b[0m                                 Traceback (most recent call last)",
      "\u001b[1;32m<ipython-input-1-e452b7f76fee>\u001b[0m in \u001b[0;36m<module>\u001b[1;34m\u001b[0m\n\u001b[1;32m----> 1\u001b[1;33m \u001b[0mlist\u001b[0m\u001b[1;33m(\u001b[0m\u001b[0mmap\u001b[0m\u001b[1;33m(\u001b[0m\u001b[1;32mlambda\u001b[0m \u001b[0ma\u001b[0m\u001b[1;33m:\u001b[0m\u001b[0mtype\u001b[0m\u001b[1;33m(\u001b[0m\u001b[0ma\u001b[0m\u001b[1;33m)\u001b[0m\u001b[1;33m==\u001b[0m\u001b[0mint\u001b[0m\u001b[1;33m,\u001b[0m\u001b[0mteslist\u001b[0m\u001b[1;33m)\u001b[0m\u001b[1;33m)\u001b[0m\u001b[1;33m\u001b[0m\u001b[1;33m\u001b[0m\u001b[0m\n\u001b[0m",
      "\u001b[1;31mNameError\u001b[0m: name 'teslist' is not defined"
     ]
    }
   ],
   "source": [
    "list(map(lambda a:type(a)==int,teslist))"
   ]
  },
  {
   "cell_type": "code",
   "execution_count": 86,
   "metadata": {},
   "outputs": [],
   "source": [
    "import time\n",
    "\n",
    "\n",
    "def decorator_(function):\n",
    "    \"\"\"\n",
    "        time_checker를 사용하기 전 데코레이터의 시작을 알리는 데코레이터\n",
    "        time_checker에 something이라는 function을 return 함으로써 decorator chaining을 구현합니다.\n",
    "        실행 전 time_checker(decorator_(something(text)))\n",
    "        실행 후 time_checker(something(text))\n",
    "    \"\"\"\n",
    "    def wrapper(*args, **kwargs):\n",
    "        print(\"@decorator_ started!\")\n",
    "        \n",
    "        print(\"@decorator_ finished!\")\n",
    "        return function(*args, **kwargs) + \"campus\"\n",
    "    return wrapper\n",
    "\n",
    "def time_checker(gobbler):\n",
    "    \"\"\"\n",
    "        실제 실행시간을 체크하여 출력하는 데코레이터\n",
    "        decorator_로 부터 return 받은 something(*args, **kwargs)를 실제 수행하며 앞뒤로 시간을 체크합니다.\n",
    "        실행 전 time_checker(something(text))\n",
    "        실행 후 result를 return\n",
    "    \"\"\"\n",
    "    def wrapper(*args, **kwargs):\n",
    "        print(\"@time_checker start\")\n",
    "        \n",
    "        start_time = time.time()\n",
    "        end_time = time.time()\n",
    "        executed_time = end_time - start_time\n",
    "        \n",
    "        print(\"executed time for {time}s \".format(time = executed_time))\n",
    "        \n",
    "        results = gobbler(*args, **kwargs)+\"nba\"\n",
    "        \n",
    "        return results\n",
    "    return wrapper\n",
    "\n",
    "@time_checker\n",
    "@decorator_\n",
    "def something(text):\n",
    "    for _ in range(10000):\n",
    "        for _ in range(10000):\n",
    "            pass\n",
    "    print(\"pass {}\".format(text))\n",
    "    return \"something\""
   ]
  },
  {
   "cell_type": "code",
   "execution_count": 87,
   "metadata": {},
   "outputs": [
    {
     "name": "stdout",
     "output_type": "stream",
     "text": [
      "@time_checker start\n",
      "executed time for 0.0s \n",
      "@decorator_ started!\n",
      "@decorator_ finished!\n",
      "pass fast\n"
     ]
    },
    {
     "data": {
      "text/plain": [
       "'somethingcampusnba'"
      ]
     },
     "execution_count": 87,
     "metadata": {},
     "output_type": "execute_result"
    }
   ],
   "source": [
    "something(\"fast\")"
   ]
  },
  {
   "cell_type": "code",
   "execution_count": 102,
   "metadata": {},
   "outputs": [],
   "source": [
    "def test():\n",
    "    print(\"sth\")"
   ]
  },
  {
   "cell_type": "code",
   "execution_count": 103,
   "metadata": {},
   "outputs": [
    {
     "name": "stdout",
     "output_type": "stream",
     "text": [
      "sth\n"
     ]
    }
   ],
   "source": [
    "test()"
   ]
  },
  {
   "cell_type": "code",
   "execution_count": 108,
   "metadata": {},
   "outputs": [],
   "source": [
    "def result():\n",
    "    return test()"
   ]
  },
  {
   "cell_type": "code",
   "execution_count": 109,
   "metadata": {},
   "outputs": [
    {
     "name": "stdout",
     "output_type": "stream",
     "text": [
      "sth\n"
     ]
    }
   ],
   "source": [
    "result()"
   ]
  },
  {
   "cell_type": "code",
   "execution_count": 111,
   "metadata": {},
   "outputs": [],
   "source": [
    "#이름: tag_maker\n",
    "def tag_maker(tag_name):\n",
    "    def decorator_(function):\n",
    "        def wrapper(*args, **kwargs):\n",
    "            print(\"@tag_maker start {}\".format(tag_name))\n",
    "            result = \"<{tag}>{some_text}</{tag}>\".format(\n",
    "                some_text = function(*args, **kwargs),\n",
    "                tag = tag_name\n",
    "            )\n",
    "            return result\n",
    "        return wrapper\n",
    "    return decorator_\n",
    "\n",
    "# 사용자로부터 텍스트 받기\n",
    "\n",
    "@tag_maker('div')\n",
    "@tag_maker('span')\n",
    "@tag_maker('em')\n",
    "@tag_maker('h1')\n",
    "def get_text(text):\n",
    "    print(text)\n",
    "    return \"{text}\".format(text=text) # str(text), text"
   ]
  },
  {
   "cell_type": "code",
   "execution_count": 113,
   "metadata": {},
   "outputs": [
    {
     "name": "stdout",
     "output_type": "stream",
     "text": [
      "@tag_maker start div\n",
      "@tag_maker start span\n",
      "@tag_maker start em\n",
      "@tag_maker start h1\n",
      "hello\n"
     ]
    },
    {
     "data": {
      "text/plain": [
       "'<div><span><em><h1>hello</h1></em></span></div>'"
      ]
     },
     "execution_count": 113,
     "metadata": {},
     "output_type": "execute_result"
    }
   ],
   "source": [
    "get_text(\"hello\")"
   ]
  },
  {
   "cell_type": "code",
   "execution_count": 6,
   "metadata": {},
   "outputs": [],
   "source": [
    "from random import randrange"
   ]
  },
  {
   "cell_type": "code",
   "execution_count": 205,
   "metadata": {},
   "outputs": [
    {
     "data": {
      "text/plain": [
       "969"
      ]
     },
     "execution_count": 205,
     "metadata": {},
     "output_type": "execute_result"
    }
   ],
   "source": [
    "randrange(1,1000)"
   ]
  },
  {
   "cell_type": "code",
   "execution_count": 116,
   "metadata": {},
   "outputs": [],
   "source": [
    "from random import randrange\n",
    "build=[(randrange(1,1000),randrange(1,1000)) for i in range(1,100+1)]\n",
    "\n",
    "with open('tuple_in_list.csv','w') as a:\n",
    "    a.write(str(build))"
   ]
  },
  {
   "cell_type": "code",
   "execution_count": 120,
   "metadata": {},
   "outputs": [
    {
     "name": "stdout",
     "output_type": "stream",
     "text": [
      "Type in the whole filename! :tupleinlistextended.csv\n",
      "[Errno 2] No such file or directory: 'tupleinlistextended.csv'\n"
     ]
    }
   ],
   "source": [
    "try:\n",
    "    user_filename=input('Type in the whole filename! :')\n",
    "    with open(user_filename,'r') as b:\n",
    "        text=b.readline()\n",
    "        new_text=eval(text)\n",
    "\n",
    "        #extended=[]\n",
    "        #for item in new_text:\n",
    "        #    extended.append((item[0],item[1],item[0]+item[1]))\n",
    "        extended=[(item[0],item[1],item[0]+item[1]) for item in new_text]\n",
    "except FileNotFoundError as e:\n",
    "    print(e)\n",
    "    pass\n",
    "                \n",
    "with open('tuple_in_list_extended.csv','w') as c:\n",
    "    c.write(str(extended))    "
   ]
  },
  {
   "cell_type": "code",
   "execution_count": 119,
   "metadata": {},
   "outputs": [
    {
     "data": {
      "text/plain": [
       "'[(308, 509, 817), (101, 90, 191), (495, 611, 1106), (567, 507, 1074), (781, 58, 839), (95, 475, 570), (478, 7, 485), (363, 660, 1023), (602, 653, 1255), (69, 592, 661), (378, 748, 1126), (504, 805, 1309), (331, 994, 1325), (518, 89, 607), (506, 343, 849), (25, 978, 1003), (309, 77, 386), (350, 773, 1123), (516, 157, 673), (702, 479, 1181), (826, 377, 1203), (334, 762, 1096), (446, 402, 848), (916, 902, 1818), (935, 973, 1908), (550, 195, 745), (289, 520, 809), (143, 967, 1110), (357, 442, 799), (991, 672, 1663), (327, 797, 1124), (977, 726, 1703), (707, 712, 1419), (474, 355, 829), (217, 494, 711), (787, 326, 1113), (473, 461, 934), (150, 687, 837), (699, 581, 1280), (118, 306, 424), (53, 602, 655), (851, 701, 1552), (438, 703, 1141), (15, 357, 372), (13, 544, 557), (168, 377, 545), (306, 412, 718), (465, 489, 954), (622, 138, 760), (203, 586, 789), (96, 562, 658), (940, 536, 1476), (992, 922, 1914), (240, 7, 247), (933, 769, 1702), (155, 830, 985), (640, 725, 1365), (672, 133, 805), (595, 704, 1299), (510, 811, 1321), (550, 677, 1227), (798, 647, 1445), (594, 193, 787), (404, 679, 1083), (578, 133, 711), (764, 366, 1130), (987, 549, 1536), (439, 234, 673), (841, 841, 1682), (740, 915, 1655), (300, 190, 490), (873, 601, 1474), (478, 244, 722), (576, 28, 604), (577, 667, 1244), (532, 591, 1123), (157, 370, 527), (505, 14, 519), (39, 44, 83), (826, 3, 829), (957, 170, 1127), (691, 610, 1301), (412, 732, 1144), (793, 114, 907), (565, 240, 805), (463, 213, 676), (400, 601, 1001), (589, 453, 1042), (590, 974, 1564), (829, 510, 1339), (968, 891, 1859), (25, 787, 812), (576, 791, 1367), (592, 427, 1019), (134, 750, 884), (753, 373, 1126), (565, 615, 1180), (161, 758, 919), (186, 994, 1180), (481, 808, 1289)]'"
      ]
     },
     "execution_count": 119,
     "metadata": {},
     "output_type": "execute_result"
    }
   ],
   "source": [
    "with open('tuple_in_list_extended.csv','r') as d:\n",
    "    text=d.readline()\n",
    "\n",
    "text    "
   ]
  },
  {
   "cell_type": "code",
   "execution_count": 122,
   "metadata": {},
   "outputs": [
    {
     "ename": "SyntaxError",
     "evalue": "unexpected EOF while parsing (<string>, line 1)",
     "output_type": "error",
     "traceback": [
      "Traceback \u001b[1;36m(most recent call last)\u001b[0m:\n",
      "  File \u001b[0;32m\"c:\\python37\\lib\\site-packages\\IPython\\core\\interactiveshell.py\"\u001b[0m, line \u001b[0;32m3267\u001b[0m, in \u001b[0;35mrun_code\u001b[0m\n    exec(code_obj, self.user_global_ns, self.user_ns)\n",
      "\u001b[1;36m  File \u001b[1;32m\"<ipython-input-122-6a3ea2194fc1>\"\u001b[1;36m, line \u001b[1;32m4\u001b[1;36m, in \u001b[1;35m<module>\u001b[1;36m\u001b[0m\n\u001b[1;33m    eval(new_text[1])\u001b[0m\n",
      "\u001b[1;36m  File \u001b[1;32m\"<string>\"\u001b[1;36m, line \u001b[1;32m1\u001b[0m\n\u001b[1;33m    (\u001b[0m\n\u001b[1;37m    ^\u001b[0m\n\u001b[1;31mSyntaxError\u001b[0m\u001b[1;31m:\u001b[0m unexpected EOF while parsing\n"
     ]
    }
   ],
   "source": [
    "new_text=[]\n",
    "for item in text:\n",
    "    new_text.append(item.strip(\"\\n''\"))    \n",
    "eval(new_text[1])\n"
   ]
  },
  {
   "cell_type": "code",
   "execution_count": 131,
   "metadata": {},
   "outputs": [
    {
     "name": "stdout",
     "output_type": "stream",
     "text": [
      "type some number: 10\n",
      "You've succeeded!\n",
      "It has all ended up for now.\n"
     ]
    }
   ],
   "source": [
    "try:\n",
    "    some_input = int(input(\"type some number: \"))\n",
    "    \n",
    "except ValueError as e:\n",
    "    print(\"I said type some NUMBER!!!!\")\n",
    "    print(e)\n",
    "    some_input = int(input(\"type some number: \"))\n",
    "    \n",
    "else:\n",
    "    print(\"You've succeeded!\")\n",
    "    \n",
    "finally:\n",
    "    print(\"It has all ended up for now.\")"
   ]
  }
 ],
 "metadata": {
  "celltoolbar": "Slideshow",
  "kernelspec": {
   "display_name": "Python 3",
   "language": "python",
   "name": "python3"
  },
  "language_info": {
   "codemirror_mode": {
    "name": "ipython",
    "version": 3
   },
   "file_extension": ".py",
   "mimetype": "text/x-python",
   "name": "python",
   "nbconvert_exporter": "python",
   "pygments_lexer": "ipython3",
   "version": "3.7.0"
  }
 },
 "nbformat": 4,
 "nbformat_minor": 2
}
