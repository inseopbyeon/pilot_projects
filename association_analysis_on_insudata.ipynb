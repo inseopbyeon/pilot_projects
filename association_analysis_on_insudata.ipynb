{
 "cells": [
  {
   "cell_type": "markdown",
   "id": "c1e496f9",
   "metadata": {
    "slideshow": {
     "slide_type": "slide"
    }
   },
   "source": [
    "# 보험상품분류에 따른 연관분석(장바구니분석)"
   ]
  },
  {
   "cell_type": "code",
   "execution_count": 68,
   "id": "4052628f",
   "metadata": {
    "slideshow": {
     "slide_type": "skip"
    }
   },
   "outputs": [],
   "source": [
    "import pandas as pd"
   ]
  },
  {
   "cell_type": "markdown",
   "id": "ddea7afa",
   "metadata": {
    "slideshow": {
     "slide_type": "slide"
    }
   },
   "source": [
    "### 1. 데이터 가져오기"
   ]
  },
  {
   "cell_type": "code",
   "execution_count": 69,
   "id": "5a2bebd1",
   "metadata": {
    "slideshow": {
     "slide_type": "fragment"
    }
   },
   "outputs": [],
   "source": [
    "# 텍스트 파일도 'read_csv' 사용\n",
    "data1=pd.read_csv(\"C:\\\\Users\\\\dgbfg\\\\Documents\\\\Pilot Project\\\\R-유지율분석\\\\유지율 예측용 기초자료_1.txt\",\\\n",
    "                sep='\\t',header=0)\n",
    "data2=pd.read_csv(\"C:\\\\Users\\\\dgbfg\\\\Documents\\\\Pilot Project\\\\R-유지율분석\\\\유지율 예측용 기초자료_2.txt\",\\\n",
    "                sep='\\t',header=0, encoding='euc-kr')\n",
    "data3=pd.read_csv(\"C:\\\\Users\\\\dgbfg\\\\Documents\\\\Pilot Project\\\\R-유지율분석\\\\유지율 예측용 기초자료_3.txt\",\\\n",
    "                sep='\\t',header=0, encoding='euc-kr')\n",
    "data4=pd.read_csv(\"C:\\\\Users\\\\dgbfg\\\\Documents\\\\Pilot Project\\\\R-유지율분석\\\\유지율 예측용 기초자료_4.txt\",\\\n",
    "                sep='\\t',header=0, encoding='euc-kr')"
   ]
  },
  {
   "cell_type": "code",
   "execution_count": 70,
   "id": "e3f5d6d6",
   "metadata": {
    "slideshow": {
     "slide_type": "subslide"
    }
   },
   "outputs": [
    {
     "data": {
      "text/plain": [
       "((1082014, 19), (445687, 19), (429053, 19), (58863, 19))"
      ]
     },
     "execution_count": 70,
     "metadata": {},
     "output_type": "execute_result"
    }
   ],
   "source": [
    "# 데이터 확인\n",
    "data1.shape, data2.shape, data3.shape, data4.shape"
   ]
  },
  {
   "cell_type": "code",
   "execution_count": 71,
   "id": "6afe909d",
   "metadata": {
    "slideshow": {
     "slide_type": "subslide"
    }
   },
   "outputs": [
    {
     "data": {
      "text/plain": [
       "2015617"
      ]
     },
     "execution_count": 71,
     "metadata": {},
     "output_type": "execute_result"
    }
   ],
   "source": [
    "# 총계 확인\n",
    "sum([data1.shape[0], data2.shape[0],data3.shape[0], data4.shape[0]])"
   ]
  },
  {
   "cell_type": "markdown",
   "id": "7489fc1e",
   "metadata": {
    "slideshow": {
     "slide_type": "slide"
    }
   },
   "source": [
    "### 2. 데이터 전처리, 변수선택"
   ]
  },
  {
   "cell_type": "code",
   "execution_count": 72,
   "id": "3b0889fd",
   "metadata": {
    "slideshow": {
     "slide_type": "fragment"
    }
   },
   "outputs": [
    {
     "name": "stdout",
     "output_type": "stream",
     "text": [
      "<class 'pandas.core.frame.DataFrame'>\n",
      "RangeIndex: 1082014 entries, 0 to 1082013\n",
      "Data columns (total 19 columns):\n",
      " #   Column      Non-Null Count    Dtype  \n",
      "---  ------      --------------    -----  \n",
      " 0   증권번호        1082014 non-null  int64  \n",
      " 1   모집채널        1082014 non-null  object \n",
      " 2   상품코드        1082014 non-null  object \n",
      " 3   상품명         1082014 non-null  object \n",
      " 4   합계보험료       625429 non-null   float64\n",
      " 5   최종합계보험료     1082014 non-null  int64  \n",
      " 6   납입주기        1082014 non-null  object \n",
      " 7   년기준         1082014 non-null  int64  \n",
      " 8   납기          1082014 non-null  int64  \n",
      " 9   생명보험협회상품종류  1082014 non-null  object \n",
      " 10  계약일자        1082014 non-null  int64  \n",
      " 11  계약자주민번호     1082014 non-null  object \n",
      " 12  직업          1081437 non-null  object \n",
      " 13  약관대출잔액      240982 non-null   float64\n",
      " 14  최종납입회차      1082014 non-null  int64  \n",
      " 15  최종입금일자      1081891 non-null  float64\n",
      " 16  계약상태코드      1082014 non-null  int64  \n",
      " 17  소멸일자        572159 non-null   float64\n",
      " 18  해촉일         1076794 non-null  float64\n",
      "dtypes: float64(5), int64(7), object(7)\n",
      "memory usage: 156.8+ MB\n"
     ]
    }
   ],
   "source": [
    "# EDA\n",
    "data1.info()"
   ]
  },
  {
   "cell_type": "code",
   "execution_count": 73,
   "id": "875ff3df",
   "metadata": {
    "slideshow": {
     "slide_type": "subslide"
    }
   },
   "outputs": [],
   "source": [
    "# 변수선택\n",
    "df1 = data1.loc[:,['계약자주민번호','생명보험협회상품종류','증권번호']]\n",
    "df2 = data2.loc[:,['계약자주민번호','생명보험협회상품종류','증권번호']]\n",
    "df3 = data3.loc[:,['계약자주민번호','생명보험협회상품종류','증권번호']]\n",
    "df4 = data4.loc[:,['계약자주민번호','생명보험협회상품종류','증권번호']]"
   ]
  },
  {
   "cell_type": "code",
   "execution_count": 74,
   "id": "b7472ece",
   "metadata": {
    "slideshow": {
     "slide_type": "subslide"
    }
   },
   "outputs": [
    {
     "data": {
      "text/plain": [
       "(계약자주민번호       0\n",
       " 생명보험협회상품종류    0\n",
       " 증권번호          0\n",
       " dtype: int64,\n",
       " 계약자주민번호       0\n",
       " 생명보험협회상품종류    0\n",
       " 증권번호          0\n",
       " dtype: int64,\n",
       " 계약자주민번호       0\n",
       " 생명보험협회상품종류    0\n",
       " 증권번호          0\n",
       " dtype: int64,\n",
       " 계약자주민번호       0\n",
       " 생명보험협회상품종류    0\n",
       " 증권번호          0\n",
       " dtype: int64)"
      ]
     },
     "execution_count": 74,
     "metadata": {},
     "output_type": "execute_result"
    }
   ],
   "source": [
    "# 결측치 확인\n",
    "df1.isnull().sum(),\\\n",
    "df2.isnull().sum(),\\\n",
    "df3.isnull().sum(),\\\n",
    "df4.isnull().sum()"
   ]
  },
  {
   "cell_type": "code",
   "execution_count": 75,
   "id": "4c4c162c",
   "metadata": {
    "slideshow": {
     "slide_type": "subslide"
    }
   },
   "outputs": [
    {
     "data": {
      "text/plain": [
       "2015617"
      ]
     },
     "execution_count": 75,
     "metadata": {},
     "output_type": "execute_result"
    }
   ],
   "source": [
    "# 총계 확인\n",
    "sum([df1.shape[0], df2.shape[0],df3.shape[0], df4.shape[0]])"
   ]
  },
  {
   "cell_type": "code",
   "execution_count": 76,
   "id": "0e2c2f07",
   "metadata": {
    "slideshow": {
     "slide_type": "subslide"
    }
   },
   "outputs": [
    {
     "data": {
      "text/plain": [
       "(2015617, 3)"
      ]
     },
     "execution_count": 76,
     "metadata": {},
     "output_type": "execute_result"
    }
   ],
   "source": [
    "# 데이터 합치기\n",
    "df_all = pd.concat([df1,df2,df3,df4],axis=0,join='outer',ignore_index=True)\n",
    "df_all.shape"
   ]
  },
  {
   "cell_type": "code",
   "execution_count": 77,
   "id": "81f4ff2b",
   "metadata": {
    "slideshow": {
     "slide_type": "subslide"
    }
   },
   "outputs": [
    {
     "data": {
      "text/plain": [
       "저축보험     439912\n",
       "연금보험     341187\n",
       "종신보험     303716\n",
       "암보험      224496\n",
       "정기보험     184002\n",
       "건강보험     175783\n",
       "기타보험     150646\n",
       "어린이보험     93352\n",
       "상해보험      60941\n",
       "교육보험      20947\n",
       "CI보험       8797\n",
       "실손보험       7713\n",
       "LTC보험      4084\n",
       "단체보험         41\n",
       "Name: 생명보험협회상품종류, dtype: int64"
      ]
     },
     "execution_count": 77,
     "metadata": {},
     "output_type": "execute_result"
    }
   ],
   "source": [
    "# 데이터 확인\n",
    "df_all['생명보험협회상품종류'].value_counts()"
   ]
  },
  {
   "cell_type": "code",
   "execution_count": 78,
   "id": "0ea51004",
   "metadata": {
    "slideshow": {
     "slide_type": "skip"
    }
   },
   "outputs": [
    {
     "name": "stdout",
     "output_type": "stream",
     "text": [
      "Requirement already satisfied: wordcloud in c:\\users\\dgbfg\\anaconda3\\lib\\site-packages (1.9.2)\n",
      "Requirement already satisfied: numpy>=1.6.1 in c:\\users\\dgbfg\\anaconda3\\lib\\site-packages (from wordcloud) (1.24.3)\n",
      "Requirement already satisfied: pillow in c:\\users\\dgbfg\\anaconda3\\lib\\site-packages (from wordcloud) (9.4.0)\n",
      "Requirement already satisfied: matplotlib in c:\\users\\dgbfg\\anaconda3\\lib\\site-packages (from wordcloud) (3.7.1)\n",
      "Requirement already satisfied: contourpy>=1.0.1 in c:\\users\\dgbfg\\anaconda3\\lib\\site-packages (from matplotlib->wordcloud) (1.0.5)\n",
      "Requirement already satisfied: cycler>=0.10 in c:\\users\\dgbfg\\anaconda3\\lib\\site-packages (from matplotlib->wordcloud) (0.11.0)\n",
      "Requirement already satisfied: fonttools>=4.22.0 in c:\\users\\dgbfg\\anaconda3\\lib\\site-packages (from matplotlib->wordcloud) (4.25.0)\n",
      "Requirement already satisfied: kiwisolver>=1.0.1 in c:\\users\\dgbfg\\anaconda3\\lib\\site-packages (from matplotlib->wordcloud) (1.4.4)\n",
      "Requirement already satisfied: packaging>=20.0 in c:\\users\\dgbfg\\anaconda3\\lib\\site-packages (from matplotlib->wordcloud) (23.0)\n",
      "Requirement already satisfied: pyparsing>=2.3.1 in c:\\users\\dgbfg\\anaconda3\\lib\\site-packages (from matplotlib->wordcloud) (3.0.9)\n",
      "Requirement already satisfied: python-dateutil>=2.7 in c:\\users\\dgbfg\\anaconda3\\lib\\site-packages (from matplotlib->wordcloud) (2.8.2)\n",
      "Requirement already satisfied: six>=1.5 in c:\\users\\dgbfg\\anaconda3\\lib\\site-packages (from python-dateutil>=2.7->matplotlib->wordcloud) (1.16.0)\n"
     ]
    }
   ],
   "source": [
    "import matplotlib.pyplot as plt\n",
    "!pip install wordcloud\n",
    "from wordcloud import WordCloud"
   ]
  },
  {
   "cell_type": "code",
   "execution_count": 79,
   "id": "1a7e6a43",
   "metadata": {
    "slideshow": {
     "slide_type": "skip"
    }
   },
   "outputs": [
    {
     "data": {
      "text/plain": [
       "['C:\\\\Windows\\\\Fonts\\\\segoeuiz.ttf',\n",
       " 'C:\\\\Windows\\\\Fonts\\\\seguibl.ttf',\n",
       " 'C:\\\\Windows\\\\Fonts\\\\ebrima.ttf',\n",
       " 'C:\\\\Windows\\\\Fonts\\\\seguisbi.ttf',\n",
       " 'C:\\\\Windows\\\\Fonts\\\\micross.ttf',\n",
       " 'C:\\\\Windows\\\\Fonts\\\\framd.ttf',\n",
       " 'C:\\\\Windows\\\\Fonts\\\\mingliub.ttc',\n",
       " 'C:\\\\Windows\\\\Fonts\\\\Candarali.ttf',\n",
       " 'C:\\\\Windows\\\\Fonts\\\\msyi.ttf',\n",
       " 'C:\\\\Windows\\\\Fonts\\\\malgunsl.ttf',\n",
       " 'C:\\\\Windows\\\\Fonts\\\\ntailu.ttf',\n",
       " 'C:\\\\Windows\\\\Fonts\\\\couri.ttf',\n",
       " 'C:\\\\Windows\\\\Fonts\\\\monbaiti.ttf',\n",
       " 'C:\\\\Windows\\\\Fonts\\\\Sitka.ttc',\n",
       " 'C:\\\\Windows\\\\Fonts\\\\wingding.ttf',\n",
       " 'C:\\\\Windows\\\\Fonts\\\\Candaraz.ttf',\n",
       " 'C:\\\\Windows\\\\Fonts\\\\corbel.ttf',\n",
       " 'C:\\\\Windows\\\\Fonts\\\\msyhl.ttc',\n",
       " 'C:\\\\Windows\\\\Fonts\\\\Candara.ttf',\n",
       " 'C:\\\\Windows\\\\Fonts\\\\times.ttf',\n",
       " 'C:\\\\Windows\\\\Fonts\\\\SitkaZ.ttc',\n",
       " 'C:\\\\Windows\\\\Fonts\\\\courbd.ttf',\n",
       " 'C:\\\\Windows\\\\Fonts\\\\verdana.ttf',\n",
       " 'C:\\\\Windows\\\\Fonts\\\\calibrili.ttf',\n",
       " 'C:\\\\Windows\\\\Fonts\\\\mmrtext.ttf',\n",
       " 'C:\\\\Windows\\\\Fonts\\\\ebrimabd.ttf',\n",
       " 'C:\\\\Windows\\\\Fonts\\\\gadugi.ttf',\n",
       " 'C:\\\\Windows\\\\Fonts\\\\comicbd.ttf',\n",
       " 'C:\\\\Windows\\\\Fonts\\\\SitkaB.ttc',\n",
       " 'C:\\\\Windows\\\\Fonts\\\\segoeprb.ttf',\n",
       " 'C:\\\\Windows\\\\Fonts\\\\corbelli.ttf',\n",
       " 'C:\\\\Windows\\\\Fonts\\\\Candarai.ttf',\n",
       " 'C:\\\\Windows\\\\Fonts\\\\timesbi.ttf',\n",
       " 'C:\\\\Windows\\\\Fonts\\\\arialbd.ttf',\n",
       " 'C:\\\\Windows\\\\Fonts\\\\cambriaz.ttf',\n",
       " 'C:\\\\Windows\\\\Fonts\\\\segoeuil.ttf',\n",
       " 'C:\\\\Windows\\\\Fonts\\\\segoescb.ttf',\n",
       " 'C:\\\\Windows\\\\Fonts\\\\taile.ttf',\n",
       " 'C:\\\\Windows\\\\Fonts\\\\Nirmala.ttf',\n",
       " 'C:\\\\Windows\\\\Fonts\\\\LeelaUIb.ttf',\n",
       " 'C:\\\\Windows\\\\Fonts\\\\comic.ttf',\n",
       " 'C:\\\\Windows\\\\Fonts\\\\ariblk.ttf',\n",
       " 'C:\\\\Windows\\\\Fonts\\\\trebucbd.ttf',\n",
       " 'C:\\\\Windows\\\\Fonts\\\\comici.ttf',\n",
       " 'C:\\\\Windows\\\\Fonts\\\\seguisb.ttf',\n",
       " 'C:\\\\Windows\\\\Fonts\\\\taileb.ttf',\n",
       " 'C:\\\\Windows\\\\Fonts\\\\NirmalaB.ttf',\n",
       " 'C:\\\\Windows\\\\Fonts\\\\symbol.ttf',\n",
       " 'C:\\\\Windows\\\\Fonts\\\\trebucit.ttf',\n",
       " 'C:\\\\Windows\\\\Fonts\\\\trebucbi.ttf',\n",
       " 'C:\\\\Windows\\\\Fonts\\\\sylfaen.ttf',\n",
       " 'C:\\\\Windows\\\\Fonts\\\\phagspab.ttf',\n",
       " 'C:\\\\Windows\\\\Fonts\\\\constani.ttf',\n",
       " 'C:\\\\Windows\\\\Fonts\\\\gadugib.ttf',\n",
       " 'C:\\\\Windows\\\\Fonts\\\\georgiai.ttf',\n",
       " 'C:\\\\Windows\\\\Fonts\\\\seguisym.ttf',\n",
       " 'C:\\\\Windows\\\\Fonts\\\\verdanab.ttf',\n",
       " 'C:\\\\Windows\\\\Fonts\\\\Gabriola.ttf',\n",
       " 'C:\\\\Windows\\\\Fonts\\\\seguisli.ttf',\n",
       " 'C:\\\\Windows\\\\Fonts\\\\palabi.ttf',\n",
       " 'C:\\\\Windows\\\\Fonts\\\\seguibli.ttf',\n",
       " 'C:\\\\Windows\\\\Fonts\\\\simsun.ttc',\n",
       " 'C:\\\\Windows\\\\Fonts\\\\l_10646.ttf',\n",
       " 'C:\\\\Windows\\\\Fonts\\\\JUMJA.TTF',\n",
       " 'C:\\\\Windows\\\\Fonts\\\\segoeuisl.ttf',\n",
       " 'C:\\\\Windows\\\\Fonts\\\\YuGothM.ttc',\n",
       " 'C:\\\\Windows\\\\Fonts\\\\palab.ttf',\n",
       " 'C:\\\\Windows\\\\Fonts\\\\msjhl.ttc',\n",
       " 'C:\\\\Windows\\\\Fonts\\\\comicz.ttf',\n",
       " 'C:\\\\Windows\\\\Fonts\\\\constanz.ttf',\n",
       " 'C:\\\\Windows\\\\Fonts\\\\palai.ttf',\n",
       " 'C:\\\\Windows\\\\Fonts\\\\seguiemj.ttf',\n",
       " 'C:\\\\Windows\\\\Fonts\\\\consolab.ttf',\n",
       " 'C:\\\\Windows\\\\Fonts\\\\simsunb.ttf',\n",
       " 'C:\\\\Windows\\\\Fonts\\\\georgia.ttf',\n",
       " 'C:\\\\Windows\\\\Fonts\\\\corbelz.ttf',\n",
       " 'C:\\\\Windows\\\\Fonts\\\\YuGothB.ttc',\n",
       " 'C:\\\\Windows\\\\Fonts\\\\courbi.ttf',\n",
       " 'C:\\\\Windows\\\\Fonts\\\\HYHWPEQ.TTF',\n",
       " 'C:\\\\Windows\\\\Fonts\\\\pala.ttf',\n",
       " 'C:\\\\Windows\\\\Fonts\\\\corbell.ttf',\n",
       " 'C:\\\\Windows\\\\Fonts\\\\Candaral.ttf',\n",
       " 'C:\\\\Windows\\\\Fonts\\\\mvboli.ttf',\n",
       " 'C:\\\\Windows\\\\Fonts\\\\msyh.ttc',\n",
       " 'C:\\\\Windows\\\\Fonts\\\\lucon.ttf',\n",
       " 'C:\\\\Windows\\\\Fonts\\\\segmdl2.ttf',\n",
       " 'C:\\\\Windows\\\\Fonts\\\\arialbi.ttf',\n",
       " 'C:\\\\Windows\\\\Fonts\\\\timesi.ttf',\n",
       " 'C:\\\\Windows\\\\Fonts\\\\msyhbd.ttc',\n",
       " 'C:\\\\Windows\\\\Fonts\\\\HANDotum.ttf',\n",
       " 'C:\\\\Windows\\\\Fonts\\\\georgiaz.ttf',\n",
       " 'C:\\\\Windows\\\\Fonts\\\\cour.ttf',\n",
       " 'C:\\\\Windows\\\\Fonts\\\\tahomabd.ttf',\n",
       " 'C:\\\\Windows\\\\Fonts\\\\constanb.ttf',\n",
       " 'C:\\\\Windows\\\\Fonts\\\\calibrii.ttf',\n",
       " 'C:\\\\Windows\\\\Fonts\\\\YuGothR.ttc',\n",
       " 'C:\\\\Windows\\\\Fonts\\\\gulim.ttc',\n",
       " 'C:\\\\Windows\\\\Fonts\\\\consola.ttf',\n",
       " 'C:\\\\Windows\\\\Fonts\\\\segoesc.ttf',\n",
       " 'C:\\\\Windows\\\\Fonts\\\\mmrtextb.ttf',\n",
       " 'C:\\\\Windows\\\\Fonts\\\\holomdl2.ttf',\n",
       " 'C:\\\\Windows\\\\Fonts\\\\georgiab.ttf',\n",
       " 'C:\\\\Windows\\\\Fonts\\\\constan.ttf',\n",
       " 'C:\\\\Windows\\\\Fonts\\\\calibriz.ttf',\n",
       " 'C:\\\\Windows\\\\Fonts\\\\malgunbd.ttf',\n",
       " 'C:\\\\Windows\\\\Fonts\\\\cambriai.ttf',\n",
       " 'C:\\\\Windows\\\\Fonts\\\\msjhbd.ttc',\n",
       " 'C:\\\\Windows\\\\Fonts\\\\seguili.ttf',\n",
       " 'C:\\\\Windows\\\\Fonts\\\\Candarab.ttf',\n",
       " 'C:\\\\Windows\\\\Fonts\\\\framdit.ttf',\n",
       " 'C:\\\\Windows\\\\Fonts\\\\cambriab.ttf',\n",
       " 'C:\\\\Windows\\\\Fonts\\\\calibri.ttf',\n",
       " 'C:\\\\Windows\\\\Fonts\\\\verdanaz.ttf',\n",
       " 'C:\\\\Windows\\\\Fonts\\\\corbelb.ttf',\n",
       " 'C:\\\\Windows\\\\Fonts\\\\ntailub.ttf',\n",
       " 'C:\\\\Windows\\\\Fonts\\\\cambria.ttc',\n",
       " 'C:\\\\Windows\\\\Fonts\\\\malgun.ttf',\n",
       " 'C:\\\\Windows\\\\Fonts\\\\timesbd.ttf',\n",
       " 'C:\\\\Windows\\\\Fonts\\\\verdanai.ttf',\n",
       " 'C:\\\\Windows\\\\Fonts\\\\segoeui.ttf',\n",
       " 'C:\\\\Windows\\\\Fonts\\\\calibril.ttf',\n",
       " 'C:\\\\Windows\\\\Fonts\\\\msgothic.ttc',\n",
       " 'C:\\\\Windows\\\\Fonts\\\\phagspa.ttf',\n",
       " 'C:\\\\Windows\\\\Fonts\\\\HANBatang.ttf',\n",
       " 'C:\\\\Windows\\\\Fonts\\\\NirmalaS.ttf',\n",
       " 'C:\\\\Windows\\\\Fonts\\\\segoepr.ttf',\n",
       " 'C:\\\\Windows\\\\Fonts\\\\bahnschrift.ttf',\n",
       " 'C:\\\\Windows\\\\Fonts\\\\YuGothL.ttc',\n",
       " 'C:\\\\Windows\\\\Fonts\\\\ariali.ttf',\n",
       " 'C:\\\\Windows\\\\Fonts\\\\webdings.ttf',\n",
       " 'C:\\\\Windows\\\\Fonts\\\\batang.ttc',\n",
       " 'C:\\\\Windows\\\\Fonts\\\\corbeli.ttf',\n",
       " 'C:\\\\Windows\\\\Fonts\\\\segoeuii.ttf',\n",
       " 'C:\\\\Windows\\\\Fonts\\\\SitkaI.ttc',\n",
       " 'C:\\\\Windows\\\\Fonts\\\\impact.ttf',\n",
       " 'C:\\\\Windows\\\\Fonts\\\\arial.ttf',\n",
       " 'C:\\\\Windows\\\\Fonts\\\\himalaya.ttf',\n",
       " 'C:\\\\Windows\\\\Fonts\\\\segoeuib.ttf',\n",
       " 'C:\\\\Windows\\\\Fonts\\\\LeelawUI.ttf',\n",
       " 'C:\\\\Windows\\\\Fonts\\\\Inkfree.ttf',\n",
       " 'C:\\\\Windows\\\\Fonts\\\\consolai.ttf',\n",
       " 'C:\\\\Windows\\\\Fonts\\\\calibrib.ttf',\n",
       " 'C:\\\\Windows\\\\Fonts\\\\consolaz.ttf',\n",
       " 'C:\\\\Windows\\\\Fonts\\\\seguihis.ttf',\n",
       " 'C:\\\\Windows\\\\Fonts\\\\tahoma.ttf',\n",
       " 'C:\\\\Windows\\\\Fonts\\\\msjh.ttc',\n",
       " 'C:\\\\Windows\\\\Fonts\\\\trebuc.ttf',\n",
       " 'C:\\\\Windows\\\\Fonts\\\\LeelUIsl.ttf',\n",
       " 'C:\\\\Windows\\\\Fonts\\\\javatext.ttf']"
      ]
     },
     "execution_count": 79,
     "metadata": {},
     "output_type": "execute_result"
    }
   ],
   "source": [
    "from matplotlib import font_manager as fm\n",
    "sys_font= fm.findSystemFonts()\n",
    "[f for f in sys_font]"
   ]
  },
  {
   "cell_type": "code",
   "execution_count": 80,
   "id": "ef5af188",
   "metadata": {
    "slideshow": {
     "slide_type": "subslide"
    }
   },
   "outputs": [
    {
     "name": "stderr",
     "output_type": "stream",
     "text": [
      "C:\\Users\\dgbfg\\anaconda3\\Lib\\site-packages\\wordcloud\\wordcloud.py:106: MatplotlibDeprecationWarning: The get_cmap function was deprecated in Matplotlib 3.7 and will be removed two minor releases later. Use ``matplotlib.colormaps[name]`` or ``matplotlib.colormaps.get_cmap(obj)`` instead.\n",
      "  self.colormap = plt.cm.get_cmap(colormap)\n"
     ]
    },
    {
     "data": {
      "text/plain": [
       "(-0.5, 499.5, 399.5, -0.5)"
      ]
     },
     "execution_count": 80,
     "metadata": {},
     "output_type": "execute_result"
    },
    {
     "data": {
      "image/png": "[encoded data removed]",
      "text/plain": [
       "<Figure size 700x700 with 1 Axes>"
      ]
     },
     "metadata": {},
     "output_type": "display_data"
    }
   ],
   "source": [
    "# 워드클라우드\n",
    "plt.rcParams['figure.figsize']=(7,7)\n",
    "# plt.rc('figure',figsize=(15,15))\n",
    "plt.rcParams['axes.unicode_minus']=False\n",
    "# plt.rc('axes',unicode_minus=False)\n",
    "FONT_PATH='C:\\\\Windows\\\\Fonts\\\\malgun.ttf'\n",
    "wordcloud = WordCloud(font_path=FONT_PATH,background_color='white',width=500,height=400,\n",
    "                      max_words=5,max_font_size=100,relative_scaling=0.5)\n",
    "wordcloud.generate(str(df_all['생명보험협회상품종류']))\n",
    "plt.imshow(wordcloud)\n",
    "plt.axis('off')"
   ]
  },
  {
   "cell_type": "code",
   "execution_count": 81,
   "id": "f56abbc3",
   "metadata": {
    "slideshow": {
     "slide_type": "subslide"
    }
   },
   "outputs": [
    {
     "data": {
      "text/plain": [
       "계약자주민번호        생명보험협회상품종류\n",
       "******         저축보험          2041\n",
       "               정기보험           345\n",
       "               연금보험           332\n",
       "               암보험            307\n",
       "               종신보험           280\n",
       "                             ... \n",
       "9912311******  종신보험             5\n",
       "               연금보험             1\n",
       "9912312******  종신보험             3\n",
       "               실손보험             2\n",
       "               연금보험             1\n",
       "Name: 생명보험협회상품종류, Length: 336956, dtype: int64"
      ]
     },
     "execution_count": 81,
     "metadata": {},
     "output_type": "execute_result"
    }
   ],
   "source": [
    "# 그룹화 적용시도\n",
    "df_all.groupby(by=['계약자주민번호'],as_index=True).생명보험협회상품종류.value_counts()"
   ]
  },
  {
   "cell_type": "code",
   "execution_count": 82,
   "id": "b9acdcb9",
   "metadata": {
    "slideshow": {
     "slide_type": "subslide"
    }
   },
   "outputs": [],
   "source": [
    "# 이상치 제거\n",
    "combined=[]\n",
    "for i in zip(df_all['계약자주민번호'] == '******',\n",
    "             df_all['계약자주민번호'] == '0000000******'):\n",
    "    combined.append(any(i))\n",
    "\n",
    "# df_all[combined]['계약자주민번호'].value_counts()\n",
    "df_all.drop(df_all[combined].index, axis=0, inplace=True)"
   ]
  },
  {
   "cell_type": "code",
   "execution_count": 83,
   "id": "d076ecae",
   "metadata": {
    "slideshow": {
     "slide_type": "subslide"
    }
   },
   "outputs": [],
   "source": [
    "# 연관분석 함수에 적용되는 구조로 변환(pivot_table) 및 논리값(bool)으로 변환\n",
    "pd.pivot_table(df_all,values=['증권번호'],index=['계약자주민번호'],columns=['생명보험협회상품종류'],\\\n",
    "               aggfunc=lambda x:x.count()>0,fill_value=False)\n",
    "df_all_pivoted=pd.pivot_table(df_all,values=['증권번호'],index=['계약자주민번호'],columns=['생명보험협회상품종류'],\\\n",
    "                              aggfunc=lambda x:x.count()>0,fill_value=False)"
   ]
  },
  {
   "cell_type": "code",
   "execution_count": 84,
   "id": "23e200ff",
   "metadata": {
    "slideshow": {
     "slide_type": "subslide"
    }
   },
   "outputs": [],
   "source": [
    "# 연관분석 함수에 적용되는 구조로 재변환(xs)\n",
    "df_all_pivoted = df_all_pivoted.xs('증권번호',axis=1)\n",
    "# df_all_pivoted.columns"
   ]
  },
  {
   "cell_type": "code",
   "execution_count": 85,
   "id": "2b277764",
   "metadata": {
    "slideshow": {
     "slide_type": "skip"
    }
   },
   "outputs": [
    {
     "name": "stdout",
     "output_type": "stream",
     "text": [
      "Requirement already satisfied: mlxtend in c:\\users\\dgbfg\\anaconda3\\lib\\site-packages (0.23.0)\n",
      "Requirement already satisfied: scipy>=1.2.1 in c:\\users\\dgbfg\\anaconda3\\lib\\site-packages (from mlxtend) (1.11.1)\n",
      "Requirement already satisfied: numpy>=1.16.2 in c:\\users\\dgbfg\\anaconda3\\lib\\site-packages (from mlxtend) (1.24.3)\n",
      "Requirement already satisfied: pandas>=0.24.2 in c:\\users\\dgbfg\\anaconda3\\lib\\site-packages (from mlxtend) (1.5.3)\n",
      "Requirement already satisfied: scikit-learn>=1.0.2 in c:\\users\\dgbfg\\anaconda3\\lib\\site-packages (from mlxtend) (1.3.0)\n",
      "Requirement already satisfied: matplotlib>=3.0.0 in c:\\users\\dgbfg\\anaconda3\\lib\\site-packages (from mlxtend) (3.7.1)\n",
      "Requirement already satisfied: joblib>=0.13.2 in c:\\users\\dgbfg\\anaconda3\\lib\\site-packages (from mlxtend) (1.2.0)\n",
      "Requirement already satisfied: contourpy>=1.0.1 in c:\\users\\dgbfg\\anaconda3\\lib\\site-packages (from matplotlib>=3.0.0->mlxtend) (1.0.5)\n",
      "Requirement already satisfied: cycler>=0.10 in c:\\users\\dgbfg\\anaconda3\\lib\\site-packages (from matplotlib>=3.0.0->mlxtend) (0.11.0)\n",
      "Requirement already satisfied: fonttools>=4.22.0 in c:\\users\\dgbfg\\anaconda3\\lib\\site-packages (from matplotlib>=3.0.0->mlxtend) (4.25.0)\n",
      "Requirement already satisfied: kiwisolver>=1.0.1 in c:\\users\\dgbfg\\anaconda3\\lib\\site-packages (from matplotlib>=3.0.0->mlxtend) (1.4.4)\n",
      "Requirement already satisfied: packaging>=20.0 in c:\\users\\dgbfg\\anaconda3\\lib\\site-packages (from matplotlib>=3.0.0->mlxtend) (23.0)\n",
      "Requirement already satisfied: pillow>=6.2.0 in c:\\users\\dgbfg\\anaconda3\\lib\\site-packages (from matplotlib>=3.0.0->mlxtend) (9.4.0)\n",
      "Requirement already satisfied: pyparsing>=2.3.1 in c:\\users\\dgbfg\\anaconda3\\lib\\site-packages (from matplotlib>=3.0.0->mlxtend) (3.0.9)\n",
      "Requirement already satisfied: python-dateutil>=2.7 in c:\\users\\dgbfg\\anaconda3\\lib\\site-packages (from matplotlib>=3.0.0->mlxtend) (2.8.2)\n",
      "Requirement already satisfied: pytz>=2020.1 in c:\\users\\dgbfg\\anaconda3\\lib\\site-packages (from pandas>=0.24.2->mlxtend) (2022.7)\n",
      "Requirement already satisfied: threadpoolctl>=2.0.0 in c:\\users\\dgbfg\\anaconda3\\lib\\site-packages (from scikit-learn>=1.0.2->mlxtend) (2.2.0)\n",
      "Requirement already satisfied: six>=1.5 in c:\\users\\dgbfg\\anaconda3\\lib\\site-packages (from python-dateutil>=2.7->matplotlib>=3.0.0->mlxtend) (1.16.0)\n"
     ]
    }
   ],
   "source": [
    "!pip install mlxtend"
   ]
  },
  {
   "cell_type": "markdown",
   "id": "3a6fb96b",
   "metadata": {
    "slideshow": {
     "slide_type": "slide"
    }
   },
   "source": [
    "## 연관규칙분석\n",
    "\n",
    "* __지지도(support)__  \n",
    ">동시에 포함된 거래의 비율, _p(A∩B)_\n",
    "\n",
    "\n",
    "* __신뢰도(confidence)__  \n",
    ">어떤 하나의 품목이 구매되었을 때 다른 품목 하나가 구매될 확률, _p(B|A) = p(A∩B)/p(A)_\n",
    "\n",
    "\n",
    "* __향상도(lift)__  \n",
    ">품목A가 주어지지 않았을 때 품목B가 구매될 확률 대비 품목A가 구매될 때 품목B가 구매될 확률, _p(B|A)/p(B)_"
   ]
  },
  {
   "cell_type": "markdown",
   "id": "61705736",
   "metadata": {
    "slideshow": {
     "slide_type": "slide"
    }
   },
   "source": [
    "### 3.모델링"
   ]
  },
  {
   "cell_type": "code",
   "execution_count": 86,
   "id": "da0c41f7",
   "metadata": {
    "slideshow": {
     "slide_type": "fragment"
    }
   },
   "outputs": [
    {
     "data": {
      "text/html": [
       "<div>\n",
       "<style scoped>\n",
       "    .dataframe tbody tr th:only-of-type {\n",
       "        vertical-align: middle;\n",
       "    }\n",
       "\n",
       "    .dataframe tbody tr th {\n",
       "        vertical-align: top;\n",
       "    }\n",
       "\n",
       "    .dataframe thead th {\n",
       "        text-align: right;\n",
       "    }\n",
       "</style>\n",
       "<table border=\"1\" class=\"dataframe\">\n",
       "  <thead>\n",
       "    <tr style=\"text-align: right;\">\n",
       "      <th></th>\n",
       "      <th>support</th>\n",
       "      <th>itemsets</th>\n",
       "    </tr>\n",
       "  </thead>\n",
       "  <tbody>\n",
       "    <tr>\n",
       "      <th>5</th>\n",
       "      <td>0.734214</td>\n",
       "      <td>(연금보험)</td>\n",
       "    </tr>\n",
       "    <tr>\n",
       "      <th>6</th>\n",
       "      <td>0.711479</td>\n",
       "      <td>(저축보험)</td>\n",
       "    </tr>\n",
       "    <tr>\n",
       "      <th>8</th>\n",
       "      <td>0.606198</td>\n",
       "      <td>(종신보험)</td>\n",
       "    </tr>\n",
       "    <tr>\n",
       "      <th>34</th>\n",
       "      <td>0.559597</td>\n",
       "      <td>(연금보험, 저축보험)</td>\n",
       "    </tr>\n",
       "    <tr>\n",
       "      <th>36</th>\n",
       "      <td>0.534752</td>\n",
       "      <td>(연금보험, 종신보험)</td>\n",
       "    </tr>\n",
       "    <tr>\n",
       "      <th>...</th>\n",
       "      <td>...</td>\n",
       "      <td>...</td>\n",
       "    </tr>\n",
       "    <tr>\n",
       "      <th>105</th>\n",
       "      <td>0.302510</td>\n",
       "      <td>(정기보험, 건강보험, 상해보험, 저축보험)</td>\n",
       "    </tr>\n",
       "    <tr>\n",
       "      <th>162</th>\n",
       "      <td>0.302327</td>\n",
       "      <td>(상해보험, 저축보험, 암보험, 연금보험, 종신보험)</td>\n",
       "    </tr>\n",
       "    <tr>\n",
       "      <th>104</th>\n",
       "      <td>0.301486</td>\n",
       "      <td>(연금보험, 건강보험, 상해보험, 정기보험)</td>\n",
       "    </tr>\n",
       "    <tr>\n",
       "      <th>26</th>\n",
       "      <td>0.300187</td>\n",
       "      <td>(암보험, 어린이보험)</td>\n",
       "    </tr>\n",
       "    <tr>\n",
       "      <th>163</th>\n",
       "      <td>0.300125</td>\n",
       "      <td>(상해보험, 저축보험, 정기보험, 연금보험, 종신보험)</td>\n",
       "    </tr>\n",
       "  </tbody>\n",
       "</table>\n",
       "<p>173 rows × 2 columns</p>\n",
       "</div>"
      ],
      "text/plain": [
       "      support                        itemsets\n",
       "5    0.734214                          (연금보험)\n",
       "6    0.711479                          (저축보험)\n",
       "8    0.606198                          (종신보험)\n",
       "34   0.559597                    (연금보험, 저축보험)\n",
       "36   0.534752                    (연금보험, 종신보험)\n",
       "..        ...                             ...\n",
       "105  0.302510        (정기보험, 건강보험, 상해보험, 저축보험)\n",
       "162  0.302327   (상해보험, 저축보험, 암보험, 연금보험, 종신보험)\n",
       "104  0.301486        (연금보험, 건강보험, 상해보험, 정기보험)\n",
       "26   0.300187                    (암보험, 어린이보험)\n",
       "163  0.300125  (상해보험, 저축보험, 정기보험, 연금보험, 종신보험)\n",
       "\n",
       "[173 rows x 2 columns]"
      ]
     },
     "execution_count": 86,
     "metadata": {},
     "output_type": "execute_result"
    }
   ],
   "source": [
    "# 연관분석 첫번째함수(apriori) 적용\n",
    "from mlxtend.frequent_patterns import apriori, association_rules\n",
    "\n",
    "freq_items_apriori = apriori(df_all_pivoted, min_support=0.3, use_colnames=True)\n",
    "freq_items_apriori.sort_values('support',ascending=False)"
   ]
  },
  {
   "cell_type": "code",
   "execution_count": 87,
   "id": "ba709fee",
   "metadata": {
    "slideshow": {
     "slide_type": "subslide"
    }
   },
   "outputs": [
    {
     "data": {
      "text/html": [
       "<div>\n",
       "<style scoped>\n",
       "    .dataframe tbody tr th:only-of-type {\n",
       "        vertical-align: middle;\n",
       "    }\n",
       "\n",
       "    .dataframe tbody tr th {\n",
       "        vertical-align: top;\n",
       "    }\n",
       "\n",
       "    .dataframe thead th {\n",
       "        text-align: right;\n",
       "    }\n",
       "</style>\n",
       "<table border=\"1\" class=\"dataframe\">\n",
       "  <thead>\n",
       "    <tr style=\"text-align: right;\">\n",
       "      <th></th>\n",
       "      <th>support</th>\n",
       "      <th>itemsets</th>\n",
       "      <th>length</th>\n",
       "    </tr>\n",
       "  </thead>\n",
       "  <tbody>\n",
       "    <tr>\n",
       "      <th>5</th>\n",
       "      <td>0.734214</td>\n",
       "      <td>(연금보험)</td>\n",
       "      <td>1</td>\n",
       "    </tr>\n",
       "    <tr>\n",
       "      <th>6</th>\n",
       "      <td>0.711479</td>\n",
       "      <td>(저축보험)</td>\n",
       "      <td>1</td>\n",
       "    </tr>\n",
       "    <tr>\n",
       "      <th>8</th>\n",
       "      <td>0.606198</td>\n",
       "      <td>(종신보험)</td>\n",
       "      <td>1</td>\n",
       "    </tr>\n",
       "    <tr>\n",
       "      <th>34</th>\n",
       "      <td>0.559597</td>\n",
       "      <td>(연금보험, 저축보험)</td>\n",
       "      <td>2</td>\n",
       "    </tr>\n",
       "    <tr>\n",
       "      <th>36</th>\n",
       "      <td>0.534752</td>\n",
       "      <td>(연금보험, 종신보험)</td>\n",
       "      <td>2</td>\n",
       "    </tr>\n",
       "    <tr>\n",
       "      <th>...</th>\n",
       "      <td>...</td>\n",
       "      <td>...</td>\n",
       "      <td>...</td>\n",
       "    </tr>\n",
       "    <tr>\n",
       "      <th>32</th>\n",
       "      <td>0.309115</td>\n",
       "      <td>(어린이보험, 저축보험)</td>\n",
       "      <td>2</td>\n",
       "    </tr>\n",
       "    <tr>\n",
       "      <th>48</th>\n",
       "      <td>0.305660</td>\n",
       "      <td>(정기보험, 건강보험, 상해보험)</td>\n",
       "      <td>3</td>\n",
       "    </tr>\n",
       "    <tr>\n",
       "      <th>86</th>\n",
       "      <td>0.303917</td>\n",
       "      <td>(연금보험, 어린이보험, 종신보험)</td>\n",
       "      <td>3</td>\n",
       "    </tr>\n",
       "    <tr>\n",
       "      <th>85</th>\n",
       "      <td>0.303672</td>\n",
       "      <td>(연금보험, 어린이보험, 저축보험)</td>\n",
       "      <td>3</td>\n",
       "    </tr>\n",
       "    <tr>\n",
       "      <th>26</th>\n",
       "      <td>0.300187</td>\n",
       "      <td>(암보험, 어린이보험)</td>\n",
       "      <td>2</td>\n",
       "    </tr>\n",
       "  </tbody>\n",
       "</table>\n",
       "<p>91 rows × 3 columns</p>\n",
       "</div>"
      ],
      "text/plain": [
       "     support             itemsets  length\n",
       "5   0.734214               (연금보험)       1\n",
       "6   0.711479               (저축보험)       1\n",
       "8   0.606198               (종신보험)       1\n",
       "34  0.559597         (연금보험, 저축보험)       2\n",
       "36  0.534752         (연금보험, 종신보험)       2\n",
       "..       ...                  ...     ...\n",
       "32  0.309115        (어린이보험, 저축보험)       2\n",
       "48  0.305660   (정기보험, 건강보험, 상해보험)       3\n",
       "86  0.303917  (연금보험, 어린이보험, 종신보험)       3\n",
       "85  0.303672  (연금보험, 어린이보험, 저축보험)       3\n",
       "26  0.300187         (암보험, 어린이보험)       2\n",
       "\n",
       "[91 rows x 3 columns]"
      ]
     },
     "execution_count": 87,
     "metadata": {},
     "output_type": "execute_result"
    }
   ],
   "source": [
    "# 구성item 개수 열 추가\n",
    "freq_items_apriori['length'] = freq_items_apriori['itemsets'].apply( lambda x:len(x) ) # map,transform 사용가능\n",
    "freq_items_apriori = freq_items_apriori[ freq_items_apriori['length']<=3]\n",
    "freq_items_apriori.sort_values('support',ascending=False)"
   ]
  },
  {
   "cell_type": "code",
   "execution_count": 88,
   "id": "073be2b5",
   "metadata": {
    "slideshow": {
     "slide_type": "subslide"
    }
   },
   "outputs": [
    {
     "data": {
      "text/html": [
       "<div>\n",
       "<style scoped>\n",
       "    .dataframe tbody tr th:only-of-type {\n",
       "        vertical-align: middle;\n",
       "    }\n",
       "\n",
       "    .dataframe tbody tr th {\n",
       "        vertical-align: top;\n",
       "    }\n",
       "\n",
       "    .dataframe thead th {\n",
       "        text-align: right;\n",
       "    }\n",
       "</style>\n",
       "<table border=\"1\" class=\"dataframe\">\n",
       "  <thead>\n",
       "    <tr style=\"text-align: right;\">\n",
       "      <th></th>\n",
       "      <th>antecedents</th>\n",
       "      <th>consequents</th>\n",
       "      <th>support</th>\n",
       "      <th>confidence</th>\n",
       "      <th>lift</th>\n",
       "    </tr>\n",
       "  </thead>\n",
       "  <tbody>\n",
       "    <tr>\n",
       "      <th>226</th>\n",
       "      <td>(정기보험)</td>\n",
       "      <td>(종신보험, 기타보험)</td>\n",
       "      <td>0.336865</td>\n",
       "      <td>0.676710</td>\n",
       "      <td>1.905908</td>\n",
       "    </tr>\n",
       "    <tr>\n",
       "      <th>225</th>\n",
       "      <td>(종신보험, 기타보험)</td>\n",
       "      <td>(정기보험)</td>\n",
       "      <td>0.336865</td>\n",
       "      <td>0.948758</td>\n",
       "      <td>1.905908</td>\n",
       "    </tr>\n",
       "    <tr>\n",
       "      <th>86</th>\n",
       "      <td>(건강보험)</td>\n",
       "      <td>(기타보험, 종신보험)</td>\n",
       "      <td>0.332156</td>\n",
       "      <td>0.675256</td>\n",
       "      <td>1.901812</td>\n",
       "    </tr>\n",
       "    <tr>\n",
       "      <th>85</th>\n",
       "      <td>(기타보험, 종신보험)</td>\n",
       "      <td>(건강보험)</td>\n",
       "      <td>0.332156</td>\n",
       "      <td>0.935495</td>\n",
       "      <td>1.901812</td>\n",
       "    </tr>\n",
       "    <tr>\n",
       "      <th>108</th>\n",
       "      <td>(정기보험)</td>\n",
       "      <td>(건강보험, 상해보험)</td>\n",
       "      <td>0.305660</td>\n",
       "      <td>0.614024</td>\n",
       "      <td>1.901645</td>\n",
       "    </tr>\n",
       "    <tr>\n",
       "      <th>...</th>\n",
       "      <td>...</td>\n",
       "      <td>...</td>\n",
       "      <td>...</td>\n",
       "      <td>...</td>\n",
       "      <td>...</td>\n",
       "    </tr>\n",
       "    <tr>\n",
       "      <th>332</th>\n",
       "      <td>(연금보험, 종신보험)</td>\n",
       "      <td>(저축보험)</td>\n",
       "      <td>0.455478</td>\n",
       "      <td>0.851755</td>\n",
       "      <td>1.197162</td>\n",
       "    </tr>\n",
       "    <tr>\n",
       "      <th>56</th>\n",
       "      <td>(저축보험)</td>\n",
       "      <td>(종신보험)</td>\n",
       "      <td>0.472770</td>\n",
       "      <td>0.664489</td>\n",
       "      <td>1.096158</td>\n",
       "    </tr>\n",
       "    <tr>\n",
       "      <th>55</th>\n",
       "      <td>(종신보험)</td>\n",
       "      <td>(저축보험)</td>\n",
       "      <td>0.472770</td>\n",
       "      <td>0.779894</td>\n",
       "      <td>1.096158</td>\n",
       "    </tr>\n",
       "    <tr>\n",
       "      <th>47</th>\n",
       "      <td>(연금보험)</td>\n",
       "      <td>(저축보험)</td>\n",
       "      <td>0.559597</td>\n",
       "      <td>0.762172</td>\n",
       "      <td>1.071249</td>\n",
       "    </tr>\n",
       "    <tr>\n",
       "      <th>48</th>\n",
       "      <td>(저축보험)</td>\n",
       "      <td>(연금보험)</td>\n",
       "      <td>0.559597</td>\n",
       "      <td>0.786526</td>\n",
       "      <td>1.071249</td>\n",
       "    </tr>\n",
       "  </tbody>\n",
       "</table>\n",
       "<p>350 rows × 5 columns</p>\n",
       "</div>"
      ],
      "text/plain": [
       "      antecedents   consequents   support  confidence      lift\n",
       "226        (정기보험)  (종신보험, 기타보험)  0.336865    0.676710  1.905908\n",
       "225  (종신보험, 기타보험)        (정기보험)  0.336865    0.948758  1.905908\n",
       "86         (건강보험)  (기타보험, 종신보험)  0.332156    0.675256  1.901812\n",
       "85   (기타보험, 종신보험)        (건강보험)  0.332156    0.935495  1.901812\n",
       "108        (정기보험)  (건강보험, 상해보험)  0.305660    0.614024  1.901645\n",
       "..            ...           ...       ...         ...       ...\n",
       "332  (연금보험, 종신보험)        (저축보험)  0.455478    0.851755  1.197162\n",
       "56         (저축보험)        (종신보험)  0.472770    0.664489  1.096158\n",
       "55         (종신보험)        (저축보험)  0.472770    0.779894  1.096158\n",
       "47         (연금보험)        (저축보험)  0.559597    0.762172  1.071249\n",
       "48         (저축보험)        (연금보험)  0.559597    0.786526  1.071249\n",
       "\n",
       "[350 rows x 5 columns]"
      ]
     },
     "execution_count": 88,
     "metadata": {},
     "output_type": "execute_result"
    }
   ],
   "source": [
    "# 연관분석 두번째함수(association_rules) 적용\n",
    "freq_items_apr_ar=association_rules(freq_items_apriori,metric='confidence', min_threshold=0.5)\n",
    "freq_items_apr_ar.sort_values('lift',ascending=False).iloc[:,[0,1,4,5,6]]"
   ]
  }
 ],
 "metadata": {
  "kernelspec": {
   "display_name": "Python 3 (ipykernel)",
   "language": "python",
   "name": "python3"
  },
  "language_info": {
   "codemirror_mode": {
    "name": "ipython",
    "version": 3
   },
   "file_extension": ".py",
   "mimetype": "text/x-python",
   "name": "python",
   "nbconvert_exporter": "python",
   "pygments_lexer": "ipython3",
   "version": "3.11.4"
  }
 },
 "nbformat": 4,
 "nbformat_minor": 5
}
